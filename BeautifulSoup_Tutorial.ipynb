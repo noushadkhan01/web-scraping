{
  "nbformat": 4,
  "nbformat_minor": 0,
  "metadata": {
    "colab": {
      "name": "BeautifulSoup Tutorial.ipynb",
      "provenance": [],
      "authorship_tag": "ABX9TyOgNGU4IogoskM5g56lqLbT",
      "include_colab_link": true
    },
    "kernelspec": {
      "name": "python3",
      "display_name": "Python 3"
    }
  },
  "cells": [
    {
      "cell_type": "markdown",
      "metadata": {
        "id": "view-in-github",
        "colab_type": "text"
      },
      "source": [
        "<a href=\"https://colab.research.google.com/github/noushadkhan01/web-scraping/blob/master/BeautifulSoup_Tutorial.ipynb\" target=\"_parent\"><img src=\"https://colab.research.google.com/assets/colab-badge.svg\" alt=\"Open In Colab\"/></a>"
      ]
    },
    {
      "cell_type": "code",
      "metadata": {
        "id": "vPhpfaR_cHAi",
        "colab_type": "code",
        "colab": {}
      },
      "source": [
        "url = 'https://pythonprogramming.net/parsememcparseface/'"
      ],
      "execution_count": 0,
      "outputs": []
    },
    {
      "cell_type": "code",
      "metadata": {
        "id": "O-K-RHkDfk-3",
        "colab_type": "code",
        "colab": {}
      },
      "source": [
        "import requests"
      ],
      "execution_count": 0,
      "outputs": []
    },
    {
      "cell_type": "code",
      "metadata": {
        "id": "wmK4NLhwfnRt",
        "colab_type": "code",
        "colab": {}
      },
      "source": [
        "from bs4 import BeautifulSoup"
      ],
      "execution_count": 0,
      "outputs": []
    },
    {
      "cell_type": "code",
      "metadata": {
        "id": "wSQQi3IOfqzA",
        "colab_type": "code",
        "colab": {}
      },
      "source": [
        "from urllib import request"
      ],
      "execution_count": 0,
      "outputs": []
    },
    {
      "cell_type": "code",
      "metadata": {
        "id": "XvOhl-EFf1u0",
        "colab_type": "code",
        "outputId": "c3c8d572-2f7d-4a2b-bd59-3c675973e0cb",
        "colab": {
          "base_uri": "https://localhost:8080/",
          "height": 34
        }
      },
      "source": [
        "html = requests.get(url)\n",
        "html"
      ],
      "execution_count": 0,
      "outputs": [
        {
          "output_type": "execute_result",
          "data": {
            "text/plain": [
              "<Response [200]>"
            ]
          },
          "metadata": {
            "tags": []
          },
          "execution_count": 5
        }
      ]
    },
    {
      "cell_type": "code",
      "metadata": {
        "id": "1CZeyQS3f6cO",
        "colab_type": "code",
        "outputId": "503a3a26-8ffa-4437-9c18-410e80df9f3c",
        "colab": {
          "base_uri": "https://localhost:8080/",
          "height": 54
        }
      },
      "source": [
        "print(html.content)"
      ],
      "execution_count": 0,
      "outputs": [
        {
          "output_type": "stream",
          "text": [
            "b'<html>\\n\\t<head>\\n\\n\\t\\t<!--\\n\\t\\tpalette:\\n\\t\\tdark blue: #003F72\\n\\t\\tyellow: #FFD166\\n\\t\\tsalmon: #EF476F\\n\\t\\toffwhite: #e7d7d7\\n\\t\\tLight Blue: #118AB2\\n\\t\\tLight green: #7DDF64\\n\\t\\t-->\\n\\n\\t\\t<meta name=\"viewport\" content = \"width=device-width, initial-scale=1.0\">\\n\\t\\t<title>Python Programming Tutorials</title>\\n\\n\\t\\t<meta name=\"description\" content=\"Python Programming tutorials from beginner to advanced on a massive variety of topics. All video and text tutorials are free.\">\\n\\n\\t\\t<link rel=\"shortcut icon\" href=\"/static/favicon.ico\">\\n\\t\\t<link rel=\"stylesheet\" href=\"/static/css/materialize.min.css\">\\n        <link href=\"https://fonts.googleapis.com/icon?family=Material+Icons\" rel=\"stylesheet\">\\n        <meta name=\"google-site-verification\" content=\"3fLok05gk5gGtWd_VSXbSSSH27F2kr1QqcxYz9vYq2k\" />\\n        <link rel=\"stylesheet\" type=\"text/css\" href=\"/static/css/bootstrap.css\">\\n\\n\\n\\t\\t  <!-- Compiled and minified CSS -->\\n\\n\\t\\t<!-- Compiled and minified JavaScript -->\\n\\n\\t\\t<script src=\"https://code.jquery.com/jquery-2.1.4.min.js\"></script>\\n\\t\\t<script src=\"https://cdnjs.cloudflare.com/ajax/libs/materialize/0.97.3/js/materialize.min.js\"></script>\\n\\n\\n\\n        <style>\\n\\t\\t@media (min-width:992px) {\\n\\t\\t#aside {\\n\\t\\t\\twidth:250px;\\n\\t\\t}\\n\\t\\tpre { tab-size: 4;}\\n\\t\\t.btn {background-color:#FFD166;\\n\\t\\t\\t  color:#000;\\n\\t\\t      height:auto;\\n\\t\\t\\t  font-color:#000;\\n\\t\\t\\t  }\\n\\t\\t.btn:hover {background-color:#FFD166;\\n\\t\\t\\t\\t\\t}\\n\\n\\n\\t\\t</style>\\n\\n\\t\\t<!-- Google Tracking -->\\n\\t\\t<script>\\n\\t\\t\\t  (function(i,s,o,g,r,a,m){i[\\'GoogleAnalyticsObject\\']=r;i[r]=i[r]||function(){\\n\\t\\t\\t  (i[r].q=i[r].q||[]).push(arguments)},i[r].l=1*new Date();a=s.createElement(o),\\n\\t\\t\\t  m=s.getElementsByTagName(o)[0];a.async=1;a.src=g;m.parentNode.insertBefore(a,m)\\n\\t\\t\\t  })(window,document,\\'script\\',\\'//www.google-analytics.com/analytics.js\\',\\'ga\\');\\n              ga(\\'config\\', \\'UA-51891827-1\\', {\\'anonymize_ip\\': true});\\xef\\xbb\\xbf\\n\\t\\t\\t  ga(\\'create\\', \\'UA-51891827-1\\', \\'auto\\');\\n\\t\\t\\t  ga(\\'send\\', \\'pageview\\');\\n\\n\\t\\t</script>\\n\\n            \\n                \\n                    <script async src=\"//pagead2.googlesyndication.com/pagead/js/adsbygoogle.js\"></script>\\n                    <script>\\n                         (adsbygoogle = window.adsbygoogle || []).push({\\n                              google_ad_client: \"ca-pub-1579050400541873\",\\n                              enable_page_level_ads: true\\n                         });\\n                    </script>\\n                \\n            \\n\\n\\n\\n\\n\\t</head>\\n\\n\\t<body>\\n\\n\\t\\t<div class=\"navbar-fixed\">\\n\\t\\t\\t<nav style=\"background-color:#003F72\">\\n\\t\\t\\t\\t<div class=\"nav-wrapper container\">\\n\\t\\t\\t\\t\\t<a href=\"/\" class=\"brand-logo\"><img class=\"img-responsive\" style=\"width:50px; height;50px; margin-top:5px\" src=\"/static/images/mainlogowhitethick.jpg\"></a>\\n\\t\\t\\t\\t\\t<a href=\"#\" data-activates=\"navsidebar\" class=\"button-collapse\"><i class=\"mdi-navigation-menu\"></i></a>\\n\\t\\t\\t\\t\\t<ul class=\"right hide-on-med-and-down\">\\n\\t\\t\\t\\t\\t<li><i class=\"material-icons\">search</i></li>\\n\\t\\t\\t\\t\\t<li>\\n\\t\\t\\t\\t\\t\\t<form method=\\'get\\' id=\\'searchform\\' style=\\'height:50px; padding-top:10px\\' action=\\'/search/?l=hi\\'>\\n\\t\\t\\t\\t\\t\\t\\t<input name=\\'q\\' id=\"search\" type=\"search\" placeholder=\"search\"  style=\\'font-size:16px\\'>\\n\\t\\t\\t\\t\\t\\t</form>\\n\\t\\t\\t\\t\\t</li>\\n\\t\\t\\t\\t\\t\\t\\n\\t\\t\\t<li><a href=\"/\">Home</a></li>\\n\\t\\t\\t<li><a class=\"tooltipped\" data-position=\"bottom\" data-delay=\"50\" data-tooltip=\"sudo apt-get upgrade\" href=\"/+=1/\">+=1</a></li>\\n\\t\\t\\t<!--<li><a href=\"/store/python-hoodie/\">Store</a></li>-->\\n\\t\\t\\t<li><a href=\"/support/\">Support the Content</a></li>\\n\\t\\t\\t\\n\\t\\t\\t<li><a href=\"https://goo.gl/7zgAVQ\" target=\\'blank\\'><!--<i class=\"material-icons\">question_answer</i>-->Community</a></li>\\n\\t\\t\\t\\t<li><a href=\"/login/\">Log in</a></li>\\n                <li><a href=\"/register/\">Sign up</a></li>\\n\\t\\t\\t\\n\\n\\t\\t\\t\\t\\t</ul>\\n\\t\\t\\t\\t\\t<ul class=\"side-nav\" id=\"navsidebar\">\\n\\t\\t\\t\\t\\t<li>\\n\\t\\t\\t\\t\\t\\t<form method=\\'get\\' id=\\'searchform\\' style=\\'height:50px; padding-top:10px\\' action=\\'/search/?l=hi\\'>\\n\\t\\t\\t\\t\\t\\t\\t<input name=\\'q\\' id=\"search\" type=\"search\" placeholder=\"search\"  style=\\'font-size:16px\\'>\\n\\t\\t\\t\\t\\t\\t</form>\\n\\t\\t\\t\\t\\t</li>\\n\\t\\t\\t\\t\\t\\t\\n\\t\\t\\t<li><a href=\"/\">Home</a></li>\\n\\t\\t\\t<li><a class=\"tooltipped\" data-position=\"bottom\" data-delay=\"50\" data-tooltip=\"sudo apt-get upgrade\" href=\"/+=1/\">+=1</a></li>\\n\\t\\t\\t<!--<li><a href=\"/store/python-hoodie/\">Store</a></li>-->\\n\\t\\t\\t<li><a href=\"/support/\">Support the Content</a></li>\\n\\t\\t\\t\\n\\t\\t\\t<li><a href=\"https://goo.gl/7zgAVQ\" target=\\'blank\\'><!--<i class=\"material-icons\">question_answer</i>-->Community</a></li>\\n\\t\\t\\t\\t<li><a href=\"/login/\">Log in</a></li>\\n                <li><a href=\"/register/\">Sign up</a></li>\\n\\t\\t\\t\\n\\n\\t\\t\\t\\t\\t</ul>\\n\\t\\t\\t\\t</div>\\n\\t\\t\\t</nav>\\n\\t\\t</div>\\n\\n\\n\\n\\t\\t<!-- main content -->\\n\\t\\t<div class=\"container\" style=\"max-width:1500px; min-height:100%\">\\n\\t\\t\\t<!--Notification:-->\\n            <!--<p style=\"font-size:80%\">TensorFlow.js Livestream:  <a href=\"https://www.youtube.com/watch?v=NjSlj95lliM\" target=\"blank\"><strong>Deep Learning in the browser</strong></a></p>-->\\n            <!--End Notification:-->\\n\\n\\t\\t\\t\\t\\t\\n\\t\\t\\t\\t\\t\\n\\t\\t\\t\\t\\t  \\n\\t\\t\\t\\t\\t\\n\\n\\t\\t\\t\\t\\t\\n\\n<div class=\"body\">\\n\\n\\t<p class=\\'introduction\\'>Oh, hello! This is a <span style=\\'font-size:115%\\'>wonderful</span> page meant to let you practice web scraping. This page was originally created to help people work with the <a href=\"https://www.crummy.com/software/BeautifulSoup/bs4/doc/\" target=\"blank\"><strong>Beautiful Soup 4</strong></a> library.</p>\\n\\n\\t<p>The following table gives some general information for the following <code>programming languages</code>:</p>\\n\\n\\t<ul>\\n\\t\\t<li>Python</li>\\n\\t\\t<li>Pascal</li>\\n\\t\\t<li>Lisp</li>\\n\\t\\t<li>D#</li>\\n\\t\\t<li>Cobol</li>\\n\\t\\t<li>Fortran</li>\\n\\t\\t<li>Haskell</li>\\n\\t</ul>\\n\\n\\n\\t<table style=\"width:100%\">\\n\\n\\t  <tr>\\n\\t    <th>Program Name</th>\\n\\t    <th>Internet Points</th> \\n\\t    <th>Kittens?</th>\\n\\t  </tr>\\n\\n\\t  <tr>\\n\\t    <td>Python</td>\\n\\t    <td>932914021</td> \\n\\t    <td>Definitely</td>\\n\\t  </tr>\\n\\n\\t  <tr>\\n\\t    <td>Pascal</td>\\n\\t    <td>532</td> \\n\\t    <td>Unlikely</td>\\n\\t  </tr>\\n\\n\\n\\t  <tr>\\n\\t    <td>Lisp</td>\\n\\t    <td>1522</td> \\n\\t    <td>Uncertain</td>\\n\\t  </tr>\\n\\n\\n\\t  <tr>\\n\\t    <td>D#</td>\\n\\t    <td>12</td> \\n\\t    <td>Possibly</td>\\n\\t  </tr>\\n\\n\\n\\t  <tr>\\n\\t    <td>Cobol</td>\\n\\t    <td>3</td> \\n\\t    <td>No.</td>\\n\\t  </tr>\\n\\n\\t  <tr>\\n\\t    <td>Fortran</td>\\n\\t    <td>52124</td> \\n\\t    <td>Yes.</td>\\n\\t  </tr>\\n\\n\\t  <tr>\\n\\t    <td>Haskell</td>\\n\\t    <td>24</td> \\n\\t    <td>lol.</td>\\n\\t  </tr>\\n\\n\\t</table>\\n\\n\\t<p>I think it\\'s clear that, on a scale of 1-10, python is:</p>\\n\\n\\t<div class=\\'card hoverable\\'>\\n\\t\\t<div class=\\'card-content\\'>\\n\\t\\t\\t<div class=\\'card-title\\'></div>\\n\\t\\t\\t<img class=\"responsive-img\" src=\"https://s-media-cache-ak0.pinimg.com/originals/e8/2a/ff/e82aff2876b080675449d0cef7685321.jpg\" alt=\"omg batman\" />\\n\\t\\t</div>\\n\\t</div>\\n\\n  <p>Javascript (dynamic data) test:</p>\\n  <p class=\\'jstest\\' id=\\'yesnojs\\'>y u bad tho?</p>\\n  <script>\\n     document.getElementById(\\'yesnojs\\').innerHTML = \\'Look at you shinin!\\';\\n  </script> \\n\\n<br><br>\\n\\t\\n<pre>Beautiful is better than ugly.\\nExplicit is better than implicit.\\nSimple is better than complex.\\nComplex is better than complicated.\\nFlat is better than nested.\\nSparse is better than dense.\\nReadability counts.\\nSpecial cases aren\\'t special enough to break the rules.\\nAlthough practicality beats purity.\\nErrors should never pass silently.\\nUnless explicitly silenced.\\nIn the face of ambiguity, refuse the temptation to guess.\\nThere should be one-- and preferably only one --obvious way to do it.\\nAlthough that way may not be obvious at first unless you\\'re Dutch.\\nNow is better than never.\\nAlthough never is often better than *right* now.\\nIf the implementation is hard to explain, it\\'s a bad idea.\\nIf the implementation is easy to explain, it may be a good idea.\\nNamespaces are one honking great idea -- let\\'s do more of those!</pre>\\n\\n\\t<p>Wh\\xe1\\xb6\\x90t h\\xce\\xb1pp\\xc3\\xa9ns now\\xc2\\xbf</p>\\n\\n\\t<p><a href=\"/sitemap.xml\" target=\"blank\"><strong>sitemap</strong></a></p>\\n\\n</body>\\n\\n\\n\\t\\t\\t</div>\\n\\t\\t</div>\\n\\n\\t\\t<!--login modal-->\\n\\t\\t\\n\\n\\t\\t<!--Register modal-->\\n\\t\\t\\n\\n\\n\\t\\t<script>\\n\\t\\t\\t$(document).ready(function(){\\n\\t\\t\\t\\t$(\".button-collapse\").sideNav();\\n\\t\\t\\t\\t$(\\'.modal-trigger\\').leanModal();\\n\\t\\t\\t\\t$(\\'.collapsible\\').collapsible({\\n\\t\\t\\t\\t  accordion : false // A setting that changes the collapsible behavior to expandable instead of the default accordion style\\n\\t\\t\\t\\t});\\n\\t\\t\\t\\t$(\\'#aside\\').pushpin({ top:110, bottom:500 });\\n\\t\\t  });\\n\\t\\t</script>\\n\\t\\t<script>\\n\\t\\t  $(document).ready(function(){\\n\\t\\t\\t$(\\'.collapsible\\').collapsible({\\n\\t\\t\\t  accordion : false // A setting that changes the collapsible behavior to expandable instead of the default accordion style\\n\\t\\t\\t});\\n\\t\\t\\t$(\\'select\\').material_select();\\n\\t\\t  });\\n\\t  </script>\\n\\t  <script>\\n\\t\\tfunction goBack() {\\n\\t\\t\\twindow.history.back()\\n\\t\\t}\\n\\t</script>\\n\\t\\t<script type=\"text/javascript\" src=\"/static/js/run_prettify.js\"></script>\\n\\n\\t</body>\\n\\n<footer class=\"page-footer\">\\n          <div class=\"container\">\\n            <div class=\"row\">\\n              <div class=\"col l6 s12\">\\n                <h5 class=\"white-text\">You\\'ve reached the end!</h5>\\n\\n                <p class=\"grey-text text-lighten-4\">Contact: Harrison@pythonprogramming.net.</p>\\n                <ul>\\n                  <li><a class=\"grey-text text-lighten-3\" href=\"/support-donate/\">Support this Website!</a></li>\\n                  <li><a class=\"grey-text text-lighten-3\" href=\"/consulting/\">Consulting and Contracting</a></li>\\n                  <li><a class=\"grey-text text-lighten-3\" href=\"https://www.facebook.com/pythonprogramming.net/\">Facebook</a></li>\\n                  <li><a class=\"grey-text text-lighten-3\" href=\"https://twitter.com/sentdex\">Twitter</a></li>\\n                  <li><a class=\"grey-text text-lighten-3\" href=\"https://instagram.com/sentdex\">Instagram</a></li>\\n                </ul>\\n              </div>\\n              <div class=\"col l4 offset-l2 s12\">\\n                <h6 class=\"white-text\">Legal stuff:</h6>\\n                <ul>\\n                  <li><a class=\"grey-text text-lighten-3\" href=\"/about/tos/\">Terms and Conditions</a></li>\\n                  <li><a class=\"grey-text text-lighten-3\" href=\"/about/privacy-policy/\">Privacy Policy</a></li>\\n\\n                </ul>\\n              </div>\\n            </div>\\n          </div>\\n          <a href=\"https://xkcd.com/353/\" target=\\'blank\\'><p class=\"grey-text right\" style=\\'padding-right:10px\\'>Programming is a superpower.</p></a>\\n          <div class=\"footer-copyright\">\\n            <div class=\"container\">\\n            \\xc2\\xa9 OVER 9000! PythonProgramming.net\\n\\n            </div>\\n\\n          </div>\\n        </footer>\\n\\n</html>\\n\\n\\n\\n\\n\\n\\n\\n\\n\\n\\n\\n\\n\\n\\n'\n"
          ],
          "name": "stdout"
        }
      ]
    },
    {
      "cell_type": "markdown",
      "metadata": {
        "id": "lRJD4eA7hBcg",
        "colab_type": "text"
      },
      "source": [
        "**It prints like html**"
      ]
    },
    {
      "cell_type": "code",
      "metadata": {
        "id": "Nc-97BzWg8Nh",
        "colab_type": "code",
        "outputId": "bd824cce-d05e-4947-8824-7b0efbda969f",
        "colab": {
          "base_uri": "https://localhost:8080/",
          "height": 1000
        }
      },
      "source": [
        "soup = BeautifulSoup(html.content, 'lxml')\n",
        "soup"
      ],
      "execution_count": 0,
      "outputs": [
        {
          "output_type": "execute_result",
          "data": {
            "text/plain": [
              "<html>\n",
              "<head>\n",
              "<!--\n",
              "\t\tpalette:\n",
              "\t\tdark blue: #003F72\n",
              "\t\tyellow: #FFD166\n",
              "\t\tsalmon: #EF476F\n",
              "\t\toffwhite: #e7d7d7\n",
              "\t\tLight Blue: #118AB2\n",
              "\t\tLight green: #7DDF64\n",
              "\t\t-->\n",
              "<meta content=\"width=device-width, initial-scale=1.0\" name=\"viewport\"/>\n",
              "<title>Python Programming Tutorials</title>\n",
              "<meta content=\"Python Programming tutorials from beginner to advanced on a massive variety of topics. All video and text tutorials are free.\" name=\"description\"/>\n",
              "<link href=\"/static/favicon.ico\" rel=\"shortcut icon\"/>\n",
              "<link href=\"/static/css/materialize.min.css\" rel=\"stylesheet\"/>\n",
              "<link href=\"https://fonts.googleapis.com/icon?family=Material+Icons\" rel=\"stylesheet\"/>\n",
              "<meta content=\"3fLok05gk5gGtWd_VSXbSSSH27F2kr1QqcxYz9vYq2k\" name=\"google-site-verification\"/>\n",
              "<link href=\"/static/css/bootstrap.css\" rel=\"stylesheet\" type=\"text/css\"/>\n",
              "<!-- Compiled and minified CSS -->\n",
              "<!-- Compiled and minified JavaScript -->\n",
              "<script src=\"https://code.jquery.com/jquery-2.1.4.min.js\"></script>\n",
              "<script src=\"https://cdnjs.cloudflare.com/ajax/libs/materialize/0.97.3/js/materialize.min.js\"></script>\n",
              "<style>\n",
              "\t\t@media (min-width:992px) {\n",
              "\t\t#aside {\n",
              "\t\t\twidth:250px;\n",
              "\t\t}\n",
              "\t\tpre { tab-size: 4;}\n",
              "\t\t.btn {background-color:#FFD166;\n",
              "\t\t\t  color:#000;\n",
              "\t\t      height:auto;\n",
              "\t\t\t  font-color:#000;\n",
              "\t\t\t  }\n",
              "\t\t.btn:hover {background-color:#FFD166;\n",
              "\t\t\t\t\t}\n",
              "\n",
              "\n",
              "\t\t</style>\n",
              "<!-- Google Tracking -->\n",
              "<script>\n",
              "\t\t\t  (function(i,s,o,g,r,a,m){i['GoogleAnalyticsObject']=r;i[r]=i[r]||function(){\n",
              "\t\t\t  (i[r].q=i[r].q||[]).push(arguments)},i[r].l=1*new Date();a=s.createElement(o),\n",
              "\t\t\t  m=s.getElementsByTagName(o)[0];a.async=1;a.src=g;m.parentNode.insertBefore(a,m)\n",
              "\t\t\t  })(window,document,'script','//www.google-analytics.com/analytics.js','ga');\n",
              "              ga('config', 'UA-51891827-1', {'anonymize_ip': true});﻿\n",
              "\t\t\t  ga('create', 'UA-51891827-1', 'auto');\n",
              "\t\t\t  ga('send', 'pageview');\n",
              "\n",
              "\t\t</script>\n",
              "<script async=\"\" src=\"//pagead2.googlesyndication.com/pagead/js/adsbygoogle.js\"></script>\n",
              "<script>\n",
              "                         (adsbygoogle = window.adsbygoogle || []).push({\n",
              "                              google_ad_client: \"ca-pub-1579050400541873\",\n",
              "                              enable_page_level_ads: true\n",
              "                         });\n",
              "                    </script>\n",
              "</head>\n",
              "<body>\n",
              "<div class=\"navbar-fixed\">\n",
              "<nav style=\"background-color:#003F72\">\n",
              "<div class=\"nav-wrapper container\">\n",
              "<a class=\"brand-logo\" href=\"/\"><img class=\"img-responsive\" src=\"/static/images/mainlogowhitethick.jpg\" style=\"width:50px; height;50px; margin-top:5px\"/></a>\n",
              "<a class=\"button-collapse\" data-activates=\"navsidebar\" href=\"#\"><i class=\"mdi-navigation-menu\"></i></a>\n",
              "<ul class=\"right hide-on-med-and-down\">\n",
              "<li><i class=\"material-icons\">search</i></li>\n",
              "<li>\n",
              "<form action=\"/search/?l=hi\" id=\"searchform\" method=\"get\" style=\"height:50px; padding-top:10px\">\n",
              "<input id=\"search\" name=\"q\" placeholder=\"search\" style=\"font-size:16px\" type=\"search\"/>\n",
              "</form>\n",
              "</li>\n",
              "<li><a href=\"/\">Home</a></li>\n",
              "<li><a class=\"tooltipped\" data-delay=\"50\" data-position=\"bottom\" data-tooltip=\"sudo apt-get upgrade\" href=\"/+=1/\">+=1</a></li>\n",
              "<!--<li><a href=\"/store/python-hoodie/\">Store</a></li>-->\n",
              "<li><a href=\"/support/\">Support the Content</a></li>\n",
              "<li><a href=\"https://goo.gl/7zgAVQ\" target=\"blank\"><!--<i class=\"material-icons\">question_answer</i>-->Community</a></li>\n",
              "<li><a href=\"/login/\">Log in</a></li>\n",
              "<li><a href=\"/register/\">Sign up</a></li>\n",
              "</ul>\n",
              "<ul class=\"side-nav\" id=\"navsidebar\">\n",
              "<li>\n",
              "<form action=\"/search/?l=hi\" id=\"searchform\" method=\"get\" style=\"height:50px; padding-top:10px\">\n",
              "<input id=\"search\" name=\"q\" placeholder=\"search\" style=\"font-size:16px\" type=\"search\"/>\n",
              "</form>\n",
              "</li>\n",
              "<li><a href=\"/\">Home</a></li>\n",
              "<li><a class=\"tooltipped\" data-delay=\"50\" data-position=\"bottom\" data-tooltip=\"sudo apt-get upgrade\" href=\"/+=1/\">+=1</a></li>\n",
              "<!--<li><a href=\"/store/python-hoodie/\">Store</a></li>-->\n",
              "<li><a href=\"/support/\">Support the Content</a></li>\n",
              "<li><a href=\"https://goo.gl/7zgAVQ\" target=\"blank\"><!--<i class=\"material-icons\">question_answer</i>-->Community</a></li>\n",
              "<li><a href=\"/login/\">Log in</a></li>\n",
              "<li><a href=\"/register/\">Sign up</a></li>\n",
              "</ul>\n",
              "</div>\n",
              "</nav>\n",
              "</div>\n",
              "<!-- main content -->\n",
              "<div class=\"container\" style=\"max-width:1500px; min-height:100%\">\n",
              "<!--Notification:-->\n",
              "<!--<p style=\"font-size:80%\">TensorFlow.js Livestream:  <a href=\"https://www.youtube.com/watch?v=NjSlj95lliM\" target=\"blank\"><strong>Deep Learning in the browser</strong></a></p>-->\n",
              "<!--End Notification:-->\n",
              "<div class=\"body\">\n",
              "<p class=\"introduction\">Oh, hello! This is a <span style=\"font-size:115%\">wonderful</span> page meant to let you practice web scraping. This page was originally created to help people work with the <a href=\"https://www.crummy.com/software/BeautifulSoup/bs4/doc/\" target=\"blank\"><strong>Beautiful Soup 4</strong></a> library.</p>\n",
              "<p>The following table gives some general information for the following <code>programming languages</code>:</p>\n",
              "<ul>\n",
              "<li>Python</li>\n",
              "<li>Pascal</li>\n",
              "<li>Lisp</li>\n",
              "<li>D#</li>\n",
              "<li>Cobol</li>\n",
              "<li>Fortran</li>\n",
              "<li>Haskell</li>\n",
              "</ul>\n",
              "<table style=\"width:100%\">\n",
              "<tr>\n",
              "<th>Program Name</th>\n",
              "<th>Internet Points</th>\n",
              "<th>Kittens?</th>\n",
              "</tr>\n",
              "<tr>\n",
              "<td>Python</td>\n",
              "<td>932914021</td>\n",
              "<td>Definitely</td>\n",
              "</tr>\n",
              "<tr>\n",
              "<td>Pascal</td>\n",
              "<td>532</td>\n",
              "<td>Unlikely</td>\n",
              "</tr>\n",
              "<tr>\n",
              "<td>Lisp</td>\n",
              "<td>1522</td>\n",
              "<td>Uncertain</td>\n",
              "</tr>\n",
              "<tr>\n",
              "<td>D#</td>\n",
              "<td>12</td>\n",
              "<td>Possibly</td>\n",
              "</tr>\n",
              "<tr>\n",
              "<td>Cobol</td>\n",
              "<td>3</td>\n",
              "<td>No.</td>\n",
              "</tr>\n",
              "<tr>\n",
              "<td>Fortran</td>\n",
              "<td>52124</td>\n",
              "<td>Yes.</td>\n",
              "</tr>\n",
              "<tr>\n",
              "<td>Haskell</td>\n",
              "<td>24</td>\n",
              "<td>lol.</td>\n",
              "</tr>\n",
              "</table>\n",
              "<p>I think it's clear that, on a scale of 1-10, python is:</p>\n",
              "<div class=\"card hoverable\">\n",
              "<div class=\"card-content\">\n",
              "<div class=\"card-title\"></div>\n",
              "<img alt=\"omg batman\" class=\"responsive-img\" src=\"https://s-media-cache-ak0.pinimg.com/originals/e8/2a/ff/e82aff2876b080675449d0cef7685321.jpg\"/>\n",
              "</div>\n",
              "</div>\n",
              "<p>Javascript (dynamic data) test:</p>\n",
              "<p class=\"jstest\" id=\"yesnojs\">y u bad tho?</p>\n",
              "<script>\n",
              "     document.getElementById('yesnojs').innerHTML = 'Look at you shinin!';\n",
              "  </script>\n",
              "<br/><br/>\n",
              "<pre>Beautiful is better than ugly.\n",
              "Explicit is better than implicit.\n",
              "Simple is better than complex.\n",
              "Complex is better than complicated.\n",
              "Flat is better than nested.\n",
              "Sparse is better than dense.\n",
              "Readability counts.\n",
              "Special cases aren't special enough to break the rules.\n",
              "Although practicality beats purity.\n",
              "Errors should never pass silently.\n",
              "Unless explicitly silenced.\n",
              "In the face of ambiguity, refuse the temptation to guess.\n",
              "There should be one-- and preferably only one --obvious way to do it.\n",
              "Although that way may not be obvious at first unless you're Dutch.\n",
              "Now is better than never.\n",
              "Although never is often better than *right* now.\n",
              "If the implementation is hard to explain, it's a bad idea.\n",
              "If the implementation is easy to explain, it may be a good idea.\n",
              "Namespaces are one honking great idea -- let's do more of those!</pre>\n",
              "<p>Whᶐt hαppéns now¿</p>\n",
              "<p><a href=\"/sitemap.xml\" target=\"blank\"><strong>sitemap</strong></a></p>\n",
              "</div></div></body>\n",
              "<!--login modal-->\n",
              "<!--Register modal-->\n",
              "<script>\n",
              "\t\t\t$(document).ready(function(){\n",
              "\t\t\t\t$(\".button-collapse\").sideNav();\n",
              "\t\t\t\t$('.modal-trigger').leanModal();\n",
              "\t\t\t\t$('.collapsible').collapsible({\n",
              "\t\t\t\t  accordion : false // A setting that changes the collapsible behavior to expandable instead of the default accordion style\n",
              "\t\t\t\t});\n",
              "\t\t\t\t$('#aside').pushpin({ top:110, bottom:500 });\n",
              "\t\t  });\n",
              "\t\t</script>\n",
              "<script>\n",
              "\t\t  $(document).ready(function(){\n",
              "\t\t\t$('.collapsible').collapsible({\n",
              "\t\t\t  accordion : false // A setting that changes the collapsible behavior to expandable instead of the default accordion style\n",
              "\t\t\t});\n",
              "\t\t\t$('select').material_select();\n",
              "\t\t  });\n",
              "\t  </script>\n",
              "<script>\n",
              "\t\tfunction goBack() {\n",
              "\t\t\twindow.history.back()\n",
              "\t\t}\n",
              "\t</script>\n",
              "<script src=\"/static/js/run_prettify.js\" type=\"text/javascript\"></script>\n",
              "<footer class=\"page-footer\">\n",
              "<div class=\"container\">\n",
              "<div class=\"row\">\n",
              "<div class=\"col l6 s12\">\n",
              "<h5 class=\"white-text\">You've reached the end!</h5>\n",
              "<p class=\"grey-text text-lighten-4\">Contact: Harrison@pythonprogramming.net.</p>\n",
              "<ul>\n",
              "<li><a class=\"grey-text text-lighten-3\" href=\"/support-donate/\">Support this Website!</a></li>\n",
              "<li><a class=\"grey-text text-lighten-3\" href=\"/consulting/\">Consulting and Contracting</a></li>\n",
              "<li><a class=\"grey-text text-lighten-3\" href=\"https://www.facebook.com/pythonprogramming.net/\">Facebook</a></li>\n",
              "<li><a class=\"grey-text text-lighten-3\" href=\"https://twitter.com/sentdex\">Twitter</a></li>\n",
              "<li><a class=\"grey-text text-lighten-3\" href=\"https://instagram.com/sentdex\">Instagram</a></li>\n",
              "</ul>\n",
              "</div>\n",
              "<div class=\"col l4 offset-l2 s12\">\n",
              "<h6 class=\"white-text\">Legal stuff:</h6>\n",
              "<ul>\n",
              "<li><a class=\"grey-text text-lighten-3\" href=\"/about/tos/\">Terms and Conditions</a></li>\n",
              "<li><a class=\"grey-text text-lighten-3\" href=\"/about/privacy-policy/\">Privacy Policy</a></li>\n",
              "</ul>\n",
              "</div>\n",
              "</div>\n",
              "</div>\n",
              "<a href=\"https://xkcd.com/353/\" target=\"blank\"><p class=\"grey-text right\" style=\"padding-right:10px\">Programming is a superpower.</p></a>\n",
              "<div class=\"footer-copyright\">\n",
              "<div class=\"container\">\n",
              "            © OVER 9000! PythonProgramming.net\n",
              "\n",
              "            </div>\n",
              "</div>\n",
              "</footer>\n",
              "</html>"
            ]
          },
          "metadata": {
            "tags": []
          },
          "execution_count": 17
        }
      ]
    },
    {
      "cell_type": "markdown",
      "metadata": {
        "id": "Yp59n-SchMHc",
        "colab_type": "text"
      },
      "source": [
        "##Usage of BeautifulSoup"
      ]
    },
    {
      "cell_type": "markdown",
      "metadata": {
        "id": "o4Gvg8MMhssR",
        "colab_type": "text"
      },
      "source": [
        "##get_text"
      ]
    },
    {
      "cell_type": "code",
      "metadata": {
        "id": "jNpM1u3dhg3E",
        "colab_type": "code",
        "outputId": "8e897642-9ce9-4066-af11-0c12742fa906",
        "colab": {
          "base_uri": "https://localhost:8080/",
          "height": 1000
        }
      },
      "source": [
        "print(soup.get_text())"
      ],
      "execution_count": 0,
      "outputs": [
        {
          "output_type": "stream",
          "text": [
            "\n",
            "\n",
            "\n",
            "\n",
            "Python Programming Tutorials\n",
            "\n",
            "\n",
            "\n",
            "\n",
            "\n",
            "\n",
            "\n",
            "\n",
            "\n",
            "\n",
            "\n",
            "\t\t@media (min-width:992px) {\n",
            "\t\t#aside {\n",
            "\t\t\twidth:250px;\n",
            "\t\t}\n",
            "\t\tpre { tab-size: 4;}\n",
            "\t\t.btn {background-color:#FFD166;\n",
            "\t\t\t  color:#000;\n",
            "\t\t      height:auto;\n",
            "\t\t\t  font-color:#000;\n",
            "\t\t\t  }\n",
            "\t\t.btn:hover {background-color:#FFD166;\n",
            "\t\t\t\t\t}\n",
            "\n",
            "\n",
            "\t\t\n",
            "\n",
            "\n",
            "\t\t\t  (function(i,s,o,g,r,a,m){i['GoogleAnalyticsObject']=r;i[r]=i[r]||function(){\n",
            "\t\t\t  (i[r].q=i[r].q||[]).push(arguments)},i[r].l=1*new Date();a=s.createElement(o),\n",
            "\t\t\t  m=s.getElementsByTagName(o)[0];a.async=1;a.src=g;m.parentNode.insertBefore(a,m)\n",
            "\t\t\t  })(window,document,'script','//www.google-analytics.com/analytics.js','ga');\n",
            "              ga('config', 'UA-51891827-1', {'anonymize_ip': true});﻿\n",
            "\t\t\t  ga('create', 'UA-51891827-1', 'auto');\n",
            "\t\t\t  ga('send', 'pageview');\n",
            "\n",
            "\t\t\n",
            "\n",
            "\n",
            "                         (adsbygoogle = window.adsbygoogle || []).push({\n",
            "                              google_ad_client: \"ca-pub-1579050400541873\",\n",
            "                              enable_page_level_ads: true\n",
            "                         });\n",
            "                    \n",
            "\n",
            "\n",
            "\n",
            "\n",
            "\n",
            "\n",
            "\n",
            "\n",
            "search\n",
            "\n",
            "\n",
            "\n",
            "\n",
            "\n",
            "Home\n",
            "+=1\n",
            "\n",
            "Support the Content\n",
            "Community\n",
            "Log in\n",
            "Sign up\n",
            "\n",
            "\n",
            "\n",
            "\n",
            "\n",
            "\n",
            "\n",
            "Home\n",
            "+=1\n",
            "\n",
            "Support the Content\n",
            "Community\n",
            "Log in\n",
            "Sign up\n",
            "\n",
            "\n",
            "\n",
            "\n",
            "\n",
            "\n",
            "\n",
            "\n",
            "\n",
            "\n",
            "Oh, hello! This is a wonderful page meant to let you practice web scraping. This page was originally created to help people work with the Beautiful Soup 4 library.\n",
            "The following table gives some general information for the following programming languages:\n",
            "\n",
            "Python\n",
            "Pascal\n",
            "Lisp\n",
            "D#\n",
            "Cobol\n",
            "Fortran\n",
            "Haskell\n",
            "\n",
            "\n",
            "\n",
            "Program Name\n",
            "Internet Points\n",
            "Kittens?\n",
            "\n",
            "\n",
            "Python\n",
            "932914021\n",
            "Definitely\n",
            "\n",
            "\n",
            "Pascal\n",
            "532\n",
            "Unlikely\n",
            "\n",
            "\n",
            "Lisp\n",
            "1522\n",
            "Uncertain\n",
            "\n",
            "\n",
            "D#\n",
            "12\n",
            "Possibly\n",
            "\n",
            "\n",
            "Cobol\n",
            "3\n",
            "No.\n",
            "\n",
            "\n",
            "Fortran\n",
            "52124\n",
            "Yes.\n",
            "\n",
            "\n",
            "Haskell\n",
            "24\n",
            "lol.\n",
            "\n",
            "\n",
            "I think it's clear that, on a scale of 1-10, python is:\n",
            "\n",
            "\n",
            "\n",
            "\n",
            "\n",
            "\n",
            "Javascript (dynamic data) test:\n",
            "y u bad tho?\n",
            "\n",
            "     document.getElementById('yesnojs').innerHTML = 'Look at you shinin!';\n",
            "  \n",
            "\n",
            "Beautiful is better than ugly.\n",
            "Explicit is better than implicit.\n",
            "Simple is better than complex.\n",
            "Complex is better than complicated.\n",
            "Flat is better than nested.\n",
            "Sparse is better than dense.\n",
            "Readability counts.\n",
            "Special cases aren't special enough to break the rules.\n",
            "Although practicality beats purity.\n",
            "Errors should never pass silently.\n",
            "Unless explicitly silenced.\n",
            "In the face of ambiguity, refuse the temptation to guess.\n",
            "There should be one-- and preferably only one --obvious way to do it.\n",
            "Although that way may not be obvious at first unless you're Dutch.\n",
            "Now is better than never.\n",
            "Although never is often better than *right* now.\n",
            "If the implementation is hard to explain, it's a bad idea.\n",
            "If the implementation is easy to explain, it may be a good idea.\n",
            "Namespaces are one honking great idea -- let's do more of those!\n",
            "Whᶐt hαppéns now¿\n",
            "sitemap\n",
            "\n",
            "\n",
            "\n",
            "\n",
            "\t\t\t$(document).ready(function(){\n",
            "\t\t\t\t$(\".button-collapse\").sideNav();\n",
            "\t\t\t\t$('.modal-trigger').leanModal();\n",
            "\t\t\t\t$('.collapsible').collapsible({\n",
            "\t\t\t\t  accordion : false // A setting that changes the collapsible behavior to expandable instead of the default accordion style\n",
            "\t\t\t\t});\n",
            "\t\t\t\t$('#aside').pushpin({ top:110, bottom:500 });\n",
            "\t\t  });\n",
            "\t\t\n",
            "\n",
            "\t\t  $(document).ready(function(){\n",
            "\t\t\t$('.collapsible').collapsible({\n",
            "\t\t\t  accordion : false // A setting that changes the collapsible behavior to expandable instead of the default accordion style\n",
            "\t\t\t});\n",
            "\t\t\t$('select').material_select();\n",
            "\t\t  });\n",
            "\t  \n",
            "\n",
            "\t\tfunction goBack() {\n",
            "\t\t\twindow.history.back()\n",
            "\t\t}\n",
            "\t\n",
            "\n",
            "\n",
            "\n",
            "\n",
            "\n",
            "You've reached the end!\n",
            "Contact: Harrison@pythonprogramming.net.\n",
            "\n",
            "Support this Website!\n",
            "Consulting and Contracting\n",
            "Facebook\n",
            "Twitter\n",
            "Instagram\n",
            "\n",
            "\n",
            "\n",
            "Legal stuff:\n",
            "\n",
            "Terms and Conditions\n",
            "Privacy Policy\n",
            "\n",
            "\n",
            "\n",
            "\n",
            "Programming is a superpower.\n",
            "\n",
            "\n",
            "            © OVER 9000! PythonProgramming.net\n",
            "\n",
            "            \n",
            "\n",
            "\n",
            "\n",
            "\n"
          ],
          "name": "stdout"
        }
      ]
    },
    {
      "cell_type": "markdown",
      "metadata": {
        "id": "vyGk1mZchkCK",
        "colab_type": "text"
      },
      "source": [
        "##title"
      ]
    },
    {
      "cell_type": "code",
      "metadata": {
        "id": "zez__r7ZiG6n",
        "colab_type": "code",
        "outputId": "1cb54a3e-dbb7-48f0-ed92-5bbe04195624",
        "colab": {
          "base_uri": "https://localhost:8080/",
          "height": 34
        }
      },
      "source": [
        "soup.title"
      ],
      "execution_count": 0,
      "outputs": [
        {
          "output_type": "execute_result",
          "data": {
            "text/plain": [
              "<title>Python Programming Tutorials</title>"
            ]
          },
          "metadata": {
            "tags": []
          },
          "execution_count": 22
        }
      ]
    },
    {
      "cell_type": "code",
      "metadata": {
        "id": "QK9voHdOj643",
        "colab_type": "code",
        "outputId": "c254be2b-69fc-43b6-913a-2d0047e71303",
        "colab": {
          "base_uri": "https://localhost:8080/",
          "height": 34
        }
      },
      "source": [
        "soup.title.name"
      ],
      "execution_count": 0,
      "outputs": [
        {
          "output_type": "execute_result",
          "data": {
            "text/plain": [
              "'title'"
            ]
          },
          "metadata": {
            "tags": []
          },
          "execution_count": 23
        }
      ]
    },
    {
      "cell_type": "code",
      "metadata": {
        "id": "J3ESjlKYj876",
        "colab_type": "code",
        "outputId": "1f7c0847-7438-465b-95c3-145a11c60fdd",
        "colab": {
          "base_uri": "https://localhost:8080/",
          "height": 34
        }
      },
      "source": [
        "soup.title.text"
      ],
      "execution_count": 0,
      "outputs": [
        {
          "output_type": "execute_result",
          "data": {
            "text/plain": [
              "'Python Programming Tutorials'"
            ]
          },
          "metadata": {
            "tags": []
          },
          "execution_count": 24
        }
      ]
    },
    {
      "cell_type": "code",
      "metadata": {
        "id": "yKKL5m76j_YV",
        "colab_type": "code",
        "outputId": "f06257b7-15b4-43bd-c3bb-77df2dc0a6e7",
        "colab": {
          "base_uri": "https://localhost:8080/",
          "height": 34
        }
      },
      "source": [
        "soup.title.string"
      ],
      "execution_count": 0,
      "outputs": [
        {
          "output_type": "execute_result",
          "data": {
            "text/plain": [
              "'Python Programming Tutorials'"
            ]
          },
          "metadata": {
            "tags": []
          },
          "execution_count": 25
        }
      ]
    },
    {
      "cell_type": "code",
      "metadata": {
        "id": "ZEE77ZiAkZD6",
        "colab_type": "code",
        "colab": {}
      },
      "source": [
        ""
      ],
      "execution_count": 0,
      "outputs": []
    },
    {
      "cell_type": "markdown",
      "metadata": {
        "id": "xixeTOzckNSo",
        "colab_type": "text"
      },
      "source": [
        "##paragraph"
      ]
    },
    {
      "cell_type": "code",
      "metadata": {
        "id": "5MfOwSkVka9f",
        "colab_type": "code",
        "outputId": "c3329d9b-0a31-482b-c731-beb271c217c6",
        "colab": {
          "base_uri": "https://localhost:8080/",
          "height": 54
        }
      },
      "source": [
        "print(soup.p) #it gives first paragraph from the html"
      ],
      "execution_count": 0,
      "outputs": [
        {
          "output_type": "stream",
          "text": [
            "<p class=\"introduction\">Oh, hello! This is a <span style=\"font-size:115%\">wonderful</span> page meant to let you practice web scraping. This page was originally created to help people work with the <a href=\"https://www.crummy.com/software/BeautifulSoup/bs4/doc/\" target=\"blank\"><strong>Beautiful Soup 4</strong></a> library.</p>\n"
          ],
          "name": "stdout"
        }
      ]
    },
    {
      "cell_type": "code",
      "metadata": {
        "id": "Nva4-XunkcA7",
        "colab_type": "code",
        "outputId": "c9aaea9c-29b8-4436-afd7-843395494990",
        "colab": {
          "base_uri": "https://localhost:8080/",
          "height": 190
        }
      },
      "source": [
        "soup.find_all('p') #it gives all the paragraph from the html data"
      ],
      "execution_count": 0,
      "outputs": [
        {
          "output_type": "execute_result",
          "data": {
            "text/plain": [
              "[<p class=\"introduction\">Oh, hello! This is a <span style=\"font-size:115%\">wonderful</span> page meant to let you practice web scraping. This page was originally created to help people work with the <a href=\"https://www.crummy.com/software/BeautifulSoup/bs4/doc/\" target=\"blank\"><strong>Beautiful Soup 4</strong></a> library.</p>,\n",
              " <p>The following table gives some general information for the following <code>programming languages</code>:</p>,\n",
              " <p>I think it's clear that, on a scale of 1-10, python is:</p>,\n",
              " <p>Javascript (dynamic data) test:</p>,\n",
              " <p class=\"jstest\" id=\"yesnojs\">y u bad tho?</p>,\n",
              " <p>Whᶐt hαppéns now¿</p>,\n",
              " <p><a href=\"/sitemap.xml\" target=\"blank\"><strong>sitemap</strong></a></p>,\n",
              " <p class=\"grey-text text-lighten-4\">Contact: Harrison@pythonprogramming.net.</p>,\n",
              " <p class=\"grey-text right\" style=\"padding-right:10px\">Programming is a superpower.</p>]"
            ]
          },
          "metadata": {
            "tags": []
          },
          "execution_count": 28
        }
      ]
    },
    {
      "cell_type": "code",
      "metadata": {
        "id": "xrikqzkdkujl",
        "colab_type": "code",
        "outputId": "5b49396f-04c8-4646-ecc0-f3a6f90204b3",
        "colab": {
          "base_uri": "https://localhost:8080/",
          "height": 34
        }
      },
      "source": [
        "soup.p.get('class') #to get the class of the paragraph"
      ],
      "execution_count": 0,
      "outputs": [
        {
          "output_type": "execute_result",
          "data": {
            "text/plain": [
              "['introduction']"
            ]
          },
          "metadata": {
            "tags": []
          },
          "execution_count": 31
        }
      ]
    },
    {
      "cell_type": "code",
      "metadata": {
        "id": "zUI9b5hjlFDD",
        "colab_type": "code",
        "outputId": "998f114a-5715-4036-a39b-67b456bd1044",
        "colab": {
          "base_uri": "https://localhost:8080/",
          "height": 54
        }
      },
      "source": [
        "try:\n",
        "  soup.find_all('p').get('class')\n",
        "\n",
        "except Exception as e:\n",
        "  print(e.__class__.__name__, e.args)"
      ],
      "execution_count": 0,
      "outputs": [
        {
          "output_type": "stream",
          "text": [
            "AttributeError (\"ResultSet object has no attribute 'get'. You're probably treating a list of items like a single item. Did you call find_all() when you meant to call find()?\",)\n"
          ],
          "name": "stdout"
        }
      ]
    },
    {
      "cell_type": "markdown",
      "metadata": {
        "id": "X07zwdDqmCgN",
        "colab_type": "text"
      },
      "source": [
        "###How to remove paragraph tag from the data"
      ]
    },
    {
      "cell_type": "code",
      "metadata": {
        "id": "95_cEddKk7SW",
        "colab_type": "code",
        "outputId": "cc8ee072-5fc1-45ed-fe43-6f84f65b45a0",
        "colab": {
          "base_uri": "https://localhost:8080/",
          "height": 649
        }
      },
      "source": [
        "for paragraph in soup.find_all('p'):\n",
        "  print(paragraph.text, '\\n\\n\\n')"
      ],
      "execution_count": 0,
      "outputs": [
        {
          "output_type": "stream",
          "text": [
            "Oh, hello! This is a wonderful page meant to let you practice web scraping. This page was originally created to help people work with the Beautiful Soup 4 library. \n",
            "\n",
            "\n",
            "\n",
            "The following table gives some general information for the following programming languages: \n",
            "\n",
            "\n",
            "\n",
            "I think it's clear that, on a scale of 1-10, python is: \n",
            "\n",
            "\n",
            "\n",
            "Javascript (dynamic data) test: \n",
            "\n",
            "\n",
            "\n",
            "y u bad tho? \n",
            "\n",
            "\n",
            "\n",
            "Whᶐt hαppéns now¿ \n",
            "\n",
            "\n",
            "\n",
            "sitemap \n",
            "\n",
            "\n",
            "\n",
            "Contact: Harrison@pythonprogramming.net. \n",
            "\n",
            "\n",
            "\n",
            "Programming is a superpower. \n",
            "\n",
            "\n",
            "\n"
          ],
          "name": "stdout"
        }
      ]
    },
    {
      "cell_type": "markdown",
      "metadata": {
        "id": "w2R5CjabmXR-",
        "colab_type": "text"
      },
      "source": [
        "##find all the links"
      ]
    },
    {
      "cell_type": "code",
      "metadata": {
        "id": "bfMjSTi7npU8",
        "colab_type": "code",
        "outputId": "bb614e34-03f8-4bf0-a9c9-76fc9dbe3e7e",
        "colab": {
          "base_uri": "https://localhost:8080/",
          "height": 1000
        }
      },
      "source": [
        "for url in soup.find_all('a'):\n",
        "  print(url.get('href'), '\\n\\n')"
      ],
      "execution_count": 0,
      "outputs": [
        {
          "output_type": "stream",
          "text": [
            "/ \n",
            "\n",
            "\n",
            "# \n",
            "\n",
            "\n",
            "/ \n",
            "\n",
            "\n",
            "/+=1/ \n",
            "\n",
            "\n",
            "/support/ \n",
            "\n",
            "\n",
            "https://goo.gl/7zgAVQ \n",
            "\n",
            "\n",
            "/login/ \n",
            "\n",
            "\n",
            "/register/ \n",
            "\n",
            "\n",
            "/ \n",
            "\n",
            "\n",
            "/+=1/ \n",
            "\n",
            "\n",
            "/support/ \n",
            "\n",
            "\n",
            "https://goo.gl/7zgAVQ \n",
            "\n",
            "\n",
            "/login/ \n",
            "\n",
            "\n",
            "/register/ \n",
            "\n",
            "\n",
            "https://www.crummy.com/software/BeautifulSoup/bs4/doc/ \n",
            "\n",
            "\n",
            "/sitemap.xml \n",
            "\n",
            "\n",
            "/support-donate/ \n",
            "\n",
            "\n",
            "/consulting/ \n",
            "\n",
            "\n",
            "https://www.facebook.com/pythonprogramming.net/ \n",
            "\n",
            "\n",
            "https://twitter.com/sentdex \n",
            "\n",
            "\n",
            "https://instagram.com/sentdex \n",
            "\n",
            "\n",
            "/about/tos/ \n",
            "\n",
            "\n",
            "/about/privacy-policy/ \n",
            "\n",
            "\n",
            "https://xkcd.com/353/ \n",
            "\n",
            "\n"
          ],
          "name": "stdout"
        }
      ]
    },
    {
      "cell_type": "code",
      "metadata": {
        "id": "w6H6kS14n3Kb",
        "colab_type": "code",
        "colab": {}
      },
      "source": [
        ""
      ],
      "execution_count": 0,
      "outputs": []
    },
    {
      "cell_type": "code",
      "metadata": {
        "id": "jdt4l9STBn3M",
        "colab_type": "code",
        "colab": {}
      },
      "source": [
        "import requests\n",
        "from bs4 import BeautifulSoup"
      ],
      "execution_count": 0,
      "outputs": []
    },
    {
      "cell_type": "code",
      "metadata": {
        "id": "jGKsHVdyBuYy",
        "colab_type": "code",
        "colab": {
          "base_uri": "https://localhost:8080/",
          "height": 34
        },
        "outputId": "2410813b-5704-4d61-a0ab-7500d153d5f9"
      },
      "source": [
        "source = requests.get('http://results.eci.gov.in/DELHITRENDS2020/statewiseU052.htm')\n",
        "source"
      ],
      "execution_count": 6,
      "outputs": [
        {
          "output_type": "execute_result",
          "data": {
            "text/plain": [
              "<Response [200]>"
            ]
          },
          "metadata": {
            "tags": []
          },
          "execution_count": 6
        }
      ]
    },
    {
      "cell_type": "code",
      "metadata": {
        "id": "UOAVh8S92ISs",
        "colab_type": "code",
        "colab": {}
      },
      "source": [
        ""
      ],
      "execution_count": 0,
      "outputs": []
    }
  ]
}