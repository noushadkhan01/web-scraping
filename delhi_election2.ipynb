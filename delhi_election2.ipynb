{
  "nbformat": 4,
  "nbformat_minor": 0,
  "metadata": {
    "colab": {
      "name": "delhi election2.ipynb",
      "provenance": [],
      "collapsed_sections": [],
      "authorship_tag": "ABX9TyNgzasHjN5v6JqxdlRyByZN",
      "include_colab_link": true
    },
    "kernelspec": {
      "name": "python3",
      "display_name": "Python 3"
    }
  },
  "cells": [
    {
      "cell_type": "markdown",
      "metadata": {
        "id": "view-in-github",
        "colab_type": "text"
      },
      "source": [
        "<a href=\"https://colab.research.google.com/github/noushadkhan01/web-scraping/blob/master/delhi_election2.ipynb\" target=\"_parent\"><img src=\"https://colab.research.google.com/assets/colab-badge.svg\" alt=\"Open In Colab\"/></a>"
      ]
    },
    {
      "cell_type": "code",
      "metadata": {
        "id": "jdt4l9STBn3M",
        "colab_type": "code",
        "colab": {}
      },
      "source": [
        "import requests\n",
        "from bs4 import BeautifulSoup"
      ],
      "execution_count": 0,
      "outputs": []
    },
    {
      "cell_type": "code",
      "metadata": {
        "id": "jGKsHVdyBuYy",
        "colab_type": "code",
        "outputId": "35081054-80c4-46ff-f6d9-b99ec1eaecb6",
        "colab": {
          "base_uri": "https://localhost:8080/",
          "height": 34
        }
      },
      "source": [
        "source = requests.get('http://results.eci.gov.in/DELHITRENDS2020/statewiseU051.htm')\n",
        "source"
      ],
      "execution_count": 0,
      "outputs": [
        {
          "output_type": "execute_result",
          "data": {
            "text/plain": [
              "<Response [200]>"
            ]
          },
          "metadata": {
            "tags": []
          },
          "execution_count": 2
        }
      ]
    },
    {
      "cell_type": "code",
      "metadata": {
        "id": "c0aRwVVMB3OF",
        "colab_type": "code",
        "outputId": "c6e62484-4139-4901-c24c-f601df5b0477",
        "colab": {
          "base_uri": "https://localhost:8080/",
          "height": 54
        }
      },
      "source": [
        "source.content"
      ],
      "execution_count": 0,
      "outputs": [
        {
          "output_type": "execute_result",
          "data": {
            "text/plain": [
              "b'<!DOCTYPE html>\\r\\n    <html><head>\\r\\n    <title>Election Commission of India</title>\\r\\n    <meta http-equiv=\\'Content-Language\\' content=\\'en-us\\'>\\r\\n    <meta http-equiv=\\'Content-Type\\' content=\\'text/html; charset=UTF-8\\'>\\r\\n    <meta http-equiv=\\'X-UA-Compatible\\' content=\\'IE=7\\'>\\r\\n    <meta http-equiv=\\'Cache-Control\\' content=\\'no-cache, no-store, must-revalidate\\'>\\r\\n    <meta http-equiv=\\'Pragma\\' content=\\'no-cache\\'>\\r\\n    <meta http-equiv=\\'Expires\\' content=\\'0\\'>\\r\\n    <meta http-equiv=\\'refresh\\' content=abc>\\r\\n     <style type=\\'text/css\\'>\\r\\n          body{\\r\\n        font-family: Verdana;Arial, Helvetica, sans-serif; font-size: 13px;\\r\\n        width: 1024px;\\r\\n        padding: 0px;\\r\\n        margin: 0 auto;\\r\\n        background:#105980;\\r\\n    }\\r\\n    .wrap-sec{\\r\\n        text-align:center;\\r\\n                width:1024px;\\r\\n    }\\r\\n    .tabc{\\r\\n        background-color: #fff;\\r\\n        width:1024px;\\r\\n    }\\r\\n    \\r\\n    .tabc h1{\\r\\n         font-size: 26px;\\r\\n         font-weight: bold;\\r\\n    }\\r\\n    .tabc h4{\\r\\n        font-size: 16px;\\r\\n        font-weight: bold;\\r\\n        margin:0;\\r\\n    }\\r\\n        .ctl00_Menu1_0 {\\r\\n            background-color: white;\\r\\n            visibility: hidden;\\r\\n            display: none;\\r\\n            position: absolute;\\r\\n            left: 0px;\\r\\n            top: 0px;\\r\\n        }\\r\\n\\r\\n        .ctl00_Menu1_1 {\\r\\n            color: #fff;\\r\\n            font-family: Verdana;\\r\\n            text-decoration: none;\\r\\n            background:#e91e63;\\r\\n            padding:10px 15px;  \\r\\n        }\\r\\n        .disclaimer-wide {\\r\\n            margin: 10px;\\r\\n            padding: 10px;\\r\\n            text-align: center;\\r\\n            width: auto;\\r\\n            float: none;\\r\\n            border:1px solid #ddd;\\r\\n            background:#f4f4f4;\\r\\n        }\\r\\n        .ctl00_Menu1_1:hover{\\r\\n            background:#105980;\\r\\n        }\\r\\n        .ctl00_Menu1_2 {\\r\\n            color: #7C6F57;\\r\\n            background-color: transparent;\\r\\n            font-family: Verdana;\\r\\n        }\\r\\n\\r\\n        .ctl00_Menu1_3 {\\r\\n            text-decoration: none;\\r\\n        }\\r\\n\\r\\n        .ctl00_Menu1_4 {\\r\\n            padding: 2px 5px 2px 5px;\\r\\n        }\\r\\n\\r\\n        .ctl00_Menu1_12 {\\r\\n            color: white;\\r\\n        }\\r\\n\\r\\n        .ctl00_Menu1_13 {\\r\\n            background-color: #7c6f57;\\r\\n            color: white;\\r\\n        }\\r\\n\\r\\n        .ctl00_Menu1_14 {\\r\\n            color: white;\\r\\n        }\\r\\n\\r\\n        .ctl00_Menu1_15 {\\r\\n            background-color: #7c6f57;\\r\\n            color: white;\\r\\n        }\\r\\n        .table-party{\\r\\n          margin:0 auto;\\r\\n          width: 100%;\\r\\n          font-family: Verdana;\\r\\n          border: 1px solid #ddd;\\r\\n          font-weight:normal; \\r\\n        }\\r\\n        .table-party tr td, .table-party tr th{\\r\\n            padding:10px 15px;\\r\\n        }\\r\\n        .table-party tr th{\\r\\n            color: #fff;\\r\\n            background:#105980;\\r\\n        }\\r\\n        .table-party p{\\r\\n            padding:5px;\\r\\n            margin:0;\\r\\n            font-size:16px;\\r\\n        }\\r\\n        .text-uper{\\r\\n            text-transform:uppercase;\\r\\n        }\\r\\n            .refresh{\\r\\n                background: linear-gradient(to right, rgb(179, 220, 237) 0%, rgb(41, 184, 229) 50%, rgb(105, 146, 162) 100%);\\r\\n                padding-bottom:15px;\\r\\n                width:100%;\\r\\n                padding:15px;\\r\\n                max-width:994px;\\r\\n                \\r\\n            }    \\r\\n            .refresh-lft{\\r\\n                float:left;\\r\\n            }    \\r\\n            .refresh-rgt{\\r\\n                float:right;\\r\\n                text-align:right;\\r\\n            }\\r\\n            .refresh-rgt, .refresh-rgt a{\\r\\n                color:#fff;\\r\\n                text-decoration:none;\\r\\n            }  \\r\\n            .refresh-rgt a:hover{\\r\\n                    color: #e91e63;\\r\\n            }\\r\\n            .refresh-lft button{\\r\\n                background: #e91e63;\\r\\n                font-weight: bold;\\r\\n                color: #fff;\\r\\n                padding: 10px 15px;\\r\\n                box-shadow: none;\\r\\n                border: none;\\r\\n                cursor:pointer;\\r\\n                float:left;\\r\\n            }\\r\\n            .refresh-lft button:hover{\\r\\n                background: #105980;\\r\\n            }\\r\\n            .clear{\\r\\n                clear:both;\\r\\n            }\\r\\n\\r\\n            /*span.textmsg {\\r\\n                float: left;\\r\\n                padding: 10px;\\r\\n                font-size: 10px;\\r\\n                color: #105980;\\r\\n                font-weight: bold;\\r\\n            }*/\\r\\n            .aclink {\\r\\n                margin-top: 43px;\\r\\n                margin-right: -110px;\\r\\n            }\\r\\n            .btn-blank{\\r\\n                 float:right; padding-right:0;font-size:15px; margin-top: 10px;\\r\\n    margin-bottom: 10px;\\r\\n    margin-right: 10px;\\r\\n            }\\r\\n            .btn-blank a{\\r\\n               text-decoration:none; border:1px solid #105980; padding:4px 10px; color:#105980;     \\r\\n            }            \\r\\n            .btn-blank a:hover{\\r\\n                   background-color:#105980; color:#fff;     \\r\\n            }           \\r\\n         .disclaimer-wide {\\r\\n    margin: 10px;\\r\\n    padding: 10px;\\r\\n    text-align: center;\\r\\n    width: auto;\\r\\n    float: none;\\r\\n    border:1px solid #ddd;\\r\\n    background:#f4f4f4;\\r\\n}\\r\\n@media screen and (max-width: 1023px) {\\r\\n .wrap-sec, .refresh, body, .tabc {\\r\\n    width: 100%;\\r\\n}\\r\\nbody{\\r\\n    padding:0 15px;\\r\\n}\\r\\n.refresh-rgt {\\r\\n    padding-right: 25px;\\r\\n}\\r\\n}\\r\\n              \\r\\n         .custom-cell-style {\\r\\n            padding-right: 16px;\\r\\n            display: inline-block;\\r\\n        }\\r\\n\\r\\n        .tooltip-icon {\\r\\n            border-radius: 50%;\\r\\n            background: #000;\\r\\n            color: #fff;\\r\\n            width: 15px;\\r\\n            height: 15px;\\r\\n            display: block;\\r\\n            text-align: center;\\r\\n            padding-left: 1px;\\r\\n        }\\r\\n\\r\\n            .tooltip-icon:hover + .tooltip {\\r\\n                display: block;\\r\\n            }\\r\\n\\r\\n        .tooltip:hover {\\r\\n            display: block;\\r\\n        }\\r\\n\\r\\n        .tooltip {\\r\\n            position: absolute;\\r\\n            width: 300px;\\r\\n            height: auto;\\r\\n            display: none;\\r\\n            border: 1px solid #000;\\r\\n            padding: 5px;\\r\\n            background: #fff;\\r\\n            margin-left: 5px;\\r\\n            margin-top: -10px;\\r\\n        }\\r\\n\\r\\n            .tooltip > table tr td:first-child {\\r\\n                font-weight: bold;\\r\\n                font-size: 12px;\\r\\n            }\\r\\n\\r\\n        \\r\\n        h3 {\\r\\n            margin-top: 0px;\\r\\n            text-align: center;\\r\\n            margin-bottom: 5px;\\r\\n        }\\r\\n        #ElectionResult  tr td > table{\\r\\n            width:100%;\\r\\n        }\\r\\n        #ElectionResult > tr > td{\\r\\n            vertical-align:middle;\\r\\n            text-align:center;\\r\\n        }\\r\\n        #ElectionResult > tr > td:nth-child(3),\\r\\n        #ElectionResult > tr > td:nth-child(4),\\r\\n        #ElectionResult > tr > td:nth-child(5),\\r\\n        #ElectionResult > tr > td:nth-child(6)\\r\\n        {\\r\\n            vertical-align:top;\\r\\n            text-align:left;\\r\\n        }\\r\\n        /*end update style for tool tip*/ \\r\\n        \\r\\n\\r\\n\\r\\n.refresh-rft{\\r\\n                background: #e91e63;\\r\\n                font-weight: bold;\\r\\n                color: #fff;\\r\\n                padding: 10px 15px;\\r\\n                box-shadow: none;\\r\\n                border: none;\\r\\n                cursor:pointer;\\r\\n                float:right;\\r\\n            }\\r\\n    </style>\\r\\n</head>\\r\\n<body>\\r\\n<div class=\\'wrap-sec\\'>\\r\\n            <div class=\\'refresh\\'>\\r\\n             <div class=\\'refresh-lft\\'>\\r\\n                <img alt=\"Election Commission of India\" class=\"ipsImage ipsImage_thumbnailed\" data-extension=\"core_Attachment\" data-fileid=\"118\" data-unique=\"cexgozu84\" src=\"img/logo.png\" style=\"height: auto;\"> \\r\\n                    \\r\\n             </div>\\r\\n             <div class=\\'middle-text\\'></div>\\r\\n            <div class=\\'refresh-rgt\\'>\\r\\n                    <b>English</b>\\r\\n                                            <span>|</span>\\r\\n                                          \\r\\n                                            <a  href=\\'hi/statewiseU051.htm\\' style=\\'font-size:18px\\'><b>\\xe0\\xa4\\xb9\\xe0\\xa4\\xbf\\xe0\\xa4\\xa8\\xe0\\xa5\\x8d\\xe0\\xa4\\xa6\\xe0\\xa5\\x80</b></a>\\r\\n\\r\\n                <div class=\\'aclink refresh-lft\\'><button  value=\\'Refresh Page\\' onClick=\\'window.location.href=window.location.href\\'>Refresh Page</button></div>\\r\\n\\r\\n            </div>\\r\\n            <div class=\\'clear\\'></div>\\r\\n         </div>\\r\\n         \\r\\n        \\r\\n            <table class=\\'tabc\\'>\\r\\n                <tbody>\\r\\n                <tr><td> </td></tr>\\r\\n                 <tr><td> \\r\\n\\t\\t\\t<a href=\\'search.htm\\'><button value=\\'Refresh Page\\' class=\\'refresh-rft\\'>Search</button></a>\\t\\r\\n               </td></tr>\\r\\n                <tr>\\r\\n                  <td>\\r\\n                            \\r\\n                     \\r\\n                    </td>\\r\\n                </tr>\\r\\n<tr>\\r\\n                    <tr>\\r\\n                        <td style=\\'text-align: center\\' colspan=\\'100\\'>\\r\\n                        <span class=\\'btn-blank\\'></span>\\r\\n                   \\r\\n                        </td>\\r\\n                    </tr>\\r\\n                    <tr>\\r\\n                        <td style=\\'font-size: 16px; font-weight: bold; text-align: center\\'>\\r\\n                            <h3>GENERAL ELECTION TO VIDHAN SABHA TRENDS & RESULT FEB-2020</h3>\\r\\n                        </td>\\r\\n                    </tr>\\r\\n                    <tr>\\r\\n                        <td style=\\'font-weight: bolder;\\' width=\\'20%\\' valign=\\'top\\' align=\\'center\\'>\\r\\n                            <br>\\r\\n                            <div style=\\'font-size: 12px\\'>\\r\\n                               Click links below for\\r\\n                            </div>\\r\\n                            <br/>\\r\\n                            <table id=\\'ctl00_Menu1\\' class=\\'ctl00_Menu1_2\\' cellspacing=\\'0\\' cellpadding=\\'0\\' border=\\'0\\'>\\r\\n                                <tbody><tr>\\r\\n                               \\r\\n                                \\r\\n                                    <td id=\\'ctl00_Menu1n0\\'>\\r\\n                                        <table class=\\'ctl00_Menu1_4\\' width=\\'100%\\' cellspacing=\\'0\\' cellpadding=\\'0\\' border=\\'0\\'>\\r\\n                                            <tbody><tr>\\r\\n                                                <td style=\\'white-space: nowrap;\\'>\\r\\n                                                    <a class=\\'ctl00_Menu1_1 ctl00_Menu1_3\\' href=\\'partywiseresult-U05.htm\\'> Partywise</a>\\r\\n                                                </td>\\r\\n                                            </tr>\\r\\n                                        </tbody></table>\\r\\n                                    </td>\\r\\n                                    <td style=\\'width: 3px;\\'></td>\\r\\n                                    <td id=\\'ctl00_Menu1n1\\'>\\r\\n                                        <table class=\\'ctl00_Menu1_4\\' width=\\'100%\\' cellspacing=\\'0\\' cellpadding=\\'0\\' border=\\'0\\'>\\r\\n                                            <tbody><tr>\\r\\n                                                <td style=\\'white-space: nowrap;\\'>\\r\\n                                                    <a class=\\'ctl00_Menu1_1 ctl00_Menu1_3\\' href=\\'ConstituencywiseU051.htm\\'>\\r\\n                                                      Constituencywise-All Candidates\\r\\n                                                    </a>\\r\\n                                                </td>\\r\\n                                            </tr>\\r\\n                                        </tbody></table>\\r\\n                                    </td>\\r\\n                                    <td style=\\'width: 3px;\\'></td>\\r\\n                                    <td id=\\'ctl00_Menu1n2\\'>\\r\\n                                        <table class=\\'ctl00_Menu1_4\\' width=\\'100%\\' cellspacing=\\'0\\' cellpadding=\\'0\\' border=\\'0\\'>\\r\\n                                            <tbody><tr>\\r\\n                                                <td style=\\'white-space: nowrap;\\'>\\r\\n                                                    <a class=\\'ctl00_Menu1_1 ctl00_Menu1_3\\' href=\\'statewiseU051.htm\\'>Constituencywise Trends</a>\\r\\n                                                </td>\\r\\n                                            </tr>\\r\\n                                        </tbody></table>\\r\\n                                    </td>\\r\\n                                </tr>\\r\\n                            </tbody></table>\\r\\n                            <table width=\\'100%\\'>\\r\\n                                <tbody><tr style=\\'height: 5px\\'>\\r\\n                                    <td></td>\\r\\n                                </tr>\\r\\n                               \\r\\n                                <tr>\\r\\n                                    <td width=\\'80%\\' valign=\\'top\\'>\\r\\n                                        <script language=\\'javascript\\' type=\\'text/javascript\\'>\\r\\n                                            function GetResult(ddstate) {\\r\\n                                                var statecode = ddstate.value;\\r\\n                                                if (statecode != \\'Select State\\')\\r\\n                                                    location.href = \\'statewise\\' + statecode + \\'.htm?st=\\' + statecode;\\r\\n                                                else\\r\\n                                                    location.href = \\'statewise\\' + ddstate.options[1].value + \\'.htm?st=\\' + ddstate.options[1].value;\\r\\n                                            }\\r\\n                                            function SetSelectedSate() {\\r\\n                                                var ddlState = document.getElementById(\\'ctl00_ContentPlaceHolder1_Result1_ddlState\\');\\r\\n                                                var stateCode = \\'\\';\\r\\n                                                var queryString = location.search.substring(1);\\r\\n                                                if (queryString != null && queryString != \\'\\') {\\r\\n                                                    stateCode = queryString.split(\\'=\\')[1];\\r\\n                                                }\\r\\n                                                if (ddlState != null)\\r\\n                                                    for (var index = 0; index < ddlState.options.length; index++) {\\r\\n                                                        if (ddlState.options[index].value == stateCode) {\\r\\n                                                            ddlState.options[index].selected = true;\\r\\n                                                        }\\r\\n                                                    }\\r\\n                                            }\\r\\n                                            onload = SetSelectedSate;\\r\\n                                        </script>\\r\\n                                        <table style=\\'border-bottom: black 1px solid; border-left: black 1px solid; margin: auto;\\r\\n                                        width: 100%; font-family: Verdana; border-top: black 1px solid; font-weight: lighter;\\r\\n                                        border-right: black 1px solid\\'>\\r\\n                                            <tbody>\\r\\n                                                <tr>\\r\\n                                                    <td style=\\'font-size: large\\' colspan=\\'2\\' align=\\'center\\'>\\r\\n                                                        Constituencywise Trends\\r\\n                                                    </td>\\r\\n                                                </tr>\\r\\n                                                <tr style=\\'background-color: #FFC0CD; height: 20px; color: black;\\' align=\\'center\\'>\\r\\n                                                    <td style=\\'width: 50%; font-weight: 700\\' colspan=\\'2\\'>\\r\\n                                                        <b>Select State</b>&nbsp;<select style=\\'width: 250px; height: 25px\\' id=\\'ctl00_ContentPlaceHolder1_Result1_ddlState\\' onchange=\\'return GetResult(this)\\' name=\\'\\'>\\r\\n                                                            <option selected=\\'selected\\' value=\\'Select State\\'>Select State</option>\\r\\n                                                            \\r\\n                                                                                     <option value=\\'U051\\' >NCT OF Delhi</option>\\r\\n                                                                                     \\r\\n                                                            \\r\\n                                                        </select>\\r\\n                                                    </td>\\r\\n                                                </tr>\\r\\n                                            </tbody>\\r\\n                                        </table>\\r\\n                                        <br>\\r\\n                                        <table width=\\'100%\\'>\\r\\n                                            <tbody>\\r\\n                                                <tr>\\r\\n                                                    <td style=\\'width: 100%\\'>\\r\\n                                                        <div style=\\'border-bottom-style: none; border-right-style: none; border-top-style: none;\\r\\n                                                        table-layout: auto; border-left-style: none\\' id=\\'divACList\\'>\\r\\n                                                            <table style=\\'margin: auto; width: 100%; font-family: Verdana; border: solid 1px black;font-weight:lighter\\' border=\\'1\\'><tbody id=\\'ElectionResult\\'><tr style=\\'height: 20px; background-color: #FFC0CD; color:Black;\\'><td colspan=\\'11\\' align=\\'center\\'><b><h3>NCT OF Delhi <br>Result Status</h3></b></td></tr><tr style=\\'height: 20px; background-color: #FFC0CD; color:Black;\\'><td colspan=\\'8\\' align=\\'center\\'><b><div style=\\'font-size: 10px\\' id=\\'divStatus\\'> Status Known For 70 out of 70 Constituencies</div></b></td><td colspan=\\'3\\' align=\\'center\\'><b><div style=\\'font-size: 10px\\'>Assembly Election Result 2015</div></b></td></tr><tr style=\\'height: 20px; background-color: #FFC0CD; color:Black;\\'> <th align=\\'left\\'>Constituency</th> <th>Const. No.</th><th align=\\'left\\'>Leading Candidate</th><th>Leading Party</th><th align=\\'left\\'>Trailing Candidate</th><th align=\\'left\\'>Trailing Party</th><th>Margin</th><th>Status</th><th>Winning Candidate</th><th>Winning Party</th><th>Margin</th></tr>\\r\\n                                                                \\r\\n                                                            <tr>\\r\\n                                                            \\r\\n                                                            <td colspan=\\'11\\' align=\\'center\\'>&nbsp;<a href=\\'#\\'>&lt;&lt; Previous</a>&nbsp; &nbsp;<a href=statewiseU051.htm>1</a>&nbsp;&nbsp;<a href=statewiseU052.htm>2</a>&nbsp;&nbsp;<a href=statewiseU053.htm>3</a>&nbsp;&nbsp;<a href=statewiseU054.htm>4</a>&nbsp;&nbsp;<a href=statewiseU055.htm>5</a>&nbsp;&nbsp;<a href=statewiseU056.htm>6</a>&nbsp;&nbsp;<a href=statewiseU057.htm>7</a>&nbsp;  <a href=\\'#\\'>Next &gt;&gt;</a></td>\\r\\n                                                 \\r\\n</tr>\\r\\n \\r\\n   <tr style=\\'font-size:12px;\\'><td align=\\'left\\'>ADARSH NAGAR</td><td align=\\'center\\'>4</td><td align=\\'left\\'>PAWAN SHARMA</td><td align=\\'left\\'><table><tbody><tr><td>Aam Aadmi Party</td><td style=\\'vertical-align:top\\'><span class=\\'tooltip-icon\\' style=\\'display:block\\'>i</span><div class=\\'tooltip\\'><h3>Current Assembly Election Result</h3><table><tbody><tr><td>Leading In</td><td>:</td><td>0</td></tr><tr><td>Won In</td><td>:</td><td>62</td></tr><tr><td>Trailing In</td><td>:</td><td>0</td></tr></tbody></table></div></td></tr></tbody></table></td><td align=\\'left\\'>RAJ KUMAR BHATIA</td><td align=\\'left\\'><table><tbody><tr><td>Bharatiya Janata Party</td>\\r\\n                               \\r\\n                               <td style=\\'vertical-align:top\\'><span class=\\'tooltip-icon\\' style=\\'display:block\\'>i</span><div class=\\'tooltip\\'><h3>Current Assembly Election Result</h3><table><tbody><tr><td>Leading In</td><td>:0</td><td></td></tr><tr><td>Won In</td><td>:8</td><td></td></tr><tr><td>Trailing In</td><td>:</td><td>0</td></tr></tbody></table>\\r\\n                                    </div>\\r\\n                                \\r\\n\\r\\n                               </td></tr></tbody></table></td>\\r\\n\\r\\n                               <td align=\\'right\\'>1589</td><td align=\\'center\\'>Result Declared</td><td style=\\'background-color: lightgray;\\' align=\\'center\\'>PAWAN KUMAR SHARMA</td><td style=\\'background-color: lightgray;\\' align=\\'center\\'>Aam Aadmi Party</td><td style=\\'background-color: lightgray;\\' align=\\'center\\'>20741</td></tr><tr style=\\'font-size:12px;\\'><td align=\\'left\\'>AMBEDKAR NAGAR(SC)</td><td align=\\'center\\'>48</td><td align=\\'left\\'>AJAY DUTT</td><td align=\\'left\\'><table><tbody><tr><td>Aam Aadmi Party</td><td style=\\'vertical-align:top\\'><span class=\\'tooltip-icon\\' style=\\'display:block\\'>i</span><div class=\\'tooltip\\'><h3>Current Assembly Election Result</h3><table><tbody><tr><td>Leading In</td><td>:</td><td>0</td></tr><tr><td>Won In</td><td>:</td><td>62</td></tr><tr><td>Trailing In</td><td>:</td><td>0</td></tr></tbody></table></div></td></tr></tbody></table></td><td align=\\'left\\'>KHUSHIRAM CHUNAR</td><td align=\\'left\\'><table><tbody><tr><td>Bharatiya Janata Party</td>\\r\\n                               \\r\\n                               <td style=\\'vertical-align:top\\'><span class=\\'tooltip-icon\\' style=\\'display:block\\'>i</span><div class=\\'tooltip\\'><h3>Current Assembly Election Result</h3><table><tbody><tr><td>Leading In</td><td>:0</td><td></td></tr><tr><td>Won In</td><td>:8</td><td></td></tr><tr><td>Trailing In</td><td>:</td><td>0</td></tr></tbody></table>\\r\\n                                    </div>\\r\\n                                \\r\\n\\r\\n                               </td></tr></tbody></table></td>\\r\\n\\r\\n                               <td align=\\'right\\'>28327</td><td align=\\'center\\'>Result Declared</td><td style=\\'background-color: lightgray;\\' align=\\'center\\'>AJAY DUTT</td><td style=\\'background-color: lightgray;\\' align=\\'center\\'>Aam Aadmi Party</td><td style=\\'background-color: lightgray;\\' align=\\'center\\'>42460</td></tr><tr style=\\'font-size:12px;\\'><td align=\\'left\\'>BABARPUR</td><td align=\\'center\\'>67</td><td align=\\'left\\'>GOPAL RAI</td><td align=\\'left\\'><table><tbody><tr><td>Aam Aadmi Party</td><td style=\\'vertical-align:top\\'><span class=\\'tooltip-icon\\' style=\\'display:block\\'>i</span><div class=\\'tooltip\\'><h3>Current Assembly Election Result</h3><table><tbody><tr><td>Leading In</td><td>:</td><td>0</td></tr><tr><td>Won In</td><td>:</td><td>62</td></tr><tr><td>Trailing In</td><td>:</td><td>0</td></tr></tbody></table></div></td></tr></tbody></table></td><td align=\\'left\\'>NARESH GAUR</td><td align=\\'left\\'><table><tbody><tr><td>Bharatiya Janata Party</td>\\r\\n                               \\r\\n                               <td style=\\'vertical-align:top\\'><span class=\\'tooltip-icon\\' style=\\'display:block\\'>i</span><div class=\\'tooltip\\'><h3>Current Assembly Election Result</h3><table><tbody><tr><td>Leading In</td><td>:0</td><td></td></tr><tr><td>Won In</td><td>:8</td><td></td></tr><tr><td>Trailing In</td><td>:</td><td>0</td></tr></tbody></table>\\r\\n                                    </div>\\r\\n                                \\r\\n\\r\\n                               </td></tr></tbody></table></td>\\r\\n\\r\\n                               <td align=\\'right\\'>33062</td><td align=\\'center\\'>Result Declared</td><td style=\\'background-color: lightgray;\\' align=\\'center\\'>GOPAL RAI</td><td style=\\'background-color: lightgray;\\' align=\\'center\\'>Aam Aadmi Party</td><td style=\\'background-color: lightgray;\\' align=\\'center\\'>35271</td></tr><tr style=\\'font-size:12px;\\'><td align=\\'left\\'>BADARPUR</td><td align=\\'center\\'>53</td><td align=\\'left\\'>RAMVIR SINGH BIDHURI</td><td align=\\'left\\'><table><tbody><tr><td>Bharatiya Janata Party</td><td style=\\'vertical-align:top\\'><span class=\\'tooltip-icon\\' style=\\'display:block\\'>i</span><div class=\\'tooltip\\'><h3>Current Assembly Election Result</h3><table><tbody><tr><td>Leading In</td><td>:</td><td>0</td></tr><tr><td>Won In</td><td>:</td><td>8</td></tr><tr><td>Trailing In</td><td>:</td><td>0</td></tr></tbody></table></div></td></tr></tbody></table></td><td align=\\'left\\'>RAM SINGH NETAJI</td><td align=\\'left\\'><table><tbody><tr><td>Aam Aadmi Party</td>\\r\\n                               \\r\\n                               <td style=\\'vertical-align:top\\'><span class=\\'tooltip-icon\\' style=\\'display:block\\'>i</span><div class=\\'tooltip\\'><h3>Current Assembly Election Result</h3><table><tbody><tr><td>Leading In</td><td>:0</td><td></td></tr><tr><td>Won In</td><td>:62</td><td></td></tr><tr><td>Trailing In</td><td>:</td><td>0</td></tr></tbody></table>\\r\\n                                    </div>\\r\\n                                \\r\\n\\r\\n                               </td></tr></tbody></table></td>\\r\\n\\r\\n                               <td align=\\'right\\'>3719</td><td align=\\'center\\'>Result Declared</td><td style=\\'background-color: lightgray;\\' align=\\'center\\'>NARAYAN DUTT SHARMA</td><td style=\\'background-color: lightgray;\\' align=\\'center\\'>Aam Aadmi Party</td><td style=\\'background-color: lightgray;\\' align=\\'center\\'>47583</td></tr><tr style=\\'font-size:12px;\\'><td align=\\'left\\'>BADLI</td><td align=\\'center\\'>5</td><td align=\\'left\\'>AJESH YADAV</td><td align=\\'left\\'><table><tbody><tr><td>Aam Aadmi Party</td><td style=\\'vertical-align:top\\'><span class=\\'tooltip-icon\\' style=\\'display:block\\'>i</span><div class=\\'tooltip\\'><h3>Current Assembly Election Result</h3><table><tbody><tr><td>Leading In</td><td>:</td><td>0</td></tr><tr><td>Won In</td><td>:</td><td>62</td></tr><tr><td>Trailing In</td><td>:</td><td>0</td></tr></tbody></table></div></td></tr></tbody></table></td><td align=\\'left\\'>VIJAY KUMAR BHAGAT</td><td align=\\'left\\'><table><tbody><tr><td>Bharatiya Janata Party</td>\\r\\n                               \\r\\n                               <td style=\\'vertical-align:top\\'><span class=\\'tooltip-icon\\' style=\\'display:block\\'>i</span><div class=\\'tooltip\\'><h3>Current Assembly Election Result</h3><table><tbody><tr><td>Leading In</td><td>:0</td><td></td></tr><tr><td>Won In</td><td>:8</td><td></td></tr><tr><td>Trailing In</td><td>:</td><td>0</td></tr></tbody></table>\\r\\n                                    </div>\\r\\n                                \\r\\n\\r\\n                               </td></tr></tbody></table></td>\\r\\n\\r\\n                               <td align=\\'right\\'>29123</td><td align=\\'center\\'>Result Declared</td><td style=\\'background-color: lightgray;\\' align=\\'center\\'>AJESH YADAV</td><td style=\\'background-color: lightgray;\\' align=\\'center\\'>Aam Aadmi Party</td><td style=\\'background-color: lightgray;\\' align=\\'center\\'>35376</td></tr><tr style=\\'font-size:12px;\\'><td align=\\'left\\'>BALLIMARAN</td><td align=\\'center\\'>22</td><td align=\\'left\\'>IMRAN HUSSAIN</td><td align=\\'left\\'><table><tbody><tr><td>Aam Aadmi Party</td><td style=\\'vertical-align:top\\'><span class=\\'tooltip-icon\\' style=\\'display:block\\'>i</span><div class=\\'tooltip\\'><h3>Current Assembly Election Result</h3><table><tbody><tr><td>Leading In</td><td>:</td><td>0</td></tr><tr><td>Won In</td><td>:</td><td>62</td></tr><tr><td>Trailing In</td><td>:</td><td>0</td></tr></tbody></table></div></td></tr></tbody></table></td><td align=\\'left\\'>LATA</td><td align=\\'left\\'><table><tbody><tr><td>Bharatiya Janata Party</td>\\r\\n                               \\r\\n                               <td style=\\'vertical-align:top\\'><span class=\\'tooltip-icon\\' style=\\'display:block\\'>i</span><div class=\\'tooltip\\'><h3>Current Assembly Election Result</h3><table><tbody><tr><td>Leading In</td><td>:0</td><td></td></tr><tr><td>Won In</td><td>:8</td><td></td></tr><tr><td>Trailing In</td><td>:</td><td>0</td></tr></tbody></table>\\r\\n                                    </div>\\r\\n                                \\r\\n\\r\\n                               </td></tr></tbody></table></td>\\r\\n\\r\\n                               <td align=\\'right\\'>36172</td><td align=\\'center\\'>Result Declared</td><td style=\\'background-color: lightgray;\\' align=\\'center\\'>IMRAN HUSSAIN</td><td style=\\'background-color: lightgray;\\' align=\\'center\\'>Aam Aadmi Party</td><td style=\\'background-color: lightgray;\\' align=\\'center\\'>33877</td></tr><tr style=\\'font-size:12px;\\'><td align=\\'left\\'>BAWANA(SC)</td><td align=\\'center\\'>7</td><td align=\\'left\\'>JAI BHAGWAN</td><td align=\\'left\\'><table><tbody><tr><td>Aam Aadmi Party</td><td style=\\'vertical-align:top\\'><span class=\\'tooltip-icon\\' style=\\'display:block\\'>i</span><div class=\\'tooltip\\'><h3>Current Assembly Election Result</h3><table><tbody><tr><td>Leading In</td><td>:</td><td>0</td></tr><tr><td>Won In</td><td>:</td><td>62</td></tr><tr><td>Trailing In</td><td>:</td><td>0</td></tr></tbody></table></div></td></tr></tbody></table></td><td align=\\'left\\'>RAVINDER KUMAR</td><td align=\\'left\\'><table><tbody><tr><td>Bharatiya Janata Party</td>\\r\\n                               \\r\\n                               <td style=\\'vertical-align:top\\'><span class=\\'tooltip-icon\\' style=\\'display:block\\'>i</span><div class=\\'tooltip\\'><h3>Current Assembly Election Result</h3><table><tbody><tr><td>Leading In</td><td>:0</td><td></td></tr><tr><td>Won In</td><td>:8</td><td></td></tr><tr><td>Trailing In</td><td>:</td><td>0</td></tr></tbody></table>\\r\\n                                    </div>\\r\\n                                \\r\\n\\r\\n                               </td></tr></tbody></table></td>\\r\\n\\r\\n                               <td align=\\'right\\'>11526</td><td align=\\'center\\'>Result Declared</td><td style=\\'background-color: lightgray;\\' align=\\'center\\'>VED PARKASH</td><td style=\\'background-color: lightgray;\\' align=\\'center\\'>Aam Aadmi Party</td><td style=\\'background-color: lightgray;\\' align=\\'center\\'>50557</td></tr><tr style=\\'font-size:12px;\\'><td align=\\'left\\'>BIJWASAN</td><td align=\\'center\\'>36</td><td align=\\'left\\'>BHUPINDER SINGH JOON</td><td align=\\'left\\'><table><tbody><tr><td>Aam Aadmi Party</td><td style=\\'vertical-align:top\\'><span class=\\'tooltip-icon\\' style=\\'display:block\\'>i</span><div class=\\'tooltip\\'><h3>Current Assembly Election Result</h3><table><tbody><tr><td>Leading In</td><td>:</td><td>0</td></tr><tr><td>Won In</td><td>:</td><td>62</td></tr><tr><td>Trailing In</td><td>:</td><td>0</td></tr></tbody></table></div></td></tr></tbody></table></td><td align=\\'left\\'>SAT PRAKASH RANA</td><td align=\\'left\\'><table><tbody><tr><td>Bharatiya Janata Party</td>\\r\\n                               \\r\\n                               <td style=\\'vertical-align:top\\'><span class=\\'tooltip-icon\\' style=\\'display:block\\'>i</span><div class=\\'tooltip\\'><h3>Current Assembly Election Result</h3><table><tbody><tr><td>Leading In</td><td>:0</td><td></td></tr><tr><td>Won In</td><td>:8</td><td></td></tr><tr><td>Trailing In</td><td>:</td><td>0</td></tr></tbody></table>\\r\\n                                    </div>\\r\\n                                \\r\\n\\r\\n                               </td></tr></tbody></table></td>\\r\\n\\r\\n                               <td align=\\'right\\'>753</td><td align=\\'center\\'>Result Declared</td><td style=\\'background-color: lightgray;\\' align=\\'center\\'>COL DEVINDER SEHRAWAT</td><td style=\\'background-color: lightgray;\\' align=\\'center\\'>Aam Aadmi Party</td><td style=\\'background-color: lightgray;\\' align=\\'center\\'>19536</td></tr><tr style=\\'font-size:12px;\\'><td align=\\'left\\'>BURARI</td><td align=\\'center\\'>2</td><td align=\\'left\\'>SANJEEV JHA</td><td align=\\'left\\'><table><tbody><tr><td>Aam Aadmi Party</td><td style=\\'vertical-align:top\\'><span class=\\'tooltip-icon\\' style=\\'display:block\\'>i</span><div class=\\'tooltip\\'><h3>Current Assembly Election Result</h3><table><tbody><tr><td>Leading In</td><td>:</td><td>0</td></tr><tr><td>Won In</td><td>:</td><td>62</td></tr><tr><td>Trailing In</td><td>:</td><td>0</td></tr></tbody></table></div></td></tr></tbody></table></td><td align=\\'left\\'>SHAILENDRA KUMAR</td><td align=\\'left\\'><table><tbody><tr><td>Janata Dal (United)</td>\\r\\n                               \\r\\n                               <td style=\\'vertical-align:top\\'><span class=\\'tooltip-icon\\' style=\\'display:block\\'>i</span><div class=\\'tooltip\\'><h3>Current Assembly Election Result</h3><table><tbody><tr><td>Leading In</td><td>:0</td><td></td></tr><tr><td>Won In</td><td>:0</td><td></td></tr><tr><td>Trailing In</td><td>:</td><td>0</td></tr></tbody></table>\\r\\n                                    </div>\\r\\n                                \\r\\n\\r\\n                               </td></tr></tbody></table></td>\\r\\n\\r\\n                               <td align=\\'right\\'>88158</td><td align=\\'center\\'>Result Declared</td><td style=\\'background-color: lightgray;\\' align=\\'center\\'>SANJEEV JHA</td><td style=\\'background-color: lightgray;\\' align=\\'center\\'>Aam Aadmi Party</td><td style=\\'background-color: lightgray;\\' align=\\'center\\'>67950</td></tr><tr style=\\'font-size:12px;\\'><td align=\\'left\\'>CHANDNI CHOWK</td><td align=\\'center\\'>20</td><td align=\\'left\\'>PARLAD SINGH SAWHNEY</td><td align=\\'left\\'><table><tbody><tr><td>Aam Aadmi Party</td><td style=\\'vertical-align:top\\'><span class=\\'tooltip-icon\\' style=\\'display:block\\'>i</span><div class=\\'tooltip\\'><h3>Current Assembly Election Result</h3><table><tbody><tr><td>Leading In</td><td>:</td><td>0</td></tr><tr><td>Won In</td><td>:</td><td>62</td></tr><tr><td>Trailing In</td><td>:</td><td>0</td></tr></tbody></table></div></td></tr></tbody></table></td><td align=\\'left\\'>SUMAN KUMAR GUPTA</td><td align=\\'left\\'><table><tbody><tr><td>Bharatiya Janata Party</td>\\r\\n                               \\r\\n                               <td style=\\'vertical-align:top\\'><span class=\\'tooltip-icon\\' style=\\'display:block\\'>i</span><div class=\\'tooltip\\'><h3>Current Assembly Election Result</h3><table><tbody><tr><td>Leading In</td><td>:0</td><td></td></tr><tr><td>Won In</td><td>:8</td><td></td></tr><tr><td>Trailing In</td><td>:</td><td>0</td></tr></tbody></table>\\r\\n                                    </div>\\r\\n                                \\r\\n\\r\\n                               </td></tr></tbody></table></td>\\r\\n\\r\\n                               <td align=\\'right\\'>29584</td><td align=\\'center\\'>Result Declared</td><td style=\\'background-color: lightgray;\\' align=\\'center\\'>ALKA  LAMBA</td><td style=\\'background-color: lightgray;\\' align=\\'center\\'>Aam Aadmi Party</td><td style=\\'background-color: lightgray;\\' align=\\'center\\'>18287</td></tr>\\r\\n\\r\\n</div>\\r\\n                                                    </td>\\r\\n                                                </tr>\\r\\n                                            </tbody>\\r\\n                                        </table>\\r\\n                                    </td>\\r\\n                                </tr>\\r\\n                                <tr id=\\'customMessage\\' style=\\'display: none\\'>\\r\\n                                       <td align=\\'center\\'>\\r\\n                                           <table width=\\'100%\\'>\\r\\n                                               <tbody><tr>\\r\\n                                                   <td align=\\'center\\'>\\r\\n                                                       \\r\\n                                                   </td>\\r\\n                                               </tr>\\r\\n                                           </tbody></table>\\r\\n                                           <br>\\r\\n                                       </td>\\r\\n                                   </tr>\\r\\n                                <tr style=\\'height: 50px\\'>\\r\\n                                    <td></td>\\r\\n                                </tr>\\r\\n                               <tr>\\r\\n<td style=\\'font-weight: bold\\' align=\\'center\\'>&nbsp;</td></tr>\\r\\n           <tr><td style=\\'font-weight: bold\\' align=\\'center\\'>Disclaimer</td></tr>\\r\\n           <tr>\\r\\n                <td style=\\'font-weight: normal\\' align=\\'center\\'>\\r\\n                <p class=\"disclaimer-wide\">ECI is displaying the information as being filled in the system by the Returning Officers from their respective Counting Centers.</p>\\r\\n                </td>\\r\\n            </tr\\r\\n                     <tr>\\r\\n                                    <td style=\\'font-weight: normal\\' align=\\'center\\'>\\r\\n                                   <!-- Last Updated at 10:27 pm On 11/02/2020 -->\\r\\n                                            \\r\\n                                    </td>\\r\\n                                </tr>\\r\\n                            </tbody></table>\\r\\n                        </td>\\r\\n                    </tr>\\r\\n                </tbody>\\r\\n            </table>\\r\\n        </div>\\r\\n        <script type=\\'text/javascript\\'>\\r\\n            var ctl00_Menu1_Data = new Object();\\r\\n            ctl00_Menu1_Data.disappearAfter = 500;\\r\\n            ctl00_Menu1_Data.horizontalOffset = 2;\\r\\n            ctl00_Menu1_Data.verticalOffset = 0;\\r\\n            ctl00_Menu1_Data.hoverClass = \\'ctl00_Menu1_15\\';\\r\\n            ctl00_Menu1_Data.hoverHyperLinkClass = \\'ctl00_Menu1_14\\';\\r\\n            ctl00_Menu1_Data.staticHoverClass = \\'ctl00_Menu1_13\\';\\r\\n            ctl00_Menu1_Data.staticHoverHyperLinkClass = \\'ctl00_Menu1_12\\';\\r\\n        </script>\\r\\n        <script language=\\'javascript\\' type=\\'text/javascript\\'>\\r\\n            var currentPageName = window.location.pathname.toLowerCase();\\r\\n            if (currentPageName != null && ((currentPageName.indexOf(\\'statewises20\\') != -1) || (currentPageName.indexOf(\\'statewises20\\') != -1))) {\\r\\n                document.getElementById(\\'customMessage\\').style.display = \\'block\\';\\r\\n            }\\r\\n        </script>\\r\\n  \\r\\n</body></html>'"
            ]
          },
          "metadata": {
            "tags": []
          },
          "execution_count": 3
        }
      ]
    },
    {
      "cell_type": "code",
      "metadata": {
        "id": "mvfuSUt7B87N",
        "colab_type": "code",
        "colab": {}
      },
      "source": [
        "soup = BeautifulSoup(source.content, 'lxml')"
      ],
      "execution_count": 0,
      "outputs": []
    },
    {
      "cell_type": "code",
      "metadata": {
        "id": "fLrUCzHfCJuL",
        "colab_type": "code",
        "outputId": "3eaf30ee-d7c3-4bee-8aec-736afc361340",
        "colab": {
          "base_uri": "https://localhost:8080/",
          "height": 1000
        }
      },
      "source": [
        "soup"
      ],
      "execution_count": 0,
      "outputs": [
        {
          "output_type": "execute_result",
          "data": {
            "text/plain": [
              "<!DOCTYPE html>\n",
              "<html><head>\n",
              "<title>Election Commission of India</title>\n",
              "<meta content=\"en-us\" http-equiv=\"Content-Language\"/>\n",
              "<meta content=\"text/html; charset=utf-8\" http-equiv=\"Content-Type\"/>\n",
              "<meta content=\"IE=7\" http-equiv=\"X-UA-Compatible\"/>\n",
              "<meta content=\"no-cache, no-store, must-revalidate\" http-equiv=\"Cache-Control\"/>\n",
              "<meta content=\"no-cache\" http-equiv=\"Pragma\"/>\n",
              "<meta content=\"0\" http-equiv=\"Expires\"/>\n",
              "<meta content=\"abc\" http-equiv=\"refresh\"/>\n",
              "<style type=\"text/css\">\n",
              "          body{\n",
              "        font-family: Verdana;Arial, Helvetica, sans-serif; font-size: 13px;\n",
              "        width: 1024px;\n",
              "        padding: 0px;\n",
              "        margin: 0 auto;\n",
              "        background:#105980;\n",
              "    }\n",
              "    .wrap-sec{\n",
              "        text-align:center;\n",
              "                width:1024px;\n",
              "    }\n",
              "    .tabc{\n",
              "        background-color: #fff;\n",
              "        width:1024px;\n",
              "    }\n",
              "    \n",
              "    .tabc h1{\n",
              "         font-size: 26px;\n",
              "         font-weight: bold;\n",
              "    }\n",
              "    .tabc h4{\n",
              "        font-size: 16px;\n",
              "        font-weight: bold;\n",
              "        margin:0;\n",
              "    }\n",
              "        .ctl00_Menu1_0 {\n",
              "            background-color: white;\n",
              "            visibility: hidden;\n",
              "            display: none;\n",
              "            position: absolute;\n",
              "            left: 0px;\n",
              "            top: 0px;\n",
              "        }\n",
              "\n",
              "        .ctl00_Menu1_1 {\n",
              "            color: #fff;\n",
              "            font-family: Verdana;\n",
              "            text-decoration: none;\n",
              "            background:#e91e63;\n",
              "            padding:10px 15px;  \n",
              "        }\n",
              "        .disclaimer-wide {\n",
              "            margin: 10px;\n",
              "            padding: 10px;\n",
              "            text-align: center;\n",
              "            width: auto;\n",
              "            float: none;\n",
              "            border:1px solid #ddd;\n",
              "            background:#f4f4f4;\n",
              "        }\n",
              "        .ctl00_Menu1_1:hover{\n",
              "            background:#105980;\n",
              "        }\n",
              "        .ctl00_Menu1_2 {\n",
              "            color: #7C6F57;\n",
              "            background-color: transparent;\n",
              "            font-family: Verdana;\n",
              "        }\n",
              "\n",
              "        .ctl00_Menu1_3 {\n",
              "            text-decoration: none;\n",
              "        }\n",
              "\n",
              "        .ctl00_Menu1_4 {\n",
              "            padding: 2px 5px 2px 5px;\n",
              "        }\n",
              "\n",
              "        .ctl00_Menu1_12 {\n",
              "            color: white;\n",
              "        }\n",
              "\n",
              "        .ctl00_Menu1_13 {\n",
              "            background-color: #7c6f57;\n",
              "            color: white;\n",
              "        }\n",
              "\n",
              "        .ctl00_Menu1_14 {\n",
              "            color: white;\n",
              "        }\n",
              "\n",
              "        .ctl00_Menu1_15 {\n",
              "            background-color: #7c6f57;\n",
              "            color: white;\n",
              "        }\n",
              "        .table-party{\n",
              "          margin:0 auto;\n",
              "          width: 100%;\n",
              "          font-family: Verdana;\n",
              "          border: 1px solid #ddd;\n",
              "          font-weight:normal; \n",
              "        }\n",
              "        .table-party tr td, .table-party tr th{\n",
              "            padding:10px 15px;\n",
              "        }\n",
              "        .table-party tr th{\n",
              "            color: #fff;\n",
              "            background:#105980;\n",
              "        }\n",
              "        .table-party p{\n",
              "            padding:5px;\n",
              "            margin:0;\n",
              "            font-size:16px;\n",
              "        }\n",
              "        .text-uper{\n",
              "            text-transform:uppercase;\n",
              "        }\n",
              "            .refresh{\n",
              "                background: linear-gradient(to right, rgb(179, 220, 237) 0%, rgb(41, 184, 229) 50%, rgb(105, 146, 162) 100%);\n",
              "                padding-bottom:15px;\n",
              "                width:100%;\n",
              "                padding:15px;\n",
              "                max-width:994px;\n",
              "                \n",
              "            }    \n",
              "            .refresh-lft{\n",
              "                float:left;\n",
              "            }    \n",
              "            .refresh-rgt{\n",
              "                float:right;\n",
              "                text-align:right;\n",
              "            }\n",
              "            .refresh-rgt, .refresh-rgt a{\n",
              "                color:#fff;\n",
              "                text-decoration:none;\n",
              "            }  \n",
              "            .refresh-rgt a:hover{\n",
              "                    color: #e91e63;\n",
              "            }\n",
              "            .refresh-lft button{\n",
              "                background: #e91e63;\n",
              "                font-weight: bold;\n",
              "                color: #fff;\n",
              "                padding: 10px 15px;\n",
              "                box-shadow: none;\n",
              "                border: none;\n",
              "                cursor:pointer;\n",
              "                float:left;\n",
              "            }\n",
              "            .refresh-lft button:hover{\n",
              "                background: #105980;\n",
              "            }\n",
              "            .clear{\n",
              "                clear:both;\n",
              "            }\n",
              "\n",
              "            /*span.textmsg {\n",
              "                float: left;\n",
              "                padding: 10px;\n",
              "                font-size: 10px;\n",
              "                color: #105980;\n",
              "                font-weight: bold;\n",
              "            }*/\n",
              "            .aclink {\n",
              "                margin-top: 43px;\n",
              "                margin-right: -110px;\n",
              "            }\n",
              "            .btn-blank{\n",
              "                 float:right; padding-right:0;font-size:15px; margin-top: 10px;\n",
              "    margin-bottom: 10px;\n",
              "    margin-right: 10px;\n",
              "            }\n",
              "            .btn-blank a{\n",
              "               text-decoration:none; border:1px solid #105980; padding:4px 10px; color:#105980;     \n",
              "            }            \n",
              "            .btn-blank a:hover{\n",
              "                   background-color:#105980; color:#fff;     \n",
              "            }           \n",
              "         .disclaimer-wide {\n",
              "    margin: 10px;\n",
              "    padding: 10px;\n",
              "    text-align: center;\n",
              "    width: auto;\n",
              "    float: none;\n",
              "    border:1px solid #ddd;\n",
              "    background:#f4f4f4;\n",
              "}\n",
              "@media screen and (max-width: 1023px) {\n",
              " .wrap-sec, .refresh, body, .tabc {\n",
              "    width: 100%;\n",
              "}\n",
              "body{\n",
              "    padding:0 15px;\n",
              "}\n",
              ".refresh-rgt {\n",
              "    padding-right: 25px;\n",
              "}\n",
              "}\n",
              "              \n",
              "         .custom-cell-style {\n",
              "            padding-right: 16px;\n",
              "            display: inline-block;\n",
              "        }\n",
              "\n",
              "        .tooltip-icon {\n",
              "            border-radius: 50%;\n",
              "            background: #000;\n",
              "            color: #fff;\n",
              "            width: 15px;\n",
              "            height: 15px;\n",
              "            display: block;\n",
              "            text-align: center;\n",
              "            padding-left: 1px;\n",
              "        }\n",
              "\n",
              "            .tooltip-icon:hover + .tooltip {\n",
              "                display: block;\n",
              "            }\n",
              "\n",
              "        .tooltip:hover {\n",
              "            display: block;\n",
              "        }\n",
              "\n",
              "        .tooltip {\n",
              "            position: absolute;\n",
              "            width: 300px;\n",
              "            height: auto;\n",
              "            display: none;\n",
              "            border: 1px solid #000;\n",
              "            padding: 5px;\n",
              "            background: #fff;\n",
              "            margin-left: 5px;\n",
              "            margin-top: -10px;\n",
              "        }\n",
              "\n",
              "            .tooltip > table tr td:first-child {\n",
              "                font-weight: bold;\n",
              "                font-size: 12px;\n",
              "            }\n",
              "\n",
              "        \n",
              "        h3 {\n",
              "            margin-top: 0px;\n",
              "            text-align: center;\n",
              "            margin-bottom: 5px;\n",
              "        }\n",
              "        #ElectionResult  tr td > table{\n",
              "            width:100%;\n",
              "        }\n",
              "        #ElectionResult > tr > td{\n",
              "            vertical-align:middle;\n",
              "            text-align:center;\n",
              "        }\n",
              "        #ElectionResult > tr > td:nth-child(3),\n",
              "        #ElectionResult > tr > td:nth-child(4),\n",
              "        #ElectionResult > tr > td:nth-child(5),\n",
              "        #ElectionResult > tr > td:nth-child(6)\n",
              "        {\n",
              "            vertical-align:top;\n",
              "            text-align:left;\n",
              "        }\n",
              "        /*end update style for tool tip*/ \n",
              "        \n",
              "\n",
              "\n",
              ".refresh-rft{\n",
              "                background: #e91e63;\n",
              "                font-weight: bold;\n",
              "                color: #fff;\n",
              "                padding: 10px 15px;\n",
              "                box-shadow: none;\n",
              "                border: none;\n",
              "                cursor:pointer;\n",
              "                float:right;\n",
              "            }\n",
              "    </style>\n",
              "</head>\n",
              "<body>\n",
              "<div class=\"wrap-sec\">\n",
              "<div class=\"refresh\">\n",
              "<div class=\"refresh-lft\">\n",
              "<img alt=\"Election Commission of India\" class=\"ipsImage ipsImage_thumbnailed\" data-extension=\"core_Attachment\" data-fileid=\"118\" data-unique=\"cexgozu84\" src=\"img/logo.png\" style=\"height: auto;\"/>\n",
              "</div>\n",
              "<div class=\"middle-text\"></div>\n",
              "<div class=\"refresh-rgt\">\n",
              "<b>English</b>\n",
              "<span>|</span>\n",
              "<a href=\"hi/statewiseU051.htm\" style=\"font-size:18px\"><b>हिन्दी</b></a>\n",
              "<div class=\"aclink refresh-lft\"><button onclick=\"window.location.href=window.location.href\" value=\"Refresh Page\">Refresh Page</button></div>\n",
              "</div>\n",
              "<div class=\"clear\"></div>\n",
              "</div>\n",
              "<table class=\"tabc\">\n",
              "<tbody>\n",
              "<tr><td> </td></tr>\n",
              "<tr><td>\n",
              "<a href=\"search.htm\"><button class=\"refresh-rft\" value=\"Refresh Page\">Search</button></a>\n",
              "</td></tr>\n",
              "<tr>\n",
              "<td>\n",
              "</td>\n",
              "</tr>\n",
              "<tr>\n",
              "</tr><tr>\n",
              "<td colspan=\"100\" style=\"text-align: center\">\n",
              "<span class=\"btn-blank\"></span>\n",
              "</td>\n",
              "</tr>\n",
              "<tr>\n",
              "<td style=\"font-size: 16px; font-weight: bold; text-align: center\">\n",
              "<h3>GENERAL ELECTION TO VIDHAN SABHA TRENDS &amp; RESULT FEB-2020</h3>\n",
              "</td>\n",
              "</tr>\n",
              "<tr>\n",
              "<td align=\"center\" style=\"font-weight: bolder;\" valign=\"top\" width=\"20%\">\n",
              "<br/>\n",
              "<div style=\"font-size: 12px\">\n",
              "                               Click links below for\n",
              "                            </div>\n",
              "<br/>\n",
              "<table border=\"0\" cellpadding=\"0\" cellspacing=\"0\" class=\"ctl00_Menu1_2\" id=\"ctl00_Menu1\">\n",
              "<tbody><tr>\n",
              "<td id=\"ctl00_Menu1n0\">\n",
              "<table border=\"0\" cellpadding=\"0\" cellspacing=\"0\" class=\"ctl00_Menu1_4\" width=\"100%\">\n",
              "<tbody><tr>\n",
              "<td style=\"white-space: nowrap;\">\n",
              "<a class=\"ctl00_Menu1_1 ctl00_Menu1_3\" href=\"partywiseresult-U05.htm\"> Partywise</a>\n",
              "</td>\n",
              "</tr>\n",
              "</tbody></table>\n",
              "</td>\n",
              "<td style=\"width: 3px;\"></td>\n",
              "<td id=\"ctl00_Menu1n1\">\n",
              "<table border=\"0\" cellpadding=\"0\" cellspacing=\"0\" class=\"ctl00_Menu1_4\" width=\"100%\">\n",
              "<tbody><tr>\n",
              "<td style=\"white-space: nowrap;\">\n",
              "<a class=\"ctl00_Menu1_1 ctl00_Menu1_3\" href=\"ConstituencywiseU051.htm\">\n",
              "                                                      Constituencywise-All Candidates\n",
              "                                                    </a>\n",
              "</td>\n",
              "</tr>\n",
              "</tbody></table>\n",
              "</td>\n",
              "<td style=\"width: 3px;\"></td>\n",
              "<td id=\"ctl00_Menu1n2\">\n",
              "<table border=\"0\" cellpadding=\"0\" cellspacing=\"0\" class=\"ctl00_Menu1_4\" width=\"100%\">\n",
              "<tbody><tr>\n",
              "<td style=\"white-space: nowrap;\">\n",
              "<a class=\"ctl00_Menu1_1 ctl00_Menu1_3\" href=\"statewiseU051.htm\">Constituencywise Trends</a>\n",
              "</td>\n",
              "</tr>\n",
              "</tbody></table>\n",
              "</td>\n",
              "</tr>\n",
              "</tbody></table>\n",
              "<table width=\"100%\">\n",
              "<tbody><tr style=\"height: 5px\">\n",
              "<td></td>\n",
              "</tr>\n",
              "<tr>\n",
              "<td valign=\"top\" width=\"80%\">\n",
              "<script language=\"javascript\" type=\"text/javascript\">\n",
              "                                            function GetResult(ddstate) {\n",
              "                                                var statecode = ddstate.value;\n",
              "                                                if (statecode != 'Select State')\n",
              "                                                    location.href = 'statewise' + statecode + '.htm?st=' + statecode;\n",
              "                                                else\n",
              "                                                    location.href = 'statewise' + ddstate.options[1].value + '.htm?st=' + ddstate.options[1].value;\n",
              "                                            }\n",
              "                                            function SetSelectedSate() {\n",
              "                                                var ddlState = document.getElementById('ctl00_ContentPlaceHolder1_Result1_ddlState');\n",
              "                                                var stateCode = '';\n",
              "                                                var queryString = location.search.substring(1);\n",
              "                                                if (queryString != null && queryString != '') {\n",
              "                                                    stateCode = queryString.split('=')[1];\n",
              "                                                }\n",
              "                                                if (ddlState != null)\n",
              "                                                    for (var index = 0; index < ddlState.options.length; index++) {\n",
              "                                                        if (ddlState.options[index].value == stateCode) {\n",
              "                                                            ddlState.options[index].selected = true;\n",
              "                                                        }\n",
              "                                                    }\n",
              "                                            }\n",
              "                                            onload = SetSelectedSate;\n",
              "                                        </script>\n",
              "<table style=\"border-bottom: black 1px solid; border-left: black 1px solid; margin: auto;\n",
              "                                        width: 100%; font-family: Verdana; border-top: black 1px solid; font-weight: lighter;\n",
              "                                        border-right: black 1px solid\">\n",
              "<tbody>\n",
              "<tr>\n",
              "<td align=\"center\" colspan=\"2\" style=\"font-size: large\">\n",
              "                                                        Constituencywise Trends\n",
              "                                                    </td>\n",
              "</tr>\n",
              "<tr align=\"center\" style=\"background-color: #FFC0CD; height: 20px; color: black;\">\n",
              "<td colspan=\"2\" style=\"width: 50%; font-weight: 700\">\n",
              "<b>Select State</b> <select id=\"ctl00_ContentPlaceHolder1_Result1_ddlState\" name=\"\" onchange=\"return GetResult(this)\" style=\"width: 250px; height: 25px\">\n",
              "<option selected=\"selected\" value=\"Select State\">Select State</option>\n",
              "<option value=\"U051\">NCT OF Delhi</option>\n",
              "</select>\n",
              "</td>\n",
              "</tr>\n",
              "</tbody>\n",
              "</table>\n",
              "<br/>\n",
              "<table width=\"100%\">\n",
              "<tbody>\n",
              "<tr>\n",
              "<td style=\"width: 100%\">\n",
              "<div id=\"divACList\" style=\"border-bottom-style: none; border-right-style: none; border-top-style: none;\n",
              "                                                        table-layout: auto; border-left-style: none\">\n",
              "<table border=\"1\" style=\"margin: auto; width: 100%; font-family: Verdana; border: solid 1px black;font-weight:lighter\"><tbody id=\"ElectionResult\"><tr style=\"height: 20px; background-color: #FFC0CD; color:Black;\"><td align=\"center\" colspan=\"11\"><b><h3>NCT OF Delhi <br/>Result Status</h3></b></td></tr><tr style=\"height: 20px; background-color: #FFC0CD; color:Black;\"><td align=\"center\" colspan=\"8\"><b><div id=\"divStatus\" style=\"font-size: 10px\"> Status Known For 70 out of 70 Constituencies</div></b></td><td align=\"center\" colspan=\"3\"><b><div style=\"font-size: 10px\">Assembly Election Result 2015</div></b></td></tr><tr style=\"height: 20px; background-color: #FFC0CD; color:Black;\"> <th align=\"left\">Constituency</th> <th>Const. No.</th><th align=\"left\">Leading Candidate</th><th>Leading Party</th><th align=\"left\">Trailing Candidate</th><th align=\"left\">Trailing Party</th><th>Margin</th><th>Status</th><th>Winning Candidate</th><th>Winning Party</th><th>Margin</th></tr>\n",
              "<tr>\n",
              "<td align=\"center\" colspan=\"11\"> <a href=\"#\">&lt;&lt; Previous</a>   <a href=\"statewiseU051.htm\">1</a>  <a href=\"statewiseU052.htm\">2</a>  <a href=\"statewiseU053.htm\">3</a>  <a href=\"statewiseU054.htm\">4</a>  <a href=\"statewiseU055.htm\">5</a>  <a href=\"statewiseU056.htm\">6</a>  <a href=\"statewiseU057.htm\">7</a>   <a href=\"#\">Next &gt;&gt;</a></td>\n",
              "</tr>\n",
              "<tr style=\"font-size:12px;\"><td align=\"left\">ADARSH NAGAR</td><td align=\"center\">4</td><td align=\"left\">PAWAN SHARMA</td><td align=\"left\"><table><tbody><tr><td>Aam Aadmi Party</td><td style=\"vertical-align:top\"><span class=\"tooltip-icon\" style=\"display:block\">i</span><div class=\"tooltip\"><h3>Current Assembly Election Result</h3><table><tbody><tr><td>Leading In</td><td>:</td><td>0</td></tr><tr><td>Won In</td><td>:</td><td>62</td></tr><tr><td>Trailing In</td><td>:</td><td>0</td></tr></tbody></table></div></td></tr></tbody></table></td><td align=\"left\">RAJ KUMAR BHATIA</td><td align=\"left\"><table><tbody><tr><td>Bharatiya Janata Party</td>\n",
              "<td style=\"vertical-align:top\"><span class=\"tooltip-icon\" style=\"display:block\">i</span><div class=\"tooltip\"><h3>Current Assembly Election Result</h3><table><tbody><tr><td>Leading In</td><td>:0</td><td></td></tr><tr><td>Won In</td><td>:8</td><td></td></tr><tr><td>Trailing In</td><td>:</td><td>0</td></tr></tbody></table>\n",
              "</div>\n",
              "</td></tr></tbody></table></td>\n",
              "<td align=\"right\">1589</td><td align=\"center\">Result Declared</td><td align=\"center\" style=\"background-color: lightgray;\">PAWAN KUMAR SHARMA</td><td align=\"center\" style=\"background-color: lightgray;\">Aam Aadmi Party</td><td align=\"center\" style=\"background-color: lightgray;\">20741</td></tr><tr style=\"font-size:12px;\"><td align=\"left\">AMBEDKAR NAGAR(SC)</td><td align=\"center\">48</td><td align=\"left\">AJAY DUTT</td><td align=\"left\"><table><tbody><tr><td>Aam Aadmi Party</td><td style=\"vertical-align:top\"><span class=\"tooltip-icon\" style=\"display:block\">i</span><div class=\"tooltip\"><h3>Current Assembly Election Result</h3><table><tbody><tr><td>Leading In</td><td>:</td><td>0</td></tr><tr><td>Won In</td><td>:</td><td>62</td></tr><tr><td>Trailing In</td><td>:</td><td>0</td></tr></tbody></table></div></td></tr></tbody></table></td><td align=\"left\">KHUSHIRAM CHUNAR</td><td align=\"left\"><table><tbody><tr><td>Bharatiya Janata Party</td>\n",
              "<td style=\"vertical-align:top\"><span class=\"tooltip-icon\" style=\"display:block\">i</span><div class=\"tooltip\"><h3>Current Assembly Election Result</h3><table><tbody><tr><td>Leading In</td><td>:0</td><td></td></tr><tr><td>Won In</td><td>:8</td><td></td></tr><tr><td>Trailing In</td><td>:</td><td>0</td></tr></tbody></table>\n",
              "</div>\n",
              "</td></tr></tbody></table></td>\n",
              "<td align=\"right\">28327</td><td align=\"center\">Result Declared</td><td align=\"center\" style=\"background-color: lightgray;\">AJAY DUTT</td><td align=\"center\" style=\"background-color: lightgray;\">Aam Aadmi Party</td><td align=\"center\" style=\"background-color: lightgray;\">42460</td></tr><tr style=\"font-size:12px;\"><td align=\"left\">BABARPUR</td><td align=\"center\">67</td><td align=\"left\">GOPAL RAI</td><td align=\"left\"><table><tbody><tr><td>Aam Aadmi Party</td><td style=\"vertical-align:top\"><span class=\"tooltip-icon\" style=\"display:block\">i</span><div class=\"tooltip\"><h3>Current Assembly Election Result</h3><table><tbody><tr><td>Leading In</td><td>:</td><td>0</td></tr><tr><td>Won In</td><td>:</td><td>62</td></tr><tr><td>Trailing In</td><td>:</td><td>0</td></tr></tbody></table></div></td></tr></tbody></table></td><td align=\"left\">NARESH GAUR</td><td align=\"left\"><table><tbody><tr><td>Bharatiya Janata Party</td>\n",
              "<td style=\"vertical-align:top\"><span class=\"tooltip-icon\" style=\"display:block\">i</span><div class=\"tooltip\"><h3>Current Assembly Election Result</h3><table><tbody><tr><td>Leading In</td><td>:0</td><td></td></tr><tr><td>Won In</td><td>:8</td><td></td></tr><tr><td>Trailing In</td><td>:</td><td>0</td></tr></tbody></table>\n",
              "</div>\n",
              "</td></tr></tbody></table></td>\n",
              "<td align=\"right\">33062</td><td align=\"center\">Result Declared</td><td align=\"center\" style=\"background-color: lightgray;\">GOPAL RAI</td><td align=\"center\" style=\"background-color: lightgray;\">Aam Aadmi Party</td><td align=\"center\" style=\"background-color: lightgray;\">35271</td></tr><tr style=\"font-size:12px;\"><td align=\"left\">BADARPUR</td><td align=\"center\">53</td><td align=\"left\">RAMVIR SINGH BIDHURI</td><td align=\"left\"><table><tbody><tr><td>Bharatiya Janata Party</td><td style=\"vertical-align:top\"><span class=\"tooltip-icon\" style=\"display:block\">i</span><div class=\"tooltip\"><h3>Current Assembly Election Result</h3><table><tbody><tr><td>Leading In</td><td>:</td><td>0</td></tr><tr><td>Won In</td><td>:</td><td>8</td></tr><tr><td>Trailing In</td><td>:</td><td>0</td></tr></tbody></table></div></td></tr></tbody></table></td><td align=\"left\">RAM SINGH NETAJI</td><td align=\"left\"><table><tbody><tr><td>Aam Aadmi Party</td>\n",
              "<td style=\"vertical-align:top\"><span class=\"tooltip-icon\" style=\"display:block\">i</span><div class=\"tooltip\"><h3>Current Assembly Election Result</h3><table><tbody><tr><td>Leading In</td><td>:0</td><td></td></tr><tr><td>Won In</td><td>:62</td><td></td></tr><tr><td>Trailing In</td><td>:</td><td>0</td></tr></tbody></table>\n",
              "</div>\n",
              "</td></tr></tbody></table></td>\n",
              "<td align=\"right\">3719</td><td align=\"center\">Result Declared</td><td align=\"center\" style=\"background-color: lightgray;\">NARAYAN DUTT SHARMA</td><td align=\"center\" style=\"background-color: lightgray;\">Aam Aadmi Party</td><td align=\"center\" style=\"background-color: lightgray;\">47583</td></tr><tr style=\"font-size:12px;\"><td align=\"left\">BADLI</td><td align=\"center\">5</td><td align=\"left\">AJESH YADAV</td><td align=\"left\"><table><tbody><tr><td>Aam Aadmi Party</td><td style=\"vertical-align:top\"><span class=\"tooltip-icon\" style=\"display:block\">i</span><div class=\"tooltip\"><h3>Current Assembly Election Result</h3><table><tbody><tr><td>Leading In</td><td>:</td><td>0</td></tr><tr><td>Won In</td><td>:</td><td>62</td></tr><tr><td>Trailing In</td><td>:</td><td>0</td></tr></tbody></table></div></td></tr></tbody></table></td><td align=\"left\">VIJAY KUMAR BHAGAT</td><td align=\"left\"><table><tbody><tr><td>Bharatiya Janata Party</td>\n",
              "<td style=\"vertical-align:top\"><span class=\"tooltip-icon\" style=\"display:block\">i</span><div class=\"tooltip\"><h3>Current Assembly Election Result</h3><table><tbody><tr><td>Leading In</td><td>:0</td><td></td></tr><tr><td>Won In</td><td>:8</td><td></td></tr><tr><td>Trailing In</td><td>:</td><td>0</td></tr></tbody></table>\n",
              "</div>\n",
              "</td></tr></tbody></table></td>\n",
              "<td align=\"right\">29123</td><td align=\"center\">Result Declared</td><td align=\"center\" style=\"background-color: lightgray;\">AJESH YADAV</td><td align=\"center\" style=\"background-color: lightgray;\">Aam Aadmi Party</td><td align=\"center\" style=\"background-color: lightgray;\">35376</td></tr><tr style=\"font-size:12px;\"><td align=\"left\">BALLIMARAN</td><td align=\"center\">22</td><td align=\"left\">IMRAN HUSSAIN</td><td align=\"left\"><table><tbody><tr><td>Aam Aadmi Party</td><td style=\"vertical-align:top\"><span class=\"tooltip-icon\" style=\"display:block\">i</span><div class=\"tooltip\"><h3>Current Assembly Election Result</h3><table><tbody><tr><td>Leading In</td><td>:</td><td>0</td></tr><tr><td>Won In</td><td>:</td><td>62</td></tr><tr><td>Trailing In</td><td>:</td><td>0</td></tr></tbody></table></div></td></tr></tbody></table></td><td align=\"left\">LATA</td><td align=\"left\"><table><tbody><tr><td>Bharatiya Janata Party</td>\n",
              "<td style=\"vertical-align:top\"><span class=\"tooltip-icon\" style=\"display:block\">i</span><div class=\"tooltip\"><h3>Current Assembly Election Result</h3><table><tbody><tr><td>Leading In</td><td>:0</td><td></td></tr><tr><td>Won In</td><td>:8</td><td></td></tr><tr><td>Trailing In</td><td>:</td><td>0</td></tr></tbody></table>\n",
              "</div>\n",
              "</td></tr></tbody></table></td>\n",
              "<td align=\"right\">36172</td><td align=\"center\">Result Declared</td><td align=\"center\" style=\"background-color: lightgray;\">IMRAN HUSSAIN</td><td align=\"center\" style=\"background-color: lightgray;\">Aam Aadmi Party</td><td align=\"center\" style=\"background-color: lightgray;\">33877</td></tr><tr style=\"font-size:12px;\"><td align=\"left\">BAWANA(SC)</td><td align=\"center\">7</td><td align=\"left\">JAI BHAGWAN</td><td align=\"left\"><table><tbody><tr><td>Aam Aadmi Party</td><td style=\"vertical-align:top\"><span class=\"tooltip-icon\" style=\"display:block\">i</span><div class=\"tooltip\"><h3>Current Assembly Election Result</h3><table><tbody><tr><td>Leading In</td><td>:</td><td>0</td></tr><tr><td>Won In</td><td>:</td><td>62</td></tr><tr><td>Trailing In</td><td>:</td><td>0</td></tr></tbody></table></div></td></tr></tbody></table></td><td align=\"left\">RAVINDER KUMAR</td><td align=\"left\"><table><tbody><tr><td>Bharatiya Janata Party</td>\n",
              "<td style=\"vertical-align:top\"><span class=\"tooltip-icon\" style=\"display:block\">i</span><div class=\"tooltip\"><h3>Current Assembly Election Result</h3><table><tbody><tr><td>Leading In</td><td>:0</td><td></td></tr><tr><td>Won In</td><td>:8</td><td></td></tr><tr><td>Trailing In</td><td>:</td><td>0</td></tr></tbody></table>\n",
              "</div>\n",
              "</td></tr></tbody></table></td>\n",
              "<td align=\"right\">11526</td><td align=\"center\">Result Declared</td><td align=\"center\" style=\"background-color: lightgray;\">VED PARKASH</td><td align=\"center\" style=\"background-color: lightgray;\">Aam Aadmi Party</td><td align=\"center\" style=\"background-color: lightgray;\">50557</td></tr><tr style=\"font-size:12px;\"><td align=\"left\">BIJWASAN</td><td align=\"center\">36</td><td align=\"left\">BHUPINDER SINGH JOON</td><td align=\"left\"><table><tbody><tr><td>Aam Aadmi Party</td><td style=\"vertical-align:top\"><span class=\"tooltip-icon\" style=\"display:block\">i</span><div class=\"tooltip\"><h3>Current Assembly Election Result</h3><table><tbody><tr><td>Leading In</td><td>:</td><td>0</td></tr><tr><td>Won In</td><td>:</td><td>62</td></tr><tr><td>Trailing In</td><td>:</td><td>0</td></tr></tbody></table></div></td></tr></tbody></table></td><td align=\"left\">SAT PRAKASH RANA</td><td align=\"left\"><table><tbody><tr><td>Bharatiya Janata Party</td>\n",
              "<td style=\"vertical-align:top\"><span class=\"tooltip-icon\" style=\"display:block\">i</span><div class=\"tooltip\"><h3>Current Assembly Election Result</h3><table><tbody><tr><td>Leading In</td><td>:0</td><td></td></tr><tr><td>Won In</td><td>:8</td><td></td></tr><tr><td>Trailing In</td><td>:</td><td>0</td></tr></tbody></table>\n",
              "</div>\n",
              "</td></tr></tbody></table></td>\n",
              "<td align=\"right\">753</td><td align=\"center\">Result Declared</td><td align=\"center\" style=\"background-color: lightgray;\">COL DEVINDER SEHRAWAT</td><td align=\"center\" style=\"background-color: lightgray;\">Aam Aadmi Party</td><td align=\"center\" style=\"background-color: lightgray;\">19536</td></tr><tr style=\"font-size:12px;\"><td align=\"left\">BURARI</td><td align=\"center\">2</td><td align=\"left\">SANJEEV JHA</td><td align=\"left\"><table><tbody><tr><td>Aam Aadmi Party</td><td style=\"vertical-align:top\"><span class=\"tooltip-icon\" style=\"display:block\">i</span><div class=\"tooltip\"><h3>Current Assembly Election Result</h3><table><tbody><tr><td>Leading In</td><td>:</td><td>0</td></tr><tr><td>Won In</td><td>:</td><td>62</td></tr><tr><td>Trailing In</td><td>:</td><td>0</td></tr></tbody></table></div></td></tr></tbody></table></td><td align=\"left\">SHAILENDRA KUMAR</td><td align=\"left\"><table><tbody><tr><td>Janata Dal (United)</td>\n",
              "<td style=\"vertical-align:top\"><span class=\"tooltip-icon\" style=\"display:block\">i</span><div class=\"tooltip\"><h3>Current Assembly Election Result</h3><table><tbody><tr><td>Leading In</td><td>:0</td><td></td></tr><tr><td>Won In</td><td>:0</td><td></td></tr><tr><td>Trailing In</td><td>:</td><td>0</td></tr></tbody></table>\n",
              "</div>\n",
              "</td></tr></tbody></table></td>\n",
              "<td align=\"right\">88158</td><td align=\"center\">Result Declared</td><td align=\"center\" style=\"background-color: lightgray;\">SANJEEV JHA</td><td align=\"center\" style=\"background-color: lightgray;\">Aam Aadmi Party</td><td align=\"center\" style=\"background-color: lightgray;\">67950</td></tr><tr style=\"font-size:12px;\"><td align=\"left\">CHANDNI CHOWK</td><td align=\"center\">20</td><td align=\"left\">PARLAD SINGH SAWHNEY</td><td align=\"left\"><table><tbody><tr><td>Aam Aadmi Party</td><td style=\"vertical-align:top\"><span class=\"tooltip-icon\" style=\"display:block\">i</span><div class=\"tooltip\"><h3>Current Assembly Election Result</h3><table><tbody><tr><td>Leading In</td><td>:</td><td>0</td></tr><tr><td>Won In</td><td>:</td><td>62</td></tr><tr><td>Trailing In</td><td>:</td><td>0</td></tr></tbody></table></div></td></tr></tbody></table></td><td align=\"left\">SUMAN KUMAR GUPTA</td><td align=\"left\"><table><tbody><tr><td>Bharatiya Janata Party</td>\n",
              "<td style=\"vertical-align:top\"><span class=\"tooltip-icon\" style=\"display:block\">i</span><div class=\"tooltip\"><h3>Current Assembly Election Result</h3><table><tbody><tr><td>Leading In</td><td>:0</td><td></td></tr><tr><td>Won In</td><td>:8</td><td></td></tr><tr><td>Trailing In</td><td>:</td><td>0</td></tr></tbody></table>\n",
              "</div>\n",
              "</td></tr></tbody></table></td>\n",
              "<td align=\"right\">29584</td><td align=\"center\">Result Declared</td><td align=\"center\" style=\"background-color: lightgray;\">ALKA  LAMBA</td><td align=\"center\" style=\"background-color: lightgray;\">Aam Aadmi Party</td><td align=\"center\" style=\"background-color: lightgray;\">18287</td></tr>\n",
              "</tbody>\n",
              "</table>\n",
              "</div></td>\n",
              "</tr>\n",
              "<tr id=\"customMessage\" style=\"display: none\">\n",
              "<td align=\"center\">\n",
              "<table width=\"100%\">\n",
              "<tbody><tr>\n",
              "<td align=\"center\">\n",
              "</td>\n",
              "</tr>\n",
              "</tbody></table>\n",
              "<br/>\n",
              "</td>\n",
              "</tr>\n",
              "<tr style=\"height: 50px\">\n",
              "<td></td>\n",
              "</tr>\n",
              "<tr>\n",
              "<td align=\"center\" style=\"font-weight: bold\"> </td></tr>\n",
              "<tr><td align=\"center\" style=\"font-weight: bold\">Disclaimer</td></tr>\n",
              "<tr>\n",
              "<td align=\"center\" style=\"font-weight: normal\">\n",
              "<p class=\"disclaimer-wide\">ECI is displaying the information as being filled in the system by the Returning Officers from their respective Counting Centers.</p>\n",
              "</td>\n",
              "</tr>\n",
              "<td align=\"center\" style=\"font-weight: normal\">\n",
              "<!-- Last Updated at 10:27 pm On 11/02/2020 -->\n",
              "</td>\n",
              "</tbody></table>\n",
              "</td>\n",
              "</tr>\n",
              "</tbody>\n",
              "</table>\n",
              "<script type=\"text/javascript\">\n",
              "            var ctl00_Menu1_Data = new Object();\n",
              "            ctl00_Menu1_Data.disappearAfter = 500;\n",
              "            ctl00_Menu1_Data.horizontalOffset = 2;\n",
              "            ctl00_Menu1_Data.verticalOffset = 0;\n",
              "            ctl00_Menu1_Data.hoverClass = 'ctl00_Menu1_15';\n",
              "            ctl00_Menu1_Data.hoverHyperLinkClass = 'ctl00_Menu1_14';\n",
              "            ctl00_Menu1_Data.staticHoverClass = 'ctl00_Menu1_13';\n",
              "            ctl00_Menu1_Data.staticHoverHyperLinkClass = 'ctl00_Menu1_12';\n",
              "        </script>\n",
              "<script language=\"javascript\" type=\"text/javascript\">\n",
              "            var currentPageName = window.location.pathname.toLowerCase();\n",
              "            if (currentPageName != null && ((currentPageName.indexOf('statewises20') != -1) || (currentPageName.indexOf('statewises20') != -1))) {\n",
              "                document.getElementById('customMessage').style.display = 'block';\n",
              "            }\n",
              "        </script>\n",
              "</td></tr></tbody></table></div></body></html>"
            ]
          },
          "metadata": {
            "tags": []
          },
          "execution_count": 5
        }
      ]
    },
    {
      "cell_type": "markdown",
      "metadata": {
        "id": "-Rv1A1QUCKQN",
        "colab_type": "text"
      },
      "source": [
        "**find table**"
      ]
    },
    {
      "cell_type": "code",
      "metadata": {
        "id": "1uRaZZd_DOZz",
        "colab_type": "code",
        "colab": {}
      },
      "source": [
        "all_tables = soup.find_all('table')"
      ],
      "execution_count": 0,
      "outputs": []
    },
    {
      "cell_type": "code",
      "metadata": {
        "id": "xLqKK2-oDUG1",
        "colab_type": "code",
        "outputId": "9473c03f-5dfb-4085-a08e-afb5cee7db0e",
        "colab": {
          "base_uri": "https://localhost:8080/",
          "height": 34
        }
      },
      "source": [
        "len(all_tables)"
      ],
      "execution_count": 0,
      "outputs": [
        {
          "output_type": "execute_result",
          "data": {
            "text/plain": [
              "50"
            ]
          },
          "metadata": {
            "tags": []
          },
          "execution_count": 7
        }
      ]
    },
    {
      "cell_type": "code",
      "metadata": {
        "id": "kYcHh6tlDVzc",
        "colab_type": "code",
        "outputId": "1fccad39-6434-4244-c962-61b3a1c3ac94",
        "colab": {
          "base_uri": "https://localhost:8080/",
          "height": 1000
        }
      },
      "source": [
        "all_tables"
      ],
      "execution_count": 0,
      "outputs": [
        {
          "output_type": "execute_result",
          "data": {
            "text/plain": [
              "[<table class=\"tabc\">\n",
              " <tbody>\n",
              " <tr><td> </td></tr>\n",
              " <tr><td>\n",
              " <a href=\"search.htm\"><button class=\"refresh-rft\" value=\"Refresh Page\">Search</button></a>\n",
              " </td></tr>\n",
              " <tr>\n",
              " <td>\n",
              " </td>\n",
              " </tr>\n",
              " <tr>\n",
              " </tr><tr>\n",
              " <td colspan=\"100\" style=\"text-align: center\">\n",
              " <span class=\"btn-blank\"></span>\n",
              " </td>\n",
              " </tr>\n",
              " <tr>\n",
              " <td style=\"font-size: 16px; font-weight: bold; text-align: center\">\n",
              " <h3>GENERAL ELECTION TO VIDHAN SABHA TRENDS &amp; RESULT FEB-2020</h3>\n",
              " </td>\n",
              " </tr>\n",
              " <tr>\n",
              " <td align=\"center\" style=\"font-weight: bolder;\" valign=\"top\" width=\"20%\">\n",
              " <br/>\n",
              " <div style=\"font-size: 12px\">\n",
              "                                Click links below for\n",
              "                             </div>\n",
              " <br/>\n",
              " <table border=\"0\" cellpadding=\"0\" cellspacing=\"0\" class=\"ctl00_Menu1_2\" id=\"ctl00_Menu1\">\n",
              " <tbody><tr>\n",
              " <td id=\"ctl00_Menu1n0\">\n",
              " <table border=\"0\" cellpadding=\"0\" cellspacing=\"0\" class=\"ctl00_Menu1_4\" width=\"100%\">\n",
              " <tbody><tr>\n",
              " <td style=\"white-space: nowrap;\">\n",
              " <a class=\"ctl00_Menu1_1 ctl00_Menu1_3\" href=\"partywiseresult-U05.htm\"> Partywise</a>\n",
              " </td>\n",
              " </tr>\n",
              " </tbody></table>\n",
              " </td>\n",
              " <td style=\"width: 3px;\"></td>\n",
              " <td id=\"ctl00_Menu1n1\">\n",
              " <table border=\"0\" cellpadding=\"0\" cellspacing=\"0\" class=\"ctl00_Menu1_4\" width=\"100%\">\n",
              " <tbody><tr>\n",
              " <td style=\"white-space: nowrap;\">\n",
              " <a class=\"ctl00_Menu1_1 ctl00_Menu1_3\" href=\"ConstituencywiseU051.htm\">\n",
              "                                                       Constituencywise-All Candidates\n",
              "                                                     </a>\n",
              " </td>\n",
              " </tr>\n",
              " </tbody></table>\n",
              " </td>\n",
              " <td style=\"width: 3px;\"></td>\n",
              " <td id=\"ctl00_Menu1n2\">\n",
              " <table border=\"0\" cellpadding=\"0\" cellspacing=\"0\" class=\"ctl00_Menu1_4\" width=\"100%\">\n",
              " <tbody><tr>\n",
              " <td style=\"white-space: nowrap;\">\n",
              " <a class=\"ctl00_Menu1_1 ctl00_Menu1_3\" href=\"statewiseU051.htm\">Constituencywise Trends</a>\n",
              " </td>\n",
              " </tr>\n",
              " </tbody></table>\n",
              " </td>\n",
              " </tr>\n",
              " </tbody></table>\n",
              " <table width=\"100%\">\n",
              " <tbody><tr style=\"height: 5px\">\n",
              " <td></td>\n",
              " </tr>\n",
              " <tr>\n",
              " <td valign=\"top\" width=\"80%\">\n",
              " <script language=\"javascript\" type=\"text/javascript\">\n",
              "                                             function GetResult(ddstate) {\n",
              "                                                 var statecode = ddstate.value;\n",
              "                                                 if (statecode != 'Select State')\n",
              "                                                     location.href = 'statewise' + statecode + '.htm?st=' + statecode;\n",
              "                                                 else\n",
              "                                                     location.href = 'statewise' + ddstate.options[1].value + '.htm?st=' + ddstate.options[1].value;\n",
              "                                             }\n",
              "                                             function SetSelectedSate() {\n",
              "                                                 var ddlState = document.getElementById('ctl00_ContentPlaceHolder1_Result1_ddlState');\n",
              "                                                 var stateCode = '';\n",
              "                                                 var queryString = location.search.substring(1);\n",
              "                                                 if (queryString != null && queryString != '') {\n",
              "                                                     stateCode = queryString.split('=')[1];\n",
              "                                                 }\n",
              "                                                 if (ddlState != null)\n",
              "                                                     for (var index = 0; index < ddlState.options.length; index++) {\n",
              "                                                         if (ddlState.options[index].value == stateCode) {\n",
              "                                                             ddlState.options[index].selected = true;\n",
              "                                                         }\n",
              "                                                     }\n",
              "                                             }\n",
              "                                             onload = SetSelectedSate;\n",
              "                                         </script>\n",
              " <table style=\"border-bottom: black 1px solid; border-left: black 1px solid; margin: auto;\n",
              "                                         width: 100%; font-family: Verdana; border-top: black 1px solid; font-weight: lighter;\n",
              "                                         border-right: black 1px solid\">\n",
              " <tbody>\n",
              " <tr>\n",
              " <td align=\"center\" colspan=\"2\" style=\"font-size: large\">\n",
              "                                                         Constituencywise Trends\n",
              "                                                     </td>\n",
              " </tr>\n",
              " <tr align=\"center\" style=\"background-color: #FFC0CD; height: 20px; color: black;\">\n",
              " <td colspan=\"2\" style=\"width: 50%; font-weight: 700\">\n",
              " <b>Select State</b> <select id=\"ctl00_ContentPlaceHolder1_Result1_ddlState\" name=\"\" onchange=\"return GetResult(this)\" style=\"width: 250px; height: 25px\">\n",
              " <option selected=\"selected\" value=\"Select State\">Select State</option>\n",
              " <option value=\"U051\">NCT OF Delhi</option>\n",
              " </select>\n",
              " </td>\n",
              " </tr>\n",
              " </tbody>\n",
              " </table>\n",
              " <br/>\n",
              " <table width=\"100%\">\n",
              " <tbody>\n",
              " <tr>\n",
              " <td style=\"width: 100%\">\n",
              " <div id=\"divACList\" style=\"border-bottom-style: none; border-right-style: none; border-top-style: none;\n",
              "                                                         table-layout: auto; border-left-style: none\">\n",
              " <table border=\"1\" style=\"margin: auto; width: 100%; font-family: Verdana; border: solid 1px black;font-weight:lighter\"><tbody id=\"ElectionResult\"><tr style=\"height: 20px; background-color: #FFC0CD; color:Black;\"><td align=\"center\" colspan=\"11\"><b><h3>NCT OF Delhi <br/>Result Status</h3></b></td></tr><tr style=\"height: 20px; background-color: #FFC0CD; color:Black;\"><td align=\"center\" colspan=\"8\"><b><div id=\"divStatus\" style=\"font-size: 10px\"> Status Known For 70 out of 70 Constituencies</div></b></td><td align=\"center\" colspan=\"3\"><b><div style=\"font-size: 10px\">Assembly Election Result 2015</div></b></td></tr><tr style=\"height: 20px; background-color: #FFC0CD; color:Black;\"> <th align=\"left\">Constituency</th> <th>Const. No.</th><th align=\"left\">Leading Candidate</th><th>Leading Party</th><th align=\"left\">Trailing Candidate</th><th align=\"left\">Trailing Party</th><th>Margin</th><th>Status</th><th>Winning Candidate</th><th>Winning Party</th><th>Margin</th></tr>\n",
              " <tr>\n",
              " <td align=\"center\" colspan=\"11\"> <a href=\"#\">&lt;&lt; Previous</a>   <a href=\"statewiseU051.htm\">1</a>  <a href=\"statewiseU052.htm\">2</a>  <a href=\"statewiseU053.htm\">3</a>  <a href=\"statewiseU054.htm\">4</a>  <a href=\"statewiseU055.htm\">5</a>  <a href=\"statewiseU056.htm\">6</a>  <a href=\"statewiseU057.htm\">7</a>   <a href=\"#\">Next &gt;&gt;</a></td>\n",
              " </tr>\n",
              " <tr style=\"font-size:12px;\"><td align=\"left\">ADARSH NAGAR</td><td align=\"center\">4</td><td align=\"left\">PAWAN SHARMA</td><td align=\"left\"><table><tbody><tr><td>Aam Aadmi Party</td><td style=\"vertical-align:top\"><span class=\"tooltip-icon\" style=\"display:block\">i</span><div class=\"tooltip\"><h3>Current Assembly Election Result</h3><table><tbody><tr><td>Leading In</td><td>:</td><td>0</td></tr><tr><td>Won In</td><td>:</td><td>62</td></tr><tr><td>Trailing In</td><td>:</td><td>0</td></tr></tbody></table></div></td></tr></tbody></table></td><td align=\"left\">RAJ KUMAR BHATIA</td><td align=\"left\"><table><tbody><tr><td>Bharatiya Janata Party</td>\n",
              " <td style=\"vertical-align:top\"><span class=\"tooltip-icon\" style=\"display:block\">i</span><div class=\"tooltip\"><h3>Current Assembly Election Result</h3><table><tbody><tr><td>Leading In</td><td>:0</td><td></td></tr><tr><td>Won In</td><td>:8</td><td></td></tr><tr><td>Trailing In</td><td>:</td><td>0</td></tr></tbody></table>\n",
              " </div>\n",
              " </td></tr></tbody></table></td>\n",
              " <td align=\"right\">1589</td><td align=\"center\">Result Declared</td><td align=\"center\" style=\"background-color: lightgray;\">PAWAN KUMAR SHARMA</td><td align=\"center\" style=\"background-color: lightgray;\">Aam Aadmi Party</td><td align=\"center\" style=\"background-color: lightgray;\">20741</td></tr><tr style=\"font-size:12px;\"><td align=\"left\">AMBEDKAR NAGAR(SC)</td><td align=\"center\">48</td><td align=\"left\">AJAY DUTT</td><td align=\"left\"><table><tbody><tr><td>Aam Aadmi Party</td><td style=\"vertical-align:top\"><span class=\"tooltip-icon\" style=\"display:block\">i</span><div class=\"tooltip\"><h3>Current Assembly Election Result</h3><table><tbody><tr><td>Leading In</td><td>:</td><td>0</td></tr><tr><td>Won In</td><td>:</td><td>62</td></tr><tr><td>Trailing In</td><td>:</td><td>0</td></tr></tbody></table></div></td></tr></tbody></table></td><td align=\"left\">KHUSHIRAM CHUNAR</td><td align=\"left\"><table><tbody><tr><td>Bharatiya Janata Party</td>\n",
              " <td style=\"vertical-align:top\"><span class=\"tooltip-icon\" style=\"display:block\">i</span><div class=\"tooltip\"><h3>Current Assembly Election Result</h3><table><tbody><tr><td>Leading In</td><td>:0</td><td></td></tr><tr><td>Won In</td><td>:8</td><td></td></tr><tr><td>Trailing In</td><td>:</td><td>0</td></tr></tbody></table>\n",
              " </div>\n",
              " </td></tr></tbody></table></td>\n",
              " <td align=\"right\">28327</td><td align=\"center\">Result Declared</td><td align=\"center\" style=\"background-color: lightgray;\">AJAY DUTT</td><td align=\"center\" style=\"background-color: lightgray;\">Aam Aadmi Party</td><td align=\"center\" style=\"background-color: lightgray;\">42460</td></tr><tr style=\"font-size:12px;\"><td align=\"left\">BABARPUR</td><td align=\"center\">67</td><td align=\"left\">GOPAL RAI</td><td align=\"left\"><table><tbody><tr><td>Aam Aadmi Party</td><td style=\"vertical-align:top\"><span class=\"tooltip-icon\" style=\"display:block\">i</span><div class=\"tooltip\"><h3>Current Assembly Election Result</h3><table><tbody><tr><td>Leading In</td><td>:</td><td>0</td></tr><tr><td>Won In</td><td>:</td><td>62</td></tr><tr><td>Trailing In</td><td>:</td><td>0</td></tr></tbody></table></div></td></tr></tbody></table></td><td align=\"left\">NARESH GAUR</td><td align=\"left\"><table><tbody><tr><td>Bharatiya Janata Party</td>\n",
              " <td style=\"vertical-align:top\"><span class=\"tooltip-icon\" style=\"display:block\">i</span><div class=\"tooltip\"><h3>Current Assembly Election Result</h3><table><tbody><tr><td>Leading In</td><td>:0</td><td></td></tr><tr><td>Won In</td><td>:8</td><td></td></tr><tr><td>Trailing In</td><td>:</td><td>0</td></tr></tbody></table>\n",
              " </div>\n",
              " </td></tr></tbody></table></td>\n",
              " <td align=\"right\">33062</td><td align=\"center\">Result Declared</td><td align=\"center\" style=\"background-color: lightgray;\">GOPAL RAI</td><td align=\"center\" style=\"background-color: lightgray;\">Aam Aadmi Party</td><td align=\"center\" style=\"background-color: lightgray;\">35271</td></tr><tr style=\"font-size:12px;\"><td align=\"left\">BADARPUR</td><td align=\"center\">53</td><td align=\"left\">RAMVIR SINGH BIDHURI</td><td align=\"left\"><table><tbody><tr><td>Bharatiya Janata Party</td><td style=\"vertical-align:top\"><span class=\"tooltip-icon\" style=\"display:block\">i</span><div class=\"tooltip\"><h3>Current Assembly Election Result</h3><table><tbody><tr><td>Leading In</td><td>:</td><td>0</td></tr><tr><td>Won In</td><td>:</td><td>8</td></tr><tr><td>Trailing In</td><td>:</td><td>0</td></tr></tbody></table></div></td></tr></tbody></table></td><td align=\"left\">RAM SINGH NETAJI</td><td align=\"left\"><table><tbody><tr><td>Aam Aadmi Party</td>\n",
              " <td style=\"vertical-align:top\"><span class=\"tooltip-icon\" style=\"display:block\">i</span><div class=\"tooltip\"><h3>Current Assembly Election Result</h3><table><tbody><tr><td>Leading In</td><td>:0</td><td></td></tr><tr><td>Won In</td><td>:62</td><td></td></tr><tr><td>Trailing In</td><td>:</td><td>0</td></tr></tbody></table>\n",
              " </div>\n",
              " </td></tr></tbody></table></td>\n",
              " <td align=\"right\">3719</td><td align=\"center\">Result Declared</td><td align=\"center\" style=\"background-color: lightgray;\">NARAYAN DUTT SHARMA</td><td align=\"center\" style=\"background-color: lightgray;\">Aam Aadmi Party</td><td align=\"center\" style=\"background-color: lightgray;\">47583</td></tr><tr style=\"font-size:12px;\"><td align=\"left\">BADLI</td><td align=\"center\">5</td><td align=\"left\">AJESH YADAV</td><td align=\"left\"><table><tbody><tr><td>Aam Aadmi Party</td><td style=\"vertical-align:top\"><span class=\"tooltip-icon\" style=\"display:block\">i</span><div class=\"tooltip\"><h3>Current Assembly Election Result</h3><table><tbody><tr><td>Leading In</td><td>:</td><td>0</td></tr><tr><td>Won In</td><td>:</td><td>62</td></tr><tr><td>Trailing In</td><td>:</td><td>0</td></tr></tbody></table></div></td></tr></tbody></table></td><td align=\"left\">VIJAY KUMAR BHAGAT</td><td align=\"left\"><table><tbody><tr><td>Bharatiya Janata Party</td>\n",
              " <td style=\"vertical-align:top\"><span class=\"tooltip-icon\" style=\"display:block\">i</span><div class=\"tooltip\"><h3>Current Assembly Election Result</h3><table><tbody><tr><td>Leading In</td><td>:0</td><td></td></tr><tr><td>Won In</td><td>:8</td><td></td></tr><tr><td>Trailing In</td><td>:</td><td>0</td></tr></tbody></table>\n",
              " </div>\n",
              " </td></tr></tbody></table></td>\n",
              " <td align=\"right\">29123</td><td align=\"center\">Result Declared</td><td align=\"center\" style=\"background-color: lightgray;\">AJESH YADAV</td><td align=\"center\" style=\"background-color: lightgray;\">Aam Aadmi Party</td><td align=\"center\" style=\"background-color: lightgray;\">35376</td></tr><tr style=\"font-size:12px;\"><td align=\"left\">BALLIMARAN</td><td align=\"center\">22</td><td align=\"left\">IMRAN HUSSAIN</td><td align=\"left\"><table><tbody><tr><td>Aam Aadmi Party</td><td style=\"vertical-align:top\"><span class=\"tooltip-icon\" style=\"display:block\">i</span><div class=\"tooltip\"><h3>Current Assembly Election Result</h3><table><tbody><tr><td>Leading In</td><td>:</td><td>0</td></tr><tr><td>Won In</td><td>:</td><td>62</td></tr><tr><td>Trailing In</td><td>:</td><td>0</td></tr></tbody></table></div></td></tr></tbody></table></td><td align=\"left\">LATA</td><td align=\"left\"><table><tbody><tr><td>Bharatiya Janata Party</td>\n",
              " <td style=\"vertical-align:top\"><span class=\"tooltip-icon\" style=\"display:block\">i</span><div class=\"tooltip\"><h3>Current Assembly Election Result</h3><table><tbody><tr><td>Leading In</td><td>:0</td><td></td></tr><tr><td>Won In</td><td>:8</td><td></td></tr><tr><td>Trailing In</td><td>:</td><td>0</td></tr></tbody></table>\n",
              " </div>\n",
              " </td></tr></tbody></table></td>\n",
              " <td align=\"right\">36172</td><td align=\"center\">Result Declared</td><td align=\"center\" style=\"background-color: lightgray;\">IMRAN HUSSAIN</td><td align=\"center\" style=\"background-color: lightgray;\">Aam Aadmi Party</td><td align=\"center\" style=\"background-color: lightgray;\">33877</td></tr><tr style=\"font-size:12px;\"><td align=\"left\">BAWANA(SC)</td><td align=\"center\">7</td><td align=\"left\">JAI BHAGWAN</td><td align=\"left\"><table><tbody><tr><td>Aam Aadmi Party</td><td style=\"vertical-align:top\"><span class=\"tooltip-icon\" style=\"display:block\">i</span><div class=\"tooltip\"><h3>Current Assembly Election Result</h3><table><tbody><tr><td>Leading In</td><td>:</td><td>0</td></tr><tr><td>Won In</td><td>:</td><td>62</td></tr><tr><td>Trailing In</td><td>:</td><td>0</td></tr></tbody></table></div></td></tr></tbody></table></td><td align=\"left\">RAVINDER KUMAR</td><td align=\"left\"><table><tbody><tr><td>Bharatiya Janata Party</td>\n",
              " <td style=\"vertical-align:top\"><span class=\"tooltip-icon\" style=\"display:block\">i</span><div class=\"tooltip\"><h3>Current Assembly Election Result</h3><table><tbody><tr><td>Leading In</td><td>:0</td><td></td></tr><tr><td>Won In</td><td>:8</td><td></td></tr><tr><td>Trailing In</td><td>:</td><td>0</td></tr></tbody></table>\n",
              " </div>\n",
              " </td></tr></tbody></table></td>\n",
              " <td align=\"right\">11526</td><td align=\"center\">Result Declared</td><td align=\"center\" style=\"background-color: lightgray;\">VED PARKASH</td><td align=\"center\" style=\"background-color: lightgray;\">Aam Aadmi Party</td><td align=\"center\" style=\"background-color: lightgray;\">50557</td></tr><tr style=\"font-size:12px;\"><td align=\"left\">BIJWASAN</td><td align=\"center\">36</td><td align=\"left\">BHUPINDER SINGH JOON</td><td align=\"left\"><table><tbody><tr><td>Aam Aadmi Party</td><td style=\"vertical-align:top\"><span class=\"tooltip-icon\" style=\"display:block\">i</span><div class=\"tooltip\"><h3>Current Assembly Election Result</h3><table><tbody><tr><td>Leading In</td><td>:</td><td>0</td></tr><tr><td>Won In</td><td>:</td><td>62</td></tr><tr><td>Trailing In</td><td>:</td><td>0</td></tr></tbody></table></div></td></tr></tbody></table></td><td align=\"left\">SAT PRAKASH RANA</td><td align=\"left\"><table><tbody><tr><td>Bharatiya Janata Party</td>\n",
              " <td style=\"vertical-align:top\"><span class=\"tooltip-icon\" style=\"display:block\">i</span><div class=\"tooltip\"><h3>Current Assembly Election Result</h3><table><tbody><tr><td>Leading In</td><td>:0</td><td></td></tr><tr><td>Won In</td><td>:8</td><td></td></tr><tr><td>Trailing In</td><td>:</td><td>0</td></tr></tbody></table>\n",
              " </div>\n",
              " </td></tr></tbody></table></td>\n",
              " <td align=\"right\">753</td><td align=\"center\">Result Declared</td><td align=\"center\" style=\"background-color: lightgray;\">COL DEVINDER SEHRAWAT</td><td align=\"center\" style=\"background-color: lightgray;\">Aam Aadmi Party</td><td align=\"center\" style=\"background-color: lightgray;\">19536</td></tr><tr style=\"font-size:12px;\"><td align=\"left\">BURARI</td><td align=\"center\">2</td><td align=\"left\">SANJEEV JHA</td><td align=\"left\"><table><tbody><tr><td>Aam Aadmi Party</td><td style=\"vertical-align:top\"><span class=\"tooltip-icon\" style=\"display:block\">i</span><div class=\"tooltip\"><h3>Current Assembly Election Result</h3><table><tbody><tr><td>Leading In</td><td>:</td><td>0</td></tr><tr><td>Won In</td><td>:</td><td>62</td></tr><tr><td>Trailing In</td><td>:</td><td>0</td></tr></tbody></table></div></td></tr></tbody></table></td><td align=\"left\">SHAILENDRA KUMAR</td><td align=\"left\"><table><tbody><tr><td>Janata Dal (United)</td>\n",
              " <td style=\"vertical-align:top\"><span class=\"tooltip-icon\" style=\"display:block\">i</span><div class=\"tooltip\"><h3>Current Assembly Election Result</h3><table><tbody><tr><td>Leading In</td><td>:0</td><td></td></tr><tr><td>Won In</td><td>:0</td><td></td></tr><tr><td>Trailing In</td><td>:</td><td>0</td></tr></tbody></table>\n",
              " </div>\n",
              " </td></tr></tbody></table></td>\n",
              " <td align=\"right\">88158</td><td align=\"center\">Result Declared</td><td align=\"center\" style=\"background-color: lightgray;\">SANJEEV JHA</td><td align=\"center\" style=\"background-color: lightgray;\">Aam Aadmi Party</td><td align=\"center\" style=\"background-color: lightgray;\">67950</td></tr><tr style=\"font-size:12px;\"><td align=\"left\">CHANDNI CHOWK</td><td align=\"center\">20</td><td align=\"left\">PARLAD SINGH SAWHNEY</td><td align=\"left\"><table><tbody><tr><td>Aam Aadmi Party</td><td style=\"vertical-align:top\"><span class=\"tooltip-icon\" style=\"display:block\">i</span><div class=\"tooltip\"><h3>Current Assembly Election Result</h3><table><tbody><tr><td>Leading In</td><td>:</td><td>0</td></tr><tr><td>Won In</td><td>:</td><td>62</td></tr><tr><td>Trailing In</td><td>:</td><td>0</td></tr></tbody></table></div></td></tr></tbody></table></td><td align=\"left\">SUMAN KUMAR GUPTA</td><td align=\"left\"><table><tbody><tr><td>Bharatiya Janata Party</td>\n",
              " <td style=\"vertical-align:top\"><span class=\"tooltip-icon\" style=\"display:block\">i</span><div class=\"tooltip\"><h3>Current Assembly Election Result</h3><table><tbody><tr><td>Leading In</td><td>:0</td><td></td></tr><tr><td>Won In</td><td>:8</td><td></td></tr><tr><td>Trailing In</td><td>:</td><td>0</td></tr></tbody></table>\n",
              " </div>\n",
              " </td></tr></tbody></table></td>\n",
              " <td align=\"right\">29584</td><td align=\"center\">Result Declared</td><td align=\"center\" style=\"background-color: lightgray;\">ALKA  LAMBA</td><td align=\"center\" style=\"background-color: lightgray;\">Aam Aadmi Party</td><td align=\"center\" style=\"background-color: lightgray;\">18287</td></tr>\n",
              " </tbody>\n",
              " </table>\n",
              " </div></td>\n",
              " </tr>\n",
              " <tr id=\"customMessage\" style=\"display: none\">\n",
              " <td align=\"center\">\n",
              " <table width=\"100%\">\n",
              " <tbody><tr>\n",
              " <td align=\"center\">\n",
              " </td>\n",
              " </tr>\n",
              " </tbody></table>\n",
              " <br/>\n",
              " </td>\n",
              " </tr>\n",
              " <tr style=\"height: 50px\">\n",
              " <td></td>\n",
              " </tr>\n",
              " <tr>\n",
              " <td align=\"center\" style=\"font-weight: bold\"> </td></tr>\n",
              " <tr><td align=\"center\" style=\"font-weight: bold\">Disclaimer</td></tr>\n",
              " <tr>\n",
              " <td align=\"center\" style=\"font-weight: normal\">\n",
              " <p class=\"disclaimer-wide\">ECI is displaying the information as being filled in the system by the Returning Officers from their respective Counting Centers.</p>\n",
              " </td>\n",
              " </tr>\n",
              " <td align=\"center\" style=\"font-weight: normal\">\n",
              " <!-- Last Updated at 10:27 pm On 11/02/2020 -->\n",
              " </td>\n",
              " </tbody></table>\n",
              " </td>\n",
              " </tr>\n",
              " </tbody>\n",
              " </table>\n",
              " <script type=\"text/javascript\">\n",
              "             var ctl00_Menu1_Data = new Object();\n",
              "             ctl00_Menu1_Data.disappearAfter = 500;\n",
              "             ctl00_Menu1_Data.horizontalOffset = 2;\n",
              "             ctl00_Menu1_Data.verticalOffset = 0;\n",
              "             ctl00_Menu1_Data.hoverClass = 'ctl00_Menu1_15';\n",
              "             ctl00_Menu1_Data.hoverHyperLinkClass = 'ctl00_Menu1_14';\n",
              "             ctl00_Menu1_Data.staticHoverClass = 'ctl00_Menu1_13';\n",
              "             ctl00_Menu1_Data.staticHoverHyperLinkClass = 'ctl00_Menu1_12';\n",
              "         </script>\n",
              " <script language=\"javascript\" type=\"text/javascript\">\n",
              "             var currentPageName = window.location.pathname.toLowerCase();\n",
              "             if (currentPageName != null && ((currentPageName.indexOf('statewises20') != -1) || (currentPageName.indexOf('statewises20') != -1))) {\n",
              "                 document.getElementById('customMessage').style.display = 'block';\n",
              "             }\n",
              "         </script>\n",
              " </td></tr></tbody></table>,\n",
              " <table border=\"0\" cellpadding=\"0\" cellspacing=\"0\" class=\"ctl00_Menu1_2\" id=\"ctl00_Menu1\">\n",
              " <tbody><tr>\n",
              " <td id=\"ctl00_Menu1n0\">\n",
              " <table border=\"0\" cellpadding=\"0\" cellspacing=\"0\" class=\"ctl00_Menu1_4\" width=\"100%\">\n",
              " <tbody><tr>\n",
              " <td style=\"white-space: nowrap;\">\n",
              " <a class=\"ctl00_Menu1_1 ctl00_Menu1_3\" href=\"partywiseresult-U05.htm\"> Partywise</a>\n",
              " </td>\n",
              " </tr>\n",
              " </tbody></table>\n",
              " </td>\n",
              " <td style=\"width: 3px;\"></td>\n",
              " <td id=\"ctl00_Menu1n1\">\n",
              " <table border=\"0\" cellpadding=\"0\" cellspacing=\"0\" class=\"ctl00_Menu1_4\" width=\"100%\">\n",
              " <tbody><tr>\n",
              " <td style=\"white-space: nowrap;\">\n",
              " <a class=\"ctl00_Menu1_1 ctl00_Menu1_3\" href=\"ConstituencywiseU051.htm\">\n",
              "                                                       Constituencywise-All Candidates\n",
              "                                                     </a>\n",
              " </td>\n",
              " </tr>\n",
              " </tbody></table>\n",
              " </td>\n",
              " <td style=\"width: 3px;\"></td>\n",
              " <td id=\"ctl00_Menu1n2\">\n",
              " <table border=\"0\" cellpadding=\"0\" cellspacing=\"0\" class=\"ctl00_Menu1_4\" width=\"100%\">\n",
              " <tbody><tr>\n",
              " <td style=\"white-space: nowrap;\">\n",
              " <a class=\"ctl00_Menu1_1 ctl00_Menu1_3\" href=\"statewiseU051.htm\">Constituencywise Trends</a>\n",
              " </td>\n",
              " </tr>\n",
              " </tbody></table>\n",
              " </td>\n",
              " </tr>\n",
              " </tbody></table>,\n",
              " <table border=\"0\" cellpadding=\"0\" cellspacing=\"0\" class=\"ctl00_Menu1_4\" width=\"100%\">\n",
              " <tbody><tr>\n",
              " <td style=\"white-space: nowrap;\">\n",
              " <a class=\"ctl00_Menu1_1 ctl00_Menu1_3\" href=\"partywiseresult-U05.htm\"> Partywise</a>\n",
              " </td>\n",
              " </tr>\n",
              " </tbody></table>,\n",
              " <table border=\"0\" cellpadding=\"0\" cellspacing=\"0\" class=\"ctl00_Menu1_4\" width=\"100%\">\n",
              " <tbody><tr>\n",
              " <td style=\"white-space: nowrap;\">\n",
              " <a class=\"ctl00_Menu1_1 ctl00_Menu1_3\" href=\"ConstituencywiseU051.htm\">\n",
              "                                                       Constituencywise-All Candidates\n",
              "                                                     </a>\n",
              " </td>\n",
              " </tr>\n",
              " </tbody></table>,\n",
              " <table border=\"0\" cellpadding=\"0\" cellspacing=\"0\" class=\"ctl00_Menu1_4\" width=\"100%\">\n",
              " <tbody><tr>\n",
              " <td style=\"white-space: nowrap;\">\n",
              " <a class=\"ctl00_Menu1_1 ctl00_Menu1_3\" href=\"statewiseU051.htm\">Constituencywise Trends</a>\n",
              " </td>\n",
              " </tr>\n",
              " </tbody></table>,\n",
              " <table width=\"100%\">\n",
              " <tbody><tr style=\"height: 5px\">\n",
              " <td></td>\n",
              " </tr>\n",
              " <tr>\n",
              " <td valign=\"top\" width=\"80%\">\n",
              " <script language=\"javascript\" type=\"text/javascript\">\n",
              "                                             function GetResult(ddstate) {\n",
              "                                                 var statecode = ddstate.value;\n",
              "                                                 if (statecode != 'Select State')\n",
              "                                                     location.href = 'statewise' + statecode + '.htm?st=' + statecode;\n",
              "                                                 else\n",
              "                                                     location.href = 'statewise' + ddstate.options[1].value + '.htm?st=' + ddstate.options[1].value;\n",
              "                                             }\n",
              "                                             function SetSelectedSate() {\n",
              "                                                 var ddlState = document.getElementById('ctl00_ContentPlaceHolder1_Result1_ddlState');\n",
              "                                                 var stateCode = '';\n",
              "                                                 var queryString = location.search.substring(1);\n",
              "                                                 if (queryString != null && queryString != '') {\n",
              "                                                     stateCode = queryString.split('=')[1];\n",
              "                                                 }\n",
              "                                                 if (ddlState != null)\n",
              "                                                     for (var index = 0; index < ddlState.options.length; index++) {\n",
              "                                                         if (ddlState.options[index].value == stateCode) {\n",
              "                                                             ddlState.options[index].selected = true;\n",
              "                                                         }\n",
              "                                                     }\n",
              "                                             }\n",
              "                                             onload = SetSelectedSate;\n",
              "                                         </script>\n",
              " <table style=\"border-bottom: black 1px solid; border-left: black 1px solid; margin: auto;\n",
              "                                         width: 100%; font-family: Verdana; border-top: black 1px solid; font-weight: lighter;\n",
              "                                         border-right: black 1px solid\">\n",
              " <tbody>\n",
              " <tr>\n",
              " <td align=\"center\" colspan=\"2\" style=\"font-size: large\">\n",
              "                                                         Constituencywise Trends\n",
              "                                                     </td>\n",
              " </tr>\n",
              " <tr align=\"center\" style=\"background-color: #FFC0CD; height: 20px; color: black;\">\n",
              " <td colspan=\"2\" style=\"width: 50%; font-weight: 700\">\n",
              " <b>Select State</b> <select id=\"ctl00_ContentPlaceHolder1_Result1_ddlState\" name=\"\" onchange=\"return GetResult(this)\" style=\"width: 250px; height: 25px\">\n",
              " <option selected=\"selected\" value=\"Select State\">Select State</option>\n",
              " <option value=\"U051\">NCT OF Delhi</option>\n",
              " </select>\n",
              " </td>\n",
              " </tr>\n",
              " </tbody>\n",
              " </table>\n",
              " <br/>\n",
              " <table width=\"100%\">\n",
              " <tbody>\n",
              " <tr>\n",
              " <td style=\"width: 100%\">\n",
              " <div id=\"divACList\" style=\"border-bottom-style: none; border-right-style: none; border-top-style: none;\n",
              "                                                         table-layout: auto; border-left-style: none\">\n",
              " <table border=\"1\" style=\"margin: auto; width: 100%; font-family: Verdana; border: solid 1px black;font-weight:lighter\"><tbody id=\"ElectionResult\"><tr style=\"height: 20px; background-color: #FFC0CD; color:Black;\"><td align=\"center\" colspan=\"11\"><b><h3>NCT OF Delhi <br/>Result Status</h3></b></td></tr><tr style=\"height: 20px; background-color: #FFC0CD; color:Black;\"><td align=\"center\" colspan=\"8\"><b><div id=\"divStatus\" style=\"font-size: 10px\"> Status Known For 70 out of 70 Constituencies</div></b></td><td align=\"center\" colspan=\"3\"><b><div style=\"font-size: 10px\">Assembly Election Result 2015</div></b></td></tr><tr style=\"height: 20px; background-color: #FFC0CD; color:Black;\"> <th align=\"left\">Constituency</th> <th>Const. No.</th><th align=\"left\">Leading Candidate</th><th>Leading Party</th><th align=\"left\">Trailing Candidate</th><th align=\"left\">Trailing Party</th><th>Margin</th><th>Status</th><th>Winning Candidate</th><th>Winning Party</th><th>Margin</th></tr>\n",
              " <tr>\n",
              " <td align=\"center\" colspan=\"11\"> <a href=\"#\">&lt;&lt; Previous</a>   <a href=\"statewiseU051.htm\">1</a>  <a href=\"statewiseU052.htm\">2</a>  <a href=\"statewiseU053.htm\">3</a>  <a href=\"statewiseU054.htm\">4</a>  <a href=\"statewiseU055.htm\">5</a>  <a href=\"statewiseU056.htm\">6</a>  <a href=\"statewiseU057.htm\">7</a>   <a href=\"#\">Next &gt;&gt;</a></td>\n",
              " </tr>\n",
              " <tr style=\"font-size:12px;\"><td align=\"left\">ADARSH NAGAR</td><td align=\"center\">4</td><td align=\"left\">PAWAN SHARMA</td><td align=\"left\"><table><tbody><tr><td>Aam Aadmi Party</td><td style=\"vertical-align:top\"><span class=\"tooltip-icon\" style=\"display:block\">i</span><div class=\"tooltip\"><h3>Current Assembly Election Result</h3><table><tbody><tr><td>Leading In</td><td>:</td><td>0</td></tr><tr><td>Won In</td><td>:</td><td>62</td></tr><tr><td>Trailing In</td><td>:</td><td>0</td></tr></tbody></table></div></td></tr></tbody></table></td><td align=\"left\">RAJ KUMAR BHATIA</td><td align=\"left\"><table><tbody><tr><td>Bharatiya Janata Party</td>\n",
              " <td style=\"vertical-align:top\"><span class=\"tooltip-icon\" style=\"display:block\">i</span><div class=\"tooltip\"><h3>Current Assembly Election Result</h3><table><tbody><tr><td>Leading In</td><td>:0</td><td></td></tr><tr><td>Won In</td><td>:8</td><td></td></tr><tr><td>Trailing In</td><td>:</td><td>0</td></tr></tbody></table>\n",
              " </div>\n",
              " </td></tr></tbody></table></td>\n",
              " <td align=\"right\">1589</td><td align=\"center\">Result Declared</td><td align=\"center\" style=\"background-color: lightgray;\">PAWAN KUMAR SHARMA</td><td align=\"center\" style=\"background-color: lightgray;\">Aam Aadmi Party</td><td align=\"center\" style=\"background-color: lightgray;\">20741</td></tr><tr style=\"font-size:12px;\"><td align=\"left\">AMBEDKAR NAGAR(SC)</td><td align=\"center\">48</td><td align=\"left\">AJAY DUTT</td><td align=\"left\"><table><tbody><tr><td>Aam Aadmi Party</td><td style=\"vertical-align:top\"><span class=\"tooltip-icon\" style=\"display:block\">i</span><div class=\"tooltip\"><h3>Current Assembly Election Result</h3><table><tbody><tr><td>Leading In</td><td>:</td><td>0</td></tr><tr><td>Won In</td><td>:</td><td>62</td></tr><tr><td>Trailing In</td><td>:</td><td>0</td></tr></tbody></table></div></td></tr></tbody></table></td><td align=\"left\">KHUSHIRAM CHUNAR</td><td align=\"left\"><table><tbody><tr><td>Bharatiya Janata Party</td>\n",
              " <td style=\"vertical-align:top\"><span class=\"tooltip-icon\" style=\"display:block\">i</span><div class=\"tooltip\"><h3>Current Assembly Election Result</h3><table><tbody><tr><td>Leading In</td><td>:0</td><td></td></tr><tr><td>Won In</td><td>:8</td><td></td></tr><tr><td>Trailing In</td><td>:</td><td>0</td></tr></tbody></table>\n",
              " </div>\n",
              " </td></tr></tbody></table></td>\n",
              " <td align=\"right\">28327</td><td align=\"center\">Result Declared</td><td align=\"center\" style=\"background-color: lightgray;\">AJAY DUTT</td><td align=\"center\" style=\"background-color: lightgray;\">Aam Aadmi Party</td><td align=\"center\" style=\"background-color: lightgray;\">42460</td></tr><tr style=\"font-size:12px;\"><td align=\"left\">BABARPUR</td><td align=\"center\">67</td><td align=\"left\">GOPAL RAI</td><td align=\"left\"><table><tbody><tr><td>Aam Aadmi Party</td><td style=\"vertical-align:top\"><span class=\"tooltip-icon\" style=\"display:block\">i</span><div class=\"tooltip\"><h3>Current Assembly Election Result</h3><table><tbody><tr><td>Leading In</td><td>:</td><td>0</td></tr><tr><td>Won In</td><td>:</td><td>62</td></tr><tr><td>Trailing In</td><td>:</td><td>0</td></tr></tbody></table></div></td></tr></tbody></table></td><td align=\"left\">NARESH GAUR</td><td align=\"left\"><table><tbody><tr><td>Bharatiya Janata Party</td>\n",
              " <td style=\"vertical-align:top\"><span class=\"tooltip-icon\" style=\"display:block\">i</span><div class=\"tooltip\"><h3>Current Assembly Election Result</h3><table><tbody><tr><td>Leading In</td><td>:0</td><td></td></tr><tr><td>Won In</td><td>:8</td><td></td></tr><tr><td>Trailing In</td><td>:</td><td>0</td></tr></tbody></table>\n",
              " </div>\n",
              " </td></tr></tbody></table></td>\n",
              " <td align=\"right\">33062</td><td align=\"center\">Result Declared</td><td align=\"center\" style=\"background-color: lightgray;\">GOPAL RAI</td><td align=\"center\" style=\"background-color: lightgray;\">Aam Aadmi Party</td><td align=\"center\" style=\"background-color: lightgray;\">35271</td></tr><tr style=\"font-size:12px;\"><td align=\"left\">BADARPUR</td><td align=\"center\">53</td><td align=\"left\">RAMVIR SINGH BIDHURI</td><td align=\"left\"><table><tbody><tr><td>Bharatiya Janata Party</td><td style=\"vertical-align:top\"><span class=\"tooltip-icon\" style=\"display:block\">i</span><div class=\"tooltip\"><h3>Current Assembly Election Result</h3><table><tbody><tr><td>Leading In</td><td>:</td><td>0</td></tr><tr><td>Won In</td><td>:</td><td>8</td></tr><tr><td>Trailing In</td><td>:</td><td>0</td></tr></tbody></table></div></td></tr></tbody></table></td><td align=\"left\">RAM SINGH NETAJI</td><td align=\"left\"><table><tbody><tr><td>Aam Aadmi Party</td>\n",
              " <td style=\"vertical-align:top\"><span class=\"tooltip-icon\" style=\"display:block\">i</span><div class=\"tooltip\"><h3>Current Assembly Election Result</h3><table><tbody><tr><td>Leading In</td><td>:0</td><td></td></tr><tr><td>Won In</td><td>:62</td><td></td></tr><tr><td>Trailing In</td><td>:</td><td>0</td></tr></tbody></table>\n",
              " </div>\n",
              " </td></tr></tbody></table></td>\n",
              " <td align=\"right\">3719</td><td align=\"center\">Result Declared</td><td align=\"center\" style=\"background-color: lightgray;\">NARAYAN DUTT SHARMA</td><td align=\"center\" style=\"background-color: lightgray;\">Aam Aadmi Party</td><td align=\"center\" style=\"background-color: lightgray;\">47583</td></tr><tr style=\"font-size:12px;\"><td align=\"left\">BADLI</td><td align=\"center\">5</td><td align=\"left\">AJESH YADAV</td><td align=\"left\"><table><tbody><tr><td>Aam Aadmi Party</td><td style=\"vertical-align:top\"><span class=\"tooltip-icon\" style=\"display:block\">i</span><div class=\"tooltip\"><h3>Current Assembly Election Result</h3><table><tbody><tr><td>Leading In</td><td>:</td><td>0</td></tr><tr><td>Won In</td><td>:</td><td>62</td></tr><tr><td>Trailing In</td><td>:</td><td>0</td></tr></tbody></table></div></td></tr></tbody></table></td><td align=\"left\">VIJAY KUMAR BHAGAT</td><td align=\"left\"><table><tbody><tr><td>Bharatiya Janata Party</td>\n",
              " <td style=\"vertical-align:top\"><span class=\"tooltip-icon\" style=\"display:block\">i</span><div class=\"tooltip\"><h3>Current Assembly Election Result</h3><table><tbody><tr><td>Leading In</td><td>:0</td><td></td></tr><tr><td>Won In</td><td>:8</td><td></td></tr><tr><td>Trailing In</td><td>:</td><td>0</td></tr></tbody></table>\n",
              " </div>\n",
              " </td></tr></tbody></table></td>\n",
              " <td align=\"right\">29123</td><td align=\"center\">Result Declared</td><td align=\"center\" style=\"background-color: lightgray;\">AJESH YADAV</td><td align=\"center\" style=\"background-color: lightgray;\">Aam Aadmi Party</td><td align=\"center\" style=\"background-color: lightgray;\">35376</td></tr><tr style=\"font-size:12px;\"><td align=\"left\">BALLIMARAN</td><td align=\"center\">22</td><td align=\"left\">IMRAN HUSSAIN</td><td align=\"left\"><table><tbody><tr><td>Aam Aadmi Party</td><td style=\"vertical-align:top\"><span class=\"tooltip-icon\" style=\"display:block\">i</span><div class=\"tooltip\"><h3>Current Assembly Election Result</h3><table><tbody><tr><td>Leading In</td><td>:</td><td>0</td></tr><tr><td>Won In</td><td>:</td><td>62</td></tr><tr><td>Trailing In</td><td>:</td><td>0</td></tr></tbody></table></div></td></tr></tbody></table></td><td align=\"left\">LATA</td><td align=\"left\"><table><tbody><tr><td>Bharatiya Janata Party</td>\n",
              " <td style=\"vertical-align:top\"><span class=\"tooltip-icon\" style=\"display:block\">i</span><div class=\"tooltip\"><h3>Current Assembly Election Result</h3><table><tbody><tr><td>Leading In</td><td>:0</td><td></td></tr><tr><td>Won In</td><td>:8</td><td></td></tr><tr><td>Trailing In</td><td>:</td><td>0</td></tr></tbody></table>\n",
              " </div>\n",
              " </td></tr></tbody></table></td>\n",
              " <td align=\"right\">36172</td><td align=\"center\">Result Declared</td><td align=\"center\" style=\"background-color: lightgray;\">IMRAN HUSSAIN</td><td align=\"center\" style=\"background-color: lightgray;\">Aam Aadmi Party</td><td align=\"center\" style=\"background-color: lightgray;\">33877</td></tr><tr style=\"font-size:12px;\"><td align=\"left\">BAWANA(SC)</td><td align=\"center\">7</td><td align=\"left\">JAI BHAGWAN</td><td align=\"left\"><table><tbody><tr><td>Aam Aadmi Party</td><td style=\"vertical-align:top\"><span class=\"tooltip-icon\" style=\"display:block\">i</span><div class=\"tooltip\"><h3>Current Assembly Election Result</h3><table><tbody><tr><td>Leading In</td><td>:</td><td>0</td></tr><tr><td>Won In</td><td>:</td><td>62</td></tr><tr><td>Trailing In</td><td>:</td><td>0</td></tr></tbody></table></div></td></tr></tbody></table></td><td align=\"left\">RAVINDER KUMAR</td><td align=\"left\"><table><tbody><tr><td>Bharatiya Janata Party</td>\n",
              " <td style=\"vertical-align:top\"><span class=\"tooltip-icon\" style=\"display:block\">i</span><div class=\"tooltip\"><h3>Current Assembly Election Result</h3><table><tbody><tr><td>Leading In</td><td>:0</td><td></td></tr><tr><td>Won In</td><td>:8</td><td></td></tr><tr><td>Trailing In</td><td>:</td><td>0</td></tr></tbody></table>\n",
              " </div>\n",
              " </td></tr></tbody></table></td>\n",
              " <td align=\"right\">11526</td><td align=\"center\">Result Declared</td><td align=\"center\" style=\"background-color: lightgray;\">VED PARKASH</td><td align=\"center\" style=\"background-color: lightgray;\">Aam Aadmi Party</td><td align=\"center\" style=\"background-color: lightgray;\">50557</td></tr><tr style=\"font-size:12px;\"><td align=\"left\">BIJWASAN</td><td align=\"center\">36</td><td align=\"left\">BHUPINDER SINGH JOON</td><td align=\"left\"><table><tbody><tr><td>Aam Aadmi Party</td><td style=\"vertical-align:top\"><span class=\"tooltip-icon\" style=\"display:block\">i</span><div class=\"tooltip\"><h3>Current Assembly Election Result</h3><table><tbody><tr><td>Leading In</td><td>:</td><td>0</td></tr><tr><td>Won In</td><td>:</td><td>62</td></tr><tr><td>Trailing In</td><td>:</td><td>0</td></tr></tbody></table></div></td></tr></tbody></table></td><td align=\"left\">SAT PRAKASH RANA</td><td align=\"left\"><table><tbody><tr><td>Bharatiya Janata Party</td>\n",
              " <td style=\"vertical-align:top\"><span class=\"tooltip-icon\" style=\"display:block\">i</span><div class=\"tooltip\"><h3>Current Assembly Election Result</h3><table><tbody><tr><td>Leading In</td><td>:0</td><td></td></tr><tr><td>Won In</td><td>:8</td><td></td></tr><tr><td>Trailing In</td><td>:</td><td>0</td></tr></tbody></table>\n",
              " </div>\n",
              " </td></tr></tbody></table></td>\n",
              " <td align=\"right\">753</td><td align=\"center\">Result Declared</td><td align=\"center\" style=\"background-color: lightgray;\">COL DEVINDER SEHRAWAT</td><td align=\"center\" style=\"background-color: lightgray;\">Aam Aadmi Party</td><td align=\"center\" style=\"background-color: lightgray;\">19536</td></tr><tr style=\"font-size:12px;\"><td align=\"left\">BURARI</td><td align=\"center\">2</td><td align=\"left\">SANJEEV JHA</td><td align=\"left\"><table><tbody><tr><td>Aam Aadmi Party</td><td style=\"vertical-align:top\"><span class=\"tooltip-icon\" style=\"display:block\">i</span><div class=\"tooltip\"><h3>Current Assembly Election Result</h3><table><tbody><tr><td>Leading In</td><td>:</td><td>0</td></tr><tr><td>Won In</td><td>:</td><td>62</td></tr><tr><td>Trailing In</td><td>:</td><td>0</td></tr></tbody></table></div></td></tr></tbody></table></td><td align=\"left\">SHAILENDRA KUMAR</td><td align=\"left\"><table><tbody><tr><td>Janata Dal (United)</td>\n",
              " <td style=\"vertical-align:top\"><span class=\"tooltip-icon\" style=\"display:block\">i</span><div class=\"tooltip\"><h3>Current Assembly Election Result</h3><table><tbody><tr><td>Leading In</td><td>:0</td><td></td></tr><tr><td>Won In</td><td>:0</td><td></td></tr><tr><td>Trailing In</td><td>:</td><td>0</td></tr></tbody></table>\n",
              " </div>\n",
              " </td></tr></tbody></table></td>\n",
              " <td align=\"right\">88158</td><td align=\"center\">Result Declared</td><td align=\"center\" style=\"background-color: lightgray;\">SANJEEV JHA</td><td align=\"center\" style=\"background-color: lightgray;\">Aam Aadmi Party</td><td align=\"center\" style=\"background-color: lightgray;\">67950</td></tr><tr style=\"font-size:12px;\"><td align=\"left\">CHANDNI CHOWK</td><td align=\"center\">20</td><td align=\"left\">PARLAD SINGH SAWHNEY</td><td align=\"left\"><table><tbody><tr><td>Aam Aadmi Party</td><td style=\"vertical-align:top\"><span class=\"tooltip-icon\" style=\"display:block\">i</span><div class=\"tooltip\"><h3>Current Assembly Election Result</h3><table><tbody><tr><td>Leading In</td><td>:</td><td>0</td></tr><tr><td>Won In</td><td>:</td><td>62</td></tr><tr><td>Trailing In</td><td>:</td><td>0</td></tr></tbody></table></div></td></tr></tbody></table></td><td align=\"left\">SUMAN KUMAR GUPTA</td><td align=\"left\"><table><tbody><tr><td>Bharatiya Janata Party</td>\n",
              " <td style=\"vertical-align:top\"><span class=\"tooltip-icon\" style=\"display:block\">i</span><div class=\"tooltip\"><h3>Current Assembly Election Result</h3><table><tbody><tr><td>Leading In</td><td>:0</td><td></td></tr><tr><td>Won In</td><td>:8</td><td></td></tr><tr><td>Trailing In</td><td>:</td><td>0</td></tr></tbody></table>\n",
              " </div>\n",
              " </td></tr></tbody></table></td>\n",
              " <td align=\"right\">29584</td><td align=\"center\">Result Declared</td><td align=\"center\" style=\"background-color: lightgray;\">ALKA  LAMBA</td><td align=\"center\" style=\"background-color: lightgray;\">Aam Aadmi Party</td><td align=\"center\" style=\"background-color: lightgray;\">18287</td></tr>\n",
              " </tbody>\n",
              " </table>\n",
              " </div></td>\n",
              " </tr>\n",
              " <tr id=\"customMessage\" style=\"display: none\">\n",
              " <td align=\"center\">\n",
              " <table width=\"100%\">\n",
              " <tbody><tr>\n",
              " <td align=\"center\">\n",
              " </td>\n",
              " </tr>\n",
              " </tbody></table>\n",
              " <br/>\n",
              " </td>\n",
              " </tr>\n",
              " <tr style=\"height: 50px\">\n",
              " <td></td>\n",
              " </tr>\n",
              " <tr>\n",
              " <td align=\"center\" style=\"font-weight: bold\"> </td></tr>\n",
              " <tr><td align=\"center\" style=\"font-weight: bold\">Disclaimer</td></tr>\n",
              " <tr>\n",
              " <td align=\"center\" style=\"font-weight: normal\">\n",
              " <p class=\"disclaimer-wide\">ECI is displaying the information as being filled in the system by the Returning Officers from their respective Counting Centers.</p>\n",
              " </td>\n",
              " </tr>\n",
              " <td align=\"center\" style=\"font-weight: normal\">\n",
              " <!-- Last Updated at 10:27 pm On 11/02/2020 -->\n",
              " </td>\n",
              " </tbody></table>\n",
              " </td>\n",
              " </tr>\n",
              " </tbody>\n",
              " </table>,\n",
              " <table style=\"border-bottom: black 1px solid; border-left: black 1px solid; margin: auto;\n",
              "                                         width: 100%; font-family: Verdana; border-top: black 1px solid; font-weight: lighter;\n",
              "                                         border-right: black 1px solid\">\n",
              " <tbody>\n",
              " <tr>\n",
              " <td align=\"center\" colspan=\"2\" style=\"font-size: large\">\n",
              "                                                         Constituencywise Trends\n",
              "                                                     </td>\n",
              " </tr>\n",
              " <tr align=\"center\" style=\"background-color: #FFC0CD; height: 20px; color: black;\">\n",
              " <td colspan=\"2\" style=\"width: 50%; font-weight: 700\">\n",
              " <b>Select State</b> <select id=\"ctl00_ContentPlaceHolder1_Result1_ddlState\" name=\"\" onchange=\"return GetResult(this)\" style=\"width: 250px; height: 25px\">\n",
              " <option selected=\"selected\" value=\"Select State\">Select State</option>\n",
              " <option value=\"U051\">NCT OF Delhi</option>\n",
              " </select>\n",
              " </td>\n",
              " </tr>\n",
              " </tbody>\n",
              " </table>,\n",
              " <table width=\"100%\">\n",
              " <tbody>\n",
              " <tr>\n",
              " <td style=\"width: 100%\">\n",
              " <div id=\"divACList\" style=\"border-bottom-style: none; border-right-style: none; border-top-style: none;\n",
              "                                                         table-layout: auto; border-left-style: none\">\n",
              " <table border=\"1\" style=\"margin: auto; width: 100%; font-family: Verdana; border: solid 1px black;font-weight:lighter\"><tbody id=\"ElectionResult\"><tr style=\"height: 20px; background-color: #FFC0CD; color:Black;\"><td align=\"center\" colspan=\"11\"><b><h3>NCT OF Delhi <br/>Result Status</h3></b></td></tr><tr style=\"height: 20px; background-color: #FFC0CD; color:Black;\"><td align=\"center\" colspan=\"8\"><b><div id=\"divStatus\" style=\"font-size: 10px\"> Status Known For 70 out of 70 Constituencies</div></b></td><td align=\"center\" colspan=\"3\"><b><div style=\"font-size: 10px\">Assembly Election Result 2015</div></b></td></tr><tr style=\"height: 20px; background-color: #FFC0CD; color:Black;\"> <th align=\"left\">Constituency</th> <th>Const. No.</th><th align=\"left\">Leading Candidate</th><th>Leading Party</th><th align=\"left\">Trailing Candidate</th><th align=\"left\">Trailing Party</th><th>Margin</th><th>Status</th><th>Winning Candidate</th><th>Winning Party</th><th>Margin</th></tr>\n",
              " <tr>\n",
              " <td align=\"center\" colspan=\"11\"> <a href=\"#\">&lt;&lt; Previous</a>   <a href=\"statewiseU051.htm\">1</a>  <a href=\"statewiseU052.htm\">2</a>  <a href=\"statewiseU053.htm\">3</a>  <a href=\"statewiseU054.htm\">4</a>  <a href=\"statewiseU055.htm\">5</a>  <a href=\"statewiseU056.htm\">6</a>  <a href=\"statewiseU057.htm\">7</a>   <a href=\"#\">Next &gt;&gt;</a></td>\n",
              " </tr>\n",
              " <tr style=\"font-size:12px;\"><td align=\"left\">ADARSH NAGAR</td><td align=\"center\">4</td><td align=\"left\">PAWAN SHARMA</td><td align=\"left\"><table><tbody><tr><td>Aam Aadmi Party</td><td style=\"vertical-align:top\"><span class=\"tooltip-icon\" style=\"display:block\">i</span><div class=\"tooltip\"><h3>Current Assembly Election Result</h3><table><tbody><tr><td>Leading In</td><td>:</td><td>0</td></tr><tr><td>Won In</td><td>:</td><td>62</td></tr><tr><td>Trailing In</td><td>:</td><td>0</td></tr></tbody></table></div></td></tr></tbody></table></td><td align=\"left\">RAJ KUMAR BHATIA</td><td align=\"left\"><table><tbody><tr><td>Bharatiya Janata Party</td>\n",
              " <td style=\"vertical-align:top\"><span class=\"tooltip-icon\" style=\"display:block\">i</span><div class=\"tooltip\"><h3>Current Assembly Election Result</h3><table><tbody><tr><td>Leading In</td><td>:0</td><td></td></tr><tr><td>Won In</td><td>:8</td><td></td></tr><tr><td>Trailing In</td><td>:</td><td>0</td></tr></tbody></table>\n",
              " </div>\n",
              " </td></tr></tbody></table></td>\n",
              " <td align=\"right\">1589</td><td align=\"center\">Result Declared</td><td align=\"center\" style=\"background-color: lightgray;\">PAWAN KUMAR SHARMA</td><td align=\"center\" style=\"background-color: lightgray;\">Aam Aadmi Party</td><td align=\"center\" style=\"background-color: lightgray;\">20741</td></tr><tr style=\"font-size:12px;\"><td align=\"left\">AMBEDKAR NAGAR(SC)</td><td align=\"center\">48</td><td align=\"left\">AJAY DUTT</td><td align=\"left\"><table><tbody><tr><td>Aam Aadmi Party</td><td style=\"vertical-align:top\"><span class=\"tooltip-icon\" style=\"display:block\">i</span><div class=\"tooltip\"><h3>Current Assembly Election Result</h3><table><tbody><tr><td>Leading In</td><td>:</td><td>0</td></tr><tr><td>Won In</td><td>:</td><td>62</td></tr><tr><td>Trailing In</td><td>:</td><td>0</td></tr></tbody></table></div></td></tr></tbody></table></td><td align=\"left\">KHUSHIRAM CHUNAR</td><td align=\"left\"><table><tbody><tr><td>Bharatiya Janata Party</td>\n",
              " <td style=\"vertical-align:top\"><span class=\"tooltip-icon\" style=\"display:block\">i</span><div class=\"tooltip\"><h3>Current Assembly Election Result</h3><table><tbody><tr><td>Leading In</td><td>:0</td><td></td></tr><tr><td>Won In</td><td>:8</td><td></td></tr><tr><td>Trailing In</td><td>:</td><td>0</td></tr></tbody></table>\n",
              " </div>\n",
              " </td></tr></tbody></table></td>\n",
              " <td align=\"right\">28327</td><td align=\"center\">Result Declared</td><td align=\"center\" style=\"background-color: lightgray;\">AJAY DUTT</td><td align=\"center\" style=\"background-color: lightgray;\">Aam Aadmi Party</td><td align=\"center\" style=\"background-color: lightgray;\">42460</td></tr><tr style=\"font-size:12px;\"><td align=\"left\">BABARPUR</td><td align=\"center\">67</td><td align=\"left\">GOPAL RAI</td><td align=\"left\"><table><tbody><tr><td>Aam Aadmi Party</td><td style=\"vertical-align:top\"><span class=\"tooltip-icon\" style=\"display:block\">i</span><div class=\"tooltip\"><h3>Current Assembly Election Result</h3><table><tbody><tr><td>Leading In</td><td>:</td><td>0</td></tr><tr><td>Won In</td><td>:</td><td>62</td></tr><tr><td>Trailing In</td><td>:</td><td>0</td></tr></tbody></table></div></td></tr></tbody></table></td><td align=\"left\">NARESH GAUR</td><td align=\"left\"><table><tbody><tr><td>Bharatiya Janata Party</td>\n",
              " <td style=\"vertical-align:top\"><span class=\"tooltip-icon\" style=\"display:block\">i</span><div class=\"tooltip\"><h3>Current Assembly Election Result</h3><table><tbody><tr><td>Leading In</td><td>:0</td><td></td></tr><tr><td>Won In</td><td>:8</td><td></td></tr><tr><td>Trailing In</td><td>:</td><td>0</td></tr></tbody></table>\n",
              " </div>\n",
              " </td></tr></tbody></table></td>\n",
              " <td align=\"right\">33062</td><td align=\"center\">Result Declared</td><td align=\"center\" style=\"background-color: lightgray;\">GOPAL RAI</td><td align=\"center\" style=\"background-color: lightgray;\">Aam Aadmi Party</td><td align=\"center\" style=\"background-color: lightgray;\">35271</td></tr><tr style=\"font-size:12px;\"><td align=\"left\">BADARPUR</td><td align=\"center\">53</td><td align=\"left\">RAMVIR SINGH BIDHURI</td><td align=\"left\"><table><tbody><tr><td>Bharatiya Janata Party</td><td style=\"vertical-align:top\"><span class=\"tooltip-icon\" style=\"display:block\">i</span><div class=\"tooltip\"><h3>Current Assembly Election Result</h3><table><tbody><tr><td>Leading In</td><td>:</td><td>0</td></tr><tr><td>Won In</td><td>:</td><td>8</td></tr><tr><td>Trailing In</td><td>:</td><td>0</td></tr></tbody></table></div></td></tr></tbody></table></td><td align=\"left\">RAM SINGH NETAJI</td><td align=\"left\"><table><tbody><tr><td>Aam Aadmi Party</td>\n",
              " <td style=\"vertical-align:top\"><span class=\"tooltip-icon\" style=\"display:block\">i</span><div class=\"tooltip\"><h3>Current Assembly Election Result</h3><table><tbody><tr><td>Leading In</td><td>:0</td><td></td></tr><tr><td>Won In</td><td>:62</td><td></td></tr><tr><td>Trailing In</td><td>:</td><td>0</td></tr></tbody></table>\n",
              " </div>\n",
              " </td></tr></tbody></table></td>\n",
              " <td align=\"right\">3719</td><td align=\"center\">Result Declared</td><td align=\"center\" style=\"background-color: lightgray;\">NARAYAN DUTT SHARMA</td><td align=\"center\" style=\"background-color: lightgray;\">Aam Aadmi Party</td><td align=\"center\" style=\"background-color: lightgray;\">47583</td></tr><tr style=\"font-size:12px;\"><td align=\"left\">BADLI</td><td align=\"center\">5</td><td align=\"left\">AJESH YADAV</td><td align=\"left\"><table><tbody><tr><td>Aam Aadmi Party</td><td style=\"vertical-align:top\"><span class=\"tooltip-icon\" style=\"display:block\">i</span><div class=\"tooltip\"><h3>Current Assembly Election Result</h3><table><tbody><tr><td>Leading In</td><td>:</td><td>0</td></tr><tr><td>Won In</td><td>:</td><td>62</td></tr><tr><td>Trailing In</td><td>:</td><td>0</td></tr></tbody></table></div></td></tr></tbody></table></td><td align=\"left\">VIJAY KUMAR BHAGAT</td><td align=\"left\"><table><tbody><tr><td>Bharatiya Janata Party</td>\n",
              " <td style=\"vertical-align:top\"><span class=\"tooltip-icon\" style=\"display:block\">i</span><div class=\"tooltip\"><h3>Current Assembly Election Result</h3><table><tbody><tr><td>Leading In</td><td>:0</td><td></td></tr><tr><td>Won In</td><td>:8</td><td></td></tr><tr><td>Trailing In</td><td>:</td><td>0</td></tr></tbody></table>\n",
              " </div>\n",
              " </td></tr></tbody></table></td>\n",
              " <td align=\"right\">29123</td><td align=\"center\">Result Declared</td><td align=\"center\" style=\"background-color: lightgray;\">AJESH YADAV</td><td align=\"center\" style=\"background-color: lightgray;\">Aam Aadmi Party</td><td align=\"center\" style=\"background-color: lightgray;\">35376</td></tr><tr style=\"font-size:12px;\"><td align=\"left\">BALLIMARAN</td><td align=\"center\">22</td><td align=\"left\">IMRAN HUSSAIN</td><td align=\"left\"><table><tbody><tr><td>Aam Aadmi Party</td><td style=\"vertical-align:top\"><span class=\"tooltip-icon\" style=\"display:block\">i</span><div class=\"tooltip\"><h3>Current Assembly Election Result</h3><table><tbody><tr><td>Leading In</td><td>:</td><td>0</td></tr><tr><td>Won In</td><td>:</td><td>62</td></tr><tr><td>Trailing In</td><td>:</td><td>0</td></tr></tbody></table></div></td></tr></tbody></table></td><td align=\"left\">LATA</td><td align=\"left\"><table><tbody><tr><td>Bharatiya Janata Party</td>\n",
              " <td style=\"vertical-align:top\"><span class=\"tooltip-icon\" style=\"display:block\">i</span><div class=\"tooltip\"><h3>Current Assembly Election Result</h3><table><tbody><tr><td>Leading In</td><td>:0</td><td></td></tr><tr><td>Won In</td><td>:8</td><td></td></tr><tr><td>Trailing In</td><td>:</td><td>0</td></tr></tbody></table>\n",
              " </div>\n",
              " </td></tr></tbody></table></td>\n",
              " <td align=\"right\">36172</td><td align=\"center\">Result Declared</td><td align=\"center\" style=\"background-color: lightgray;\">IMRAN HUSSAIN</td><td align=\"center\" style=\"background-color: lightgray;\">Aam Aadmi Party</td><td align=\"center\" style=\"background-color: lightgray;\">33877</td></tr><tr style=\"font-size:12px;\"><td align=\"left\">BAWANA(SC)</td><td align=\"center\">7</td><td align=\"left\">JAI BHAGWAN</td><td align=\"left\"><table><tbody><tr><td>Aam Aadmi Party</td><td style=\"vertical-align:top\"><span class=\"tooltip-icon\" style=\"display:block\">i</span><div class=\"tooltip\"><h3>Current Assembly Election Result</h3><table><tbody><tr><td>Leading In</td><td>:</td><td>0</td></tr><tr><td>Won In</td><td>:</td><td>62</td></tr><tr><td>Trailing In</td><td>:</td><td>0</td></tr></tbody></table></div></td></tr></tbody></table></td><td align=\"left\">RAVINDER KUMAR</td><td align=\"left\"><table><tbody><tr><td>Bharatiya Janata Party</td>\n",
              " <td style=\"vertical-align:top\"><span class=\"tooltip-icon\" style=\"display:block\">i</span><div class=\"tooltip\"><h3>Current Assembly Election Result</h3><table><tbody><tr><td>Leading In</td><td>:0</td><td></td></tr><tr><td>Won In</td><td>:8</td><td></td></tr><tr><td>Trailing In</td><td>:</td><td>0</td></tr></tbody></table>\n",
              " </div>\n",
              " </td></tr></tbody></table></td>\n",
              " <td align=\"right\">11526</td><td align=\"center\">Result Declared</td><td align=\"center\" style=\"background-color: lightgray;\">VED PARKASH</td><td align=\"center\" style=\"background-color: lightgray;\">Aam Aadmi Party</td><td align=\"center\" style=\"background-color: lightgray;\">50557</td></tr><tr style=\"font-size:12px;\"><td align=\"left\">BIJWASAN</td><td align=\"center\">36</td><td align=\"left\">BHUPINDER SINGH JOON</td><td align=\"left\"><table><tbody><tr><td>Aam Aadmi Party</td><td style=\"vertical-align:top\"><span class=\"tooltip-icon\" style=\"display:block\">i</span><div class=\"tooltip\"><h3>Current Assembly Election Result</h3><table><tbody><tr><td>Leading In</td><td>:</td><td>0</td></tr><tr><td>Won In</td><td>:</td><td>62</td></tr><tr><td>Trailing In</td><td>:</td><td>0</td></tr></tbody></table></div></td></tr></tbody></table></td><td align=\"left\">SAT PRAKASH RANA</td><td align=\"left\"><table><tbody><tr><td>Bharatiya Janata Party</td>\n",
              " <td style=\"vertical-align:top\"><span class=\"tooltip-icon\" style=\"display:block\">i</span><div class=\"tooltip\"><h3>Current Assembly Election Result</h3><table><tbody><tr><td>Leading In</td><td>:0</td><td></td></tr><tr><td>Won In</td><td>:8</td><td></td></tr><tr><td>Trailing In</td><td>:</td><td>0</td></tr></tbody></table>\n",
              " </div>\n",
              " </td></tr></tbody></table></td>\n",
              " <td align=\"right\">753</td><td align=\"center\">Result Declared</td><td align=\"center\" style=\"background-color: lightgray;\">COL DEVINDER SEHRAWAT</td><td align=\"center\" style=\"background-color: lightgray;\">Aam Aadmi Party</td><td align=\"center\" style=\"background-color: lightgray;\">19536</td></tr><tr style=\"font-size:12px;\"><td align=\"left\">BURARI</td><td align=\"center\">2</td><td align=\"left\">SANJEEV JHA</td><td align=\"left\"><table><tbody><tr><td>Aam Aadmi Party</td><td style=\"vertical-align:top\"><span class=\"tooltip-icon\" style=\"display:block\">i</span><div class=\"tooltip\"><h3>Current Assembly Election Result</h3><table><tbody><tr><td>Leading In</td><td>:</td><td>0</td></tr><tr><td>Won In</td><td>:</td><td>62</td></tr><tr><td>Trailing In</td><td>:</td><td>0</td></tr></tbody></table></div></td></tr></tbody></table></td><td align=\"left\">SHAILENDRA KUMAR</td><td align=\"left\"><table><tbody><tr><td>Janata Dal (United)</td>\n",
              " <td style=\"vertical-align:top\"><span class=\"tooltip-icon\" style=\"display:block\">i</span><div class=\"tooltip\"><h3>Current Assembly Election Result</h3><table><tbody><tr><td>Leading In</td><td>:0</td><td></td></tr><tr><td>Won In</td><td>:0</td><td></td></tr><tr><td>Trailing In</td><td>:</td><td>0</td></tr></tbody></table>\n",
              " </div>\n",
              " </td></tr></tbody></table></td>\n",
              " <td align=\"right\">88158</td><td align=\"center\">Result Declared</td><td align=\"center\" style=\"background-color: lightgray;\">SANJEEV JHA</td><td align=\"center\" style=\"background-color: lightgray;\">Aam Aadmi Party</td><td align=\"center\" style=\"background-color: lightgray;\">67950</td></tr><tr style=\"font-size:12px;\"><td align=\"left\">CHANDNI CHOWK</td><td align=\"center\">20</td><td align=\"left\">PARLAD SINGH SAWHNEY</td><td align=\"left\"><table><tbody><tr><td>Aam Aadmi Party</td><td style=\"vertical-align:top\"><span class=\"tooltip-icon\" style=\"display:block\">i</span><div class=\"tooltip\"><h3>Current Assembly Election Result</h3><table><tbody><tr><td>Leading In</td><td>:</td><td>0</td></tr><tr><td>Won In</td><td>:</td><td>62</td></tr><tr><td>Trailing In</td><td>:</td><td>0</td></tr></tbody></table></div></td></tr></tbody></table></td><td align=\"left\">SUMAN KUMAR GUPTA</td><td align=\"left\"><table><tbody><tr><td>Bharatiya Janata Party</td>\n",
              " <td style=\"vertical-align:top\"><span class=\"tooltip-icon\" style=\"display:block\">i</span><div class=\"tooltip\"><h3>Current Assembly Election Result</h3><table><tbody><tr><td>Leading In</td><td>:0</td><td></td></tr><tr><td>Won In</td><td>:8</td><td></td></tr><tr><td>Trailing In</td><td>:</td><td>0</td></tr></tbody></table>\n",
              " </div>\n",
              " </td></tr></tbody></table></td>\n",
              " <td align=\"right\">29584</td><td align=\"center\">Result Declared</td><td align=\"center\" style=\"background-color: lightgray;\">ALKA  LAMBA</td><td align=\"center\" style=\"background-color: lightgray;\">Aam Aadmi Party</td><td align=\"center\" style=\"background-color: lightgray;\">18287</td></tr>\n",
              " </tbody>\n",
              " </table>\n",
              " </div></td>\n",
              " </tr>\n",
              " <tr id=\"customMessage\" style=\"display: none\">\n",
              " <td align=\"center\">\n",
              " <table width=\"100%\">\n",
              " <tbody><tr>\n",
              " <td align=\"center\">\n",
              " </td>\n",
              " </tr>\n",
              " </tbody></table>\n",
              " <br/>\n",
              " </td>\n",
              " </tr>\n",
              " <tr style=\"height: 50px\">\n",
              " <td></td>\n",
              " </tr>\n",
              " <tr>\n",
              " <td align=\"center\" style=\"font-weight: bold\"> </td></tr>\n",
              " <tr><td align=\"center\" style=\"font-weight: bold\">Disclaimer</td></tr>\n",
              " <tr>\n",
              " <td align=\"center\" style=\"font-weight: normal\">\n",
              " <p class=\"disclaimer-wide\">ECI is displaying the information as being filled in the system by the Returning Officers from their respective Counting Centers.</p>\n",
              " </td>\n",
              " </tr>\n",
              " <td align=\"center\" style=\"font-weight: normal\">\n",
              " <!-- Last Updated at 10:27 pm On 11/02/2020 -->\n",
              " </td>\n",
              " </tbody></table>,\n",
              " <table border=\"1\" style=\"margin: auto; width: 100%; font-family: Verdana; border: solid 1px black;font-weight:lighter\"><tbody id=\"ElectionResult\"><tr style=\"height: 20px; background-color: #FFC0CD; color:Black;\"><td align=\"center\" colspan=\"11\"><b><h3>NCT OF Delhi <br/>Result Status</h3></b></td></tr><tr style=\"height: 20px; background-color: #FFC0CD; color:Black;\"><td align=\"center\" colspan=\"8\"><b><div id=\"divStatus\" style=\"font-size: 10px\"> Status Known For 70 out of 70 Constituencies</div></b></td><td align=\"center\" colspan=\"3\"><b><div style=\"font-size: 10px\">Assembly Election Result 2015</div></b></td></tr><tr style=\"height: 20px; background-color: #FFC0CD; color:Black;\"> <th align=\"left\">Constituency</th> <th>Const. No.</th><th align=\"left\">Leading Candidate</th><th>Leading Party</th><th align=\"left\">Trailing Candidate</th><th align=\"left\">Trailing Party</th><th>Margin</th><th>Status</th><th>Winning Candidate</th><th>Winning Party</th><th>Margin</th></tr>\n",
              " <tr>\n",
              " <td align=\"center\" colspan=\"11\"> <a href=\"#\">&lt;&lt; Previous</a>   <a href=\"statewiseU051.htm\">1</a>  <a href=\"statewiseU052.htm\">2</a>  <a href=\"statewiseU053.htm\">3</a>  <a href=\"statewiseU054.htm\">4</a>  <a href=\"statewiseU055.htm\">5</a>  <a href=\"statewiseU056.htm\">6</a>  <a href=\"statewiseU057.htm\">7</a>   <a href=\"#\">Next &gt;&gt;</a></td>\n",
              " </tr>\n",
              " <tr style=\"font-size:12px;\"><td align=\"left\">ADARSH NAGAR</td><td align=\"center\">4</td><td align=\"left\">PAWAN SHARMA</td><td align=\"left\"><table><tbody><tr><td>Aam Aadmi Party</td><td style=\"vertical-align:top\"><span class=\"tooltip-icon\" style=\"display:block\">i</span><div class=\"tooltip\"><h3>Current Assembly Election Result</h3><table><tbody><tr><td>Leading In</td><td>:</td><td>0</td></tr><tr><td>Won In</td><td>:</td><td>62</td></tr><tr><td>Trailing In</td><td>:</td><td>0</td></tr></tbody></table></div></td></tr></tbody></table></td><td align=\"left\">RAJ KUMAR BHATIA</td><td align=\"left\"><table><tbody><tr><td>Bharatiya Janata Party</td>\n",
              " <td style=\"vertical-align:top\"><span class=\"tooltip-icon\" style=\"display:block\">i</span><div class=\"tooltip\"><h3>Current Assembly Election Result</h3><table><tbody><tr><td>Leading In</td><td>:0</td><td></td></tr><tr><td>Won In</td><td>:8</td><td></td></tr><tr><td>Trailing In</td><td>:</td><td>0</td></tr></tbody></table>\n",
              " </div>\n",
              " </td></tr></tbody></table></td>\n",
              " <td align=\"right\">1589</td><td align=\"center\">Result Declared</td><td align=\"center\" style=\"background-color: lightgray;\">PAWAN KUMAR SHARMA</td><td align=\"center\" style=\"background-color: lightgray;\">Aam Aadmi Party</td><td align=\"center\" style=\"background-color: lightgray;\">20741</td></tr><tr style=\"font-size:12px;\"><td align=\"left\">AMBEDKAR NAGAR(SC)</td><td align=\"center\">48</td><td align=\"left\">AJAY DUTT</td><td align=\"left\"><table><tbody><tr><td>Aam Aadmi Party</td><td style=\"vertical-align:top\"><span class=\"tooltip-icon\" style=\"display:block\">i</span><div class=\"tooltip\"><h3>Current Assembly Election Result</h3><table><tbody><tr><td>Leading In</td><td>:</td><td>0</td></tr><tr><td>Won In</td><td>:</td><td>62</td></tr><tr><td>Trailing In</td><td>:</td><td>0</td></tr></tbody></table></div></td></tr></tbody></table></td><td align=\"left\">KHUSHIRAM CHUNAR</td><td align=\"left\"><table><tbody><tr><td>Bharatiya Janata Party</td>\n",
              " <td style=\"vertical-align:top\"><span class=\"tooltip-icon\" style=\"display:block\">i</span><div class=\"tooltip\"><h3>Current Assembly Election Result</h3><table><tbody><tr><td>Leading In</td><td>:0</td><td></td></tr><tr><td>Won In</td><td>:8</td><td></td></tr><tr><td>Trailing In</td><td>:</td><td>0</td></tr></tbody></table>\n",
              " </div>\n",
              " </td></tr></tbody></table></td>\n",
              " <td align=\"right\">28327</td><td align=\"center\">Result Declared</td><td align=\"center\" style=\"background-color: lightgray;\">AJAY DUTT</td><td align=\"center\" style=\"background-color: lightgray;\">Aam Aadmi Party</td><td align=\"center\" style=\"background-color: lightgray;\">42460</td></tr><tr style=\"font-size:12px;\"><td align=\"left\">BABARPUR</td><td align=\"center\">67</td><td align=\"left\">GOPAL RAI</td><td align=\"left\"><table><tbody><tr><td>Aam Aadmi Party</td><td style=\"vertical-align:top\"><span class=\"tooltip-icon\" style=\"display:block\">i</span><div class=\"tooltip\"><h3>Current Assembly Election Result</h3><table><tbody><tr><td>Leading In</td><td>:</td><td>0</td></tr><tr><td>Won In</td><td>:</td><td>62</td></tr><tr><td>Trailing In</td><td>:</td><td>0</td></tr></tbody></table></div></td></tr></tbody></table></td><td align=\"left\">NARESH GAUR</td><td align=\"left\"><table><tbody><tr><td>Bharatiya Janata Party</td>\n",
              " <td style=\"vertical-align:top\"><span class=\"tooltip-icon\" style=\"display:block\">i</span><div class=\"tooltip\"><h3>Current Assembly Election Result</h3><table><tbody><tr><td>Leading In</td><td>:0</td><td></td></tr><tr><td>Won In</td><td>:8</td><td></td></tr><tr><td>Trailing In</td><td>:</td><td>0</td></tr></tbody></table>\n",
              " </div>\n",
              " </td></tr></tbody></table></td>\n",
              " <td align=\"right\">33062</td><td align=\"center\">Result Declared</td><td align=\"center\" style=\"background-color: lightgray;\">GOPAL RAI</td><td align=\"center\" style=\"background-color: lightgray;\">Aam Aadmi Party</td><td align=\"center\" style=\"background-color: lightgray;\">35271</td></tr><tr style=\"font-size:12px;\"><td align=\"left\">BADARPUR</td><td align=\"center\">53</td><td align=\"left\">RAMVIR SINGH BIDHURI</td><td align=\"left\"><table><tbody><tr><td>Bharatiya Janata Party</td><td style=\"vertical-align:top\"><span class=\"tooltip-icon\" style=\"display:block\">i</span><div class=\"tooltip\"><h3>Current Assembly Election Result</h3><table><tbody><tr><td>Leading In</td><td>:</td><td>0</td></tr><tr><td>Won In</td><td>:</td><td>8</td></tr><tr><td>Trailing In</td><td>:</td><td>0</td></tr></tbody></table></div></td></tr></tbody></table></td><td align=\"left\">RAM SINGH NETAJI</td><td align=\"left\"><table><tbody><tr><td>Aam Aadmi Party</td>\n",
              " <td style=\"vertical-align:top\"><span class=\"tooltip-icon\" style=\"display:block\">i</span><div class=\"tooltip\"><h3>Current Assembly Election Result</h3><table><tbody><tr><td>Leading In</td><td>:0</td><td></td></tr><tr><td>Won In</td><td>:62</td><td></td></tr><tr><td>Trailing In</td><td>:</td><td>0</td></tr></tbody></table>\n",
              " </div>\n",
              " </td></tr></tbody></table></td>\n",
              " <td align=\"right\">3719</td><td align=\"center\">Result Declared</td><td align=\"center\" style=\"background-color: lightgray;\">NARAYAN DUTT SHARMA</td><td align=\"center\" style=\"background-color: lightgray;\">Aam Aadmi Party</td><td align=\"center\" style=\"background-color: lightgray;\">47583</td></tr><tr style=\"font-size:12px;\"><td align=\"left\">BADLI</td><td align=\"center\">5</td><td align=\"left\">AJESH YADAV</td><td align=\"left\"><table><tbody><tr><td>Aam Aadmi Party</td><td style=\"vertical-align:top\"><span class=\"tooltip-icon\" style=\"display:block\">i</span><div class=\"tooltip\"><h3>Current Assembly Election Result</h3><table><tbody><tr><td>Leading In</td><td>:</td><td>0</td></tr><tr><td>Won In</td><td>:</td><td>62</td></tr><tr><td>Trailing In</td><td>:</td><td>0</td></tr></tbody></table></div></td></tr></tbody></table></td><td align=\"left\">VIJAY KUMAR BHAGAT</td><td align=\"left\"><table><tbody><tr><td>Bharatiya Janata Party</td>\n",
              " <td style=\"vertical-align:top\"><span class=\"tooltip-icon\" style=\"display:block\">i</span><div class=\"tooltip\"><h3>Current Assembly Election Result</h3><table><tbody><tr><td>Leading In</td><td>:0</td><td></td></tr><tr><td>Won In</td><td>:8</td><td></td></tr><tr><td>Trailing In</td><td>:</td><td>0</td></tr></tbody></table>\n",
              " </div>\n",
              " </td></tr></tbody></table></td>\n",
              " <td align=\"right\">29123</td><td align=\"center\">Result Declared</td><td align=\"center\" style=\"background-color: lightgray;\">AJESH YADAV</td><td align=\"center\" style=\"background-color: lightgray;\">Aam Aadmi Party</td><td align=\"center\" style=\"background-color: lightgray;\">35376</td></tr><tr style=\"font-size:12px;\"><td align=\"left\">BALLIMARAN</td><td align=\"center\">22</td><td align=\"left\">IMRAN HUSSAIN</td><td align=\"left\"><table><tbody><tr><td>Aam Aadmi Party</td><td style=\"vertical-align:top\"><span class=\"tooltip-icon\" style=\"display:block\">i</span><div class=\"tooltip\"><h3>Current Assembly Election Result</h3><table><tbody><tr><td>Leading In</td><td>:</td><td>0</td></tr><tr><td>Won In</td><td>:</td><td>62</td></tr><tr><td>Trailing In</td><td>:</td><td>0</td></tr></tbody></table></div></td></tr></tbody></table></td><td align=\"left\">LATA</td><td align=\"left\"><table><tbody><tr><td>Bharatiya Janata Party</td>\n",
              " <td style=\"vertical-align:top\"><span class=\"tooltip-icon\" style=\"display:block\">i</span><div class=\"tooltip\"><h3>Current Assembly Election Result</h3><table><tbody><tr><td>Leading In</td><td>:0</td><td></td></tr><tr><td>Won In</td><td>:8</td><td></td></tr><tr><td>Trailing In</td><td>:</td><td>0</td></tr></tbody></table>\n",
              " </div>\n",
              " </td></tr></tbody></table></td>\n",
              " <td align=\"right\">36172</td><td align=\"center\">Result Declared</td><td align=\"center\" style=\"background-color: lightgray;\">IMRAN HUSSAIN</td><td align=\"center\" style=\"background-color: lightgray;\">Aam Aadmi Party</td><td align=\"center\" style=\"background-color: lightgray;\">33877</td></tr><tr style=\"font-size:12px;\"><td align=\"left\">BAWANA(SC)</td><td align=\"center\">7</td><td align=\"left\">JAI BHAGWAN</td><td align=\"left\"><table><tbody><tr><td>Aam Aadmi Party</td><td style=\"vertical-align:top\"><span class=\"tooltip-icon\" style=\"display:block\">i</span><div class=\"tooltip\"><h3>Current Assembly Election Result</h3><table><tbody><tr><td>Leading In</td><td>:</td><td>0</td></tr><tr><td>Won In</td><td>:</td><td>62</td></tr><tr><td>Trailing In</td><td>:</td><td>0</td></tr></tbody></table></div></td></tr></tbody></table></td><td align=\"left\">RAVINDER KUMAR</td><td align=\"left\"><table><tbody><tr><td>Bharatiya Janata Party</td>\n",
              " <td style=\"vertical-align:top\"><span class=\"tooltip-icon\" style=\"display:block\">i</span><div class=\"tooltip\"><h3>Current Assembly Election Result</h3><table><tbody><tr><td>Leading In</td><td>:0</td><td></td></tr><tr><td>Won In</td><td>:8</td><td></td></tr><tr><td>Trailing In</td><td>:</td><td>0</td></tr></tbody></table>\n",
              " </div>\n",
              " </td></tr></tbody></table></td>\n",
              " <td align=\"right\">11526</td><td align=\"center\">Result Declared</td><td align=\"center\" style=\"background-color: lightgray;\">VED PARKASH</td><td align=\"center\" style=\"background-color: lightgray;\">Aam Aadmi Party</td><td align=\"center\" style=\"background-color: lightgray;\">50557</td></tr><tr style=\"font-size:12px;\"><td align=\"left\">BIJWASAN</td><td align=\"center\">36</td><td align=\"left\">BHUPINDER SINGH JOON</td><td align=\"left\"><table><tbody><tr><td>Aam Aadmi Party</td><td style=\"vertical-align:top\"><span class=\"tooltip-icon\" style=\"display:block\">i</span><div class=\"tooltip\"><h3>Current Assembly Election Result</h3><table><tbody><tr><td>Leading In</td><td>:</td><td>0</td></tr><tr><td>Won In</td><td>:</td><td>62</td></tr><tr><td>Trailing In</td><td>:</td><td>0</td></tr></tbody></table></div></td></tr></tbody></table></td><td align=\"left\">SAT PRAKASH RANA</td><td align=\"left\"><table><tbody><tr><td>Bharatiya Janata Party</td>\n",
              " <td style=\"vertical-align:top\"><span class=\"tooltip-icon\" style=\"display:block\">i</span><div class=\"tooltip\"><h3>Current Assembly Election Result</h3><table><tbody><tr><td>Leading In</td><td>:0</td><td></td></tr><tr><td>Won In</td><td>:8</td><td></td></tr><tr><td>Trailing In</td><td>:</td><td>0</td></tr></tbody></table>\n",
              " </div>\n",
              " </td></tr></tbody></table></td>\n",
              " <td align=\"right\">753</td><td align=\"center\">Result Declared</td><td align=\"center\" style=\"background-color: lightgray;\">COL DEVINDER SEHRAWAT</td><td align=\"center\" style=\"background-color: lightgray;\">Aam Aadmi Party</td><td align=\"center\" style=\"background-color: lightgray;\">19536</td></tr><tr style=\"font-size:12px;\"><td align=\"left\">BURARI</td><td align=\"center\">2</td><td align=\"left\">SANJEEV JHA</td><td align=\"left\"><table><tbody><tr><td>Aam Aadmi Party</td><td style=\"vertical-align:top\"><span class=\"tooltip-icon\" style=\"display:block\">i</span><div class=\"tooltip\"><h3>Current Assembly Election Result</h3><table><tbody><tr><td>Leading In</td><td>:</td><td>0</td></tr><tr><td>Won In</td><td>:</td><td>62</td></tr><tr><td>Trailing In</td><td>:</td><td>0</td></tr></tbody></table></div></td></tr></tbody></table></td><td align=\"left\">SHAILENDRA KUMAR</td><td align=\"left\"><table><tbody><tr><td>Janata Dal (United)</td>\n",
              " <td style=\"vertical-align:top\"><span class=\"tooltip-icon\" style=\"display:block\">i</span><div class=\"tooltip\"><h3>Current Assembly Election Result</h3><table><tbody><tr><td>Leading In</td><td>:0</td><td></td></tr><tr><td>Won In</td><td>:0</td><td></td></tr><tr><td>Trailing In</td><td>:</td><td>0</td></tr></tbody></table>\n",
              " </div>\n",
              " </td></tr></tbody></table></td>\n",
              " <td align=\"right\">88158</td><td align=\"center\">Result Declared</td><td align=\"center\" style=\"background-color: lightgray;\">SANJEEV JHA</td><td align=\"center\" style=\"background-color: lightgray;\">Aam Aadmi Party</td><td align=\"center\" style=\"background-color: lightgray;\">67950</td></tr><tr style=\"font-size:12px;\"><td align=\"left\">CHANDNI CHOWK</td><td align=\"center\">20</td><td align=\"left\">PARLAD SINGH SAWHNEY</td><td align=\"left\"><table><tbody><tr><td>Aam Aadmi Party</td><td style=\"vertical-align:top\"><span class=\"tooltip-icon\" style=\"display:block\">i</span><div class=\"tooltip\"><h3>Current Assembly Election Result</h3><table><tbody><tr><td>Leading In</td><td>:</td><td>0</td></tr><tr><td>Won In</td><td>:</td><td>62</td></tr><tr><td>Trailing In</td><td>:</td><td>0</td></tr></tbody></table></div></td></tr></tbody></table></td><td align=\"left\">SUMAN KUMAR GUPTA</td><td align=\"left\"><table><tbody><tr><td>Bharatiya Janata Party</td>\n",
              " <td style=\"vertical-align:top\"><span class=\"tooltip-icon\" style=\"display:block\">i</span><div class=\"tooltip\"><h3>Current Assembly Election Result</h3><table><tbody><tr><td>Leading In</td><td>:0</td><td></td></tr><tr><td>Won In</td><td>:8</td><td></td></tr><tr><td>Trailing In</td><td>:</td><td>0</td></tr></tbody></table>\n",
              " </div>\n",
              " </td></tr></tbody></table></td>\n",
              " <td align=\"right\">29584</td><td align=\"center\">Result Declared</td><td align=\"center\" style=\"background-color: lightgray;\">ALKA  LAMBA</td><td align=\"center\" style=\"background-color: lightgray;\">Aam Aadmi Party</td><td align=\"center\" style=\"background-color: lightgray;\">18287</td></tr>\n",
              " </tbody>\n",
              " </table>,\n",
              " <table><tbody><tr><td>Aam Aadmi Party</td><td style=\"vertical-align:top\"><span class=\"tooltip-icon\" style=\"display:block\">i</span><div class=\"tooltip\"><h3>Current Assembly Election Result</h3><table><tbody><tr><td>Leading In</td><td>:</td><td>0</td></tr><tr><td>Won In</td><td>:</td><td>62</td></tr><tr><td>Trailing In</td><td>:</td><td>0</td></tr></tbody></table></div></td></tr></tbody></table>,\n",
              " <table><tbody><tr><td>Leading In</td><td>:</td><td>0</td></tr><tr><td>Won In</td><td>:</td><td>62</td></tr><tr><td>Trailing In</td><td>:</td><td>0</td></tr></tbody></table>,\n",
              " <table><tbody><tr><td>Bharatiya Janata Party</td>\n",
              " <td style=\"vertical-align:top\"><span class=\"tooltip-icon\" style=\"display:block\">i</span><div class=\"tooltip\"><h3>Current Assembly Election Result</h3><table><tbody><tr><td>Leading In</td><td>:0</td><td></td></tr><tr><td>Won In</td><td>:8</td><td></td></tr><tr><td>Trailing In</td><td>:</td><td>0</td></tr></tbody></table>\n",
              " </div>\n",
              " </td></tr></tbody></table>,\n",
              " <table><tbody><tr><td>Leading In</td><td>:0</td><td></td></tr><tr><td>Won In</td><td>:8</td><td></td></tr><tr><td>Trailing In</td><td>:</td><td>0</td></tr></tbody></table>,\n",
              " <table><tbody><tr><td>Aam Aadmi Party</td><td style=\"vertical-align:top\"><span class=\"tooltip-icon\" style=\"display:block\">i</span><div class=\"tooltip\"><h3>Current Assembly Election Result</h3><table><tbody><tr><td>Leading In</td><td>:</td><td>0</td></tr><tr><td>Won In</td><td>:</td><td>62</td></tr><tr><td>Trailing In</td><td>:</td><td>0</td></tr></tbody></table></div></td></tr></tbody></table>,\n",
              " <table><tbody><tr><td>Leading In</td><td>:</td><td>0</td></tr><tr><td>Won In</td><td>:</td><td>62</td></tr><tr><td>Trailing In</td><td>:</td><td>0</td></tr></tbody></table>,\n",
              " <table><tbody><tr><td>Bharatiya Janata Party</td>\n",
              " <td style=\"vertical-align:top\"><span class=\"tooltip-icon\" style=\"display:block\">i</span><div class=\"tooltip\"><h3>Current Assembly Election Result</h3><table><tbody><tr><td>Leading In</td><td>:0</td><td></td></tr><tr><td>Won In</td><td>:8</td><td></td></tr><tr><td>Trailing In</td><td>:</td><td>0</td></tr></tbody></table>\n",
              " </div>\n",
              " </td></tr></tbody></table>,\n",
              " <table><tbody><tr><td>Leading In</td><td>:0</td><td></td></tr><tr><td>Won In</td><td>:8</td><td></td></tr><tr><td>Trailing In</td><td>:</td><td>0</td></tr></tbody></table>,\n",
              " <table><tbody><tr><td>Aam Aadmi Party</td><td style=\"vertical-align:top\"><span class=\"tooltip-icon\" style=\"display:block\">i</span><div class=\"tooltip\"><h3>Current Assembly Election Result</h3><table><tbody><tr><td>Leading In</td><td>:</td><td>0</td></tr><tr><td>Won In</td><td>:</td><td>62</td></tr><tr><td>Trailing In</td><td>:</td><td>0</td></tr></tbody></table></div></td></tr></tbody></table>,\n",
              " <table><tbody><tr><td>Leading In</td><td>:</td><td>0</td></tr><tr><td>Won In</td><td>:</td><td>62</td></tr><tr><td>Trailing In</td><td>:</td><td>0</td></tr></tbody></table>,\n",
              " <table><tbody><tr><td>Bharatiya Janata Party</td>\n",
              " <td style=\"vertical-align:top\"><span class=\"tooltip-icon\" style=\"display:block\">i</span><div class=\"tooltip\"><h3>Current Assembly Election Result</h3><table><tbody><tr><td>Leading In</td><td>:0</td><td></td></tr><tr><td>Won In</td><td>:8</td><td></td></tr><tr><td>Trailing In</td><td>:</td><td>0</td></tr></tbody></table>\n",
              " </div>\n",
              " </td></tr></tbody></table>,\n",
              " <table><tbody><tr><td>Leading In</td><td>:0</td><td></td></tr><tr><td>Won In</td><td>:8</td><td></td></tr><tr><td>Trailing In</td><td>:</td><td>0</td></tr></tbody></table>,\n",
              " <table><tbody><tr><td>Bharatiya Janata Party</td><td style=\"vertical-align:top\"><span class=\"tooltip-icon\" style=\"display:block\">i</span><div class=\"tooltip\"><h3>Current Assembly Election Result</h3><table><tbody><tr><td>Leading In</td><td>:</td><td>0</td></tr><tr><td>Won In</td><td>:</td><td>8</td></tr><tr><td>Trailing In</td><td>:</td><td>0</td></tr></tbody></table></div></td></tr></tbody></table>,\n",
              " <table><tbody><tr><td>Leading In</td><td>:</td><td>0</td></tr><tr><td>Won In</td><td>:</td><td>8</td></tr><tr><td>Trailing In</td><td>:</td><td>0</td></tr></tbody></table>,\n",
              " <table><tbody><tr><td>Aam Aadmi Party</td>\n",
              " <td style=\"vertical-align:top\"><span class=\"tooltip-icon\" style=\"display:block\">i</span><div class=\"tooltip\"><h3>Current Assembly Election Result</h3><table><tbody><tr><td>Leading In</td><td>:0</td><td></td></tr><tr><td>Won In</td><td>:62</td><td></td></tr><tr><td>Trailing In</td><td>:</td><td>0</td></tr></tbody></table>\n",
              " </div>\n",
              " </td></tr></tbody></table>,\n",
              " <table><tbody><tr><td>Leading In</td><td>:0</td><td></td></tr><tr><td>Won In</td><td>:62</td><td></td></tr><tr><td>Trailing In</td><td>:</td><td>0</td></tr></tbody></table>,\n",
              " <table><tbody><tr><td>Aam Aadmi Party</td><td style=\"vertical-align:top\"><span class=\"tooltip-icon\" style=\"display:block\">i</span><div class=\"tooltip\"><h3>Current Assembly Election Result</h3><table><tbody><tr><td>Leading In</td><td>:</td><td>0</td></tr><tr><td>Won In</td><td>:</td><td>62</td></tr><tr><td>Trailing In</td><td>:</td><td>0</td></tr></tbody></table></div></td></tr></tbody></table>,\n",
              " <table><tbody><tr><td>Leading In</td><td>:</td><td>0</td></tr><tr><td>Won In</td><td>:</td><td>62</td></tr><tr><td>Trailing In</td><td>:</td><td>0</td></tr></tbody></table>,\n",
              " <table><tbody><tr><td>Bharatiya Janata Party</td>\n",
              " <td style=\"vertical-align:top\"><span class=\"tooltip-icon\" style=\"display:block\">i</span><div class=\"tooltip\"><h3>Current Assembly Election Result</h3><table><tbody><tr><td>Leading In</td><td>:0</td><td></td></tr><tr><td>Won In</td><td>:8</td><td></td></tr><tr><td>Trailing In</td><td>:</td><td>0</td></tr></tbody></table>\n",
              " </div>\n",
              " </td></tr></tbody></table>,\n",
              " <table><tbody><tr><td>Leading In</td><td>:0</td><td></td></tr><tr><td>Won In</td><td>:8</td><td></td></tr><tr><td>Trailing In</td><td>:</td><td>0</td></tr></tbody></table>,\n",
              " <table><tbody><tr><td>Aam Aadmi Party</td><td style=\"vertical-align:top\"><span class=\"tooltip-icon\" style=\"display:block\">i</span><div class=\"tooltip\"><h3>Current Assembly Election Result</h3><table><tbody><tr><td>Leading In</td><td>:</td><td>0</td></tr><tr><td>Won In</td><td>:</td><td>62</td></tr><tr><td>Trailing In</td><td>:</td><td>0</td></tr></tbody></table></div></td></tr></tbody></table>,\n",
              " <table><tbody><tr><td>Leading In</td><td>:</td><td>0</td></tr><tr><td>Won In</td><td>:</td><td>62</td></tr><tr><td>Trailing In</td><td>:</td><td>0</td></tr></tbody></table>,\n",
              " <table><tbody><tr><td>Bharatiya Janata Party</td>\n",
              " <td style=\"vertical-align:top\"><span class=\"tooltip-icon\" style=\"display:block\">i</span><div class=\"tooltip\"><h3>Current Assembly Election Result</h3><table><tbody><tr><td>Leading In</td><td>:0</td><td></td></tr><tr><td>Won In</td><td>:8</td><td></td></tr><tr><td>Trailing In</td><td>:</td><td>0</td></tr></tbody></table>\n",
              " </div>\n",
              " </td></tr></tbody></table>,\n",
              " <table><tbody><tr><td>Leading In</td><td>:0</td><td></td></tr><tr><td>Won In</td><td>:8</td><td></td></tr><tr><td>Trailing In</td><td>:</td><td>0</td></tr></tbody></table>,\n",
              " <table><tbody><tr><td>Aam Aadmi Party</td><td style=\"vertical-align:top\"><span class=\"tooltip-icon\" style=\"display:block\">i</span><div class=\"tooltip\"><h3>Current Assembly Election Result</h3><table><tbody><tr><td>Leading In</td><td>:</td><td>0</td></tr><tr><td>Won In</td><td>:</td><td>62</td></tr><tr><td>Trailing In</td><td>:</td><td>0</td></tr></tbody></table></div></td></tr></tbody></table>,\n",
              " <table><tbody><tr><td>Leading In</td><td>:</td><td>0</td></tr><tr><td>Won In</td><td>:</td><td>62</td></tr><tr><td>Trailing In</td><td>:</td><td>0</td></tr></tbody></table>,\n",
              " <table><tbody><tr><td>Bharatiya Janata Party</td>\n",
              " <td style=\"vertical-align:top\"><span class=\"tooltip-icon\" style=\"display:block\">i</span><div class=\"tooltip\"><h3>Current Assembly Election Result</h3><table><tbody><tr><td>Leading In</td><td>:0</td><td></td></tr><tr><td>Won In</td><td>:8</td><td></td></tr><tr><td>Trailing In</td><td>:</td><td>0</td></tr></tbody></table>\n",
              " </div>\n",
              " </td></tr></tbody></table>,\n",
              " <table><tbody><tr><td>Leading In</td><td>:0</td><td></td></tr><tr><td>Won In</td><td>:8</td><td></td></tr><tr><td>Trailing In</td><td>:</td><td>0</td></tr></tbody></table>,\n",
              " <table><tbody><tr><td>Aam Aadmi Party</td><td style=\"vertical-align:top\"><span class=\"tooltip-icon\" style=\"display:block\">i</span><div class=\"tooltip\"><h3>Current Assembly Election Result</h3><table><tbody><tr><td>Leading In</td><td>:</td><td>0</td></tr><tr><td>Won In</td><td>:</td><td>62</td></tr><tr><td>Trailing In</td><td>:</td><td>0</td></tr></tbody></table></div></td></tr></tbody></table>,\n",
              " <table><tbody><tr><td>Leading In</td><td>:</td><td>0</td></tr><tr><td>Won In</td><td>:</td><td>62</td></tr><tr><td>Trailing In</td><td>:</td><td>0</td></tr></tbody></table>,\n",
              " <table><tbody><tr><td>Bharatiya Janata Party</td>\n",
              " <td style=\"vertical-align:top\"><span class=\"tooltip-icon\" style=\"display:block\">i</span><div class=\"tooltip\"><h3>Current Assembly Election Result</h3><table><tbody><tr><td>Leading In</td><td>:0</td><td></td></tr><tr><td>Won In</td><td>:8</td><td></td></tr><tr><td>Trailing In</td><td>:</td><td>0</td></tr></tbody></table>\n",
              " </div>\n",
              " </td></tr></tbody></table>,\n",
              " <table><tbody><tr><td>Leading In</td><td>:0</td><td></td></tr><tr><td>Won In</td><td>:8</td><td></td></tr><tr><td>Trailing In</td><td>:</td><td>0</td></tr></tbody></table>,\n",
              " <table><tbody><tr><td>Aam Aadmi Party</td><td style=\"vertical-align:top\"><span class=\"tooltip-icon\" style=\"display:block\">i</span><div class=\"tooltip\"><h3>Current Assembly Election Result</h3><table><tbody><tr><td>Leading In</td><td>:</td><td>0</td></tr><tr><td>Won In</td><td>:</td><td>62</td></tr><tr><td>Trailing In</td><td>:</td><td>0</td></tr></tbody></table></div></td></tr></tbody></table>,\n",
              " <table><tbody><tr><td>Leading In</td><td>:</td><td>0</td></tr><tr><td>Won In</td><td>:</td><td>62</td></tr><tr><td>Trailing In</td><td>:</td><td>0</td></tr></tbody></table>,\n",
              " <table><tbody><tr><td>Janata Dal (United)</td>\n",
              " <td style=\"vertical-align:top\"><span class=\"tooltip-icon\" style=\"display:block\">i</span><div class=\"tooltip\"><h3>Current Assembly Election Result</h3><table><tbody><tr><td>Leading In</td><td>:0</td><td></td></tr><tr><td>Won In</td><td>:0</td><td></td></tr><tr><td>Trailing In</td><td>:</td><td>0</td></tr></tbody></table>\n",
              " </div>\n",
              " </td></tr></tbody></table>,\n",
              " <table><tbody><tr><td>Leading In</td><td>:0</td><td></td></tr><tr><td>Won In</td><td>:0</td><td></td></tr><tr><td>Trailing In</td><td>:</td><td>0</td></tr></tbody></table>,\n",
              " <table><tbody><tr><td>Aam Aadmi Party</td><td style=\"vertical-align:top\"><span class=\"tooltip-icon\" style=\"display:block\">i</span><div class=\"tooltip\"><h3>Current Assembly Election Result</h3><table><tbody><tr><td>Leading In</td><td>:</td><td>0</td></tr><tr><td>Won In</td><td>:</td><td>62</td></tr><tr><td>Trailing In</td><td>:</td><td>0</td></tr></tbody></table></div></td></tr></tbody></table>,\n",
              " <table><tbody><tr><td>Leading In</td><td>:</td><td>0</td></tr><tr><td>Won In</td><td>:</td><td>62</td></tr><tr><td>Trailing In</td><td>:</td><td>0</td></tr></tbody></table>,\n",
              " <table><tbody><tr><td>Bharatiya Janata Party</td>\n",
              " <td style=\"vertical-align:top\"><span class=\"tooltip-icon\" style=\"display:block\">i</span><div class=\"tooltip\"><h3>Current Assembly Election Result</h3><table><tbody><tr><td>Leading In</td><td>:0</td><td></td></tr><tr><td>Won In</td><td>:8</td><td></td></tr><tr><td>Trailing In</td><td>:</td><td>0</td></tr></tbody></table>\n",
              " </div>\n",
              " </td></tr></tbody></table>,\n",
              " <table><tbody><tr><td>Leading In</td><td>:0</td><td></td></tr><tr><td>Won In</td><td>:8</td><td></td></tr><tr><td>Trailing In</td><td>:</td><td>0</td></tr></tbody></table>,\n",
              " <table width=\"100%\">\n",
              " <tbody><tr>\n",
              " <td align=\"center\">\n",
              " </td>\n",
              " </tr>\n",
              " </tbody></table>]"
            ]
          },
          "metadata": {
            "tags": []
          },
          "execution_count": 8
        }
      ]
    },
    {
      "cell_type": "code",
      "metadata": {
        "id": "6EKPH7zkDYlT",
        "colab_type": "code",
        "outputId": "7968b972-1cdb-4acf-c1dd-02a5482d0ece",
        "colab": {
          "base_uri": "https://localhost:8080/",
          "height": 1000
        }
      },
      "source": [
        "table = all_tables[7]\n",
        "table"
      ],
      "execution_count": 0,
      "outputs": [
        {
          "output_type": "execute_result",
          "data": {
            "text/plain": [
              "<table width=\"100%\">\n",
              "<tbody>\n",
              "<tr>\n",
              "<td style=\"width: 100%\">\n",
              "<div id=\"divACList\" style=\"border-bottom-style: none; border-right-style: none; border-top-style: none;\n",
              "                                                        table-layout: auto; border-left-style: none\">\n",
              "<table border=\"1\" style=\"margin: auto; width: 100%; font-family: Verdana; border: solid 1px black;font-weight:lighter\"><tbody id=\"ElectionResult\"><tr style=\"height: 20px; background-color: #FFC0CD; color:Black;\"><td align=\"center\" colspan=\"11\"><b><h3>NCT OF Delhi <br/>Result Status</h3></b></td></tr><tr style=\"height: 20px; background-color: #FFC0CD; color:Black;\"><td align=\"center\" colspan=\"8\"><b><div id=\"divStatus\" style=\"font-size: 10px\"> Status Known For 70 out of 70 Constituencies</div></b></td><td align=\"center\" colspan=\"3\"><b><div style=\"font-size: 10px\">Assembly Election Result 2015</div></b></td></tr><tr style=\"height: 20px; background-color: #FFC0CD; color:Black;\"> <th align=\"left\">Constituency</th> <th>Const. No.</th><th align=\"left\">Leading Candidate</th><th>Leading Party</th><th align=\"left\">Trailing Candidate</th><th align=\"left\">Trailing Party</th><th>Margin</th><th>Status</th><th>Winning Candidate</th><th>Winning Party</th><th>Margin</th></tr>\n",
              "<tr>\n",
              "<td align=\"center\" colspan=\"11\"> <a href=\"#\">&lt;&lt; Previous</a>   <a href=\"statewiseU051.htm\">1</a>  <a href=\"statewiseU052.htm\">2</a>  <a href=\"statewiseU053.htm\">3</a>  <a href=\"statewiseU054.htm\">4</a>  <a href=\"statewiseU055.htm\">5</a>  <a href=\"statewiseU056.htm\">6</a>  <a href=\"statewiseU057.htm\">7</a>   <a href=\"#\">Next &gt;&gt;</a></td>\n",
              "</tr>\n",
              "<tr style=\"font-size:12px;\"><td align=\"left\">ADARSH NAGAR</td><td align=\"center\">4</td><td align=\"left\">PAWAN SHARMA</td><td align=\"left\"><table><tbody><tr><td>Aam Aadmi Party</td><td style=\"vertical-align:top\"><span class=\"tooltip-icon\" style=\"display:block\">i</span><div class=\"tooltip\"><h3>Current Assembly Election Result</h3><table><tbody><tr><td>Leading In</td><td>:</td><td>0</td></tr><tr><td>Won In</td><td>:</td><td>62</td></tr><tr><td>Trailing In</td><td>:</td><td>0</td></tr></tbody></table></div></td></tr></tbody></table></td><td align=\"left\">RAJ KUMAR BHATIA</td><td align=\"left\"><table><tbody><tr><td>Bharatiya Janata Party</td>\n",
              "<td style=\"vertical-align:top\"><span class=\"tooltip-icon\" style=\"display:block\">i</span><div class=\"tooltip\"><h3>Current Assembly Election Result</h3><table><tbody><tr><td>Leading In</td><td>:0</td><td></td></tr><tr><td>Won In</td><td>:8</td><td></td></tr><tr><td>Trailing In</td><td>:</td><td>0</td></tr></tbody></table>\n",
              "</div>\n",
              "</td></tr></tbody></table></td>\n",
              "<td align=\"right\">1589</td><td align=\"center\">Result Declared</td><td align=\"center\" style=\"background-color: lightgray;\">PAWAN KUMAR SHARMA</td><td align=\"center\" style=\"background-color: lightgray;\">Aam Aadmi Party</td><td align=\"center\" style=\"background-color: lightgray;\">20741</td></tr><tr style=\"font-size:12px;\"><td align=\"left\">AMBEDKAR NAGAR(SC)</td><td align=\"center\">48</td><td align=\"left\">AJAY DUTT</td><td align=\"left\"><table><tbody><tr><td>Aam Aadmi Party</td><td style=\"vertical-align:top\"><span class=\"tooltip-icon\" style=\"display:block\">i</span><div class=\"tooltip\"><h3>Current Assembly Election Result</h3><table><tbody><tr><td>Leading In</td><td>:</td><td>0</td></tr><tr><td>Won In</td><td>:</td><td>62</td></tr><tr><td>Trailing In</td><td>:</td><td>0</td></tr></tbody></table></div></td></tr></tbody></table></td><td align=\"left\">KHUSHIRAM CHUNAR</td><td align=\"left\"><table><tbody><tr><td>Bharatiya Janata Party</td>\n",
              "<td style=\"vertical-align:top\"><span class=\"tooltip-icon\" style=\"display:block\">i</span><div class=\"tooltip\"><h3>Current Assembly Election Result</h3><table><tbody><tr><td>Leading In</td><td>:0</td><td></td></tr><tr><td>Won In</td><td>:8</td><td></td></tr><tr><td>Trailing In</td><td>:</td><td>0</td></tr></tbody></table>\n",
              "</div>\n",
              "</td></tr></tbody></table></td>\n",
              "<td align=\"right\">28327</td><td align=\"center\">Result Declared</td><td align=\"center\" style=\"background-color: lightgray;\">AJAY DUTT</td><td align=\"center\" style=\"background-color: lightgray;\">Aam Aadmi Party</td><td align=\"center\" style=\"background-color: lightgray;\">42460</td></tr><tr style=\"font-size:12px;\"><td align=\"left\">BABARPUR</td><td align=\"center\">67</td><td align=\"left\">GOPAL RAI</td><td align=\"left\"><table><tbody><tr><td>Aam Aadmi Party</td><td style=\"vertical-align:top\"><span class=\"tooltip-icon\" style=\"display:block\">i</span><div class=\"tooltip\"><h3>Current Assembly Election Result</h3><table><tbody><tr><td>Leading In</td><td>:</td><td>0</td></tr><tr><td>Won In</td><td>:</td><td>62</td></tr><tr><td>Trailing In</td><td>:</td><td>0</td></tr></tbody></table></div></td></tr></tbody></table></td><td align=\"left\">NARESH GAUR</td><td align=\"left\"><table><tbody><tr><td>Bharatiya Janata Party</td>\n",
              "<td style=\"vertical-align:top\"><span class=\"tooltip-icon\" style=\"display:block\">i</span><div class=\"tooltip\"><h3>Current Assembly Election Result</h3><table><tbody><tr><td>Leading In</td><td>:0</td><td></td></tr><tr><td>Won In</td><td>:8</td><td></td></tr><tr><td>Trailing In</td><td>:</td><td>0</td></tr></tbody></table>\n",
              "</div>\n",
              "</td></tr></tbody></table></td>\n",
              "<td align=\"right\">33062</td><td align=\"center\">Result Declared</td><td align=\"center\" style=\"background-color: lightgray;\">GOPAL RAI</td><td align=\"center\" style=\"background-color: lightgray;\">Aam Aadmi Party</td><td align=\"center\" style=\"background-color: lightgray;\">35271</td></tr><tr style=\"font-size:12px;\"><td align=\"left\">BADARPUR</td><td align=\"center\">53</td><td align=\"left\">RAMVIR SINGH BIDHURI</td><td align=\"left\"><table><tbody><tr><td>Bharatiya Janata Party</td><td style=\"vertical-align:top\"><span class=\"tooltip-icon\" style=\"display:block\">i</span><div class=\"tooltip\"><h3>Current Assembly Election Result</h3><table><tbody><tr><td>Leading In</td><td>:</td><td>0</td></tr><tr><td>Won In</td><td>:</td><td>8</td></tr><tr><td>Trailing In</td><td>:</td><td>0</td></tr></tbody></table></div></td></tr></tbody></table></td><td align=\"left\">RAM SINGH NETAJI</td><td align=\"left\"><table><tbody><tr><td>Aam Aadmi Party</td>\n",
              "<td style=\"vertical-align:top\"><span class=\"tooltip-icon\" style=\"display:block\">i</span><div class=\"tooltip\"><h3>Current Assembly Election Result</h3><table><tbody><tr><td>Leading In</td><td>:0</td><td></td></tr><tr><td>Won In</td><td>:62</td><td></td></tr><tr><td>Trailing In</td><td>:</td><td>0</td></tr></tbody></table>\n",
              "</div>\n",
              "</td></tr></tbody></table></td>\n",
              "<td align=\"right\">3719</td><td align=\"center\">Result Declared</td><td align=\"center\" style=\"background-color: lightgray;\">NARAYAN DUTT SHARMA</td><td align=\"center\" style=\"background-color: lightgray;\">Aam Aadmi Party</td><td align=\"center\" style=\"background-color: lightgray;\">47583</td></tr><tr style=\"font-size:12px;\"><td align=\"left\">BADLI</td><td align=\"center\">5</td><td align=\"left\">AJESH YADAV</td><td align=\"left\"><table><tbody><tr><td>Aam Aadmi Party</td><td style=\"vertical-align:top\"><span class=\"tooltip-icon\" style=\"display:block\">i</span><div class=\"tooltip\"><h3>Current Assembly Election Result</h3><table><tbody><tr><td>Leading In</td><td>:</td><td>0</td></tr><tr><td>Won In</td><td>:</td><td>62</td></tr><tr><td>Trailing In</td><td>:</td><td>0</td></tr></tbody></table></div></td></tr></tbody></table></td><td align=\"left\">VIJAY KUMAR BHAGAT</td><td align=\"left\"><table><tbody><tr><td>Bharatiya Janata Party</td>\n",
              "<td style=\"vertical-align:top\"><span class=\"tooltip-icon\" style=\"display:block\">i</span><div class=\"tooltip\"><h3>Current Assembly Election Result</h3><table><tbody><tr><td>Leading In</td><td>:0</td><td></td></tr><tr><td>Won In</td><td>:8</td><td></td></tr><tr><td>Trailing In</td><td>:</td><td>0</td></tr></tbody></table>\n",
              "</div>\n",
              "</td></tr></tbody></table></td>\n",
              "<td align=\"right\">29123</td><td align=\"center\">Result Declared</td><td align=\"center\" style=\"background-color: lightgray;\">AJESH YADAV</td><td align=\"center\" style=\"background-color: lightgray;\">Aam Aadmi Party</td><td align=\"center\" style=\"background-color: lightgray;\">35376</td></tr><tr style=\"font-size:12px;\"><td align=\"left\">BALLIMARAN</td><td align=\"center\">22</td><td align=\"left\">IMRAN HUSSAIN</td><td align=\"left\"><table><tbody><tr><td>Aam Aadmi Party</td><td style=\"vertical-align:top\"><span class=\"tooltip-icon\" style=\"display:block\">i</span><div class=\"tooltip\"><h3>Current Assembly Election Result</h3><table><tbody><tr><td>Leading In</td><td>:</td><td>0</td></tr><tr><td>Won In</td><td>:</td><td>62</td></tr><tr><td>Trailing In</td><td>:</td><td>0</td></tr></tbody></table></div></td></tr></tbody></table></td><td align=\"left\">LATA</td><td align=\"left\"><table><tbody><tr><td>Bharatiya Janata Party</td>\n",
              "<td style=\"vertical-align:top\"><span class=\"tooltip-icon\" style=\"display:block\">i</span><div class=\"tooltip\"><h3>Current Assembly Election Result</h3><table><tbody><tr><td>Leading In</td><td>:0</td><td></td></tr><tr><td>Won In</td><td>:8</td><td></td></tr><tr><td>Trailing In</td><td>:</td><td>0</td></tr></tbody></table>\n",
              "</div>\n",
              "</td></tr></tbody></table></td>\n",
              "<td align=\"right\">36172</td><td align=\"center\">Result Declared</td><td align=\"center\" style=\"background-color: lightgray;\">IMRAN HUSSAIN</td><td align=\"center\" style=\"background-color: lightgray;\">Aam Aadmi Party</td><td align=\"center\" style=\"background-color: lightgray;\">33877</td></tr><tr style=\"font-size:12px;\"><td align=\"left\">BAWANA(SC)</td><td align=\"center\">7</td><td align=\"left\">JAI BHAGWAN</td><td align=\"left\"><table><tbody><tr><td>Aam Aadmi Party</td><td style=\"vertical-align:top\"><span class=\"tooltip-icon\" style=\"display:block\">i</span><div class=\"tooltip\"><h3>Current Assembly Election Result</h3><table><tbody><tr><td>Leading In</td><td>:</td><td>0</td></tr><tr><td>Won In</td><td>:</td><td>62</td></tr><tr><td>Trailing In</td><td>:</td><td>0</td></tr></tbody></table></div></td></tr></tbody></table></td><td align=\"left\">RAVINDER KUMAR</td><td align=\"left\"><table><tbody><tr><td>Bharatiya Janata Party</td>\n",
              "<td style=\"vertical-align:top\"><span class=\"tooltip-icon\" style=\"display:block\">i</span><div class=\"tooltip\"><h3>Current Assembly Election Result</h3><table><tbody><tr><td>Leading In</td><td>:0</td><td></td></tr><tr><td>Won In</td><td>:8</td><td></td></tr><tr><td>Trailing In</td><td>:</td><td>0</td></tr></tbody></table>\n",
              "</div>\n",
              "</td></tr></tbody></table></td>\n",
              "<td align=\"right\">11526</td><td align=\"center\">Result Declared</td><td align=\"center\" style=\"background-color: lightgray;\">VED PARKASH</td><td align=\"center\" style=\"background-color: lightgray;\">Aam Aadmi Party</td><td align=\"center\" style=\"background-color: lightgray;\">50557</td></tr><tr style=\"font-size:12px;\"><td align=\"left\">BIJWASAN</td><td align=\"center\">36</td><td align=\"left\">BHUPINDER SINGH JOON</td><td align=\"left\"><table><tbody><tr><td>Aam Aadmi Party</td><td style=\"vertical-align:top\"><span class=\"tooltip-icon\" style=\"display:block\">i</span><div class=\"tooltip\"><h3>Current Assembly Election Result</h3><table><tbody><tr><td>Leading In</td><td>:</td><td>0</td></tr><tr><td>Won In</td><td>:</td><td>62</td></tr><tr><td>Trailing In</td><td>:</td><td>0</td></tr></tbody></table></div></td></tr></tbody></table></td><td align=\"left\">SAT PRAKASH RANA</td><td align=\"left\"><table><tbody><tr><td>Bharatiya Janata Party</td>\n",
              "<td style=\"vertical-align:top\"><span class=\"tooltip-icon\" style=\"display:block\">i</span><div class=\"tooltip\"><h3>Current Assembly Election Result</h3><table><tbody><tr><td>Leading In</td><td>:0</td><td></td></tr><tr><td>Won In</td><td>:8</td><td></td></tr><tr><td>Trailing In</td><td>:</td><td>0</td></tr></tbody></table>\n",
              "</div>\n",
              "</td></tr></tbody></table></td>\n",
              "<td align=\"right\">753</td><td align=\"center\">Result Declared</td><td align=\"center\" style=\"background-color: lightgray;\">COL DEVINDER SEHRAWAT</td><td align=\"center\" style=\"background-color: lightgray;\">Aam Aadmi Party</td><td align=\"center\" style=\"background-color: lightgray;\">19536</td></tr><tr style=\"font-size:12px;\"><td align=\"left\">BURARI</td><td align=\"center\">2</td><td align=\"left\">SANJEEV JHA</td><td align=\"left\"><table><tbody><tr><td>Aam Aadmi Party</td><td style=\"vertical-align:top\"><span class=\"tooltip-icon\" style=\"display:block\">i</span><div class=\"tooltip\"><h3>Current Assembly Election Result</h3><table><tbody><tr><td>Leading In</td><td>:</td><td>0</td></tr><tr><td>Won In</td><td>:</td><td>62</td></tr><tr><td>Trailing In</td><td>:</td><td>0</td></tr></tbody></table></div></td></tr></tbody></table></td><td align=\"left\">SHAILENDRA KUMAR</td><td align=\"left\"><table><tbody><tr><td>Janata Dal (United)</td>\n",
              "<td style=\"vertical-align:top\"><span class=\"tooltip-icon\" style=\"display:block\">i</span><div class=\"tooltip\"><h3>Current Assembly Election Result</h3><table><tbody><tr><td>Leading In</td><td>:0</td><td></td></tr><tr><td>Won In</td><td>:0</td><td></td></tr><tr><td>Trailing In</td><td>:</td><td>0</td></tr></tbody></table>\n",
              "</div>\n",
              "</td></tr></tbody></table></td>\n",
              "<td align=\"right\">88158</td><td align=\"center\">Result Declared</td><td align=\"center\" style=\"background-color: lightgray;\">SANJEEV JHA</td><td align=\"center\" style=\"background-color: lightgray;\">Aam Aadmi Party</td><td align=\"center\" style=\"background-color: lightgray;\">67950</td></tr><tr style=\"font-size:12px;\"><td align=\"left\">CHANDNI CHOWK</td><td align=\"center\">20</td><td align=\"left\">PARLAD SINGH SAWHNEY</td><td align=\"left\"><table><tbody><tr><td>Aam Aadmi Party</td><td style=\"vertical-align:top\"><span class=\"tooltip-icon\" style=\"display:block\">i</span><div class=\"tooltip\"><h3>Current Assembly Election Result</h3><table><tbody><tr><td>Leading In</td><td>:</td><td>0</td></tr><tr><td>Won In</td><td>:</td><td>62</td></tr><tr><td>Trailing In</td><td>:</td><td>0</td></tr></tbody></table></div></td></tr></tbody></table></td><td align=\"left\">SUMAN KUMAR GUPTA</td><td align=\"left\"><table><tbody><tr><td>Bharatiya Janata Party</td>\n",
              "<td style=\"vertical-align:top\"><span class=\"tooltip-icon\" style=\"display:block\">i</span><div class=\"tooltip\"><h3>Current Assembly Election Result</h3><table><tbody><tr><td>Leading In</td><td>:0</td><td></td></tr><tr><td>Won In</td><td>:8</td><td></td></tr><tr><td>Trailing In</td><td>:</td><td>0</td></tr></tbody></table>\n",
              "</div>\n",
              "</td></tr></tbody></table></td>\n",
              "<td align=\"right\">29584</td><td align=\"center\">Result Declared</td><td align=\"center\" style=\"background-color: lightgray;\">ALKA  LAMBA</td><td align=\"center\" style=\"background-color: lightgray;\">Aam Aadmi Party</td><td align=\"center\" style=\"background-color: lightgray;\">18287</td></tr>\n",
              "</tbody>\n",
              "</table>\n",
              "</div></td>\n",
              "</tr>\n",
              "<tr id=\"customMessage\" style=\"display: none\">\n",
              "<td align=\"center\">\n",
              "<table width=\"100%\">\n",
              "<tbody><tr>\n",
              "<td align=\"center\">\n",
              "</td>\n",
              "</tr>\n",
              "</tbody></table>\n",
              "<br/>\n",
              "</td>\n",
              "</tr>\n",
              "<tr style=\"height: 50px\">\n",
              "<td></td>\n",
              "</tr>\n",
              "<tr>\n",
              "<td align=\"center\" style=\"font-weight: bold\"> </td></tr>\n",
              "<tr><td align=\"center\" style=\"font-weight: bold\">Disclaimer</td></tr>\n",
              "<tr>\n",
              "<td align=\"center\" style=\"font-weight: normal\">\n",
              "<p class=\"disclaimer-wide\">ECI is displaying the information as being filled in the system by the Returning Officers from their respective Counting Centers.</p>\n",
              "</td>\n",
              "</tr>\n",
              "<td align=\"center\" style=\"font-weight: normal\">\n",
              "<!-- Last Updated at 10:27 pm On 11/02/2020 -->\n",
              "</td>\n",
              "</tbody></table>"
            ]
          },
          "metadata": {
            "tags": []
          },
          "execution_count": 9
        }
      ]
    },
    {
      "cell_type": "code",
      "metadata": {
        "id": "WGpqLQdjDs_K",
        "colab_type": "code",
        "outputId": "99137e08-9f3c-4e3e-aafa-fdf6f3a6f0e0",
        "colab": {
          "base_uri": "https://localhost:8080/",
          "height": 204
        }
      },
      "source": [
        "table.find_all('th')"
      ],
      "execution_count": 0,
      "outputs": [
        {
          "output_type": "execute_result",
          "data": {
            "text/plain": [
              "[<th align=\"left\">Constituency</th>,\n",
              " <th>Const. No.</th>,\n",
              " <th align=\"left\">Leading Candidate</th>,\n",
              " <th>Leading Party</th>,\n",
              " <th align=\"left\">Trailing Candidate</th>,\n",
              " <th align=\"left\">Trailing Party</th>,\n",
              " <th>Margin</th>,\n",
              " <th>Status</th>,\n",
              " <th>Winning Candidate</th>,\n",
              " <th>Winning Party</th>,\n",
              " <th>Margin</th>]"
            ]
          },
          "metadata": {
            "tags": []
          },
          "execution_count": 10
        }
      ]
    },
    {
      "cell_type": "code",
      "metadata": {
        "id": "5R83nB0qEOM2",
        "colab_type": "code",
        "outputId": "0819c065-a565-4e0e-e84d-77ba01c9ced3",
        "colab": {
          "base_uri": "https://localhost:8080/",
          "height": 34
        }
      },
      "source": [
        "n_columns = len(table.find_all('th'))\n",
        "n_columns"
      ],
      "execution_count": 0,
      "outputs": [
        {
          "output_type": "execute_result",
          "data": {
            "text/plain": [
              "11"
            ]
          },
          "metadata": {
            "tags": []
          },
          "execution_count": 11
        }
      ]
    },
    {
      "cell_type": "code",
      "metadata": {
        "id": "IERQabnyEdKQ",
        "colab_type": "code",
        "colab": {}
      },
      "source": [
        "columns = []\n",
        "for column in table.find_all('th'):\n",
        "  columns.append(column.get_text())"
      ],
      "execution_count": 0,
      "outputs": []
    },
    {
      "cell_type": "code",
      "metadata": {
        "id": "c3UweVNpEiBw",
        "colab_type": "code",
        "outputId": "aefba09d-ac2a-4f83-fbe7-1ceba91a75fb",
        "colab": {
          "base_uri": "https://localhost:8080/",
          "height": 204
        }
      },
      "source": [
        "columns"
      ],
      "execution_count": 0,
      "outputs": [
        {
          "output_type": "execute_result",
          "data": {
            "text/plain": [
              "['Constituency',\n",
              " 'Const. No.',\n",
              " 'Leading Candidate',\n",
              " 'Leading Party',\n",
              " 'Trailing Candidate',\n",
              " 'Trailing Party',\n",
              " 'Margin',\n",
              " 'Status',\n",
              " 'Winning Candidate',\n",
              " 'Winning Party',\n",
              " 'Margin']"
            ]
          },
          "metadata": {
            "tags": []
          },
          "execution_count": 13
        }
      ]
    },
    {
      "cell_type": "code",
      "metadata": {
        "id": "qwCdx7OSXk7s",
        "colab_type": "code",
        "outputId": "3abaff4c-f6e5-4e68-834c-a01870bd133c",
        "colab": {
          "base_uri": "https://localhost:8080/",
          "height": 938
        }
      },
      "source": [
        "tr = table.find('tr')\n",
        "tr"
      ],
      "execution_count": 0,
      "outputs": [
        {
          "output_type": "execute_result",
          "data": {
            "text/plain": [
              "<tr>\n",
              "<td style=\"width: 100%\">\n",
              "<div id=\"divACList\" style=\"border-bottom-style: none; border-right-style: none; border-top-style: none;\n",
              "                                                        table-layout: auto; border-left-style: none\">\n",
              "<table border=\"1\" style=\"margin: auto; width: 100%; font-family: Verdana; border: solid 1px black;font-weight:lighter\"><tbody id=\"ElectionResult\"><tr style=\"height: 20px; background-color: #FFC0CD; color:Black;\"><td align=\"center\" colspan=\"11\"><b><h3>NCT OF Delhi <br/>Result Status</h3></b></td></tr><tr style=\"height: 20px; background-color: #FFC0CD; color:Black;\"><td align=\"center\" colspan=\"8\"><b><div id=\"divStatus\" style=\"font-size: 10px\"> Status Known For 70 out of 70 Constituencies</div></b></td><td align=\"center\" colspan=\"3\"><b><div style=\"font-size: 10px\">Assembly Election Result 2015</div></b></td></tr><tr style=\"height: 20px; background-color: #FFC0CD; color:Black;\"> <th align=\"left\">Constituency</th> <th>Const. No.</th><th align=\"left\">Leading Candidate</th><th>Leading Party</th><th align=\"left\">Trailing Candidate</th><th align=\"left\">Trailing Party</th><th>Margin</th><th>Status</th><th>Winning Candidate</th><th>Winning Party</th><th>Margin</th></tr>\n",
              "<tr>\n",
              "<td align=\"center\" colspan=\"11\"> <a href=\"#\">&lt;&lt; Previous</a>   <a href=\"statewiseU051.htm\">1</a>  <a href=\"statewiseU052.htm\">2</a>  <a href=\"statewiseU053.htm\">3</a>  <a href=\"statewiseU054.htm\">4</a>  <a href=\"statewiseU055.htm\">5</a>  <a href=\"statewiseU056.htm\">6</a>  <a href=\"statewiseU057.htm\">7</a>   <a href=\"#\">Next &gt;&gt;</a></td>\n",
              "</tr>\n",
              "<tr style=\"font-size:12px;\"><td align=\"left\">ADARSH NAGAR</td><td align=\"center\">4</td><td align=\"left\">PAWAN SHARMA</td><td align=\"left\"><table><tbody><tr><td>Aam Aadmi Party</td><td style=\"vertical-align:top\"><span class=\"tooltip-icon\" style=\"display:block\">i</span><div class=\"tooltip\"><h3>Current Assembly Election Result</h3><table><tbody><tr><td>Leading In</td><td>:</td><td>0</td></tr><tr><td>Won In</td><td>:</td><td>62</td></tr><tr><td>Trailing In</td><td>:</td><td>0</td></tr></tbody></table></div></td></tr></tbody></table></td><td align=\"left\">RAJ KUMAR BHATIA</td><td align=\"left\"><table><tbody><tr><td>Bharatiya Janata Party</td>\n",
              "<td style=\"vertical-align:top\"><span class=\"tooltip-icon\" style=\"display:block\">i</span><div class=\"tooltip\"><h3>Current Assembly Election Result</h3><table><tbody><tr><td>Leading In</td><td>:0</td><td></td></tr><tr><td>Won In</td><td>:8</td><td></td></tr><tr><td>Trailing In</td><td>:</td><td>0</td></tr></tbody></table>\n",
              "</div>\n",
              "</td></tr></tbody></table></td>\n",
              "<td align=\"right\">1589</td><td align=\"center\">Result Declared</td><td align=\"center\" style=\"background-color: lightgray;\">PAWAN KUMAR SHARMA</td><td align=\"center\" style=\"background-color: lightgray;\">Aam Aadmi Party</td><td align=\"center\" style=\"background-color: lightgray;\">20741</td></tr><tr style=\"font-size:12px;\"><td align=\"left\">AMBEDKAR NAGAR(SC)</td><td align=\"center\">48</td><td align=\"left\">AJAY DUTT</td><td align=\"left\"><table><tbody><tr><td>Aam Aadmi Party</td><td style=\"vertical-align:top\"><span class=\"tooltip-icon\" style=\"display:block\">i</span><div class=\"tooltip\"><h3>Current Assembly Election Result</h3><table><tbody><tr><td>Leading In</td><td>:</td><td>0</td></tr><tr><td>Won In</td><td>:</td><td>62</td></tr><tr><td>Trailing In</td><td>:</td><td>0</td></tr></tbody></table></div></td></tr></tbody></table></td><td align=\"left\">KHUSHIRAM CHUNAR</td><td align=\"left\"><table><tbody><tr><td>Bharatiya Janata Party</td>\n",
              "<td style=\"vertical-align:top\"><span class=\"tooltip-icon\" style=\"display:block\">i</span><div class=\"tooltip\"><h3>Current Assembly Election Result</h3><table><tbody><tr><td>Leading In</td><td>:0</td><td></td></tr><tr><td>Won In</td><td>:8</td><td></td></tr><tr><td>Trailing In</td><td>:</td><td>0</td></tr></tbody></table>\n",
              "</div>\n",
              "</td></tr></tbody></table></td>\n",
              "<td align=\"right\">28327</td><td align=\"center\">Result Declared</td><td align=\"center\" style=\"background-color: lightgray;\">AJAY DUTT</td><td align=\"center\" style=\"background-color: lightgray;\">Aam Aadmi Party</td><td align=\"center\" style=\"background-color: lightgray;\">42460</td></tr><tr style=\"font-size:12px;\"><td align=\"left\">BABARPUR</td><td align=\"center\">67</td><td align=\"left\">GOPAL RAI</td><td align=\"left\"><table><tbody><tr><td>Aam Aadmi Party</td><td style=\"vertical-align:top\"><span class=\"tooltip-icon\" style=\"display:block\">i</span><div class=\"tooltip\"><h3>Current Assembly Election Result</h3><table><tbody><tr><td>Leading In</td><td>:</td><td>0</td></tr><tr><td>Won In</td><td>:</td><td>62</td></tr><tr><td>Trailing In</td><td>:</td><td>0</td></tr></tbody></table></div></td></tr></tbody></table></td><td align=\"left\">NARESH GAUR</td><td align=\"left\"><table><tbody><tr><td>Bharatiya Janata Party</td>\n",
              "<td style=\"vertical-align:top\"><span class=\"tooltip-icon\" style=\"display:block\">i</span><div class=\"tooltip\"><h3>Current Assembly Election Result</h3><table><tbody><tr><td>Leading In</td><td>:0</td><td></td></tr><tr><td>Won In</td><td>:8</td><td></td></tr><tr><td>Trailing In</td><td>:</td><td>0</td></tr></tbody></table>\n",
              "</div>\n",
              "</td></tr></tbody></table></td>\n",
              "<td align=\"right\">33062</td><td align=\"center\">Result Declared</td><td align=\"center\" style=\"background-color: lightgray;\">GOPAL RAI</td><td align=\"center\" style=\"background-color: lightgray;\">Aam Aadmi Party</td><td align=\"center\" style=\"background-color: lightgray;\">35271</td></tr><tr style=\"font-size:12px;\"><td align=\"left\">BADARPUR</td><td align=\"center\">53</td><td align=\"left\">RAMVIR SINGH BIDHURI</td><td align=\"left\"><table><tbody><tr><td>Bharatiya Janata Party</td><td style=\"vertical-align:top\"><span class=\"tooltip-icon\" style=\"display:block\">i</span><div class=\"tooltip\"><h3>Current Assembly Election Result</h3><table><tbody><tr><td>Leading In</td><td>:</td><td>0</td></tr><tr><td>Won In</td><td>:</td><td>8</td></tr><tr><td>Trailing In</td><td>:</td><td>0</td></tr></tbody></table></div></td></tr></tbody></table></td><td align=\"left\">RAM SINGH NETAJI</td><td align=\"left\"><table><tbody><tr><td>Aam Aadmi Party</td>\n",
              "<td style=\"vertical-align:top\"><span class=\"tooltip-icon\" style=\"display:block\">i</span><div class=\"tooltip\"><h3>Current Assembly Election Result</h3><table><tbody><tr><td>Leading In</td><td>:0</td><td></td></tr><tr><td>Won In</td><td>:62</td><td></td></tr><tr><td>Trailing In</td><td>:</td><td>0</td></tr></tbody></table>\n",
              "</div>\n",
              "</td></tr></tbody></table></td>\n",
              "<td align=\"right\">3719</td><td align=\"center\">Result Declared</td><td align=\"center\" style=\"background-color: lightgray;\">NARAYAN DUTT SHARMA</td><td align=\"center\" style=\"background-color: lightgray;\">Aam Aadmi Party</td><td align=\"center\" style=\"background-color: lightgray;\">47583</td></tr><tr style=\"font-size:12px;\"><td align=\"left\">BADLI</td><td align=\"center\">5</td><td align=\"left\">AJESH YADAV</td><td align=\"left\"><table><tbody><tr><td>Aam Aadmi Party</td><td style=\"vertical-align:top\"><span class=\"tooltip-icon\" style=\"display:block\">i</span><div class=\"tooltip\"><h3>Current Assembly Election Result</h3><table><tbody><tr><td>Leading In</td><td>:</td><td>0</td></tr><tr><td>Won In</td><td>:</td><td>62</td></tr><tr><td>Trailing In</td><td>:</td><td>0</td></tr></tbody></table></div></td></tr></tbody></table></td><td align=\"left\">VIJAY KUMAR BHAGAT</td><td align=\"left\"><table><tbody><tr><td>Bharatiya Janata Party</td>\n",
              "<td style=\"vertical-align:top\"><span class=\"tooltip-icon\" style=\"display:block\">i</span><div class=\"tooltip\"><h3>Current Assembly Election Result</h3><table><tbody><tr><td>Leading In</td><td>:0</td><td></td></tr><tr><td>Won In</td><td>:8</td><td></td></tr><tr><td>Trailing In</td><td>:</td><td>0</td></tr></tbody></table>\n",
              "</div>\n",
              "</td></tr></tbody></table></td>\n",
              "<td align=\"right\">29123</td><td align=\"center\">Result Declared</td><td align=\"center\" style=\"background-color: lightgray;\">AJESH YADAV</td><td align=\"center\" style=\"background-color: lightgray;\">Aam Aadmi Party</td><td align=\"center\" style=\"background-color: lightgray;\">35376</td></tr><tr style=\"font-size:12px;\"><td align=\"left\">BALLIMARAN</td><td align=\"center\">22</td><td align=\"left\">IMRAN HUSSAIN</td><td align=\"left\"><table><tbody><tr><td>Aam Aadmi Party</td><td style=\"vertical-align:top\"><span class=\"tooltip-icon\" style=\"display:block\">i</span><div class=\"tooltip\"><h3>Current Assembly Election Result</h3><table><tbody><tr><td>Leading In</td><td>:</td><td>0</td></tr><tr><td>Won In</td><td>:</td><td>62</td></tr><tr><td>Trailing In</td><td>:</td><td>0</td></tr></tbody></table></div></td></tr></tbody></table></td><td align=\"left\">LATA</td><td align=\"left\"><table><tbody><tr><td>Bharatiya Janata Party</td>\n",
              "<td style=\"vertical-align:top\"><span class=\"tooltip-icon\" style=\"display:block\">i</span><div class=\"tooltip\"><h3>Current Assembly Election Result</h3><table><tbody><tr><td>Leading In</td><td>:0</td><td></td></tr><tr><td>Won In</td><td>:8</td><td></td></tr><tr><td>Trailing In</td><td>:</td><td>0</td></tr></tbody></table>\n",
              "</div>\n",
              "</td></tr></tbody></table></td>\n",
              "<td align=\"right\">36172</td><td align=\"center\">Result Declared</td><td align=\"center\" style=\"background-color: lightgray;\">IMRAN HUSSAIN</td><td align=\"center\" style=\"background-color: lightgray;\">Aam Aadmi Party</td><td align=\"center\" style=\"background-color: lightgray;\">33877</td></tr><tr style=\"font-size:12px;\"><td align=\"left\">BAWANA(SC)</td><td align=\"center\">7</td><td align=\"left\">JAI BHAGWAN</td><td align=\"left\"><table><tbody><tr><td>Aam Aadmi Party</td><td style=\"vertical-align:top\"><span class=\"tooltip-icon\" style=\"display:block\">i</span><div class=\"tooltip\"><h3>Current Assembly Election Result</h3><table><tbody><tr><td>Leading In</td><td>:</td><td>0</td></tr><tr><td>Won In</td><td>:</td><td>62</td></tr><tr><td>Trailing In</td><td>:</td><td>0</td></tr></tbody></table></div></td></tr></tbody></table></td><td align=\"left\">RAVINDER KUMAR</td><td align=\"left\"><table><tbody><tr><td>Bharatiya Janata Party</td>\n",
              "<td style=\"vertical-align:top\"><span class=\"tooltip-icon\" style=\"display:block\">i</span><div class=\"tooltip\"><h3>Current Assembly Election Result</h3><table><tbody><tr><td>Leading In</td><td>:0</td><td></td></tr><tr><td>Won In</td><td>:8</td><td></td></tr><tr><td>Trailing In</td><td>:</td><td>0</td></tr></tbody></table>\n",
              "</div>\n",
              "</td></tr></tbody></table></td>\n",
              "<td align=\"right\">11526</td><td align=\"center\">Result Declared</td><td align=\"center\" style=\"background-color: lightgray;\">VED PARKASH</td><td align=\"center\" style=\"background-color: lightgray;\">Aam Aadmi Party</td><td align=\"center\" style=\"background-color: lightgray;\">50557</td></tr><tr style=\"font-size:12px;\"><td align=\"left\">BIJWASAN</td><td align=\"center\">36</td><td align=\"left\">BHUPINDER SINGH JOON</td><td align=\"left\"><table><tbody><tr><td>Aam Aadmi Party</td><td style=\"vertical-align:top\"><span class=\"tooltip-icon\" style=\"display:block\">i</span><div class=\"tooltip\"><h3>Current Assembly Election Result</h3><table><tbody><tr><td>Leading In</td><td>:</td><td>0</td></tr><tr><td>Won In</td><td>:</td><td>62</td></tr><tr><td>Trailing In</td><td>:</td><td>0</td></tr></tbody></table></div></td></tr></tbody></table></td><td align=\"left\">SAT PRAKASH RANA</td><td align=\"left\"><table><tbody><tr><td>Bharatiya Janata Party</td>\n",
              "<td style=\"vertical-align:top\"><span class=\"tooltip-icon\" style=\"display:block\">i</span><div class=\"tooltip\"><h3>Current Assembly Election Result</h3><table><tbody><tr><td>Leading In</td><td>:0</td><td></td></tr><tr><td>Won In</td><td>:8</td><td></td></tr><tr><td>Trailing In</td><td>:</td><td>0</td></tr></tbody></table>\n",
              "</div>\n",
              "</td></tr></tbody></table></td>\n",
              "<td align=\"right\">753</td><td align=\"center\">Result Declared</td><td align=\"center\" style=\"background-color: lightgray;\">COL DEVINDER SEHRAWAT</td><td align=\"center\" style=\"background-color: lightgray;\">Aam Aadmi Party</td><td align=\"center\" style=\"background-color: lightgray;\">19536</td></tr><tr style=\"font-size:12px;\"><td align=\"left\">BURARI</td><td align=\"center\">2</td><td align=\"left\">SANJEEV JHA</td><td align=\"left\"><table><tbody><tr><td>Aam Aadmi Party</td><td style=\"vertical-align:top\"><span class=\"tooltip-icon\" style=\"display:block\">i</span><div class=\"tooltip\"><h3>Current Assembly Election Result</h3><table><tbody><tr><td>Leading In</td><td>:</td><td>0</td></tr><tr><td>Won In</td><td>:</td><td>62</td></tr><tr><td>Trailing In</td><td>:</td><td>0</td></tr></tbody></table></div></td></tr></tbody></table></td><td align=\"left\">SHAILENDRA KUMAR</td><td align=\"left\"><table><tbody><tr><td>Janata Dal (United)</td>\n",
              "<td style=\"vertical-align:top\"><span class=\"tooltip-icon\" style=\"display:block\">i</span><div class=\"tooltip\"><h3>Current Assembly Election Result</h3><table><tbody><tr><td>Leading In</td><td>:0</td><td></td></tr><tr><td>Won In</td><td>:0</td><td></td></tr><tr><td>Trailing In</td><td>:</td><td>0</td></tr></tbody></table>\n",
              "</div>\n",
              "</td></tr></tbody></table></td>\n",
              "<td align=\"right\">88158</td><td align=\"center\">Result Declared</td><td align=\"center\" style=\"background-color: lightgray;\">SANJEEV JHA</td><td align=\"center\" style=\"background-color: lightgray;\">Aam Aadmi Party</td><td align=\"center\" style=\"background-color: lightgray;\">67950</td></tr><tr style=\"font-size:12px;\"><td align=\"left\">CHANDNI CHOWK</td><td align=\"center\">20</td><td align=\"left\">PARLAD SINGH SAWHNEY</td><td align=\"left\"><table><tbody><tr><td>Aam Aadmi Party</td><td style=\"vertical-align:top\"><span class=\"tooltip-icon\" style=\"display:block\">i</span><div class=\"tooltip\"><h3>Current Assembly Election Result</h3><table><tbody><tr><td>Leading In</td><td>:</td><td>0</td></tr><tr><td>Won In</td><td>:</td><td>62</td></tr><tr><td>Trailing In</td><td>:</td><td>0</td></tr></tbody></table></div></td></tr></tbody></table></td><td align=\"left\">SUMAN KUMAR GUPTA</td><td align=\"left\"><table><tbody><tr><td>Bharatiya Janata Party</td>\n",
              "<td style=\"vertical-align:top\"><span class=\"tooltip-icon\" style=\"display:block\">i</span><div class=\"tooltip\"><h3>Current Assembly Election Result</h3><table><tbody><tr><td>Leading In</td><td>:0</td><td></td></tr><tr><td>Won In</td><td>:8</td><td></td></tr><tr><td>Trailing In</td><td>:</td><td>0</td></tr></tbody></table>\n",
              "</div>\n",
              "</td></tr></tbody></table></td>\n",
              "<td align=\"right\">29584</td><td align=\"center\">Result Declared</td><td align=\"center\" style=\"background-color: lightgray;\">ALKA  LAMBA</td><td align=\"center\" style=\"background-color: lightgray;\">Aam Aadmi Party</td><td align=\"center\" style=\"background-color: lightgray;\">18287</td></tr>\n",
              "</tbody>\n",
              "</table>\n",
              "</div></td>\n",
              "</tr>"
            ]
          },
          "metadata": {
            "tags": []
          },
          "execution_count": 14
        }
      ]
    },
    {
      "cell_type": "markdown",
      "metadata": {
        "id": "Q8LSLaEOcDO0",
        "colab_type": "text"
      },
      "source": [
        "##remove class **tooltip**"
      ]
    },
    {
      "cell_type": "code",
      "metadata": {
        "id": "yWwW9mymaKMq",
        "colab_type": "code",
        "colab": {}
      },
      "source": [
        "for div in tr.find_all('div', class_ = 'tooltip'):\n",
        "  div.decompose()"
      ],
      "execution_count": 0,
      "outputs": []
    },
    {
      "cell_type": "code",
      "metadata": {
        "id": "jxk0gY4saUc-",
        "colab_type": "code",
        "colab": {}
      },
      "source": [
        "for span in tr.find_all('span', class_ = 'tooltip-icon'):\n",
        "  span.decompose()"
      ],
      "execution_count": 0,
      "outputs": []
    },
    {
      "cell_type": "code",
      "metadata": {
        "id": "IuSzKM_eaZgC",
        "colab_type": "code",
        "outputId": "80b675c0-d3e1-4c52-fd11-4ae3c7d56fac",
        "colab": {
          "base_uri": "https://localhost:8080/",
          "height": 768
        }
      },
      "source": [
        "tr"
      ],
      "execution_count": 0,
      "outputs": [
        {
          "output_type": "execute_result",
          "data": {
            "text/plain": [
              "<tr>\n",
              "<td style=\"width: 100%\">\n",
              "<div id=\"divACList\" style=\"border-bottom-style: none; border-right-style: none; border-top-style: none;\n",
              "                                                        table-layout: auto; border-left-style: none\">\n",
              "<table border=\"1\" style=\"margin: auto; width: 100%; font-family: Verdana; border: solid 1px black;font-weight:lighter\"><tbody id=\"ElectionResult\"><tr style=\"height: 20px; background-color: #FFC0CD; color:Black;\"><td align=\"center\" colspan=\"11\"><b><h3>NCT OF Delhi <br/>Result Status</h3></b></td></tr><tr style=\"height: 20px; background-color: #FFC0CD; color:Black;\"><td align=\"center\" colspan=\"8\"><b><div id=\"divStatus\" style=\"font-size: 10px\"> Status Known For 70 out of 70 Constituencies</div></b></td><td align=\"center\" colspan=\"3\"><b><div style=\"font-size: 10px\">Assembly Election Result 2015</div></b></td></tr><tr style=\"height: 20px; background-color: #FFC0CD; color:Black;\"> <th align=\"left\">Constituency</th> <th>Const. No.</th><th align=\"left\">Leading Candidate</th><th>Leading Party</th><th align=\"left\">Trailing Candidate</th><th align=\"left\">Trailing Party</th><th>Margin</th><th>Status</th><th>Winning Candidate</th><th>Winning Party</th><th>Margin</th></tr>\n",
              "<tr>\n",
              "<td align=\"center\" colspan=\"11\"> <a href=\"#\">&lt;&lt; Previous</a>   <a href=\"statewiseU051.htm\">1</a>  <a href=\"statewiseU052.htm\">2</a>  <a href=\"statewiseU053.htm\">3</a>  <a href=\"statewiseU054.htm\">4</a>  <a href=\"statewiseU055.htm\">5</a>  <a href=\"statewiseU056.htm\">6</a>  <a href=\"statewiseU057.htm\">7</a>   <a href=\"#\">Next &gt;&gt;</a></td>\n",
              "</tr>\n",
              "<tr style=\"font-size:12px;\"><td align=\"left\">ADARSH NAGAR</td><td align=\"center\">4</td><td align=\"left\">PAWAN SHARMA</td><td align=\"left\"><table><tbody><tr><td>Aam Aadmi Party</td><td style=\"vertical-align:top\"></td></tr></tbody></table></td><td align=\"left\">RAJ KUMAR BHATIA</td><td align=\"left\"><table><tbody><tr><td>Bharatiya Janata Party</td>\n",
              "<td style=\"vertical-align:top\">\n",
              "</td></tr></tbody></table></td>\n",
              "<td align=\"right\">1589</td><td align=\"center\">Result Declared</td><td align=\"center\" style=\"background-color: lightgray;\">PAWAN KUMAR SHARMA</td><td align=\"center\" style=\"background-color: lightgray;\">Aam Aadmi Party</td><td align=\"center\" style=\"background-color: lightgray;\">20741</td></tr><tr style=\"font-size:12px;\"><td align=\"left\">AMBEDKAR NAGAR(SC)</td><td align=\"center\">48</td><td align=\"left\">AJAY DUTT</td><td align=\"left\"><table><tbody><tr><td>Aam Aadmi Party</td><td style=\"vertical-align:top\"></td></tr></tbody></table></td><td align=\"left\">KHUSHIRAM CHUNAR</td><td align=\"left\"><table><tbody><tr><td>Bharatiya Janata Party</td>\n",
              "<td style=\"vertical-align:top\">\n",
              "</td></tr></tbody></table></td>\n",
              "<td align=\"right\">28327</td><td align=\"center\">Result Declared</td><td align=\"center\" style=\"background-color: lightgray;\">AJAY DUTT</td><td align=\"center\" style=\"background-color: lightgray;\">Aam Aadmi Party</td><td align=\"center\" style=\"background-color: lightgray;\">42460</td></tr><tr style=\"font-size:12px;\"><td align=\"left\">BABARPUR</td><td align=\"center\">67</td><td align=\"left\">GOPAL RAI</td><td align=\"left\"><table><tbody><tr><td>Aam Aadmi Party</td><td style=\"vertical-align:top\"></td></tr></tbody></table></td><td align=\"left\">NARESH GAUR</td><td align=\"left\"><table><tbody><tr><td>Bharatiya Janata Party</td>\n",
              "<td style=\"vertical-align:top\">\n",
              "</td></tr></tbody></table></td>\n",
              "<td align=\"right\">33062</td><td align=\"center\">Result Declared</td><td align=\"center\" style=\"background-color: lightgray;\">GOPAL RAI</td><td align=\"center\" style=\"background-color: lightgray;\">Aam Aadmi Party</td><td align=\"center\" style=\"background-color: lightgray;\">35271</td></tr><tr style=\"font-size:12px;\"><td align=\"left\">BADARPUR</td><td align=\"center\">53</td><td align=\"left\">RAMVIR SINGH BIDHURI</td><td align=\"left\"><table><tbody><tr><td>Bharatiya Janata Party</td><td style=\"vertical-align:top\"></td></tr></tbody></table></td><td align=\"left\">RAM SINGH NETAJI</td><td align=\"left\"><table><tbody><tr><td>Aam Aadmi Party</td>\n",
              "<td style=\"vertical-align:top\">\n",
              "</td></tr></tbody></table></td>\n",
              "<td align=\"right\">3719</td><td align=\"center\">Result Declared</td><td align=\"center\" style=\"background-color: lightgray;\">NARAYAN DUTT SHARMA</td><td align=\"center\" style=\"background-color: lightgray;\">Aam Aadmi Party</td><td align=\"center\" style=\"background-color: lightgray;\">47583</td></tr><tr style=\"font-size:12px;\"><td align=\"left\">BADLI</td><td align=\"center\">5</td><td align=\"left\">AJESH YADAV</td><td align=\"left\"><table><tbody><tr><td>Aam Aadmi Party</td><td style=\"vertical-align:top\"></td></tr></tbody></table></td><td align=\"left\">VIJAY KUMAR BHAGAT</td><td align=\"left\"><table><tbody><tr><td>Bharatiya Janata Party</td>\n",
              "<td style=\"vertical-align:top\">\n",
              "</td></tr></tbody></table></td>\n",
              "<td align=\"right\">29123</td><td align=\"center\">Result Declared</td><td align=\"center\" style=\"background-color: lightgray;\">AJESH YADAV</td><td align=\"center\" style=\"background-color: lightgray;\">Aam Aadmi Party</td><td align=\"center\" style=\"background-color: lightgray;\">35376</td></tr><tr style=\"font-size:12px;\"><td align=\"left\">BALLIMARAN</td><td align=\"center\">22</td><td align=\"left\">IMRAN HUSSAIN</td><td align=\"left\"><table><tbody><tr><td>Aam Aadmi Party</td><td style=\"vertical-align:top\"></td></tr></tbody></table></td><td align=\"left\">LATA</td><td align=\"left\"><table><tbody><tr><td>Bharatiya Janata Party</td>\n",
              "<td style=\"vertical-align:top\">\n",
              "</td></tr></tbody></table></td>\n",
              "<td align=\"right\">36172</td><td align=\"center\">Result Declared</td><td align=\"center\" style=\"background-color: lightgray;\">IMRAN HUSSAIN</td><td align=\"center\" style=\"background-color: lightgray;\">Aam Aadmi Party</td><td align=\"center\" style=\"background-color: lightgray;\">33877</td></tr><tr style=\"font-size:12px;\"><td align=\"left\">BAWANA(SC)</td><td align=\"center\">7</td><td align=\"left\">JAI BHAGWAN</td><td align=\"left\"><table><tbody><tr><td>Aam Aadmi Party</td><td style=\"vertical-align:top\"></td></tr></tbody></table></td><td align=\"left\">RAVINDER KUMAR</td><td align=\"left\"><table><tbody><tr><td>Bharatiya Janata Party</td>\n",
              "<td style=\"vertical-align:top\">\n",
              "</td></tr></tbody></table></td>\n",
              "<td align=\"right\">11526</td><td align=\"center\">Result Declared</td><td align=\"center\" style=\"background-color: lightgray;\">VED PARKASH</td><td align=\"center\" style=\"background-color: lightgray;\">Aam Aadmi Party</td><td align=\"center\" style=\"background-color: lightgray;\">50557</td></tr><tr style=\"font-size:12px;\"><td align=\"left\">BIJWASAN</td><td align=\"center\">36</td><td align=\"left\">BHUPINDER SINGH JOON</td><td align=\"left\"><table><tbody><tr><td>Aam Aadmi Party</td><td style=\"vertical-align:top\"></td></tr></tbody></table></td><td align=\"left\">SAT PRAKASH RANA</td><td align=\"left\"><table><tbody><tr><td>Bharatiya Janata Party</td>\n",
              "<td style=\"vertical-align:top\">\n",
              "</td></tr></tbody></table></td>\n",
              "<td align=\"right\">753</td><td align=\"center\">Result Declared</td><td align=\"center\" style=\"background-color: lightgray;\">COL DEVINDER SEHRAWAT</td><td align=\"center\" style=\"background-color: lightgray;\">Aam Aadmi Party</td><td align=\"center\" style=\"background-color: lightgray;\">19536</td></tr><tr style=\"font-size:12px;\"><td align=\"left\">BURARI</td><td align=\"center\">2</td><td align=\"left\">SANJEEV JHA</td><td align=\"left\"><table><tbody><tr><td>Aam Aadmi Party</td><td style=\"vertical-align:top\"></td></tr></tbody></table></td><td align=\"left\">SHAILENDRA KUMAR</td><td align=\"left\"><table><tbody><tr><td>Janata Dal (United)</td>\n",
              "<td style=\"vertical-align:top\">\n",
              "</td></tr></tbody></table></td>\n",
              "<td align=\"right\">88158</td><td align=\"center\">Result Declared</td><td align=\"center\" style=\"background-color: lightgray;\">SANJEEV JHA</td><td align=\"center\" style=\"background-color: lightgray;\">Aam Aadmi Party</td><td align=\"center\" style=\"background-color: lightgray;\">67950</td></tr><tr style=\"font-size:12px;\"><td align=\"left\">CHANDNI CHOWK</td><td align=\"center\">20</td><td align=\"left\">PARLAD SINGH SAWHNEY</td><td align=\"left\"><table><tbody><tr><td>Aam Aadmi Party</td><td style=\"vertical-align:top\"></td></tr></tbody></table></td><td align=\"left\">SUMAN KUMAR GUPTA</td><td align=\"left\"><table><tbody><tr><td>Bharatiya Janata Party</td>\n",
              "<td style=\"vertical-align:top\">\n",
              "</td></tr></tbody></table></td>\n",
              "<td align=\"right\">29584</td><td align=\"center\">Result Declared</td><td align=\"center\" style=\"background-color: lightgray;\">ALKA  LAMBA</td><td align=\"center\" style=\"background-color: lightgray;\">Aam Aadmi Party</td><td align=\"center\" style=\"background-color: lightgray;\">18287</td></tr>\n",
              "</tbody>\n",
              "</table>\n",
              "</div></td>\n",
              "</tr>"
            ]
          },
          "metadata": {
            "tags": []
          },
          "execution_count": 17
        }
      ]
    },
    {
      "cell_type": "code",
      "metadata": {
        "id": "FWCzROJKadBt",
        "colab_type": "code",
        "outputId": "4ab9c189-bed3-4eea-b75b-39c409b02194",
        "colab": {
          "base_uri": "https://localhost:8080/",
          "height": 734
        }
      },
      "source": [
        "td = tr.find('td')\n",
        "td"
      ],
      "execution_count": 0,
      "outputs": [
        {
          "output_type": "execute_result",
          "data": {
            "text/plain": [
              "<td style=\"width: 100%\">\n",
              "<div id=\"divACList\" style=\"border-bottom-style: none; border-right-style: none; border-top-style: none;\n",
              "                                                        table-layout: auto; border-left-style: none\">\n",
              "<table border=\"1\" style=\"margin: auto; width: 100%; font-family: Verdana; border: solid 1px black;font-weight:lighter\"><tbody id=\"ElectionResult\"><tr style=\"height: 20px; background-color: #FFC0CD; color:Black;\"><td align=\"center\" colspan=\"11\"><b><h3>NCT OF Delhi <br/>Result Status</h3></b></td></tr><tr style=\"height: 20px; background-color: #FFC0CD; color:Black;\"><td align=\"center\" colspan=\"8\"><b><div id=\"divStatus\" style=\"font-size: 10px\"> Status Known For 70 out of 70 Constituencies</div></b></td><td align=\"center\" colspan=\"3\"><b><div style=\"font-size: 10px\">Assembly Election Result 2015</div></b></td></tr><tr style=\"height: 20px; background-color: #FFC0CD; color:Black;\"> <th align=\"left\">Constituency</th> <th>Const. No.</th><th align=\"left\">Leading Candidate</th><th>Leading Party</th><th align=\"left\">Trailing Candidate</th><th align=\"left\">Trailing Party</th><th>Margin</th><th>Status</th><th>Winning Candidate</th><th>Winning Party</th><th>Margin</th></tr>\n",
              "<tr>\n",
              "<td align=\"center\" colspan=\"11\"> <a href=\"#\">&lt;&lt; Previous</a>   <a href=\"statewiseU051.htm\">1</a>  <a href=\"statewiseU052.htm\">2</a>  <a href=\"statewiseU053.htm\">3</a>  <a href=\"statewiseU054.htm\">4</a>  <a href=\"statewiseU055.htm\">5</a>  <a href=\"statewiseU056.htm\">6</a>  <a href=\"statewiseU057.htm\">7</a>   <a href=\"#\">Next &gt;&gt;</a></td>\n",
              "</tr>\n",
              "<tr style=\"font-size:12px;\"><td align=\"left\">ADARSH NAGAR</td><td align=\"center\">4</td><td align=\"left\">PAWAN SHARMA</td><td align=\"left\"><table><tbody><tr><td>Aam Aadmi Party</td><td style=\"vertical-align:top\"></td></tr></tbody></table></td><td align=\"left\">RAJ KUMAR BHATIA</td><td align=\"left\"><table><tbody><tr><td>Bharatiya Janata Party</td>\n",
              "<td style=\"vertical-align:top\">\n",
              "</td></tr></tbody></table></td>\n",
              "<td align=\"right\">1589</td><td align=\"center\">Result Declared</td><td align=\"center\" style=\"background-color: lightgray;\">PAWAN KUMAR SHARMA</td><td align=\"center\" style=\"background-color: lightgray;\">Aam Aadmi Party</td><td align=\"center\" style=\"background-color: lightgray;\">20741</td></tr><tr style=\"font-size:12px;\"><td align=\"left\">AMBEDKAR NAGAR(SC)</td><td align=\"center\">48</td><td align=\"left\">AJAY DUTT</td><td align=\"left\"><table><tbody><tr><td>Aam Aadmi Party</td><td style=\"vertical-align:top\"></td></tr></tbody></table></td><td align=\"left\">KHUSHIRAM CHUNAR</td><td align=\"left\"><table><tbody><tr><td>Bharatiya Janata Party</td>\n",
              "<td style=\"vertical-align:top\">\n",
              "</td></tr></tbody></table></td>\n",
              "<td align=\"right\">28327</td><td align=\"center\">Result Declared</td><td align=\"center\" style=\"background-color: lightgray;\">AJAY DUTT</td><td align=\"center\" style=\"background-color: lightgray;\">Aam Aadmi Party</td><td align=\"center\" style=\"background-color: lightgray;\">42460</td></tr><tr style=\"font-size:12px;\"><td align=\"left\">BABARPUR</td><td align=\"center\">67</td><td align=\"left\">GOPAL RAI</td><td align=\"left\"><table><tbody><tr><td>Aam Aadmi Party</td><td style=\"vertical-align:top\"></td></tr></tbody></table></td><td align=\"left\">NARESH GAUR</td><td align=\"left\"><table><tbody><tr><td>Bharatiya Janata Party</td>\n",
              "<td style=\"vertical-align:top\">\n",
              "</td></tr></tbody></table></td>\n",
              "<td align=\"right\">33062</td><td align=\"center\">Result Declared</td><td align=\"center\" style=\"background-color: lightgray;\">GOPAL RAI</td><td align=\"center\" style=\"background-color: lightgray;\">Aam Aadmi Party</td><td align=\"center\" style=\"background-color: lightgray;\">35271</td></tr><tr style=\"font-size:12px;\"><td align=\"left\">BADARPUR</td><td align=\"center\">53</td><td align=\"left\">RAMVIR SINGH BIDHURI</td><td align=\"left\"><table><tbody><tr><td>Bharatiya Janata Party</td><td style=\"vertical-align:top\"></td></tr></tbody></table></td><td align=\"left\">RAM SINGH NETAJI</td><td align=\"left\"><table><tbody><tr><td>Aam Aadmi Party</td>\n",
              "<td style=\"vertical-align:top\">\n",
              "</td></tr></tbody></table></td>\n",
              "<td align=\"right\">3719</td><td align=\"center\">Result Declared</td><td align=\"center\" style=\"background-color: lightgray;\">NARAYAN DUTT SHARMA</td><td align=\"center\" style=\"background-color: lightgray;\">Aam Aadmi Party</td><td align=\"center\" style=\"background-color: lightgray;\">47583</td></tr><tr style=\"font-size:12px;\"><td align=\"left\">BADLI</td><td align=\"center\">5</td><td align=\"left\">AJESH YADAV</td><td align=\"left\"><table><tbody><tr><td>Aam Aadmi Party</td><td style=\"vertical-align:top\"></td></tr></tbody></table></td><td align=\"left\">VIJAY KUMAR BHAGAT</td><td align=\"left\"><table><tbody><tr><td>Bharatiya Janata Party</td>\n",
              "<td style=\"vertical-align:top\">\n",
              "</td></tr></tbody></table></td>\n",
              "<td align=\"right\">29123</td><td align=\"center\">Result Declared</td><td align=\"center\" style=\"background-color: lightgray;\">AJESH YADAV</td><td align=\"center\" style=\"background-color: lightgray;\">Aam Aadmi Party</td><td align=\"center\" style=\"background-color: lightgray;\">35376</td></tr><tr style=\"font-size:12px;\"><td align=\"left\">BALLIMARAN</td><td align=\"center\">22</td><td align=\"left\">IMRAN HUSSAIN</td><td align=\"left\"><table><tbody><tr><td>Aam Aadmi Party</td><td style=\"vertical-align:top\"></td></tr></tbody></table></td><td align=\"left\">LATA</td><td align=\"left\"><table><tbody><tr><td>Bharatiya Janata Party</td>\n",
              "<td style=\"vertical-align:top\">\n",
              "</td></tr></tbody></table></td>\n",
              "<td align=\"right\">36172</td><td align=\"center\">Result Declared</td><td align=\"center\" style=\"background-color: lightgray;\">IMRAN HUSSAIN</td><td align=\"center\" style=\"background-color: lightgray;\">Aam Aadmi Party</td><td align=\"center\" style=\"background-color: lightgray;\">33877</td></tr><tr style=\"font-size:12px;\"><td align=\"left\">BAWANA(SC)</td><td align=\"center\">7</td><td align=\"left\">JAI BHAGWAN</td><td align=\"left\"><table><tbody><tr><td>Aam Aadmi Party</td><td style=\"vertical-align:top\"></td></tr></tbody></table></td><td align=\"left\">RAVINDER KUMAR</td><td align=\"left\"><table><tbody><tr><td>Bharatiya Janata Party</td>\n",
              "<td style=\"vertical-align:top\">\n",
              "</td></tr></tbody></table></td>\n",
              "<td align=\"right\">11526</td><td align=\"center\">Result Declared</td><td align=\"center\" style=\"background-color: lightgray;\">VED PARKASH</td><td align=\"center\" style=\"background-color: lightgray;\">Aam Aadmi Party</td><td align=\"center\" style=\"background-color: lightgray;\">50557</td></tr><tr style=\"font-size:12px;\"><td align=\"left\">BIJWASAN</td><td align=\"center\">36</td><td align=\"left\">BHUPINDER SINGH JOON</td><td align=\"left\"><table><tbody><tr><td>Aam Aadmi Party</td><td style=\"vertical-align:top\"></td></tr></tbody></table></td><td align=\"left\">SAT PRAKASH RANA</td><td align=\"left\"><table><tbody><tr><td>Bharatiya Janata Party</td>\n",
              "<td style=\"vertical-align:top\">\n",
              "</td></tr></tbody></table></td>\n",
              "<td align=\"right\">753</td><td align=\"center\">Result Declared</td><td align=\"center\" style=\"background-color: lightgray;\">COL DEVINDER SEHRAWAT</td><td align=\"center\" style=\"background-color: lightgray;\">Aam Aadmi Party</td><td align=\"center\" style=\"background-color: lightgray;\">19536</td></tr><tr style=\"font-size:12px;\"><td align=\"left\">BURARI</td><td align=\"center\">2</td><td align=\"left\">SANJEEV JHA</td><td align=\"left\"><table><tbody><tr><td>Aam Aadmi Party</td><td style=\"vertical-align:top\"></td></tr></tbody></table></td><td align=\"left\">SHAILENDRA KUMAR</td><td align=\"left\"><table><tbody><tr><td>Janata Dal (United)</td>\n",
              "<td style=\"vertical-align:top\">\n",
              "</td></tr></tbody></table></td>\n",
              "<td align=\"right\">88158</td><td align=\"center\">Result Declared</td><td align=\"center\" style=\"background-color: lightgray;\">SANJEEV JHA</td><td align=\"center\" style=\"background-color: lightgray;\">Aam Aadmi Party</td><td align=\"center\" style=\"background-color: lightgray;\">67950</td></tr><tr style=\"font-size:12px;\"><td align=\"left\">CHANDNI CHOWK</td><td align=\"center\">20</td><td align=\"left\">PARLAD SINGH SAWHNEY</td><td align=\"left\"><table><tbody><tr><td>Aam Aadmi Party</td><td style=\"vertical-align:top\"></td></tr></tbody></table></td><td align=\"left\">SUMAN KUMAR GUPTA</td><td align=\"left\"><table><tbody><tr><td>Bharatiya Janata Party</td>\n",
              "<td style=\"vertical-align:top\">\n",
              "</td></tr></tbody></table></td>\n",
              "<td align=\"right\">29584</td><td align=\"center\">Result Declared</td><td align=\"center\" style=\"background-color: lightgray;\">ALKA  LAMBA</td><td align=\"center\" style=\"background-color: lightgray;\">Aam Aadmi Party</td><td align=\"center\" style=\"background-color: lightgray;\">18287</td></tr>\n",
              "</tbody>\n",
              "</table>\n",
              "</div></td>"
            ]
          },
          "metadata": {
            "tags": []
          },
          "execution_count": 18
        }
      ]
    },
    {
      "cell_type": "code",
      "metadata": {
        "id": "tLuljZrcal0s",
        "colab_type": "code",
        "outputId": "6e49f8ec-d35b-4378-8a7b-3c5971d401bf",
        "colab": {
          "base_uri": "https://localhost:8080/",
          "height": 1000
        }
      },
      "source": [
        "n = 1\n",
        "for i in td.find_all('tr'):\n",
        "  print(f'{n} :------- {i} \\n\\n\\n')\n",
        "  n += 1"
      ],
      "execution_count": 0,
      "outputs": [
        {
          "output_type": "stream",
          "text": [
            "1 :------- <tr style=\"height: 20px; background-color: #FFC0CD; color:Black;\"><td align=\"center\" colspan=\"11\"><b><h3>NCT OF Delhi <br/>Result Status</h3></b></td></tr> \n",
            "\n",
            "\n",
            "\n",
            "2 :------- <tr style=\"height: 20px; background-color: #FFC0CD; color:Black;\"><td align=\"center\" colspan=\"8\"><b><div id=\"divStatus\" style=\"font-size: 10px\"> Status Known For 70 out of 70 Constituencies</div></b></td><td align=\"center\" colspan=\"3\"><b><div style=\"font-size: 10px\">Assembly Election Result 2015</div></b></td></tr> \n",
            "\n",
            "\n",
            "\n",
            "3 :------- <tr style=\"height: 20px; background-color: #FFC0CD; color:Black;\"> <th align=\"left\">Constituency</th> <th>Const. No.</th><th align=\"left\">Leading Candidate</th><th>Leading Party</th><th align=\"left\">Trailing Candidate</th><th align=\"left\">Trailing Party</th><th>Margin</th><th>Status</th><th>Winning Candidate</th><th>Winning Party</th><th>Margin</th></tr> \n",
            "\n",
            "\n",
            "\n",
            "4 :------- <tr>\n",
            "<td align=\"center\" colspan=\"11\"> <a href=\"#\">&lt;&lt; Previous</a>   <a href=\"statewiseU051.htm\">1</a>  <a href=\"statewiseU052.htm\">2</a>  <a href=\"statewiseU053.htm\">3</a>  <a href=\"statewiseU054.htm\">4</a>  <a href=\"statewiseU055.htm\">5</a>  <a href=\"statewiseU056.htm\">6</a>  <a href=\"statewiseU057.htm\">7</a>   <a href=\"#\">Next &gt;&gt;</a></td>\n",
            "</tr> \n",
            "\n",
            "\n",
            "\n",
            "5 :------- <tr style=\"font-size:12px;\"><td align=\"left\">ADARSH NAGAR</td><td align=\"center\">4</td><td align=\"left\">PAWAN SHARMA</td><td align=\"left\"><table><tbody><tr><td>Aam Aadmi Party</td><td style=\"vertical-align:top\"></td></tr></tbody></table></td><td align=\"left\">RAJ KUMAR BHATIA</td><td align=\"left\"><table><tbody><tr><td>Bharatiya Janata Party</td>\n",
            "<td style=\"vertical-align:top\">\n",
            "</td></tr></tbody></table></td>\n",
            "<td align=\"right\">1589</td><td align=\"center\">Result Declared</td><td align=\"center\" style=\"background-color: lightgray;\">PAWAN KUMAR SHARMA</td><td align=\"center\" style=\"background-color: lightgray;\">Aam Aadmi Party</td><td align=\"center\" style=\"background-color: lightgray;\">20741</td></tr> \n",
            "\n",
            "\n",
            "\n",
            "6 :------- <tr><td>Aam Aadmi Party</td><td style=\"vertical-align:top\"></td></tr> \n",
            "\n",
            "\n",
            "\n",
            "7 :------- <tr><td>Bharatiya Janata Party</td>\n",
            "<td style=\"vertical-align:top\">\n",
            "</td></tr> \n",
            "\n",
            "\n",
            "\n",
            "8 :------- <tr style=\"font-size:12px;\"><td align=\"left\">AMBEDKAR NAGAR(SC)</td><td align=\"center\">48</td><td align=\"left\">AJAY DUTT</td><td align=\"left\"><table><tbody><tr><td>Aam Aadmi Party</td><td style=\"vertical-align:top\"></td></tr></tbody></table></td><td align=\"left\">KHUSHIRAM CHUNAR</td><td align=\"left\"><table><tbody><tr><td>Bharatiya Janata Party</td>\n",
            "<td style=\"vertical-align:top\">\n",
            "</td></tr></tbody></table></td>\n",
            "<td align=\"right\">28327</td><td align=\"center\">Result Declared</td><td align=\"center\" style=\"background-color: lightgray;\">AJAY DUTT</td><td align=\"center\" style=\"background-color: lightgray;\">Aam Aadmi Party</td><td align=\"center\" style=\"background-color: lightgray;\">42460</td></tr> \n",
            "\n",
            "\n",
            "\n",
            "9 :------- <tr><td>Aam Aadmi Party</td><td style=\"vertical-align:top\"></td></tr> \n",
            "\n",
            "\n",
            "\n",
            "10 :------- <tr><td>Bharatiya Janata Party</td>\n",
            "<td style=\"vertical-align:top\">\n",
            "</td></tr> \n",
            "\n",
            "\n",
            "\n",
            "11 :------- <tr style=\"font-size:12px;\"><td align=\"left\">BABARPUR</td><td align=\"center\">67</td><td align=\"left\">GOPAL RAI</td><td align=\"left\"><table><tbody><tr><td>Aam Aadmi Party</td><td style=\"vertical-align:top\"></td></tr></tbody></table></td><td align=\"left\">NARESH GAUR</td><td align=\"left\"><table><tbody><tr><td>Bharatiya Janata Party</td>\n",
            "<td style=\"vertical-align:top\">\n",
            "</td></tr></tbody></table></td>\n",
            "<td align=\"right\">33062</td><td align=\"center\">Result Declared</td><td align=\"center\" style=\"background-color: lightgray;\">GOPAL RAI</td><td align=\"center\" style=\"background-color: lightgray;\">Aam Aadmi Party</td><td align=\"center\" style=\"background-color: lightgray;\">35271</td></tr> \n",
            "\n",
            "\n",
            "\n",
            "12 :------- <tr><td>Aam Aadmi Party</td><td style=\"vertical-align:top\"></td></tr> \n",
            "\n",
            "\n",
            "\n",
            "13 :------- <tr><td>Bharatiya Janata Party</td>\n",
            "<td style=\"vertical-align:top\">\n",
            "</td></tr> \n",
            "\n",
            "\n",
            "\n",
            "14 :------- <tr style=\"font-size:12px;\"><td align=\"left\">BADARPUR</td><td align=\"center\">53</td><td align=\"left\">RAMVIR SINGH BIDHURI</td><td align=\"left\"><table><tbody><tr><td>Bharatiya Janata Party</td><td style=\"vertical-align:top\"></td></tr></tbody></table></td><td align=\"left\">RAM SINGH NETAJI</td><td align=\"left\"><table><tbody><tr><td>Aam Aadmi Party</td>\n",
            "<td style=\"vertical-align:top\">\n",
            "</td></tr></tbody></table></td>\n",
            "<td align=\"right\">3719</td><td align=\"center\">Result Declared</td><td align=\"center\" style=\"background-color: lightgray;\">NARAYAN DUTT SHARMA</td><td align=\"center\" style=\"background-color: lightgray;\">Aam Aadmi Party</td><td align=\"center\" style=\"background-color: lightgray;\">47583</td></tr> \n",
            "\n",
            "\n",
            "\n",
            "15 :------- <tr><td>Bharatiya Janata Party</td><td style=\"vertical-align:top\"></td></tr> \n",
            "\n",
            "\n",
            "\n",
            "16 :------- <tr><td>Aam Aadmi Party</td>\n",
            "<td style=\"vertical-align:top\">\n",
            "</td></tr> \n",
            "\n",
            "\n",
            "\n",
            "17 :------- <tr style=\"font-size:12px;\"><td align=\"left\">BADLI</td><td align=\"center\">5</td><td align=\"left\">AJESH YADAV</td><td align=\"left\"><table><tbody><tr><td>Aam Aadmi Party</td><td style=\"vertical-align:top\"></td></tr></tbody></table></td><td align=\"left\">VIJAY KUMAR BHAGAT</td><td align=\"left\"><table><tbody><tr><td>Bharatiya Janata Party</td>\n",
            "<td style=\"vertical-align:top\">\n",
            "</td></tr></tbody></table></td>\n",
            "<td align=\"right\">29123</td><td align=\"center\">Result Declared</td><td align=\"center\" style=\"background-color: lightgray;\">AJESH YADAV</td><td align=\"center\" style=\"background-color: lightgray;\">Aam Aadmi Party</td><td align=\"center\" style=\"background-color: lightgray;\">35376</td></tr> \n",
            "\n",
            "\n",
            "\n",
            "18 :------- <tr><td>Aam Aadmi Party</td><td style=\"vertical-align:top\"></td></tr> \n",
            "\n",
            "\n",
            "\n",
            "19 :------- <tr><td>Bharatiya Janata Party</td>\n",
            "<td style=\"vertical-align:top\">\n",
            "</td></tr> \n",
            "\n",
            "\n",
            "\n",
            "20 :------- <tr style=\"font-size:12px;\"><td align=\"left\">BALLIMARAN</td><td align=\"center\">22</td><td align=\"left\">IMRAN HUSSAIN</td><td align=\"left\"><table><tbody><tr><td>Aam Aadmi Party</td><td style=\"vertical-align:top\"></td></tr></tbody></table></td><td align=\"left\">LATA</td><td align=\"left\"><table><tbody><tr><td>Bharatiya Janata Party</td>\n",
            "<td style=\"vertical-align:top\">\n",
            "</td></tr></tbody></table></td>\n",
            "<td align=\"right\">36172</td><td align=\"center\">Result Declared</td><td align=\"center\" style=\"background-color: lightgray;\">IMRAN HUSSAIN</td><td align=\"center\" style=\"background-color: lightgray;\">Aam Aadmi Party</td><td align=\"center\" style=\"background-color: lightgray;\">33877</td></tr> \n",
            "\n",
            "\n",
            "\n",
            "21 :------- <tr><td>Aam Aadmi Party</td><td style=\"vertical-align:top\"></td></tr> \n",
            "\n",
            "\n",
            "\n",
            "22 :------- <tr><td>Bharatiya Janata Party</td>\n",
            "<td style=\"vertical-align:top\">\n",
            "</td></tr> \n",
            "\n",
            "\n",
            "\n",
            "23 :------- <tr style=\"font-size:12px;\"><td align=\"left\">BAWANA(SC)</td><td align=\"center\">7</td><td align=\"left\">JAI BHAGWAN</td><td align=\"left\"><table><tbody><tr><td>Aam Aadmi Party</td><td style=\"vertical-align:top\"></td></tr></tbody></table></td><td align=\"left\">RAVINDER KUMAR</td><td align=\"left\"><table><tbody><tr><td>Bharatiya Janata Party</td>\n",
            "<td style=\"vertical-align:top\">\n",
            "</td></tr></tbody></table></td>\n",
            "<td align=\"right\">11526</td><td align=\"center\">Result Declared</td><td align=\"center\" style=\"background-color: lightgray;\">VED PARKASH</td><td align=\"center\" style=\"background-color: lightgray;\">Aam Aadmi Party</td><td align=\"center\" style=\"background-color: lightgray;\">50557</td></tr> \n",
            "\n",
            "\n",
            "\n",
            "24 :------- <tr><td>Aam Aadmi Party</td><td style=\"vertical-align:top\"></td></tr> \n",
            "\n",
            "\n",
            "\n",
            "25 :------- <tr><td>Bharatiya Janata Party</td>\n",
            "<td style=\"vertical-align:top\">\n",
            "</td></tr> \n",
            "\n",
            "\n",
            "\n",
            "26 :------- <tr style=\"font-size:12px;\"><td align=\"left\">BIJWASAN</td><td align=\"center\">36</td><td align=\"left\">BHUPINDER SINGH JOON</td><td align=\"left\"><table><tbody><tr><td>Aam Aadmi Party</td><td style=\"vertical-align:top\"></td></tr></tbody></table></td><td align=\"left\">SAT PRAKASH RANA</td><td align=\"left\"><table><tbody><tr><td>Bharatiya Janata Party</td>\n",
            "<td style=\"vertical-align:top\">\n",
            "</td></tr></tbody></table></td>\n",
            "<td align=\"right\">753</td><td align=\"center\">Result Declared</td><td align=\"center\" style=\"background-color: lightgray;\">COL DEVINDER SEHRAWAT</td><td align=\"center\" style=\"background-color: lightgray;\">Aam Aadmi Party</td><td align=\"center\" style=\"background-color: lightgray;\">19536</td></tr> \n",
            "\n",
            "\n",
            "\n",
            "27 :------- <tr><td>Aam Aadmi Party</td><td style=\"vertical-align:top\"></td></tr> \n",
            "\n",
            "\n",
            "\n",
            "28 :------- <tr><td>Bharatiya Janata Party</td>\n",
            "<td style=\"vertical-align:top\">\n",
            "</td></tr> \n",
            "\n",
            "\n",
            "\n",
            "29 :------- <tr style=\"font-size:12px;\"><td align=\"left\">BURARI</td><td align=\"center\">2</td><td align=\"left\">SANJEEV JHA</td><td align=\"left\"><table><tbody><tr><td>Aam Aadmi Party</td><td style=\"vertical-align:top\"></td></tr></tbody></table></td><td align=\"left\">SHAILENDRA KUMAR</td><td align=\"left\"><table><tbody><tr><td>Janata Dal (United)</td>\n",
            "<td style=\"vertical-align:top\">\n",
            "</td></tr></tbody></table></td>\n",
            "<td align=\"right\">88158</td><td align=\"center\">Result Declared</td><td align=\"center\" style=\"background-color: lightgray;\">SANJEEV JHA</td><td align=\"center\" style=\"background-color: lightgray;\">Aam Aadmi Party</td><td align=\"center\" style=\"background-color: lightgray;\">67950</td></tr> \n",
            "\n",
            "\n",
            "\n",
            "30 :------- <tr><td>Aam Aadmi Party</td><td style=\"vertical-align:top\"></td></tr> \n",
            "\n",
            "\n",
            "\n",
            "31 :------- <tr><td>Janata Dal (United)</td>\n",
            "<td style=\"vertical-align:top\">\n",
            "</td></tr> \n",
            "\n",
            "\n",
            "\n",
            "32 :------- <tr style=\"font-size:12px;\"><td align=\"left\">CHANDNI CHOWK</td><td align=\"center\">20</td><td align=\"left\">PARLAD SINGH SAWHNEY</td><td align=\"left\"><table><tbody><tr><td>Aam Aadmi Party</td><td style=\"vertical-align:top\"></td></tr></tbody></table></td><td align=\"left\">SUMAN KUMAR GUPTA</td><td align=\"left\"><table><tbody><tr><td>Bharatiya Janata Party</td>\n",
            "<td style=\"vertical-align:top\">\n",
            "</td></tr></tbody></table></td>\n",
            "<td align=\"right\">29584</td><td align=\"center\">Result Declared</td><td align=\"center\" style=\"background-color: lightgray;\">ALKA  LAMBA</td><td align=\"center\" style=\"background-color: lightgray;\">Aam Aadmi Party</td><td align=\"center\" style=\"background-color: lightgray;\">18287</td></tr> \n",
            "\n",
            "\n",
            "\n",
            "33 :------- <tr><td>Aam Aadmi Party</td><td style=\"vertical-align:top\"></td></tr> \n",
            "\n",
            "\n",
            "\n",
            "34 :------- <tr><td>Bharatiya Janata Party</td>\n",
            "<td style=\"vertical-align:top\">\n",
            "</td></tr> \n",
            "\n",
            "\n",
            "\n"
          ],
          "name": "stdout"
        }
      ]
    },
    {
      "cell_type": "markdown",
      "metadata": {
        "id": "6RuUMo20a18T",
        "colab_type": "text"
      },
      "source": [
        "**^As we can se up 4 tr rows are useless for our table so we will remove them**"
      ]
    },
    {
      "cell_type": "code",
      "metadata": {
        "id": "WrK4-1rNbKyM",
        "colab_type": "code",
        "outputId": "86c32f37-c2b6-4507-9b7f-4feefffcc0a7",
        "colab": {
          "base_uri": "https://localhost:8080/",
          "height": 173
        }
      },
      "source": [
        "full_tr = td.find_all('tr')[4:]\n",
        "full_tr[:3]"
      ],
      "execution_count": 0,
      "outputs": [
        {
          "output_type": "execute_result",
          "data": {
            "text/plain": [
              "[<tr style=\"font-size:12px;\"><td align=\"left\">ADARSH NAGAR</td><td align=\"center\">4</td><td align=\"left\">PAWAN SHARMA</td><td align=\"left\"><table><tbody><tr><td>Aam Aadmi Party</td><td style=\"vertical-align:top\"></td></tr></tbody></table></td><td align=\"left\">RAJ KUMAR BHATIA</td><td align=\"left\"><table><tbody><tr><td>Bharatiya Janata Party</td>\n",
              " <td style=\"vertical-align:top\">\n",
              " </td></tr></tbody></table></td>\n",
              " <td align=\"right\">1589</td><td align=\"center\">Result Declared</td><td align=\"center\" style=\"background-color: lightgray;\">PAWAN KUMAR SHARMA</td><td align=\"center\" style=\"background-color: lightgray;\">Aam Aadmi Party</td><td align=\"center\" style=\"background-color: lightgray;\">20741</td></tr>,\n",
              " <tr><td>Aam Aadmi Party</td><td style=\"vertical-align:top\"></td></tr>,\n",
              " <tr><td>Bharatiya Janata Party</td>\n",
              " <td style=\"vertical-align:top\">\n",
              " </td></tr>]"
            ]
          },
          "metadata": {
            "tags": []
          },
          "execution_count": 20
        }
      ]
    },
    {
      "cell_type": "markdown",
      "metadata": {
        "id": "FvIZoSg6bSHy",
        "colab_type": "text"
      },
      "source": [
        "##remove extra **tr** which are useless for our table"
      ]
    },
    {
      "cell_type": "code",
      "metadata": {
        "id": "pEI6_XGgbcCt",
        "colab_type": "code",
        "outputId": "d1e80bdb-d614-46da-b861-5b1a6b8ba303",
        "colab": {
          "base_uri": "https://localhost:8080/",
          "height": 513
        }
      },
      "source": [
        "for n, i in enumerate(full_tr):\n",
        "  print(f'{n} :--- {i} \\n\\n\\n')\n",
        "  if n == 4:\n",
        "    break"
      ],
      "execution_count": 0,
      "outputs": [
        {
          "output_type": "stream",
          "text": [
            "0 :--- <tr style=\"font-size:12px;\"><td align=\"left\">ADARSH NAGAR</td><td align=\"center\">4</td><td align=\"left\">PAWAN SHARMA</td><td align=\"left\"><table><tbody><tr><td>Aam Aadmi Party</td><td style=\"vertical-align:top\"></td></tr></tbody></table></td><td align=\"left\">RAJ KUMAR BHATIA</td><td align=\"left\"><table><tbody><tr><td>Bharatiya Janata Party</td>\n",
            "<td style=\"vertical-align:top\">\n",
            "</td></tr></tbody></table></td>\n",
            "<td align=\"right\">1589</td><td align=\"center\">Result Declared</td><td align=\"center\" style=\"background-color: lightgray;\">PAWAN KUMAR SHARMA</td><td align=\"center\" style=\"background-color: lightgray;\">Aam Aadmi Party</td><td align=\"center\" style=\"background-color: lightgray;\">20741</td></tr> \n",
            "\n",
            "\n",
            "\n",
            "1 :--- <tr><td>Aam Aadmi Party</td><td style=\"vertical-align:top\"></td></tr> \n",
            "\n",
            "\n",
            "\n",
            "2 :--- <tr><td>Bharatiya Janata Party</td>\n",
            "<td style=\"vertical-align:top\">\n",
            "</td></tr> \n",
            "\n",
            "\n",
            "\n",
            "3 :--- <tr style=\"font-size:12px;\"><td align=\"left\">AMBEDKAR NAGAR(SC)</td><td align=\"center\">48</td><td align=\"left\">AJAY DUTT</td><td align=\"left\"><table><tbody><tr><td>Aam Aadmi Party</td><td style=\"vertical-align:top\"></td></tr></tbody></table></td><td align=\"left\">KHUSHIRAM CHUNAR</td><td align=\"left\"><table><tbody><tr><td>Bharatiya Janata Party</td>\n",
            "<td style=\"vertical-align:top\">\n",
            "</td></tr></tbody></table></td>\n",
            "<td align=\"right\">28327</td><td align=\"center\">Result Declared</td><td align=\"center\" style=\"background-color: lightgray;\">AJAY DUTT</td><td align=\"center\" style=\"background-color: lightgray;\">Aam Aadmi Party</td><td align=\"center\" style=\"background-color: lightgray;\">42460</td></tr> \n",
            "\n",
            "\n",
            "\n",
            "4 :--- <tr><td>Aam Aadmi Party</td><td style=\"vertical-align:top\"></td></tr> \n",
            "\n",
            "\n",
            "\n"
          ],
          "name": "stdout"
        }
      ]
    },
    {
      "cell_type": "code",
      "metadata": {
        "id": "8W3LUqwRbuf9",
        "colab_type": "code",
        "colab": {}
      },
      "source": [
        "final_tr = []\n",
        "n = 0\n",
        "for i in full_tr:\n",
        "  try:\n",
        "    final_tr.append(full_tr[n])\n",
        "    n += 3\n",
        "  except:\n",
        "    break"
      ],
      "execution_count": 0,
      "outputs": []
    },
    {
      "cell_type": "code",
      "metadata": {
        "id": "SmfOMqplcHJV",
        "colab_type": "code",
        "outputId": "011a293d-dcd0-4b62-b4f1-04f5a3e4e85e",
        "colab": {
          "base_uri": "https://localhost:8080/",
          "height": 309
        }
      },
      "source": [
        "final_tr[:4]"
      ],
      "execution_count": 0,
      "outputs": [
        {
          "output_type": "execute_result",
          "data": {
            "text/plain": [
              "[<tr style=\"font-size:12px;\"><td align=\"left\">ADARSH NAGAR</td><td align=\"center\">4</td><td align=\"left\">PAWAN SHARMA</td><td align=\"left\"><table><tbody><tr><td>Aam Aadmi Party</td><td style=\"vertical-align:top\"></td></tr></tbody></table></td><td align=\"left\">RAJ KUMAR BHATIA</td><td align=\"left\"><table><tbody><tr><td>Bharatiya Janata Party</td>\n",
              " <td style=\"vertical-align:top\">\n",
              " </td></tr></tbody></table></td>\n",
              " <td align=\"right\">1589</td><td align=\"center\">Result Declared</td><td align=\"center\" style=\"background-color: lightgray;\">PAWAN KUMAR SHARMA</td><td align=\"center\" style=\"background-color: lightgray;\">Aam Aadmi Party</td><td align=\"center\" style=\"background-color: lightgray;\">20741</td></tr>,\n",
              " <tr style=\"font-size:12px;\"><td align=\"left\">AMBEDKAR NAGAR(SC)</td><td align=\"center\">48</td><td align=\"left\">AJAY DUTT</td><td align=\"left\"><table><tbody><tr><td>Aam Aadmi Party</td><td style=\"vertical-align:top\"></td></tr></tbody></table></td><td align=\"left\">KHUSHIRAM CHUNAR</td><td align=\"left\"><table><tbody><tr><td>Bharatiya Janata Party</td>\n",
              " <td style=\"vertical-align:top\">\n",
              " </td></tr></tbody></table></td>\n",
              " <td align=\"right\">28327</td><td align=\"center\">Result Declared</td><td align=\"center\" style=\"background-color: lightgray;\">AJAY DUTT</td><td align=\"center\" style=\"background-color: lightgray;\">Aam Aadmi Party</td><td align=\"center\" style=\"background-color: lightgray;\">42460</td></tr>,\n",
              " <tr style=\"font-size:12px;\"><td align=\"left\">BABARPUR</td><td align=\"center\">67</td><td align=\"left\">GOPAL RAI</td><td align=\"left\"><table><tbody><tr><td>Aam Aadmi Party</td><td style=\"vertical-align:top\"></td></tr></tbody></table></td><td align=\"left\">NARESH GAUR</td><td align=\"left\"><table><tbody><tr><td>Bharatiya Janata Party</td>\n",
              " <td style=\"vertical-align:top\">\n",
              " </td></tr></tbody></table></td>\n",
              " <td align=\"right\">33062</td><td align=\"center\">Result Declared</td><td align=\"center\" style=\"background-color: lightgray;\">GOPAL RAI</td><td align=\"center\" style=\"background-color: lightgray;\">Aam Aadmi Party</td><td align=\"center\" style=\"background-color: lightgray;\">35271</td></tr>,\n",
              " <tr style=\"font-size:12px;\"><td align=\"left\">BADARPUR</td><td align=\"center\">53</td><td align=\"left\">RAMVIR SINGH BIDHURI</td><td align=\"left\"><table><tbody><tr><td>Bharatiya Janata Party</td><td style=\"vertical-align:top\"></td></tr></tbody></table></td><td align=\"left\">RAM SINGH NETAJI</td><td align=\"left\"><table><tbody><tr><td>Aam Aadmi Party</td>\n",
              " <td style=\"vertical-align:top\">\n",
              " </td></tr></tbody></table></td>\n",
              " <td align=\"right\">3719</td><td align=\"center\">Result Declared</td><td align=\"center\" style=\"background-color: lightgray;\">NARAYAN DUTT SHARMA</td><td align=\"center\" style=\"background-color: lightgray;\">Aam Aadmi Party</td><td align=\"center\" style=\"background-color: lightgray;\">47583</td></tr>]"
            ]
          },
          "metadata": {
            "tags": []
          },
          "execution_count": 23
        }
      ]
    },
    {
      "cell_type": "code",
      "metadata": {
        "id": "hf-OgXImcO1W",
        "colab_type": "code",
        "outputId": "6a6508bd-0e8e-421f-c9b1-eb2aee7953f5",
        "colab": {
          "base_uri": "https://localhost:8080/",
          "height": 173
        }
      },
      "source": [
        "final_tr[-2:]"
      ],
      "execution_count": 0,
      "outputs": [
        {
          "output_type": "execute_result",
          "data": {
            "text/plain": [
              "[<tr style=\"font-size:12px;\"><td align=\"left\">BURARI</td><td align=\"center\">2</td><td align=\"left\">SANJEEV JHA</td><td align=\"left\"><table><tbody><tr><td>Aam Aadmi Party</td><td style=\"vertical-align:top\"></td></tr></tbody></table></td><td align=\"left\">SHAILENDRA KUMAR</td><td align=\"left\"><table><tbody><tr><td>Janata Dal (United)</td>\n",
              " <td style=\"vertical-align:top\">\n",
              " </td></tr></tbody></table></td>\n",
              " <td align=\"right\">88158</td><td align=\"center\">Result Declared</td><td align=\"center\" style=\"background-color: lightgray;\">SANJEEV JHA</td><td align=\"center\" style=\"background-color: lightgray;\">Aam Aadmi Party</td><td align=\"center\" style=\"background-color: lightgray;\">67950</td></tr>,\n",
              " <tr style=\"font-size:12px;\"><td align=\"left\">CHANDNI CHOWK</td><td align=\"center\">20</td><td align=\"left\">PARLAD SINGH SAWHNEY</td><td align=\"left\"><table><tbody><tr><td>Aam Aadmi Party</td><td style=\"vertical-align:top\"></td></tr></tbody></table></td><td align=\"left\">SUMAN KUMAR GUPTA</td><td align=\"left\"><table><tbody><tr><td>Bharatiya Janata Party</td>\n",
              " <td style=\"vertical-align:top\">\n",
              " </td></tr></tbody></table></td>\n",
              " <td align=\"right\">29584</td><td align=\"center\">Result Declared</td><td align=\"center\" style=\"background-color: lightgray;\">ALKA  LAMBA</td><td align=\"center\" style=\"background-color: lightgray;\">Aam Aadmi Party</td><td align=\"center\" style=\"background-color: lightgray;\">18287</td></tr>]"
            ]
          },
          "metadata": {
            "tags": []
          },
          "execution_count": 24
        }
      ]
    },
    {
      "cell_type": "code",
      "metadata": {
        "id": "G_1AQvio5k9a",
        "colab_type": "code",
        "outputId": "172f80bb-9053-4857-fd75-1a49a294e9d9",
        "colab": {
          "base_uri": "https://localhost:8080/",
          "height": 1000
        }
      },
      "source": [
        "for i in final_tr:\n",
        "  print(i.find_all('td'), '\\n\\n\\n')"
      ],
      "execution_count": 0,
      "outputs": [
        {
          "output_type": "stream",
          "text": [
            "[<td align=\"left\">ADARSH NAGAR</td>, <td align=\"center\">4</td>, <td align=\"left\">PAWAN SHARMA</td>, <td align=\"left\"><table><tbody><tr><td>Aam Aadmi Party</td><td style=\"vertical-align:top\"></td></tr></tbody></table></td>, <td>Aam Aadmi Party</td>, <td style=\"vertical-align:top\"></td>, <td align=\"left\">RAJ KUMAR BHATIA</td>, <td align=\"left\"><table><tbody><tr><td>Bharatiya Janata Party</td>\n",
            "<td style=\"vertical-align:top\">\n",
            "</td></tr></tbody></table></td>, <td>Bharatiya Janata Party</td>, <td style=\"vertical-align:top\">\n",
            "</td>, <td align=\"right\">1589</td>, <td align=\"center\">Result Declared</td>, <td align=\"center\" style=\"background-color: lightgray;\">PAWAN KUMAR SHARMA</td>, <td align=\"center\" style=\"background-color: lightgray;\">Aam Aadmi Party</td>, <td align=\"center\" style=\"background-color: lightgray;\">20741</td>] \n",
            "\n",
            "\n",
            "\n",
            "[<td align=\"left\">AMBEDKAR NAGAR(SC)</td>, <td align=\"center\">48</td>, <td align=\"left\">AJAY DUTT</td>, <td align=\"left\"><table><tbody><tr><td>Aam Aadmi Party</td><td style=\"vertical-align:top\"></td></tr></tbody></table></td>, <td>Aam Aadmi Party</td>, <td style=\"vertical-align:top\"></td>, <td align=\"left\">KHUSHIRAM CHUNAR</td>, <td align=\"left\"><table><tbody><tr><td>Bharatiya Janata Party</td>\n",
            "<td style=\"vertical-align:top\">\n",
            "</td></tr></tbody></table></td>, <td>Bharatiya Janata Party</td>, <td style=\"vertical-align:top\">\n",
            "</td>, <td align=\"right\">28327</td>, <td align=\"center\">Result Declared</td>, <td align=\"center\" style=\"background-color: lightgray;\">AJAY DUTT</td>, <td align=\"center\" style=\"background-color: lightgray;\">Aam Aadmi Party</td>, <td align=\"center\" style=\"background-color: lightgray;\">42460</td>] \n",
            "\n",
            "\n",
            "\n",
            "[<td align=\"left\">BABARPUR</td>, <td align=\"center\">67</td>, <td align=\"left\">GOPAL RAI</td>, <td align=\"left\"><table><tbody><tr><td>Aam Aadmi Party</td><td style=\"vertical-align:top\"></td></tr></tbody></table></td>, <td>Aam Aadmi Party</td>, <td style=\"vertical-align:top\"></td>, <td align=\"left\">NARESH GAUR</td>, <td align=\"left\"><table><tbody><tr><td>Bharatiya Janata Party</td>\n",
            "<td style=\"vertical-align:top\">\n",
            "</td></tr></tbody></table></td>, <td>Bharatiya Janata Party</td>, <td style=\"vertical-align:top\">\n",
            "</td>, <td align=\"right\">33062</td>, <td align=\"center\">Result Declared</td>, <td align=\"center\" style=\"background-color: lightgray;\">GOPAL RAI</td>, <td align=\"center\" style=\"background-color: lightgray;\">Aam Aadmi Party</td>, <td align=\"center\" style=\"background-color: lightgray;\">35271</td>] \n",
            "\n",
            "\n",
            "\n",
            "[<td align=\"left\">BADARPUR</td>, <td align=\"center\">53</td>, <td align=\"left\">RAMVIR SINGH BIDHURI</td>, <td align=\"left\"><table><tbody><tr><td>Bharatiya Janata Party</td><td style=\"vertical-align:top\"></td></tr></tbody></table></td>, <td>Bharatiya Janata Party</td>, <td style=\"vertical-align:top\"></td>, <td align=\"left\">RAM SINGH NETAJI</td>, <td align=\"left\"><table><tbody><tr><td>Aam Aadmi Party</td>\n",
            "<td style=\"vertical-align:top\">\n",
            "</td></tr></tbody></table></td>, <td>Aam Aadmi Party</td>, <td style=\"vertical-align:top\">\n",
            "</td>, <td align=\"right\">3719</td>, <td align=\"center\">Result Declared</td>, <td align=\"center\" style=\"background-color: lightgray;\">NARAYAN DUTT SHARMA</td>, <td align=\"center\" style=\"background-color: lightgray;\">Aam Aadmi Party</td>, <td align=\"center\" style=\"background-color: lightgray;\">47583</td>] \n",
            "\n",
            "\n",
            "\n",
            "[<td align=\"left\">BADLI</td>, <td align=\"center\">5</td>, <td align=\"left\">AJESH YADAV</td>, <td align=\"left\"><table><tbody><tr><td>Aam Aadmi Party</td><td style=\"vertical-align:top\"></td></tr></tbody></table></td>, <td>Aam Aadmi Party</td>, <td style=\"vertical-align:top\"></td>, <td align=\"left\">VIJAY KUMAR BHAGAT</td>, <td align=\"left\"><table><tbody><tr><td>Bharatiya Janata Party</td>\n",
            "<td style=\"vertical-align:top\">\n",
            "</td></tr></tbody></table></td>, <td>Bharatiya Janata Party</td>, <td style=\"vertical-align:top\">\n",
            "</td>, <td align=\"right\">29123</td>, <td align=\"center\">Result Declared</td>, <td align=\"center\" style=\"background-color: lightgray;\">AJESH YADAV</td>, <td align=\"center\" style=\"background-color: lightgray;\">Aam Aadmi Party</td>, <td align=\"center\" style=\"background-color: lightgray;\">35376</td>] \n",
            "\n",
            "\n",
            "\n",
            "[<td align=\"left\">BALLIMARAN</td>, <td align=\"center\">22</td>, <td align=\"left\">IMRAN HUSSAIN</td>, <td align=\"left\"><table><tbody><tr><td>Aam Aadmi Party</td><td style=\"vertical-align:top\"></td></tr></tbody></table></td>, <td>Aam Aadmi Party</td>, <td style=\"vertical-align:top\"></td>, <td align=\"left\">LATA</td>, <td align=\"left\"><table><tbody><tr><td>Bharatiya Janata Party</td>\n",
            "<td style=\"vertical-align:top\">\n",
            "</td></tr></tbody></table></td>, <td>Bharatiya Janata Party</td>, <td style=\"vertical-align:top\">\n",
            "</td>, <td align=\"right\">36172</td>, <td align=\"center\">Result Declared</td>, <td align=\"center\" style=\"background-color: lightgray;\">IMRAN HUSSAIN</td>, <td align=\"center\" style=\"background-color: lightgray;\">Aam Aadmi Party</td>, <td align=\"center\" style=\"background-color: lightgray;\">33877</td>] \n",
            "\n",
            "\n",
            "\n",
            "[<td align=\"left\">BAWANA(SC)</td>, <td align=\"center\">7</td>, <td align=\"left\">JAI BHAGWAN</td>, <td align=\"left\"><table><tbody><tr><td>Aam Aadmi Party</td><td style=\"vertical-align:top\"></td></tr></tbody></table></td>, <td>Aam Aadmi Party</td>, <td style=\"vertical-align:top\"></td>, <td align=\"left\">RAVINDER KUMAR</td>, <td align=\"left\"><table><tbody><tr><td>Bharatiya Janata Party</td>\n",
            "<td style=\"vertical-align:top\">\n",
            "</td></tr></tbody></table></td>, <td>Bharatiya Janata Party</td>, <td style=\"vertical-align:top\">\n",
            "</td>, <td align=\"right\">11526</td>, <td align=\"center\">Result Declared</td>, <td align=\"center\" style=\"background-color: lightgray;\">VED PARKASH</td>, <td align=\"center\" style=\"background-color: lightgray;\">Aam Aadmi Party</td>, <td align=\"center\" style=\"background-color: lightgray;\">50557</td>] \n",
            "\n",
            "\n",
            "\n",
            "[<td align=\"left\">BIJWASAN</td>, <td align=\"center\">36</td>, <td align=\"left\">BHUPINDER SINGH JOON</td>, <td align=\"left\"><table><tbody><tr><td>Aam Aadmi Party</td><td style=\"vertical-align:top\"></td></tr></tbody></table></td>, <td>Aam Aadmi Party</td>, <td style=\"vertical-align:top\"></td>, <td align=\"left\">SAT PRAKASH RANA</td>, <td align=\"left\"><table><tbody><tr><td>Bharatiya Janata Party</td>\n",
            "<td style=\"vertical-align:top\">\n",
            "</td></tr></tbody></table></td>, <td>Bharatiya Janata Party</td>, <td style=\"vertical-align:top\">\n",
            "</td>, <td align=\"right\">753</td>, <td align=\"center\">Result Declared</td>, <td align=\"center\" style=\"background-color: lightgray;\">COL DEVINDER SEHRAWAT</td>, <td align=\"center\" style=\"background-color: lightgray;\">Aam Aadmi Party</td>, <td align=\"center\" style=\"background-color: lightgray;\">19536</td>] \n",
            "\n",
            "\n",
            "\n",
            "[<td align=\"left\">BURARI</td>, <td align=\"center\">2</td>, <td align=\"left\">SANJEEV JHA</td>, <td align=\"left\"><table><tbody><tr><td>Aam Aadmi Party</td><td style=\"vertical-align:top\"></td></tr></tbody></table></td>, <td>Aam Aadmi Party</td>, <td style=\"vertical-align:top\"></td>, <td align=\"left\">SHAILENDRA KUMAR</td>, <td align=\"left\"><table><tbody><tr><td>Janata Dal (United)</td>\n",
            "<td style=\"vertical-align:top\">\n",
            "</td></tr></tbody></table></td>, <td>Janata Dal (United)</td>, <td style=\"vertical-align:top\">\n",
            "</td>, <td align=\"right\">88158</td>, <td align=\"center\">Result Declared</td>, <td align=\"center\" style=\"background-color: lightgray;\">SANJEEV JHA</td>, <td align=\"center\" style=\"background-color: lightgray;\">Aam Aadmi Party</td>, <td align=\"center\" style=\"background-color: lightgray;\">67950</td>] \n",
            "\n",
            "\n",
            "\n",
            "[<td align=\"left\">CHANDNI CHOWK</td>, <td align=\"center\">20</td>, <td align=\"left\">PARLAD SINGH SAWHNEY</td>, <td align=\"left\"><table><tbody><tr><td>Aam Aadmi Party</td><td style=\"vertical-align:top\"></td></tr></tbody></table></td>, <td>Aam Aadmi Party</td>, <td style=\"vertical-align:top\"></td>, <td align=\"left\">SUMAN KUMAR GUPTA</td>, <td align=\"left\"><table><tbody><tr><td>Bharatiya Janata Party</td>\n",
            "<td style=\"vertical-align:top\">\n",
            "</td></tr></tbody></table></td>, <td>Bharatiya Janata Party</td>, <td style=\"vertical-align:top\">\n",
            "</td>, <td align=\"right\">29584</td>, <td align=\"center\">Result Declared</td>, <td align=\"center\" style=\"background-color: lightgray;\">ALKA  LAMBA</td>, <td align=\"center\" style=\"background-color: lightgray;\">Aam Aadmi Party</td>, <td align=\"center\" style=\"background-color: lightgray;\">18287</td>] \n",
            "\n",
            "\n",
            "\n"
          ],
          "name": "stdout"
        }
      ]
    },
    {
      "cell_type": "code",
      "metadata": {
        "id": "s_Ued2rTc1zl",
        "colab_type": "code",
        "colab": {}
      },
      "source": [
        "table_data = []\n",
        "for i in final_tr:\n",
        "  th = []\n",
        "  for j in i.find_all('td'):\n",
        "    th.append(j.get_text())\n",
        "    #print(j.get_text(), ',')\n",
        "  table_data.append(th)\n",
        "  #print('\\n\\n\\n')\n",
        "  #print(i.get_text())"
      ],
      "execution_count": 0,
      "outputs": []
    },
    {
      "cell_type": "code",
      "metadata": {
        "id": "FJAQvF3By9-z",
        "colab_type": "code",
        "outputId": "5203af38-303a-4f68-87b3-218d70b24911",
        "colab": {
          "base_uri": "https://localhost:8080/",
          "height": 34
        }
      },
      "source": [
        "len(table_data)"
      ],
      "execution_count": 0,
      "outputs": [
        {
          "output_type": "execute_result",
          "data": {
            "text/plain": [
              "10"
            ]
          },
          "metadata": {
            "tags": []
          },
          "execution_count": 27
        }
      ]
    },
    {
      "cell_type": "code",
      "metadata": {
        "id": "nyXoWZBNqAxo",
        "colab_type": "code",
        "outputId": "c89f863d-b102-49ca-b3cd-8a2f72afae06",
        "colab": {
          "base_uri": "https://localhost:8080/",
          "height": 272
        }
      },
      "source": [
        "table_data[0]"
      ],
      "execution_count": 0,
      "outputs": [
        {
          "output_type": "execute_result",
          "data": {
            "text/plain": [
              "['ADARSH NAGAR',\n",
              " '4',\n",
              " 'PAWAN SHARMA',\n",
              " 'Aam Aadmi Party',\n",
              " 'Aam Aadmi Party',\n",
              " '',\n",
              " 'RAJ KUMAR BHATIA',\n",
              " 'Bharatiya Janata Party\\n\\n',\n",
              " 'Bharatiya Janata Party',\n",
              " '\\n',\n",
              " '1589',\n",
              " 'Result Declared',\n",
              " 'PAWAN KUMAR SHARMA',\n",
              " 'Aam Aadmi Party',\n",
              " '20741']"
            ]
          },
          "metadata": {
            "tags": []
          },
          "execution_count": 28
        }
      ]
    },
    {
      "cell_type": "code",
      "metadata": {
        "id": "2un9fvrOzR0m",
        "colab_type": "code",
        "outputId": "03b68600-e933-4ab4-b001-b102bdb79ff5",
        "colab": {
          "base_uri": "https://localhost:8080/",
          "height": 34
        }
      },
      "source": [
        "for i in table_data:\n",
        "  print(len(i), end = ',')"
      ],
      "execution_count": 0,
      "outputs": [
        {
          "output_type": "stream",
          "text": [
            "15,15,15,15,15,15,15,15,15,15,"
          ],
          "name": "stdout"
        }
      ]
    },
    {
      "cell_type": "markdown",
      "metadata": {
        "id": "y7fyfLqvzY4u",
        "colab_type": "text"
      },
      "source": [
        "###remove unneccessary data"
      ]
    },
    {
      "cell_type": "code",
      "metadata": {
        "id": "IWb0x8oxzxqa",
        "colab_type": "code",
        "outputId": "e4245475-1e2e-42fe-fc13-32536f016c01",
        "colab": {
          "base_uri": "https://localhost:8080/",
          "height": 34
        }
      },
      "source": [
        "' hello world\\n\\n'.strip('\\n')"
      ],
      "execution_count": 0,
      "outputs": [
        {
          "output_type": "execute_result",
          "data": {
            "text/plain": [
              "' hello world'"
            ]
          },
          "metadata": {
            "tags": []
          },
          "execution_count": 30
        }
      ]
    },
    {
      "cell_type": "code",
      "metadata": {
        "id": "tfnoeieyrO_n",
        "colab_type": "code",
        "colab": {}
      },
      "source": [
        "a = ['', '', 'a']"
      ],
      "execution_count": 0,
      "outputs": []
    },
    {
      "cell_type": "code",
      "metadata": {
        "id": "LDlq1Cxorgo-",
        "colab_type": "code",
        "outputId": "8f4d9e0f-c4ff-4135-afac-5920c440f59f",
        "colab": {
          "base_uri": "https://localhost:8080/",
          "height": 34
        }
      },
      "source": [
        "print(a)"
      ],
      "execution_count": 0,
      "outputs": [
        {
          "output_type": "stream",
          "text": [
            "['', '', 'a']\n"
          ],
          "name": "stdout"
        }
      ]
    },
    {
      "cell_type": "code",
      "metadata": {
        "id": "vqkvcGGOrlWa",
        "colab_type": "code",
        "outputId": "0bb978cb-951f-498f-9bc9-4190bce1efb7",
        "colab": {
          "base_uri": "https://localhost:8080/",
          "height": 34
        }
      },
      "source": [
        "a = filter(lambda x : x != '', a)\n",
        "list(a)"
      ],
      "execution_count": 0,
      "outputs": [
        {
          "output_type": "execute_result",
          "data": {
            "text/plain": [
              "['a']"
            ]
          },
          "metadata": {
            "tags": []
          },
          "execution_count": 33
        }
      ]
    },
    {
      "cell_type": "code",
      "metadata": {
        "id": "RdfcJRNPzgcB",
        "colab_type": "code",
        "outputId": "fe8416fb-e73c-4268-af72-bc35d180e5fb",
        "colab": {
          "base_uri": "https://localhost:8080/",
          "height": 207
        }
      },
      "source": [
        " final_table = []\n",
        "for i in table_data:\n",
        "  th = []\n",
        "  for j in i:\n",
        "    j.strip()\n",
        "    #remove \\n from string\n",
        "    j = j.strip('\\n')\n",
        "    th.append(j)\n",
        "  th = list(filter(lambda x: x != '', th))\n",
        "  print(th)\n",
        "  final_table.append(th)\n",
        "  "
      ],
      "execution_count": 0,
      "outputs": [
        {
          "output_type": "stream",
          "text": [
            "['ADARSH NAGAR', '4', 'PAWAN SHARMA', 'Aam Aadmi Party', 'Aam Aadmi Party', 'RAJ KUMAR BHATIA', 'Bharatiya Janata Party', 'Bharatiya Janata Party', '1589', 'Result Declared', 'PAWAN KUMAR SHARMA', 'Aam Aadmi Party', '20741']\n",
            "['AMBEDKAR NAGAR(SC)', '48', 'AJAY DUTT', 'Aam Aadmi Party', 'Aam Aadmi Party', 'KHUSHIRAM CHUNAR', 'Bharatiya Janata Party', 'Bharatiya Janata Party', '28327', 'Result Declared', 'AJAY DUTT', 'Aam Aadmi Party', '42460']\n",
            "['BABARPUR', '67', 'GOPAL RAI', 'Aam Aadmi Party', 'Aam Aadmi Party', 'NARESH GAUR', 'Bharatiya Janata Party', 'Bharatiya Janata Party', '33062', 'Result Declared', 'GOPAL RAI', 'Aam Aadmi Party', '35271']\n",
            "['BADARPUR', '53', 'RAMVIR SINGH BIDHURI', 'Bharatiya Janata Party', 'Bharatiya Janata Party', 'RAM SINGH NETAJI', 'Aam Aadmi Party', 'Aam Aadmi Party', '3719', 'Result Declared', 'NARAYAN DUTT SHARMA', 'Aam Aadmi Party', '47583']\n",
            "['BADLI', '5', 'AJESH YADAV', 'Aam Aadmi Party', 'Aam Aadmi Party', 'VIJAY KUMAR BHAGAT', 'Bharatiya Janata Party', 'Bharatiya Janata Party', '29123', 'Result Declared', 'AJESH YADAV', 'Aam Aadmi Party', '35376']\n",
            "['BALLIMARAN', '22', 'IMRAN HUSSAIN', 'Aam Aadmi Party', 'Aam Aadmi Party', 'LATA', 'Bharatiya Janata Party', 'Bharatiya Janata Party', '36172', 'Result Declared', 'IMRAN HUSSAIN', 'Aam Aadmi Party', '33877']\n",
            "['BAWANA(SC)', '7', 'JAI BHAGWAN', 'Aam Aadmi Party', 'Aam Aadmi Party', 'RAVINDER KUMAR', 'Bharatiya Janata Party', 'Bharatiya Janata Party', '11526', 'Result Declared', 'VED PARKASH', 'Aam Aadmi Party', '50557']\n",
            "['BIJWASAN', '36', 'BHUPINDER SINGH JOON', 'Aam Aadmi Party', 'Aam Aadmi Party', 'SAT PRAKASH RANA', 'Bharatiya Janata Party', 'Bharatiya Janata Party', '753', 'Result Declared', 'COL DEVINDER SEHRAWAT', 'Aam Aadmi Party', '19536']\n",
            "['BURARI', '2', 'SANJEEV JHA', 'Aam Aadmi Party', 'Aam Aadmi Party', 'SHAILENDRA KUMAR', 'Janata Dal (United)', 'Janata Dal (United)', '88158', 'Result Declared', 'SANJEEV JHA', 'Aam Aadmi Party', '67950']\n",
            "['CHANDNI CHOWK', '20', 'PARLAD SINGH SAWHNEY', 'Aam Aadmi Party', 'Aam Aadmi Party', 'SUMAN KUMAR GUPTA', 'Bharatiya Janata Party', 'Bharatiya Janata Party', '29584', 'Result Declared', 'ALKA  LAMBA', 'Aam Aadmi Party', '18287']\n"
          ],
          "name": "stdout"
        }
      ]
    },
    {
      "cell_type": "code",
      "metadata": {
        "id": "jprdLbHsutHj",
        "colab_type": "code",
        "outputId": "fc8acda2-01c9-4c68-bea9-63f5ef8aaacb",
        "colab": {
          "base_uri": "https://localhost:8080/",
          "height": 34
        }
      },
      "source": [
        "for i in final_table:\n",
        "  print(len(i), end = ',')"
      ],
      "execution_count": 0,
      "outputs": [
        {
          "output_type": "stream",
          "text": [
            "13,13,13,13,13,13,13,13,13,13,"
          ],
          "name": "stdout"
        }
      ]
    },
    {
      "cell_type": "markdown",
      "metadata": {
        "id": "WhbBaHjncbXS",
        "colab_type": "text"
      },
      "source": [
        "###remove extra party name"
      ]
    },
    {
      "cell_type": "code",
      "metadata": {
        "id": "Mo7BXbjau4EJ",
        "colab_type": "code",
        "colab": {}
      },
      "source": [
        "f_table = []\n",
        "for i in final_table:\n",
        "  th = []\n",
        "  for n, j in enumerate(i):\n",
        "    if i[n] == i[n-1]:\n",
        "      continue\n",
        "    else:\n",
        "      th.append(j)\n",
        "  f_table.append(th)"
      ],
      "execution_count": 0,
      "outputs": []
    },
    {
      "cell_type": "code",
      "metadata": {
        "id": "LVWecdU-csYD",
        "colab_type": "code",
        "outputId": "abdd6846-cb3c-4d7b-9dc5-3308217c3a90",
        "colab": {
          "base_uri": "https://localhost:8080/",
          "height": 34
        }
      },
      "source": [
        "for i in f_table:\n",
        "  print(len(i), end = ',')"
      ],
      "execution_count": 0,
      "outputs": [
        {
          "output_type": "stream",
          "text": [
            "11,11,11,11,11,11,11,11,11,11,"
          ],
          "name": "stdout"
        }
      ]
    },
    {
      "cell_type": "code",
      "metadata": {
        "id": "P4nZZ1sR03Dr",
        "colab_type": "code",
        "outputId": "1cc9669b-36ec-45ac-c25f-1f282ac2dd31",
        "colab": {
          "base_uri": "https://localhost:8080/",
          "height": 1000
        }
      },
      "source": [
        "f_table"
      ],
      "execution_count": 0,
      "outputs": [
        {
          "output_type": "execute_result",
          "data": {
            "text/plain": [
              "[['ADARSH NAGAR',\n",
              "  '4',\n",
              "  'PAWAN SHARMA',\n",
              "  'Aam Aadmi Party',\n",
              "  'RAJ KUMAR BHATIA',\n",
              "  'Bharatiya Janata Party',\n",
              "  '1589',\n",
              "  'Result Declared',\n",
              "  'PAWAN KUMAR SHARMA',\n",
              "  'Aam Aadmi Party',\n",
              "  '20741'],\n",
              " ['AMBEDKAR NAGAR(SC)',\n",
              "  '48',\n",
              "  'AJAY DUTT',\n",
              "  'Aam Aadmi Party',\n",
              "  'KHUSHIRAM CHUNAR',\n",
              "  'Bharatiya Janata Party',\n",
              "  '28327',\n",
              "  'Result Declared',\n",
              "  'AJAY DUTT',\n",
              "  'Aam Aadmi Party',\n",
              "  '42460'],\n",
              " ['BABARPUR',\n",
              "  '67',\n",
              "  'GOPAL RAI',\n",
              "  'Aam Aadmi Party',\n",
              "  'NARESH GAUR',\n",
              "  'Bharatiya Janata Party',\n",
              "  '33062',\n",
              "  'Result Declared',\n",
              "  'GOPAL RAI',\n",
              "  'Aam Aadmi Party',\n",
              "  '35271'],\n",
              " ['BADARPUR',\n",
              "  '53',\n",
              "  'RAMVIR SINGH BIDHURI',\n",
              "  'Bharatiya Janata Party',\n",
              "  'RAM SINGH NETAJI',\n",
              "  'Aam Aadmi Party',\n",
              "  '3719',\n",
              "  'Result Declared',\n",
              "  'NARAYAN DUTT SHARMA',\n",
              "  'Aam Aadmi Party',\n",
              "  '47583'],\n",
              " ['BADLI',\n",
              "  '5',\n",
              "  'AJESH YADAV',\n",
              "  'Aam Aadmi Party',\n",
              "  'VIJAY KUMAR BHAGAT',\n",
              "  'Bharatiya Janata Party',\n",
              "  '29123',\n",
              "  'Result Declared',\n",
              "  'AJESH YADAV',\n",
              "  'Aam Aadmi Party',\n",
              "  '35376'],\n",
              " ['BALLIMARAN',\n",
              "  '22',\n",
              "  'IMRAN HUSSAIN',\n",
              "  'Aam Aadmi Party',\n",
              "  'LATA',\n",
              "  'Bharatiya Janata Party',\n",
              "  '36172',\n",
              "  'Result Declared',\n",
              "  'IMRAN HUSSAIN',\n",
              "  'Aam Aadmi Party',\n",
              "  '33877'],\n",
              " ['BAWANA(SC)',\n",
              "  '7',\n",
              "  'JAI BHAGWAN',\n",
              "  'Aam Aadmi Party',\n",
              "  'RAVINDER KUMAR',\n",
              "  'Bharatiya Janata Party',\n",
              "  '11526',\n",
              "  'Result Declared',\n",
              "  'VED PARKASH',\n",
              "  'Aam Aadmi Party',\n",
              "  '50557'],\n",
              " ['BIJWASAN',\n",
              "  '36',\n",
              "  'BHUPINDER SINGH JOON',\n",
              "  'Aam Aadmi Party',\n",
              "  'SAT PRAKASH RANA',\n",
              "  'Bharatiya Janata Party',\n",
              "  '753',\n",
              "  'Result Declared',\n",
              "  'COL DEVINDER SEHRAWAT',\n",
              "  'Aam Aadmi Party',\n",
              "  '19536'],\n",
              " ['BURARI',\n",
              "  '2',\n",
              "  'SANJEEV JHA',\n",
              "  'Aam Aadmi Party',\n",
              "  'SHAILENDRA KUMAR',\n",
              "  'Janata Dal (United)',\n",
              "  '88158',\n",
              "  'Result Declared',\n",
              "  'SANJEEV JHA',\n",
              "  'Aam Aadmi Party',\n",
              "  '67950'],\n",
              " ['CHANDNI CHOWK',\n",
              "  '20',\n",
              "  'PARLAD SINGH SAWHNEY',\n",
              "  'Aam Aadmi Party',\n",
              "  'SUMAN KUMAR GUPTA',\n",
              "  'Bharatiya Janata Party',\n",
              "  '29584',\n",
              "  'Result Declared',\n",
              "  'ALKA  LAMBA',\n",
              "  'Aam Aadmi Party',\n",
              "  '18287']]"
            ]
          },
          "metadata": {
            "tags": []
          },
          "execution_count": 38
        }
      ]
    },
    {
      "cell_type": "markdown",
      "metadata": {
        "id": "Hyv5KbUKwgaR",
        "colab_type": "text"
      },
      "source": [
        "#Automate that process for all 7 pages"
      ]
    },
    {
      "cell_type": "code",
      "metadata": {
        "id": "Q36hS8KhyN3r",
        "colab_type": "code",
        "colab": {}
      },
      "source": [
        "import pandas as pd"
      ],
      "execution_count": 0,
      "outputs": []
    },
    {
      "cell_type": "code",
      "metadata": {
        "colab_type": "code",
        "id": "zkoddt9myarF",
        "colab": {}
      },
      "source": [
        "import requests\n",
        "from bs4 import BeautifulSoup"
      ],
      "execution_count": 0,
      "outputs": []
    },
    {
      "cell_type": "code",
      "metadata": {
        "id": "5A9LYHeb2laK",
        "colab_type": "code",
        "colab": {}
      },
      "source": [
        "urls = ['http://results.eci.gov.in/DELHITRENDS2020/statewiseU051.htm']\n",
        "n = 2\n",
        "while n <= 7:\n",
        "  urls.append('http://results.eci.gov.in/DELHITRENDS2020/statewiseU05' + str(n) + '.htm')\n",
        "  n += 1"
      ],
      "execution_count": 0,
      "outputs": []
    },
    {
      "cell_type": "code",
      "metadata": {
        "id": "C9ErVEzK3pPx",
        "colab_type": "code",
        "outputId": "65d12a73-499a-4fe7-a90e-567aa37bae52",
        "colab": {
          "base_uri": "https://localhost:8080/",
          "height": 136
        }
      },
      "source": [
        "urls"
      ],
      "execution_count": 0,
      "outputs": [
        {
          "output_type": "execute_result",
          "data": {
            "text/plain": [
              "['http://results.eci.gov.in/DELHITRENDS2020/statewiseU051.htm',\n",
              " 'http://results.eci.gov.in/DELHITRENDS2020/statewiseU052.htm',\n",
              " 'http://results.eci.gov.in/DELHITRENDS2020/statewiseU053.htm',\n",
              " 'http://results.eci.gov.in/DELHITRENDS2020/statewiseU054.htm',\n",
              " 'http://results.eci.gov.in/DELHITRENDS2020/statewiseU055.htm',\n",
              " 'http://results.eci.gov.in/DELHITRENDS2020/statewiseU056.htm',\n",
              " 'http://results.eci.gov.in/DELHITRENDS2020/statewiseU057.htm']"
            ]
          },
          "metadata": {
            "tags": []
          },
          "execution_count": 4
        }
      ]
    },
    {
      "cell_type": "code",
      "metadata": {
        "id": "msADh63WArRU",
        "colab_type": "code",
        "colab": {}
      },
      "source": [
        "import sys"
      ],
      "execution_count": 0,
      "outputs": []
    },
    {
      "cell_type": "code",
      "metadata": {
        "id": "QW2fALW02h9L",
        "colab_type": "code",
        "outputId": "d4e51188-7b70-43cc-da57-eb06e979b0f8",
        "colab": {
          "base_uri": "https://localhost:8080/",
          "height": 612
        }
      },
      "source": [
        "dfs = []\n",
        "for url_no, url in enumerate(urls):\n",
        "  source = requests.get(url)\n",
        "  soup = BeautifulSoup(source.content, 'lxml')\n",
        "  print(f'{url_no + 1} soup done')\n",
        "  #find all tables\n",
        "  all_tables = soup.find_all('table')\n",
        "  #select table which have useful data\n",
        "  table = all_tables[7]\n",
        "  #find header of the table\n",
        "  table.find_all('th')\n",
        "  n_columns = len(table.find_all('th'))\n",
        "  columns = []\n",
        "  for column in table.find_all('th'):\n",
        "    columns.append(column.get_text())\n",
        "  #find table rows\n",
        "  tr = table.find('tr')\n",
        "  ##remove class **tooltip**\n",
        "  for div in tr.find_all('div', class_ = 'tooltip'):\n",
        "    div.decompose()\n",
        "  for span in tr.find_all('span', class_ = 'tooltip-icon'):\n",
        "    span.decompose()\n",
        "\n",
        "  #find td in tr\n",
        "  td = tr.find('td')\n",
        "  #**^As we can se up 4 tr rows are useless for our table so we will remove them**\n",
        "  full_tr = td.find_all('tr')[4:]\n",
        "  #remove extra **tr** which are useless for our table\n",
        "  print(f'{url_no + 1} final tr done')\n",
        "  final_tr = []\n",
        "  n = 0\n",
        "  for i in full_tr:\n",
        "    try:\n",
        "      final_tr.append(full_tr[n])\n",
        "      n += 3\n",
        "    except:\n",
        "      break\n",
        "\n",
        "  #get the text of the table\n",
        "  table_data = []\n",
        "  for i in final_tr:\n",
        "    th = []\n",
        "    for j in i.find_all('td'):\n",
        "      th.append(j.get_text())\n",
        "    table_data.append(th)\n",
        "\n",
        "\n",
        "  ###remove unneccessary data\n",
        "\n",
        "  final_table = []\n",
        "  for i in table_data:\n",
        "    th = []\n",
        "    for j in i:\n",
        "      j.strip()\n",
        "      #remove \\n from string\n",
        "      j = j.strip('\\n')\n",
        "      th.append(j)\n",
        "    th = list(filter(lambda x: x != '', th))\n",
        "    final_table.append(th)\n",
        "\n",
        "  f_table = []\n",
        "  for i in final_table:\n",
        "    th = []\n",
        "    for n, j in enumerate(i):\n",
        "      if i[n] == i[n-1]:\n",
        "        continue\n",
        "      else:\n",
        "        th.append(j)\n",
        "    f_table.append(th)\n",
        "  df = pd.DataFrame(data = f_table, columns = columns)\n",
        "  dfs.append(df)\n",
        "  print(url_no + 1, 'done', '\\n\\n')"
      ],
      "execution_count": 0,
      "outputs": [
        {
          "output_type": "stream",
          "text": [
            "1 soup done\n",
            "1 final tr done\n",
            "1 done \n",
            "\n",
            "\n",
            "2 soup done\n",
            "2 final tr done\n",
            "2 done \n",
            "\n",
            "\n",
            "3 soup done\n",
            "3 final tr done\n",
            "3 done \n",
            "\n",
            "\n",
            "4 soup done\n",
            "4 final tr done\n",
            "4 done \n",
            "\n",
            "\n",
            "5 soup done\n",
            "5 final tr done\n",
            "5 done \n",
            "\n",
            "\n",
            "6 soup done\n",
            "6 final tr done\n",
            "6 done \n",
            "\n",
            "\n",
            "7 soup done\n",
            "7 final tr done\n",
            "7 done \n",
            "\n",
            "\n"
          ],
          "name": "stdout"
        }
      ]
    },
    {
      "cell_type": "code",
      "metadata": {
        "id": "vhx-HWsS-ERd",
        "colab_type": "code",
        "outputId": "c2749306-c4ba-4f2d-b216-b89ec194b0d6",
        "colab": {
          "base_uri": "https://localhost:8080/",
          "height": 204
        }
      },
      "source": [
        "columns"
      ],
      "execution_count": 0,
      "outputs": [
        {
          "output_type": "execute_result",
          "data": {
            "text/plain": [
              "['Constituency',\n",
              " 'Const. No.',\n",
              " 'Leading Candidate',\n",
              " 'Leading Party',\n",
              " 'Trailing Candidate',\n",
              " 'Trailing Party',\n",
              " 'Margin',\n",
              " 'Status',\n",
              " 'Winning Candidate',\n",
              " 'Winning Party',\n",
              " 'Margin']"
            ]
          },
          "metadata": {
            "tags": []
          },
          "execution_count": 75
        }
      ]
    },
    {
      "cell_type": "code",
      "metadata": {
        "id": "76j7cQr5H2dD",
        "colab_type": "code",
        "outputId": "95e344b7-1f23-48da-e89a-afc2953f357e",
        "colab": {
          "base_uri": "https://localhost:8080/",
          "height": 34
        }
      },
      "source": [
        "len(dfs)"
      ],
      "execution_count": 0,
      "outputs": [
        {
          "output_type": "execute_result",
          "data": {
            "text/plain": [
              "7"
            ]
          },
          "metadata": {
            "tags": []
          },
          "execution_count": 8
        }
      ]
    },
    {
      "cell_type": "code",
      "metadata": {
        "id": "eJp_TlfbH7Hn",
        "colab_type": "code",
        "outputId": "c474e504-6489-4eb3-cfb8-6bd5f6844fb6",
        "colab": {
          "base_uri": "https://localhost:8080/",
          "height": 680
        }
      },
      "source": [
        "dfs[:3]"
      ],
      "execution_count": 0,
      "outputs": [
        {
          "output_type": "execute_result",
          "data": {
            "text/plain": [
              "[         Constituency Const. No.  ...    Winning Party Margin\n",
              " 0        ADARSH NAGAR          4  ...  Aam Aadmi Party  20741\n",
              " 1  AMBEDKAR NAGAR(SC)         48  ...  Aam Aadmi Party  42460\n",
              " 2            BABARPUR         67  ...  Aam Aadmi Party  35271\n",
              " 3            BADARPUR         53  ...  Aam Aadmi Party  47583\n",
              " 4               BADLI          5  ...  Aam Aadmi Party  35376\n",
              " 5          BALLIMARAN         22  ...  Aam Aadmi Party  33877\n",
              " 6          BAWANA(SC)          7  ...  Aam Aadmi Party  50557\n",
              " 7            BIJWASAN         36  ...  Aam Aadmi Party  19536\n",
              " 8              BURARI          2  ...  Aam Aadmi Party  67950\n",
              " 9       CHANDNI CHOWK         20  ...  Aam Aadmi Party  18287\n",
              " \n",
              " [10 rows x 11 columns],\n",
              "       Constituency Const. No.  ...    Winning Party Margin\n",
              " 0       CHHATARPUR         46  ...  Aam Aadmi Party  22240\n",
              " 1      DELHI CANTT         38  ...  Aam Aadmi Party  11198\n",
              " 2        DEOLI(SC)         47  ...  Aam Aadmi Party  63937\n",
              " 3           DWARKA         33  ...  Aam Aadmi Party  39366\n",
              " 4     GANDHI NAGAR         61  ...  Aam Aadmi Party   7482\n",
              " 5           GHONDA         66  ...  Aam Aadmi Party   8093\n",
              " 6     GOKALPUR(SC)         68  ...  Aam Aadmi Party  31968\n",
              " 7  GREATER KAILASH         50  ...  Aam Aadmi Party  14583\n",
              " 8       HARI NAGAR         28  ...  Aam Aadmi Party  26444\n",
              " 9        JANAKPURI         30  ...  Aam Aadmi Party  25580\n",
              " \n",
              " [10 rows x 11 columns],\n",
              "      Constituency Const. No.  ...    Winning Party Margin\n",
              " 0        JANGPURA         41  ...  Aam Aadmi Party  20450\n",
              " 1         KALKAJI         51  ...  Aam Aadmi Party  19769\n",
              " 2   KARAWAL NAGAR         70  ...  Aam Aadmi Party  44431\n",
              " 3  KAROL BAGH(SC)         23  ...  Aam Aadmi Party  32880\n",
              " 4  KASTURBA NAGAR         42  ...  Aam Aadmi Party  15896\n",
              " 5          KIRARI          9  ...  Aam Aadmi Party  45172\n",
              " 6      KONDLI(SC)         56  ...  Aam Aadmi Party  24759\n",
              " 7   KRISHNA NAGAR         60  ...  Aam Aadmi Party   2277\n",
              " 8     LAXMI NAGAR         58  ...  Aam Aadmi Party   4846\n",
              " 9     MADIPUR(SC)         26  ...  Aam Aadmi Party  29387\n",
              " \n",
              " [10 rows x 11 columns]]"
            ]
          },
          "metadata": {
            "tags": []
          },
          "execution_count": 9
        }
      ]
    },
    {
      "cell_type": "code",
      "metadata": {
        "id": "tpuECcH50gzK",
        "colab_type": "code",
        "colab": {}
      },
      "source": [
        "data = pd.DataFrame(columns = columns)\n",
        "for i in dfs:\n",
        "  data = pd.concat([data, i], axis = 0)\n"
      ],
      "execution_count": 0,
      "outputs": []
    },
    {
      "cell_type": "code",
      "metadata": {
        "id": "bjyb_RiC8lKA",
        "colab_type": "code",
        "outputId": "dc88983e-36a9-44e4-8f67-8ac1244a62e7",
        "colab": {
          "base_uri": "https://localhost:8080/",
          "height": 34
        }
      },
      "source": [
        "data.shape"
      ],
      "execution_count": 0,
      "outputs": [
        {
          "output_type": "execute_result",
          "data": {
            "text/plain": [
              "(70, 11)"
            ]
          },
          "metadata": {
            "tags": []
          },
          "execution_count": 11
        }
      ]
    },
    {
      "cell_type": "code",
      "metadata": {
        "id": "zlMavFu1IHE2",
        "colab_type": "code",
        "outputId": "48a6a3d8-faed-4c4c-b7b9-767643bd5992",
        "colab": {
          "base_uri": "https://localhost:8080/",
          "height": 306
        }
      },
      "source": [
        "data.head()"
      ],
      "execution_count": 0,
      "outputs": [
        {
          "output_type": "execute_result",
          "data": {
            "text/html": [
              "<div>\n",
              "<style scoped>\n",
              "    .dataframe tbody tr th:only-of-type {\n",
              "        vertical-align: middle;\n",
              "    }\n",
              "\n",
              "    .dataframe tbody tr th {\n",
              "        vertical-align: top;\n",
              "    }\n",
              "\n",
              "    .dataframe thead th {\n",
              "        text-align: right;\n",
              "    }\n",
              "</style>\n",
              "<table border=\"1\" class=\"dataframe\">\n",
              "  <thead>\n",
              "    <tr style=\"text-align: right;\">\n",
              "      <th></th>\n",
              "      <th>Constituency</th>\n",
              "      <th>Const. No.</th>\n",
              "      <th>Leading Candidate</th>\n",
              "      <th>Leading Party</th>\n",
              "      <th>Trailing Candidate</th>\n",
              "      <th>Trailing Party</th>\n",
              "      <th>Margin</th>\n",
              "      <th>Status</th>\n",
              "      <th>Winning Candidate</th>\n",
              "      <th>Winning Party</th>\n",
              "      <th>Margin</th>\n",
              "    </tr>\n",
              "  </thead>\n",
              "  <tbody>\n",
              "    <tr>\n",
              "      <th>0</th>\n",
              "      <td>ADARSH NAGAR</td>\n",
              "      <td>4</td>\n",
              "      <td>PAWAN SHARMA</td>\n",
              "      <td>Aam Aadmi Party</td>\n",
              "      <td>RAJ KUMAR BHATIA</td>\n",
              "      <td>Bharatiya Janata Party</td>\n",
              "      <td>1589</td>\n",
              "      <td>Result Declared</td>\n",
              "      <td>PAWAN KUMAR SHARMA</td>\n",
              "      <td>Aam Aadmi Party</td>\n",
              "      <td>20741</td>\n",
              "    </tr>\n",
              "    <tr>\n",
              "      <th>1</th>\n",
              "      <td>AMBEDKAR NAGAR(SC)</td>\n",
              "      <td>48</td>\n",
              "      <td>AJAY DUTT</td>\n",
              "      <td>Aam Aadmi Party</td>\n",
              "      <td>KHUSHIRAM CHUNAR</td>\n",
              "      <td>Bharatiya Janata Party</td>\n",
              "      <td>28327</td>\n",
              "      <td>Result Declared</td>\n",
              "      <td>AJAY DUTT</td>\n",
              "      <td>Aam Aadmi Party</td>\n",
              "      <td>42460</td>\n",
              "    </tr>\n",
              "    <tr>\n",
              "      <th>2</th>\n",
              "      <td>BABARPUR</td>\n",
              "      <td>67</td>\n",
              "      <td>GOPAL RAI</td>\n",
              "      <td>Aam Aadmi Party</td>\n",
              "      <td>NARESH GAUR</td>\n",
              "      <td>Bharatiya Janata Party</td>\n",
              "      <td>33062</td>\n",
              "      <td>Result Declared</td>\n",
              "      <td>GOPAL RAI</td>\n",
              "      <td>Aam Aadmi Party</td>\n",
              "      <td>35271</td>\n",
              "    </tr>\n",
              "    <tr>\n",
              "      <th>3</th>\n",
              "      <td>BADARPUR</td>\n",
              "      <td>53</td>\n",
              "      <td>RAMVIR SINGH BIDHURI</td>\n",
              "      <td>Bharatiya Janata Party</td>\n",
              "      <td>RAM SINGH NETAJI</td>\n",
              "      <td>Aam Aadmi Party</td>\n",
              "      <td>3719</td>\n",
              "      <td>Result Declared</td>\n",
              "      <td>NARAYAN DUTT SHARMA</td>\n",
              "      <td>Aam Aadmi Party</td>\n",
              "      <td>47583</td>\n",
              "    </tr>\n",
              "    <tr>\n",
              "      <th>4</th>\n",
              "      <td>BADLI</td>\n",
              "      <td>5</td>\n",
              "      <td>AJESH YADAV</td>\n",
              "      <td>Aam Aadmi Party</td>\n",
              "      <td>VIJAY KUMAR BHAGAT</td>\n",
              "      <td>Bharatiya Janata Party</td>\n",
              "      <td>29123</td>\n",
              "      <td>Result Declared</td>\n",
              "      <td>AJESH YADAV</td>\n",
              "      <td>Aam Aadmi Party</td>\n",
              "      <td>35376</td>\n",
              "    </tr>\n",
              "  </tbody>\n",
              "</table>\n",
              "</div>"
            ],
            "text/plain": [
              "         Constituency Const. No.  ...    Winning Party Margin\n",
              "0        ADARSH NAGAR          4  ...  Aam Aadmi Party  20741\n",
              "1  AMBEDKAR NAGAR(SC)         48  ...  Aam Aadmi Party  42460\n",
              "2            BABARPUR         67  ...  Aam Aadmi Party  35271\n",
              "3            BADARPUR         53  ...  Aam Aadmi Party  47583\n",
              "4               BADLI          5  ...  Aam Aadmi Party  35376\n",
              "\n",
              "[5 rows x 11 columns]"
            ]
          },
          "metadata": {
            "tags": []
          },
          "execution_count": 13
        }
      ]
    },
    {
      "cell_type": "code",
      "metadata": {
        "id": "LtWiVLYD8ltZ",
        "colab_type": "code",
        "outputId": "9d6e8715-7d91-480b-bed0-1c15ba9a28d9",
        "colab": {
          "base_uri": "https://localhost:8080/",
          "height": 306
        }
      },
      "source": [
        "data.tail()"
      ],
      "execution_count": 0,
      "outputs": [
        {
          "output_type": "execute_result",
          "data": {
            "text/html": [
              "<div>\n",
              "<style scoped>\n",
              "    .dataframe tbody tr th:only-of-type {\n",
              "        vertical-align: middle;\n",
              "    }\n",
              "\n",
              "    .dataframe tbody tr th {\n",
              "        vertical-align: top;\n",
              "    }\n",
              "\n",
              "    .dataframe thead th {\n",
              "        text-align: right;\n",
              "    }\n",
              "</style>\n",
              "<table border=\"1\" class=\"dataframe\">\n",
              "  <thead>\n",
              "    <tr style=\"text-align: right;\">\n",
              "      <th></th>\n",
              "      <th>Constituency</th>\n",
              "      <th>Const. No.</th>\n",
              "      <th>Leading Candidate</th>\n",
              "      <th>Leading Party</th>\n",
              "      <th>Trailing Candidate</th>\n",
              "      <th>Trailing Party</th>\n",
              "      <th>Margin</th>\n",
              "      <th>Status</th>\n",
              "      <th>Winning Candidate</th>\n",
              "      <th>Winning Party</th>\n",
              "      <th>Margin</th>\n",
              "    </tr>\n",
              "  </thead>\n",
              "  <tbody>\n",
              "    <tr>\n",
              "      <th>5</th>\n",
              "      <td>TUGHLAKABAD</td>\n",
              "      <td>52</td>\n",
              "      <td>SAHIRAM</td>\n",
              "      <td>Aam Aadmi Party</td>\n",
              "      <td>VIKRAM BIDHURI</td>\n",
              "      <td>Bharatiya Janata Party</td>\n",
              "      <td>13758</td>\n",
              "      <td>Result Declared</td>\n",
              "      <td>SAHI RAM</td>\n",
              "      <td>Aam Aadmi Party</td>\n",
              "      <td>33701</td>\n",
              "    </tr>\n",
              "    <tr>\n",
              "      <th>6</th>\n",
              "      <td>UTTAM NAGAR</td>\n",
              "      <td>32</td>\n",
              "      <td>NARESH BALYAN</td>\n",
              "      <td>Aam Aadmi Party</td>\n",
              "      <td>KRISHAN GAHLOT</td>\n",
              "      <td>Bharatiya Janata Party</td>\n",
              "      <td>19759</td>\n",
              "      <td>Result Declared</td>\n",
              "      <td>NARESH BALYAN</td>\n",
              "      <td>Aam Aadmi Party</td>\n",
              "      <td>30419</td>\n",
              "    </tr>\n",
              "    <tr>\n",
              "      <th>7</th>\n",
              "      <td>VIKASPURI</td>\n",
              "      <td>31</td>\n",
              "      <td>MAHINDER YADAV</td>\n",
              "      <td>Aam Aadmi Party</td>\n",
              "      <td>SANJAY SINGH</td>\n",
              "      <td>Bharatiya Janata Party</td>\n",
              "      <td>42058</td>\n",
              "      <td>Result Declared</td>\n",
              "      <td>MAHINDER YADAV</td>\n",
              "      <td>Aam Aadmi Party</td>\n",
              "      <td>77665</td>\n",
              "    </tr>\n",
              "    <tr>\n",
              "      <th>8</th>\n",
              "      <td>VISHWAS NAGAR</td>\n",
              "      <td>59</td>\n",
              "      <td>OM PRAKASH SHARMA</td>\n",
              "      <td>Bharatiya Janata Party</td>\n",
              "      <td>DEEPAK SINGLA</td>\n",
              "      <td>Aam Aadmi Party</td>\n",
              "      <td>16457</td>\n",
              "      <td>Result Declared</td>\n",
              "      <td>OM PRAKASH SHARMA</td>\n",
              "      <td>Bharatiya Janata Party</td>\n",
              "      <td>10158</td>\n",
              "    </tr>\n",
              "    <tr>\n",
              "      <th>9</th>\n",
              "      <td>WAZIRPUR</td>\n",
              "      <td>17</td>\n",
              "      <td>RAJESH GUPTA</td>\n",
              "      <td>Aam Aadmi Party</td>\n",
              "      <td>DR. MAHENDER NAGPAL</td>\n",
              "      <td>Bharatiya Janata Party</td>\n",
              "      <td>11690</td>\n",
              "      <td>Result Declared</td>\n",
              "      <td>RAJESH GUPTA</td>\n",
              "      <td>Aam Aadmi Party</td>\n",
              "      <td>22044</td>\n",
              "    </tr>\n",
              "  </tbody>\n",
              "</table>\n",
              "</div>"
            ],
            "text/plain": [
              "    Constituency Const. No.  ...           Winning Party Margin\n",
              "5    TUGHLAKABAD         52  ...         Aam Aadmi Party  33701\n",
              "6    UTTAM NAGAR         32  ...         Aam Aadmi Party  30419\n",
              "7      VIKASPURI         31  ...         Aam Aadmi Party  77665\n",
              "8  VISHWAS NAGAR         59  ...  Bharatiya Janata Party  10158\n",
              "9       WAZIRPUR         17  ...         Aam Aadmi Party  22044\n",
              "\n",
              "[5 rows x 11 columns]"
            ]
          },
          "metadata": {
            "tags": []
          },
          "execution_count": 12
        }
      ]
    },
    {
      "cell_type": "code",
      "metadata": {
        "id": "bCSoq8bK8_b0",
        "colab_type": "code",
        "outputId": "f3be4ee3-ac0d-465f-e429-564ecd36ade5",
        "colab": {
          "base_uri": "https://localhost:8080/",
          "height": 34
        }
      },
      "source": [
        "data.shape"
      ],
      "execution_count": 0,
      "outputs": [
        {
          "output_type": "execute_result",
          "data": {
            "text/plain": [
              "(70, 11)"
            ]
          },
          "metadata": {
            "tags": []
          },
          "execution_count": 14
        }
      ]
    },
    {
      "cell_type": "code",
      "metadata": {
        "id": "Pd5JrJL4JBbG",
        "colab_type": "code",
        "colab": {}
      },
      "source": [
        "columns = ['Constituency', 'Const. No.', 'Winning Candidate', 'Winning Party', '2nd Candidate', '2nd Party','Margin', 'Status',\n",
        "           'Past Winning Candidate', 'Past Winning Party', 'Past Margin']"
      ],
      "execution_count": 0,
      "outputs": []
    },
    {
      "cell_type": "code",
      "metadata": {
        "id": "VPKWfUzBJmip",
        "colab_type": "code",
        "colab": {}
      },
      "source": [
        "data.columns = columns"
      ],
      "execution_count": 0,
      "outputs": []
    },
    {
      "cell_type": "code",
      "metadata": {
        "id": "HPi8AMDQNtXG",
        "colab_type": "code",
        "outputId": "b607f164-08fd-4037-cef3-4cf311ec8341",
        "colab": {
          "base_uri": "https://localhost:8080/",
          "height": 162
        }
      },
      "source": [
        "data.head(2)"
      ],
      "execution_count": 0,
      "outputs": [
        {
          "output_type": "execute_result",
          "data": {
            "text/html": [
              "<div>\n",
              "<style scoped>\n",
              "    .dataframe tbody tr th:only-of-type {\n",
              "        vertical-align: middle;\n",
              "    }\n",
              "\n",
              "    .dataframe tbody tr th {\n",
              "        vertical-align: top;\n",
              "    }\n",
              "\n",
              "    .dataframe thead th {\n",
              "        text-align: right;\n",
              "    }\n",
              "</style>\n",
              "<table border=\"1\" class=\"dataframe\">\n",
              "  <thead>\n",
              "    <tr style=\"text-align: right;\">\n",
              "      <th></th>\n",
              "      <th>Constituency</th>\n",
              "      <th>Const. No.</th>\n",
              "      <th>Winning Candidate</th>\n",
              "      <th>Winning Party</th>\n",
              "      <th>2nd Candidate</th>\n",
              "      <th>2nd Party</th>\n",
              "      <th>Margin</th>\n",
              "      <th>Status</th>\n",
              "      <th>Past Winning Candidate</th>\n",
              "      <th>Past Winning Party</th>\n",
              "      <th>Past Margin</th>\n",
              "    </tr>\n",
              "  </thead>\n",
              "  <tbody>\n",
              "    <tr>\n",
              "      <th>0</th>\n",
              "      <td>ADARSH NAGAR</td>\n",
              "      <td>4</td>\n",
              "      <td>PAWAN SHARMA</td>\n",
              "      <td>Aam Aadmi Party</td>\n",
              "      <td>RAJ KUMAR BHATIA</td>\n",
              "      <td>Bharatiya Janata Party</td>\n",
              "      <td>1589</td>\n",
              "      <td>Result Declared</td>\n",
              "      <td>PAWAN KUMAR SHARMA</td>\n",
              "      <td>Aam Aadmi Party</td>\n",
              "      <td>20741</td>\n",
              "    </tr>\n",
              "    <tr>\n",
              "      <th>1</th>\n",
              "      <td>AMBEDKAR NAGAR(SC)</td>\n",
              "      <td>48</td>\n",
              "      <td>AJAY DUTT</td>\n",
              "      <td>Aam Aadmi Party</td>\n",
              "      <td>KHUSHIRAM CHUNAR</td>\n",
              "      <td>Bharatiya Janata Party</td>\n",
              "      <td>28327</td>\n",
              "      <td>Result Declared</td>\n",
              "      <td>AJAY DUTT</td>\n",
              "      <td>Aam Aadmi Party</td>\n",
              "      <td>42460</td>\n",
              "    </tr>\n",
              "  </tbody>\n",
              "</table>\n",
              "</div>"
            ],
            "text/plain": [
              "         Constituency Const. No.  ... Past Winning Party Past Margin\n",
              "0        ADARSH NAGAR          4  ...    Aam Aadmi Party       20741\n",
              "1  AMBEDKAR NAGAR(SC)         48  ...    Aam Aadmi Party       42460\n",
              "\n",
              "[2 rows x 11 columns]"
            ]
          },
          "metadata": {
            "tags": []
          },
          "execution_count": 22
        }
      ]
    },
    {
      "cell_type": "code",
      "metadata": {
        "id": "IEhcQJR69FsL",
        "colab_type": "code",
        "colab": {}
      },
      "source": [
        "import seaborn as sns"
      ],
      "execution_count": 0,
      "outputs": []
    },
    {
      "cell_type": "code",
      "metadata": {
        "id": "iulP64Mxaha4",
        "colab_type": "code",
        "colab": {}
      },
      "source": [
        "data.to_csv('delhi_election.csv', index = False)"
      ],
      "execution_count": 0,
      "outputs": []
    },
    {
      "cell_type": "code",
      "metadata": {
        "id": "IG5w2LCWaqGg",
        "colab_type": "code",
        "colab": {}
      },
      "source": [
        "from google.colab import files\n",
        "files.download('delhi_election.csv')"
      ],
      "execution_count": 0,
      "outputs": []
    },
    {
      "cell_type": "code",
      "metadata": {
        "id": "Rcln3NtVbPVO",
        "colab_type": "code",
        "colab": {}
      },
      "source": [
        "%matplotlib inline"
      ],
      "execution_count": 0,
      "outputs": []
    },
    {
      "cell_type": "code",
      "metadata": {
        "id": "Qt8RubvdaxVK",
        "colab_type": "code",
        "colab": {}
      },
      "source": [
        "import matplotlib.pyplot as plt"
      ],
      "execution_count": 0,
      "outputs": []
    },
    {
      "cell_type": "code",
      "metadata": {
        "id": "SCkppIaKcVZt",
        "colab_type": "code",
        "colab": {}
      },
      "source": [
        "data['Margin'] = data.Margin.apply(lambda x: int(x))"
      ],
      "execution_count": 0,
      "outputs": []
    },
    {
      "cell_type": "code",
      "metadata": {
        "id": "uMRsa2QyccHn",
        "colab_type": "code",
        "colab": {
          "base_uri": "https://localhost:8080/",
          "height": 34
        },
        "outputId": "8ad7017b-2b34-43f3-9511-a41ac24805f4"
      },
      "source": [
        "data.Margin.values[0]"
      ],
      "execution_count": 43,
      "outputs": [
        {
          "output_type": "execute_result",
          "data": {
            "text/plain": [
              "1589"
            ]
          },
          "metadata": {
            "tags": []
          },
          "execution_count": 43
        }
      ]
    },
    {
      "cell_type": "code",
      "metadata": {
        "id": "Wh-gT1nhcjoI",
        "colab_type": "code",
        "colab": {}
      },
      "source": [
        "data['Past Margin'] = data['Past Margin'].apply(lambda x: int(x))"
      ],
      "execution_count": 0,
      "outputs": []
    },
    {
      "cell_type": "code",
      "metadata": {
        "id": "fZ4J1p3CbZIj",
        "colab_type": "code",
        "colab": {
          "base_uri": "https://localhost:8080/",
          "height": 1000
        },
        "outputId": "f38c5275-fc72-406b-a3cd-af43b936eb05"
      },
      "source": [
        "plt.figure(figsize = (20, 20))\n",
        "plt.plot(data['Const. No.'], data.Margin, label = 'Now')\n",
        "plt.plot(data['Const. No.'], data['Past Margin'], label = '2015')\n",
        "plt.yticks(range(0, 100000, 1000))\n",
        "plt.legend()"
      ],
      "execution_count": 50,
      "outputs": [
        {
          "output_type": "execute_result",
          "data": {
            "text/plain": [
              "<matplotlib.legend.Legend at 0x7fd045d73358>"
            ]
          },
          "metadata": {
            "tags": []
          },
          "execution_count": 50
        },
        {
          "output_type": "display_data",
          "data": {
            "image/png": "[encoded data removed]",
            "text/plain": [
              "<Figure size 1440x1440 with 1 Axes>"
            ]
          },
          "metadata": {
            "tags": []
          }
        }
      ]
    },
    {
      "cell_type": "code",
      "metadata": {
        "id": "7EE3TyFNcH4x",
        "colab_type": "code",
        "colab": {
          "base_uri": "https://localhost:8080/",
          "height": 1000
        },
        "outputId": "947376a2-d96c-4450-eb7c-4d95e1c915d0"
      },
      "source": [
        "plt.figure(figsize = (20, 20))\n",
        "sns.barplot(x = 'Const. No.', y = 'Past Margin', data = data, hue = 'Past Winning Party', palette = 'BuGn_r' )\n",
        "sns.barplot(x = 'Const. No.', y = 'Margin', data = data, hue = 'Winning Party')\n",
        "plt.yticks(range(0, 100000, 1000))\n",
        "plt.legend()\n",
        "plt.show()"
      ],
      "execution_count": 78,
      "outputs": [
        {
          "output_type": "display_data",
          "data": {
            "image/png": "[encoded data removed]",
            "text/plain": [
              "<Figure size 1440x1440 with 1 Axes>"
            ]
          },
          "metadata": {
            "tags": []
          }
        }
      ]
    },
    {
      "cell_type": "code",
      "metadata": {
        "id": "ROhry8CxfQJp",
        "colab_type": "code",
        "colab": {
          "base_uri": "https://localhost:8080/",
          "height": 111
        },
        "outputId": "297b2c63-7acc-467a-a002-789e88548b08"
      },
      "source": [
        "data[data.Margin < 1000][['Winning Party', 'Margin']]"
      ],
      "execution_count": 59,
      "outputs": [
        {
          "output_type": "execute_result",
          "data": {
            "text/html": [
              "<div>\n",
              "<style scoped>\n",
              "    .dataframe tbody tr th:only-of-type {\n",
              "        vertical-align: middle;\n",
              "    }\n",
              "\n",
              "    .dataframe tbody tr th {\n",
              "        vertical-align: top;\n",
              "    }\n",
              "\n",
              "    .dataframe thead th {\n",
              "        text-align: right;\n",
              "    }\n",
              "</style>\n",
              "<table border=\"1\" class=\"dataframe\">\n",
              "  <thead>\n",
              "    <tr style=\"text-align: right;\">\n",
              "      <th></th>\n",
              "      <th>Winning Party</th>\n",
              "      <th>Margin</th>\n",
              "    </tr>\n",
              "  </thead>\n",
              "  <tbody>\n",
              "    <tr>\n",
              "      <th>7</th>\n",
              "      <td>Aam Aadmi Party</td>\n",
              "      <td>753</td>\n",
              "    </tr>\n",
              "    <tr>\n",
              "      <th>8</th>\n",
              "      <td>Bharatiya Janata Party</td>\n",
              "      <td>880</td>\n",
              "    </tr>\n",
              "  </tbody>\n",
              "</table>\n",
              "</div>"
            ],
            "text/plain": [
              "            Winning Party  Margin\n",
              "7         Aam Aadmi Party     753\n",
              "8  Bharatiya Janata Party     880"
            ]
          },
          "metadata": {
            "tags": []
          },
          "execution_count": 59
        }
      ]
    },
    {
      "cell_type": "code",
      "metadata": {
        "id": "IaxmK5sBgLaB",
        "colab_type": "code",
        "colab": {
          "base_uri": "https://localhost:8080/",
          "height": 328
        },
        "outputId": "7fd941ad-1fd2-48d6-b476-7ba1640818dc"
      },
      "source": [
        "data[data.Margin < 5000][['Winning Party', 'Margin']]\n"
      ],
      "execution_count": 60,
      "outputs": [
        {
          "output_type": "execute_result",
          "data": {
            "text/html": [
              "<div>\n",
              "<style scoped>\n",
              "    .dataframe tbody tr th:only-of-type {\n",
              "        vertical-align: middle;\n",
              "    }\n",
              "\n",
              "    .dataframe tbody tr th {\n",
              "        vertical-align: top;\n",
              "    }\n",
              "\n",
              "    .dataframe thead th {\n",
              "        text-align: right;\n",
              "    }\n",
              "</style>\n",
              "<table border=\"1\" class=\"dataframe\">\n",
              "  <thead>\n",
              "    <tr style=\"text-align: right;\">\n",
              "      <th></th>\n",
              "      <th>Winning Party</th>\n",
              "      <th>Margin</th>\n",
              "    </tr>\n",
              "  </thead>\n",
              "  <tbody>\n",
              "    <tr>\n",
              "      <th>0</th>\n",
              "      <td>Aam Aadmi Party</td>\n",
              "      <td>1589</td>\n",
              "    </tr>\n",
              "    <tr>\n",
              "      <th>3</th>\n",
              "      <td>Bharatiya Janata Party</td>\n",
              "      <td>3719</td>\n",
              "    </tr>\n",
              "    <tr>\n",
              "      <th>7</th>\n",
              "      <td>Aam Aadmi Party</td>\n",
              "      <td>753</td>\n",
              "    </tr>\n",
              "    <tr>\n",
              "      <th>0</th>\n",
              "      <td>Aam Aadmi Party</td>\n",
              "      <td>3720</td>\n",
              "    </tr>\n",
              "    <tr>\n",
              "      <th>4</th>\n",
              "      <td>Aam Aadmi Party</td>\n",
              "      <td>3165</td>\n",
              "    </tr>\n",
              "    <tr>\n",
              "      <th>7</th>\n",
              "      <td>Aam Aadmi Party</td>\n",
              "      <td>3995</td>\n",
              "    </tr>\n",
              "    <tr>\n",
              "      <th>8</th>\n",
              "      <td>Bharatiya Janata Party</td>\n",
              "      <td>880</td>\n",
              "    </tr>\n",
              "    <tr>\n",
              "      <th>6</th>\n",
              "      <td>Aam Aadmi Party</td>\n",
              "      <td>3207</td>\n",
              "    </tr>\n",
              "    <tr>\n",
              "      <th>9</th>\n",
              "      <td>Aam Aadmi Party</td>\n",
              "      <td>3440</td>\n",
              "    </tr>\n",
              "  </tbody>\n",
              "</table>\n",
              "</div>"
            ],
            "text/plain": [
              "            Winning Party  Margin\n",
              "0         Aam Aadmi Party    1589\n",
              "3  Bharatiya Janata Party    3719\n",
              "7         Aam Aadmi Party     753\n",
              "0         Aam Aadmi Party    3720\n",
              "4         Aam Aadmi Party    3165\n",
              "7         Aam Aadmi Party    3995\n",
              "8  Bharatiya Janata Party     880\n",
              "6         Aam Aadmi Party    3207\n",
              "9         Aam Aadmi Party    3440"
            ]
          },
          "metadata": {
            "tags": []
          },
          "execution_count": 60
        }
      ]
    },
    {
      "cell_type": "code",
      "metadata": {
        "id": "ehZtAtrxgerG",
        "colab_type": "code",
        "colab": {
          "base_uri": "https://localhost:8080/",
          "height": 68
        },
        "outputId": "53fd057f-19be-43cf-8e91-c26b6d8524e1"
      },
      "source": [
        "bjp_now = data[data['Winning Party'] == 'Bharatiya Janata Party'].Constituency.values\n",
        "bjp_now"
      ],
      "execution_count": 61,
      "outputs": [
        {
          "output_type": "execute_result",
          "data": {
            "text/plain": [
              "array(['BADARPUR', 'GANDHI NAGAR', 'GHONDA', 'KARAWAL NAGAR',\n",
              "       'LAXMI NAGAR', 'ROHINI', 'ROHTAS NAGAR', 'VISHWAS NAGAR'],\n",
              "      dtype=object)"
            ]
          },
          "metadata": {
            "tags": []
          },
          "execution_count": 61
        }
      ]
    },
    {
      "cell_type": "code",
      "metadata": {
        "id": "buacx5pyh7PY",
        "colab_type": "code",
        "colab": {
          "base_uri": "https://localhost:8080/",
          "height": 34
        },
        "outputId": "f3459601-042d-4665-a6cd-cf1b23a310ce"
      },
      "source": [
        "bjp_2015 = data[data['Past Winning Party'] == 'Bharatiya Janata Party'].Constituency.values\n",
        "bjp_2015"
      ],
      "execution_count": 65,
      "outputs": [
        {
          "output_type": "execute_result",
          "data": {
            "text/plain": [
              "array(['MUSTAFABAD', 'ROHINI', 'VISHWAS NAGAR'], dtype=object)"
            ]
          },
          "metadata": {
            "tags": []
          },
          "execution_count": 65
        }
      ]
    },
    {
      "cell_type": "code",
      "metadata": {
        "id": "OpOWobs_iF6K",
        "colab_type": "code",
        "colab": {
          "base_uri": "https://localhost:8080/",
          "height": 119
        },
        "outputId": "70e644da-9bdf-48a2-897f-9c93d3f3b389"
      },
      "source": [
        "set(bjp_now) - set(bjp_2015)"
      ],
      "execution_count": 67,
      "outputs": [
        {
          "output_type": "execute_result",
          "data": {
            "text/plain": [
              "{'BADARPUR',\n",
              " 'GANDHI NAGAR',\n",
              " 'GHONDA',\n",
              " 'KARAWAL NAGAR',\n",
              " 'LAXMI NAGAR',\n",
              " 'ROHTAS NAGAR'}"
            ]
          },
          "metadata": {
            "tags": []
          },
          "execution_count": 67
        }
      ]
    },
    {
      "cell_type": "code",
      "metadata": {
        "id": "YCM3JprmiVO2",
        "colab_type": "code",
        "colab": {}
      },
      "source": [
        "data.Margin"
      ],
      "execution_count": 0,
      "outputs": []
    }
  ]
}